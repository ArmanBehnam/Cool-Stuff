{
 "cells": [
  {
   "cell_type": "code",
   "execution_count": 3,
   "metadata": {},
   "outputs": [],
   "source": [
    "from __future__ import print_function\n",
    "import os\n",
    "import pandas as pd\n",
    "from statsmodels.tsa import stattools\n",
    "%matplotlib inline\n",
    "from matplotlib import pyplot as plt"
   ]
  },
  {
   "cell_type": "code",
   "execution_count": 4,
   "metadata": {
    "collapsed": true
   },
   "outputs": [],
   "source": [
    "#Start by setting the current directory and henceforth working relative to it\n",
    "os.chdir('D:/Practical Time Series')"
   ]
  },
  {
   "cell_type": "code",
   "execution_count": 5,
   "metadata": {
    "collapsed": true
   },
   "outputs": [],
   "source": [
    "#read the data from into a pandas.DataFrame\n",
    "air_miles = pd.read_csv('datasets/us-airlines-monthly-aircraft-miles-flown.csv')\n",
    "air_miles.index = air_miles.Month"
   ]
  },
  {
   "cell_type": "code",
   "execution_count": 6,
   "metadata": {},
   "outputs": [
    {
     "name": "stdout",
     "output_type": "stream",
     "text": [
      "Shape of the DataFrame: (97, 2)\n"
     ]
    }
   ],
   "source": [
    "#Let's find out the shape of the DataFrame\n",
    "print('Shape of the DataFrame:', air_miles.shape)"
   ]
  },
  {
   "cell_type": "code",
   "execution_count": 7,
   "metadata": {},
   "outputs": [
    {
     "data": {
      "text/html": [
       "<div>\n",
       "<style>\n",
       "    .dataframe thead tr:only-child th {\n",
       "        text-align: right;\n",
       "    }\n",
       "\n",
       "    .dataframe thead th {\n",
       "        text-align: left;\n",
       "    }\n",
       "\n",
       "    .dataframe tbody tr th {\n",
       "        vertical-align: top;\n",
       "    }\n",
       "</style>\n",
       "<table border=\"1\" class=\"dataframe\">\n",
       "  <thead>\n",
       "    <tr style=\"text-align: right;\">\n",
       "      <th></th>\n",
       "      <th>Month</th>\n",
       "      <th>U.S. airlines: monthly aircraft miles flown (Millions) 1963 -1970</th>\n",
       "    </tr>\n",
       "    <tr>\n",
       "      <th>Month</th>\n",
       "      <th></th>\n",
       "      <th></th>\n",
       "    </tr>\n",
       "  </thead>\n",
       "  <tbody>\n",
       "    <tr>\n",
       "      <th>1963-01</th>\n",
       "      <td>1963-01</td>\n",
       "      <td>6827.0</td>\n",
       "    </tr>\n",
       "    <tr>\n",
       "      <th>1963-02</th>\n",
       "      <td>1963-02</td>\n",
       "      <td>6178.0</td>\n",
       "    </tr>\n",
       "    <tr>\n",
       "      <th>1963-03</th>\n",
       "      <td>1963-03</td>\n",
       "      <td>7084.0</td>\n",
       "    </tr>\n",
       "    <tr>\n",
       "      <th>1963-04</th>\n",
       "      <td>1963-04</td>\n",
       "      <td>8162.0</td>\n",
       "    </tr>\n",
       "    <tr>\n",
       "      <th>1963-05</th>\n",
       "      <td>1963-05</td>\n",
       "      <td>8462.0</td>\n",
       "    </tr>\n",
       "    <tr>\n",
       "      <th>1963-06</th>\n",
       "      <td>1963-06</td>\n",
       "      <td>9644.0</td>\n",
       "    </tr>\n",
       "    <tr>\n",
       "      <th>1963-07</th>\n",
       "      <td>1963-07</td>\n",
       "      <td>10466.0</td>\n",
       "    </tr>\n",
       "    <tr>\n",
       "      <th>1963-08</th>\n",
       "      <td>1963-08</td>\n",
       "      <td>10748.0</td>\n",
       "    </tr>\n",
       "    <tr>\n",
       "      <th>1963-09</th>\n",
       "      <td>1963-09</td>\n",
       "      <td>9963.0</td>\n",
       "    </tr>\n",
       "    <tr>\n",
       "      <th>1963-10</th>\n",
       "      <td>1963-10</td>\n",
       "      <td>8194.0</td>\n",
       "    </tr>\n",
       "  </tbody>\n",
       "</table>\n",
       "</div>"
      ],
      "text/plain": [
       "           Month  \\\n",
       "Month              \n",
       "1963-01  1963-01   \n",
       "1963-02  1963-02   \n",
       "1963-03  1963-03   \n",
       "1963-04  1963-04   \n",
       "1963-05  1963-05   \n",
       "1963-06  1963-06   \n",
       "1963-07  1963-07   \n",
       "1963-08  1963-08   \n",
       "1963-09  1963-09   \n",
       "1963-10  1963-10   \n",
       "\n",
       "         U.S. airlines: monthly aircraft miles flown (Millions) 1963 -1970  \n",
       "Month                                                                       \n",
       "1963-01                                             6827.0                  \n",
       "1963-02                                             6178.0                  \n",
       "1963-03                                             7084.0                  \n",
       "1963-04                                             8162.0                  \n",
       "1963-05                                             8462.0                  \n",
       "1963-06                                             9644.0                  \n",
       "1963-07                                            10466.0                  \n",
       "1963-08                                            10748.0                  \n",
       "1963-09                                             9963.0                  \n",
       "1963-10                                             8194.0                  "
      ]
     },
     "execution_count": 7,
     "metadata": {},
     "output_type": "execute_result"
    }
   ],
   "source": [
    "#Let's see first 10 rows of it\n",
    "air_miles.head(10)"
   ]
  },
  {
   "cell_type": "code",
   "execution_count": 8,
   "metadata": {
    "collapsed": true
   },
   "outputs": [],
   "source": [
    "#Let's rename the 2nd column\n",
    "air_miles.rename(columns={'U.S. airlines: monthly aircraft miles flown (Millions) 1963 -1970':\\\n",
    "                          'Air miles flown'\n",
    "                         },\n",
    "                inplace=True\n",
    "                )"
   ]
  },
  {
   "cell_type": "code",
   "execution_count": 9,
   "metadata": {},
   "outputs": [
    {
     "name": "stdout",
     "output_type": "stream",
     "text": [
      "Number of missing values found: 1\n"
     ]
    }
   ],
   "source": [
    "#Check for missing values and remove the row\n",
    "missing = pd.isnull(air_miles['Air miles flown'])\n",
    "print('Number of missing values found:', missing.sum())\n",
    "air_miles = air_miles.loc[~missing, :]"
   ]
  },
  {
   "cell_type": "code",
   "execution_count": 10,
   "metadata": {},
   "outputs": [
    {
     "data": {
      "image/png": "[encoded data removed]",
      "text/plain": [
       "<matplotlib.figure.Figure at 0x1bd0576f1d0>"
      ]
     },
     "metadata": {},
     "output_type": "display_data"
    }
   ],
   "source": [
    "#Plot the time series of air miles flown\n",
    "fig = plt.figure(figsize=(5.5, 5.5))\n",
    "ax = fig.add_subplot(1,1,1)\n",
    "air_miles['Air miles flown'].plot(ax=ax)\n",
    "ax.set_title('Monthly air miles flown during 1963 - 1970')\n",
    "plt.savefig('plots/ch2/B07887_02_13.png', format='png', dpi=300)"
   ]
  },
  {
   "cell_type": "code",
   "execution_count": 19,
   "metadata": {
    "collapsed": true
   },
   "outputs": [],
   "source": [
    "adf_result = stattools.adfuller(air_miles['Air miles flown'], autolag='AIC')"
   ]
  },
  {
   "cell_type": "code",
   "execution_count": 20,
   "metadata": {},
   "outputs": [
    {
     "name": "stdout",
     "output_type": "stream",
     "text": [
      "p-val of the ADF test in air miles flown: 0.994502281123\n"
     ]
    }
   ],
   "source": [
    "print('p-val of the ADF test in air miles flown:', adf_result[1])"
   ]
  }
 ],
 "metadata": {
  "anaconda-cloud": {},
  "kernelspec": {
   "display_name": "Python 3",
   "language": "python",
   "name": "python3"
  },
  "language_info": {
   "codemirror_mode": {
    "name": "ipython",
    "version": 3
   },
   "file_extension": ".py",
   "mimetype": "text/x-python",
   "name": "python",
   "nbconvert_exporter": "python",
   "pygments_lexer": "ipython3",
   "version": "3.6.1"
  }
 },
 "nbformat": 4,
 "nbformat_minor": 1
}
