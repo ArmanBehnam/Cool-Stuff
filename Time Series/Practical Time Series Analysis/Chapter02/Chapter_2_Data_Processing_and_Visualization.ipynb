{
 "cells": [
  {
   "cell_type": "code",
   "execution_count": 1,
   "metadata": {
    "collapsed": true
   },
   "outputs": [],
   "source": [
    "from __future__ import print_function\n",
    "import os\n",
    "import pandas as pd\n",
    "import numpy as np\n",
    "%matplotlib inline\n",
    "from matplotlib import pyplot as plt"
   ]
  },
  {
   "cell_type": "code",
   "execution_count": 2,
   "metadata": {
    "collapsed": true
   },
   "outputs": [],
   "source": [
    "#Set current directory and work relative to it\n",
    "os.chdir('D:/Practical Time Series')"
   ]
  },
  {
   "cell_type": "code",
   "execution_count": 3,
   "metadata": {},
   "outputs": [
    {
     "data": {
      "text/plain": [
       "'\\nLet us shown an example of resampling to a given frequency\\n'"
      ]
     },
     "execution_count": 3,
     "metadata": {},
     "output_type": "execute_result"
    }
   ],
   "source": [
    "\"\"\"\n",
    "Let us shown an example of resampling to a given frequency\n",
    "\"\"\""
   ]
  },
  {
   "cell_type": "code",
   "execution_count": 26,
   "metadata": {
    "collapsed": true
   },
   "outputs": [],
   "source": [
    "#Read dataset into pandas DataFrame\n",
    "df = pd.read_csv('datasets/chemical-concentration-readings.csv')"
   ]
  },
  {
   "cell_type": "code",
   "execution_count": 27,
   "metadata": {},
   "outputs": [
    {
     "name": "stdout",
     "output_type": "stream",
     "text": [
      "Shape of the dataset: (197, 2)\n"
     ]
    }
   ],
   "source": [
    "#Let's see the shape of the dataset\n",
    "print('Shape of the dataset:', df.shape)"
   ]
  },
  {
   "cell_type": "code",
   "execution_count": 28,
   "metadata": {},
   "outputs": [
    {
     "data": {
      "text/html": [
       "<div>\n",
       "<style>\n",
       "    .dataframe thead tr:only-child th {\n",
       "        text-align: right;\n",
       "    }\n",
       "\n",
       "    .dataframe thead th {\n",
       "        text-align: left;\n",
       "    }\n",
       "\n",
       "    .dataframe tbody tr th {\n",
       "        vertical-align: top;\n",
       "    }\n",
       "</style>\n",
       "<table border=\"1\" class=\"dataframe\">\n",
       "  <thead>\n",
       "    <tr style=\"text-align: right;\">\n",
       "      <th></th>\n",
       "      <th>Timestamp</th>\n",
       "      <th>Chemical conc.</th>\n",
       "    </tr>\n",
       "  </thead>\n",
       "  <tbody>\n",
       "    <tr>\n",
       "      <th>0</th>\n",
       "      <td>1975-01-01 00:00:00</td>\n",
       "      <td>17.0</td>\n",
       "    </tr>\n",
       "    <tr>\n",
       "      <th>1</th>\n",
       "      <td>1975-01-01 02:00:00</td>\n",
       "      <td>16.6</td>\n",
       "    </tr>\n",
       "    <tr>\n",
       "      <th>2</th>\n",
       "      <td>1975-01-01 04:00:00</td>\n",
       "      <td>16.3</td>\n",
       "    </tr>\n",
       "    <tr>\n",
       "      <th>3</th>\n",
       "      <td>1975-01-01 06:00:00</td>\n",
       "      <td>16.1</td>\n",
       "    </tr>\n",
       "    <tr>\n",
       "      <th>4</th>\n",
       "      <td>1975-01-01 08:00:00</td>\n",
       "      <td>17.1</td>\n",
       "    </tr>\n",
       "    <tr>\n",
       "      <th>5</th>\n",
       "      <td>1975-01-01 10:00:00</td>\n",
       "      <td>16.9</td>\n",
       "    </tr>\n",
       "    <tr>\n",
       "      <th>6</th>\n",
       "      <td>1975-01-01 12:00:00</td>\n",
       "      <td>16.8</td>\n",
       "    </tr>\n",
       "    <tr>\n",
       "      <th>7</th>\n",
       "      <td>1975-01-01 14:00:00</td>\n",
       "      <td>17.4</td>\n",
       "    </tr>\n",
       "    <tr>\n",
       "      <th>8</th>\n",
       "      <td>1975-01-01 16:00:00</td>\n",
       "      <td>17.1</td>\n",
       "    </tr>\n",
       "    <tr>\n",
       "      <th>9</th>\n",
       "      <td>1975-01-01 18:00:00</td>\n",
       "      <td>17.0</td>\n",
       "    </tr>\n",
       "  </tbody>\n",
       "</table>\n",
       "</div>"
      ],
      "text/plain": [
       "             Timestamp  Chemical conc.\n",
       "0  1975-01-01 00:00:00            17.0\n",
       "1  1975-01-01 02:00:00            16.6\n",
       "2  1975-01-01 04:00:00            16.3\n",
       "3  1975-01-01 06:00:00            16.1\n",
       "4  1975-01-01 08:00:00            17.1\n",
       "5  1975-01-01 10:00:00            16.9\n",
       "6  1975-01-01 12:00:00            16.8\n",
       "7  1975-01-01 14:00:00            17.4\n",
       "8  1975-01-01 16:00:00            17.1\n",
       "9  1975-01-01 18:00:00            17.0"
      ]
     },
     "execution_count": 28,
     "metadata": {},
     "output_type": "execute_result"
    }
   ],
   "source": [
    "#Let's see first 10 rows of the DataFrame\n",
    "df.head(10)"
   ]
  },
  {
   "cell_type": "code",
   "execution_count": 29,
   "metadata": {
    "collapsed": true
   },
   "outputs": [],
   "source": [
    "#The observations seem to be taken at an interval of 2 hours"
   ]
  },
  {
   "cell_type": "code",
   "execution_count": 30,
   "metadata": {},
   "outputs": [
    {
     "data": {
      "text/html": [
       "<div>\n",
       "<style>\n",
       "    .dataframe thead tr:only-child th {\n",
       "        text-align: right;\n",
       "    }\n",
       "\n",
       "    .dataframe thead th {\n",
       "        text-align: left;\n",
       "    }\n",
       "\n",
       "    .dataframe tbody tr th {\n",
       "        vertical-align: top;\n",
       "    }\n",
       "</style>\n",
       "<table border=\"1\" class=\"dataframe\">\n",
       "  <thead>\n",
       "    <tr style=\"text-align: right;\">\n",
       "      <th></th>\n",
       "      <th>Timestamp</th>\n",
       "      <th>Chemical conc.</th>\n",
       "    </tr>\n",
       "    <tr>\n",
       "      <th>Timestamp</th>\n",
       "      <th></th>\n",
       "      <th></th>\n",
       "    </tr>\n",
       "  </thead>\n",
       "  <tbody>\n",
       "    <tr>\n",
       "      <th>1975-01-01 00:00:00</th>\n",
       "      <td>1975-01-01 00:00:00</td>\n",
       "      <td>17.0</td>\n",
       "    </tr>\n",
       "    <tr>\n",
       "      <th>1975-01-01 02:00:00</th>\n",
       "      <td>1975-01-01 02:00:00</td>\n",
       "      <td>16.6</td>\n",
       "    </tr>\n",
       "    <tr>\n",
       "      <th>1975-01-01 04:00:00</th>\n",
       "      <td>1975-01-01 04:00:00</td>\n",
       "      <td>16.3</td>\n",
       "    </tr>\n",
       "    <tr>\n",
       "      <th>1975-01-01 06:00:00</th>\n",
       "      <td>1975-01-01 06:00:00</td>\n",
       "      <td>16.1</td>\n",
       "    </tr>\n",
       "    <tr>\n",
       "      <th>1975-01-01 08:00:00</th>\n",
       "      <td>1975-01-01 08:00:00</td>\n",
       "      <td>17.1</td>\n",
       "    </tr>\n",
       "    <tr>\n",
       "      <th>1975-01-01 10:00:00</th>\n",
       "      <td>1975-01-01 10:00:00</td>\n",
       "      <td>16.9</td>\n",
       "    </tr>\n",
       "    <tr>\n",
       "      <th>1975-01-01 12:00:00</th>\n",
       "      <td>1975-01-01 12:00:00</td>\n",
       "      <td>16.8</td>\n",
       "    </tr>\n",
       "    <tr>\n",
       "      <th>1975-01-01 14:00:00</th>\n",
       "      <td>1975-01-01 14:00:00</td>\n",
       "      <td>17.4</td>\n",
       "    </tr>\n",
       "    <tr>\n",
       "      <th>1975-01-01 16:00:00</th>\n",
       "      <td>1975-01-01 16:00:00</td>\n",
       "      <td>17.1</td>\n",
       "    </tr>\n",
       "    <tr>\n",
       "      <th>1975-01-01 18:00:00</th>\n",
       "      <td>1975-01-01 18:00:00</td>\n",
       "      <td>17.0</td>\n",
       "    </tr>\n",
       "  </tbody>\n",
       "</table>\n",
       "</div>"
      ],
      "text/plain": [
       "                               Timestamp  Chemical conc.\n",
       "Timestamp                                               \n",
       "1975-01-01 00:00:00  1975-01-01 00:00:00            17.0\n",
       "1975-01-01 02:00:00  1975-01-01 02:00:00            16.6\n",
       "1975-01-01 04:00:00  1975-01-01 04:00:00            16.3\n",
       "1975-01-01 06:00:00  1975-01-01 06:00:00            16.1\n",
       "1975-01-01 08:00:00  1975-01-01 08:00:00            17.1\n",
       "1975-01-01 10:00:00  1975-01-01 10:00:00            16.9\n",
       "1975-01-01 12:00:00  1975-01-01 12:00:00            16.8\n",
       "1975-01-01 14:00:00  1975-01-01 14:00:00            17.4\n",
       "1975-01-01 16:00:00  1975-01-01 16:00:00            17.1\n",
       "1975-01-01 18:00:00  1975-01-01 18:00:00            17.0"
      ]
     },
     "execution_count": 30,
     "metadata": {},
     "output_type": "execute_result"
    }
   ],
   "source": [
    "#Parse the timestamp to datetime row index of the DataFrame\n",
    "datetime_rowid = df['Timestamp'].map(lambda t: pd.to_datetime(t, format='%Y-%m-%d %H:%M:%S'))\n",
    "df.index = datetime_rowid\n",
    "df.head(10)"
   ]
  },
  {
   "cell_type": "code",
   "execution_count": 38,
   "metadata": {},
   "outputs": [],
   "source": [
    "#Resample and compute daily mean\n",
    "daily = df['Chemical conc.'].resample('D')\n",
    "daily_mean = daily.mean()"
   ]
  },
  {
   "cell_type": "code",
   "execution_count": 39,
   "metadata": {},
   "outputs": [
    {
     "data": {
      "image/png": "[encoded data removed]",
      "text/plain": [
       "<matplotlib.figure.Figure at 0x1d0df8ea630>"
      ]
     },
     "metadata": {},
     "output_type": "display_data"
    }
   ],
   "source": [
    "#Plot original time series and daily mean\n",
    "fig = plt.figure(figsize=(5.5, 5.5))\n",
    "ax = fig.add_subplot(1,1,1)\n",
    "\n",
    "df['Chemical conc.'].plot(ax=ax, color='b')\n",
    "daily_mean.plot(ax=ax, color='r')\n",
    "\n",
    "ax.set_title('Bi-hourly reading (blue) & Daily Mean (red)')\n",
    "ax.set_xlabel('Days in Jan 1975')\n",
    "ax.set_ylabel('Chemical concentration')\n",
    "\n",
    "plt.savefig('plots/ch2/B07887_02_02.png', format='png', dpi=300)"
   ]
  },
  {
   "cell_type": "code",
   "execution_count": 11,
   "metadata": {},
   "outputs": [
    {
     "data": {
      "text/plain": [
       "'\\nLet us shown an example of grouping by a period\\n'"
      ]
     },
     "execution_count": 11,
     "metadata": {},
     "output_type": "execute_result"
    }
   ],
   "source": [
    "\"\"\"\n",
    "Let us shown an example of grouping by a period\n",
    "\"\"\""
   ]
  },
  {
   "cell_type": "code",
   "execution_count": 12,
   "metadata": {
    "collapsed": true
   },
   "outputs": [],
   "source": [
    "#Load the DataFrame and re-index the row to datetime64\n",
    "df = pd.read_csv('datasets/mean-daily-temperature-fisher-river.csv')\n",
    "df.index = df['Date'].map(lambda d: pd.to_datetime(d, format = '%Y-%m-%d'))"
   ]
  },
  {
   "cell_type": "code",
   "execution_count": 13,
   "metadata": {},
   "outputs": [
    {
     "name": "stdout",
     "output_type": "stream",
     "text": [
      "Shape of dataframe: (1461, 2)\n"
     ]
    }
   ],
   "source": [
    "#Display shape of the DataFrame\n",
    "print('Shape of dataframe:', df.shape)"
   ]
  },
  {
   "cell_type": "code",
   "execution_count": 14,
   "metadata": {},
   "outputs": [
    {
     "data": {
      "text/html": [
       "<div>\n",
       "<style>\n",
       "    .dataframe thead tr:only-child th {\n",
       "        text-align: right;\n",
       "    }\n",
       "\n",
       "    .dataframe thead th {\n",
       "        text-align: left;\n",
       "    }\n",
       "\n",
       "    .dataframe tbody tr th {\n",
       "        vertical-align: top;\n",
       "    }\n",
       "</style>\n",
       "<table border=\"1\" class=\"dataframe\">\n",
       "  <thead>\n",
       "    <tr style=\"text-align: right;\">\n",
       "      <th></th>\n",
       "      <th>Date</th>\n",
       "      <th>Mean temparature</th>\n",
       "    </tr>\n",
       "    <tr>\n",
       "      <th>Date</th>\n",
       "      <th></th>\n",
       "      <th></th>\n",
       "    </tr>\n",
       "  </thead>\n",
       "  <tbody>\n",
       "    <tr>\n",
       "      <th>1988-01-01</th>\n",
       "      <td>1988-01-01</td>\n",
       "      <td>-23.00</td>\n",
       "    </tr>\n",
       "    <tr>\n",
       "      <th>1988-01-02</th>\n",
       "      <td>1988-01-02</td>\n",
       "      <td>-20.50</td>\n",
       "    </tr>\n",
       "    <tr>\n",
       "      <th>1988-01-03</th>\n",
       "      <td>1988-01-03</td>\n",
       "      <td>-22.00</td>\n",
       "    </tr>\n",
       "    <tr>\n",
       "      <th>1988-01-04</th>\n",
       "      <td>1988-01-04</td>\n",
       "      <td>-30.50</td>\n",
       "    </tr>\n",
       "    <tr>\n",
       "      <th>1988-01-05</th>\n",
       "      <td>1988-01-05</td>\n",
       "      <td>-31.00</td>\n",
       "    </tr>\n",
       "    <tr>\n",
       "      <th>1988-01-06</th>\n",
       "      <td>1988-01-06</td>\n",
       "      <td>-27.50</td>\n",
       "    </tr>\n",
       "    <tr>\n",
       "      <th>1988-01-07</th>\n",
       "      <td>1988-01-07</td>\n",
       "      <td>-26.25</td>\n",
       "    </tr>\n",
       "    <tr>\n",
       "      <th>1988-01-08</th>\n",
       "      <td>1988-01-08</td>\n",
       "      <td>-26.50</td>\n",
       "    </tr>\n",
       "    <tr>\n",
       "      <th>1988-01-09</th>\n",
       "      <td>1988-01-09</td>\n",
       "      <td>-23.00</td>\n",
       "    </tr>\n",
       "    <tr>\n",
       "      <th>1988-01-10</th>\n",
       "      <td>1988-01-10</td>\n",
       "      <td>-23.50</td>\n",
       "    </tr>\n",
       "  </tbody>\n",
       "</table>\n",
       "</div>"
      ],
      "text/plain": [
       "                  Date  Mean temparature\n",
       "Date                                    \n",
       "1988-01-01  1988-01-01            -23.00\n",
       "1988-01-02  1988-01-02            -20.50\n",
       "1988-01-03  1988-01-03            -22.00\n",
       "1988-01-04  1988-01-04            -30.50\n",
       "1988-01-05  1988-01-05            -31.00\n",
       "1988-01-06  1988-01-06            -27.50\n",
       "1988-01-07  1988-01-07            -26.25\n",
       "1988-01-08  1988-01-08            -26.50\n",
       "1988-01-09  1988-01-09            -23.00\n",
       "1988-01-10  1988-01-10            -23.50"
      ]
     },
     "execution_count": 14,
     "metadata": {},
     "output_type": "execute_result"
    }
   ],
   "source": [
    "#Let's see first 10 rows\n",
    "df.head(10)"
   ]
  },
  {
   "cell_type": "code",
   "execution_count": 15,
   "metadata": {},
   "outputs": [
    {
     "data": {
      "image/png": "[encoded data removed]",
      "text/plain": [
       "<matplotlib.figure.Figure at 0x1d0de79ed68>"
      ]
     },
     "metadata": {},
     "output_type": "display_data"
    }
   ],
   "source": [
    "#Plot original time series on daily mean temparature\n",
    "fig = plt.figure(figsize=(5.5, 5.5))\n",
    "ax = fig.add_subplot(1,1,1)\n",
    "\n",
    "df['Mean temparature'].plot(ax=ax, color='b')\n",
    "\n",
    "ax.set_title('Mean daily temparature')\n",
    "\n",
    "plt.savefig('plots/ch2/B07887_02_03.png', format='png', dpi=300)"
   ]
  },
  {
   "cell_type": "code",
   "execution_count": 16,
   "metadata": {},
   "outputs": [
    {
     "data": {
      "text/html": [
       "<div>\n",
       "<style>\n",
       "    .dataframe thead tr:only-child th {\n",
       "        text-align: right;\n",
       "    }\n",
       "\n",
       "    .dataframe thead th {\n",
       "        text-align: left;\n",
       "    }\n",
       "\n",
       "    .dataframe tbody tr th {\n",
       "        vertical-align: top;\n",
       "    }\n",
       "</style>\n",
       "<table border=\"1\" class=\"dataframe\">\n",
       "  <thead>\n",
       "    <tr style=\"text-align: right;\">\n",
       "      <th></th>\n",
       "      <th>Date</th>\n",
       "      <th>Mean temparature</th>\n",
       "      <th>Month_Year</th>\n",
       "    </tr>\n",
       "    <tr>\n",
       "      <th>Date</th>\n",
       "      <th></th>\n",
       "      <th></th>\n",
       "      <th></th>\n",
       "    </tr>\n",
       "  </thead>\n",
       "  <tbody>\n",
       "    <tr>\n",
       "      <th>1988-01-01</th>\n",
       "      <td>1988-01-01</td>\n",
       "      <td>-23.00</td>\n",
       "      <td>01-1988</td>\n",
       "    </tr>\n",
       "    <tr>\n",
       "      <th>1988-01-02</th>\n",
       "      <td>1988-01-02</td>\n",
       "      <td>-20.50</td>\n",
       "      <td>01-1988</td>\n",
       "    </tr>\n",
       "    <tr>\n",
       "      <th>1988-01-03</th>\n",
       "      <td>1988-01-03</td>\n",
       "      <td>-22.00</td>\n",
       "      <td>01-1988</td>\n",
       "    </tr>\n",
       "    <tr>\n",
       "      <th>1988-01-04</th>\n",
       "      <td>1988-01-04</td>\n",
       "      <td>-30.50</td>\n",
       "      <td>01-1988</td>\n",
       "    </tr>\n",
       "    <tr>\n",
       "      <th>1988-01-05</th>\n",
       "      <td>1988-01-05</td>\n",
       "      <td>-31.00</td>\n",
       "      <td>01-1988</td>\n",
       "    </tr>\n",
       "    <tr>\n",
       "      <th>1988-01-06</th>\n",
       "      <td>1988-01-06</td>\n",
       "      <td>-27.50</td>\n",
       "      <td>01-1988</td>\n",
       "    </tr>\n",
       "    <tr>\n",
       "      <th>1988-01-07</th>\n",
       "      <td>1988-01-07</td>\n",
       "      <td>-26.25</td>\n",
       "      <td>01-1988</td>\n",
       "    </tr>\n",
       "    <tr>\n",
       "      <th>1988-01-08</th>\n",
       "      <td>1988-01-08</td>\n",
       "      <td>-26.50</td>\n",
       "      <td>01-1988</td>\n",
       "    </tr>\n",
       "    <tr>\n",
       "      <th>1988-01-09</th>\n",
       "      <td>1988-01-09</td>\n",
       "      <td>-23.00</td>\n",
       "      <td>01-1988</td>\n",
       "    </tr>\n",
       "    <tr>\n",
       "      <th>1988-01-10</th>\n",
       "      <td>1988-01-10</td>\n",
       "      <td>-23.50</td>\n",
       "      <td>01-1988</td>\n",
       "    </tr>\n",
       "  </tbody>\n",
       "</table>\n",
       "</div>"
      ],
      "text/plain": [
       "                  Date  Mean temparature Month_Year\n",
       "Date                                               \n",
       "1988-01-01  1988-01-01            -23.00    01-1988\n",
       "1988-01-02  1988-01-02            -20.50    01-1988\n",
       "1988-01-03  1988-01-03            -22.00    01-1988\n",
       "1988-01-04  1988-01-04            -30.50    01-1988\n",
       "1988-01-05  1988-01-05            -31.00    01-1988\n",
       "1988-01-06  1988-01-06            -27.50    01-1988\n",
       "1988-01-07  1988-01-07            -26.25    01-1988\n",
       "1988-01-08  1988-01-08            -26.50    01-1988\n",
       "1988-01-09  1988-01-09            -23.00    01-1988\n",
       "1988-01-10  1988-01-10            -23.50    01-1988"
      ]
     },
     "execution_count": 16,
     "metadata": {},
     "output_type": "execute_result"
    }
   ],
   "source": [
    "#We need to groupby the data for every month and find aggregate statistics\n",
    "\n",
    "#Let's start by adding a Month_Year column\n",
    "df['Month_Year'] = df.index.map(lambda d: d.strftime('%m-%Y'))\n",
    "\n",
    "df.head(10)"
   ]
  },
  {
   "cell_type": "code",
   "execution_count": 17,
   "metadata": {},
   "outputs": [
    {
     "data": {
      "text/html": [
       "<div>\n",
       "<style>\n",
       "    .dataframe thead tr:only-child th {\n",
       "        text-align: right;\n",
       "    }\n",
       "\n",
       "    .dataframe thead th {\n",
       "        text-align: left;\n",
       "    }\n",
       "\n",
       "    .dataframe tbody tr th {\n",
       "        vertical-align: top;\n",
       "    }\n",
       "</style>\n",
       "<table border=\"1\" class=\"dataframe\">\n",
       "  <thead>\n",
       "    <tr style=\"text-align: right;\">\n",
       "      <th></th>\n",
       "      <th>Month_Year</th>\n",
       "      <th>mean</th>\n",
       "      <th>median</th>\n",
       "      <th>std</th>\n",
       "    </tr>\n",
       "  </thead>\n",
       "  <tbody>\n",
       "    <tr>\n",
       "      <th>0</th>\n",
       "      <td>01-1988</td>\n",
       "      <td>-22.137097</td>\n",
       "      <td>-23.00</td>\n",
       "      <td>5.260640</td>\n",
       "    </tr>\n",
       "    <tr>\n",
       "      <th>1</th>\n",
       "      <td>01-1989</td>\n",
       "      <td>-17.129032</td>\n",
       "      <td>-18.00</td>\n",
       "      <td>8.250725</td>\n",
       "    </tr>\n",
       "    <tr>\n",
       "      <th>2</th>\n",
       "      <td>01-1990</td>\n",
       "      <td>-15.112903</td>\n",
       "      <td>-12.00</td>\n",
       "      <td>6.606764</td>\n",
       "    </tr>\n",
       "    <tr>\n",
       "      <th>3</th>\n",
       "      <td>01-1991</td>\n",
       "      <td>-23.038710</td>\n",
       "      <td>-24.50</td>\n",
       "      <td>7.095570</td>\n",
       "    </tr>\n",
       "    <tr>\n",
       "      <th>4</th>\n",
       "      <td>02-1988</td>\n",
       "      <td>-19.025862</td>\n",
       "      <td>-19.50</td>\n",
       "      <td>8.598522</td>\n",
       "    </tr>\n",
       "    <tr>\n",
       "      <th>5</th>\n",
       "      <td>02-1989</td>\n",
       "      <td>-19.267857</td>\n",
       "      <td>-19.25</td>\n",
       "      <td>8.092042</td>\n",
       "    </tr>\n",
       "    <tr>\n",
       "      <th>6</th>\n",
       "      <td>02-1990</td>\n",
       "      <td>-17.482143</td>\n",
       "      <td>-16.50</td>\n",
       "      <td>8.018477</td>\n",
       "    </tr>\n",
       "    <tr>\n",
       "      <th>7</th>\n",
       "      <td>02-1991</td>\n",
       "      <td>-10.967857</td>\n",
       "      <td>-12.15</td>\n",
       "      <td>8.220753</td>\n",
       "    </tr>\n",
       "    <tr>\n",
       "      <th>8</th>\n",
       "      <td>03-1988</td>\n",
       "      <td>-8.258065</td>\n",
       "      <td>-9.25</td>\n",
       "      <td>5.341459</td>\n",
       "    </tr>\n",
       "    <tr>\n",
       "      <th>9</th>\n",
       "      <td>03-1989</td>\n",
       "      <td>-12.508065</td>\n",
       "      <td>-9.50</td>\n",
       "      <td>8.289925</td>\n",
       "    </tr>\n",
       "  </tbody>\n",
       "</table>\n",
       "</div>"
      ],
      "text/plain": [
       "  Month_Year       mean  median       std\n",
       "0    01-1988 -22.137097  -23.00  5.260640\n",
       "1    01-1989 -17.129032  -18.00  8.250725\n",
       "2    01-1990 -15.112903  -12.00  6.606764\n",
       "3    01-1991 -23.038710  -24.50  7.095570\n",
       "4    02-1988 -19.025862  -19.50  8.598522\n",
       "5    02-1989 -19.267857  -19.25  8.092042\n",
       "6    02-1990 -17.482143  -16.50  8.018477\n",
       "7    02-1991 -10.967857  -12.15  8.220753\n",
       "8    03-1988  -8.258065   -9.25  5.341459\n",
       "9    03-1989 -12.508065   -9.50  8.289925"
      ]
     },
     "execution_count": 17,
     "metadata": {},
     "output_type": "execute_result"
    }
   ],
   "source": [
    "#Calculate month wise statistics\n",
    "monthly_stats = df.groupby(by='Month_Year')['Mean temparature'].aggregate([np.mean, np.median,\n",
    "                                                                           np.std\n",
    "                                                                          ])\n",
    "monthly_stats.reset_index(inplace=True)\n",
    "monthly_stats.head(10)"
   ]
  },
  {
   "cell_type": "code",
   "execution_count": 18,
   "metadata": {},
   "outputs": [
    {
     "data": {
      "text/html": [
       "<div>\n",
       "<style>\n",
       "    .dataframe thead tr:only-child th {\n",
       "        text-align: right;\n",
       "    }\n",
       "\n",
       "    .dataframe thead th {\n",
       "        text-align: left;\n",
       "    }\n",
       "\n",
       "    .dataframe tbody tr th {\n",
       "        vertical-align: top;\n",
       "    }\n",
       "</style>\n",
       "<table border=\"1\" class=\"dataframe\">\n",
       "  <thead>\n",
       "    <tr style=\"text-align: right;\">\n",
       "      <th></th>\n",
       "      <th>Month_Year</th>\n",
       "      <th>mean</th>\n",
       "      <th>median</th>\n",
       "      <th>std</th>\n",
       "      <th>Year</th>\n",
       "      <th>Month</th>\n",
       "    </tr>\n",
       "  </thead>\n",
       "  <tbody>\n",
       "    <tr>\n",
       "      <th>0</th>\n",
       "      <td>01-1988</td>\n",
       "      <td>-22.137097</td>\n",
       "      <td>-23.000</td>\n",
       "      <td>5.260640</td>\n",
       "      <td>1988</td>\n",
       "      <td>01</td>\n",
       "    </tr>\n",
       "    <tr>\n",
       "      <th>4</th>\n",
       "      <td>02-1988</td>\n",
       "      <td>-19.025862</td>\n",
       "      <td>-19.500</td>\n",
       "      <td>8.598522</td>\n",
       "      <td>1988</td>\n",
       "      <td>02</td>\n",
       "    </tr>\n",
       "    <tr>\n",
       "      <th>8</th>\n",
       "      <td>03-1988</td>\n",
       "      <td>-8.258065</td>\n",
       "      <td>-9.250</td>\n",
       "      <td>5.341459</td>\n",
       "      <td>1988</td>\n",
       "      <td>03</td>\n",
       "    </tr>\n",
       "    <tr>\n",
       "      <th>12</th>\n",
       "      <td>04-1988</td>\n",
       "      <td>2.641667</td>\n",
       "      <td>1.875</td>\n",
       "      <td>5.057720</td>\n",
       "      <td>1988</td>\n",
       "      <td>04</td>\n",
       "    </tr>\n",
       "    <tr>\n",
       "      <th>16</th>\n",
       "      <td>05-1988</td>\n",
       "      <td>11.290323</td>\n",
       "      <td>11.000</td>\n",
       "      <td>6.254364</td>\n",
       "      <td>1988</td>\n",
       "      <td>05</td>\n",
       "    </tr>\n",
       "    <tr>\n",
       "      <th>20</th>\n",
       "      <td>06-1988</td>\n",
       "      <td>19.291667</td>\n",
       "      <td>19.000</td>\n",
       "      <td>3.909032</td>\n",
       "      <td>1988</td>\n",
       "      <td>06</td>\n",
       "    </tr>\n",
       "    <tr>\n",
       "      <th>24</th>\n",
       "      <td>07-1988</td>\n",
       "      <td>19.048387</td>\n",
       "      <td>18.500</td>\n",
       "      <td>3.073692</td>\n",
       "      <td>1988</td>\n",
       "      <td>07</td>\n",
       "    </tr>\n",
       "    <tr>\n",
       "      <th>28</th>\n",
       "      <td>08-1988</td>\n",
       "      <td>17.379032</td>\n",
       "      <td>18.000</td>\n",
       "      <td>3.183205</td>\n",
       "      <td>1988</td>\n",
       "      <td>08</td>\n",
       "    </tr>\n",
       "    <tr>\n",
       "      <th>32</th>\n",
       "      <td>09-1988</td>\n",
       "      <td>10.675000</td>\n",
       "      <td>10.750</td>\n",
       "      <td>3.880294</td>\n",
       "      <td>1988</td>\n",
       "      <td>09</td>\n",
       "    </tr>\n",
       "    <tr>\n",
       "      <th>36</th>\n",
       "      <td>10-1988</td>\n",
       "      <td>2.467742</td>\n",
       "      <td>3.000</td>\n",
       "      <td>6.697245</td>\n",
       "      <td>1988</td>\n",
       "      <td>10</td>\n",
       "    </tr>\n",
       "  </tbody>\n",
       "</table>\n",
       "</div>"
      ],
      "text/plain": [
       "   Month_Year       mean  median       std  Year Month\n",
       "0     01-1988 -22.137097 -23.000  5.260640  1988    01\n",
       "4     02-1988 -19.025862 -19.500  8.598522  1988    02\n",
       "8     03-1988  -8.258065  -9.250  5.341459  1988    03\n",
       "12    04-1988   2.641667   1.875  5.057720  1988    04\n",
       "16    05-1988  11.290323  11.000  6.254364  1988    05\n",
       "20    06-1988  19.291667  19.000  3.909032  1988    06\n",
       "24    07-1988  19.048387  18.500  3.073692  1988    07\n",
       "28    08-1988  17.379032  18.000  3.183205  1988    08\n",
       "32    09-1988  10.675000  10.750  3.880294  1988    09\n",
       "36    10-1988   2.467742   3.000  6.697245  1988    10"
      ]
     },
     "execution_count": 18,
     "metadata": {},
     "output_type": "execute_result"
    }
   ],
   "source": [
    "#Let's create month and year columns and sort by them to reorder the rows\n",
    "monthly_stats['Year'] = monthly_stats['Month_Year']\\\n",
    "                        .map(lambda m: pd.to_datetime(m, format='%m-%Y').strftime('%Y'))\n",
    "monthly_stats['Month'] = monthly_stats['Month_Year']\\\n",
    "                        .map(lambda m: pd.to_datetime(m, format='%m-%Y').strftime('%m'))\n",
    "monthly_stats.sort_values(by=['Year', 'Month'], inplace=True)\n",
    "monthly_stats.head(10)"
   ]
  },
  {
   "cell_type": "code",
   "execution_count": 19,
   "metadata": {
    "collapsed": true
   },
   "outputs": [],
   "source": [
    "#Let's set the Month_Year as the row index\n",
    "monthly_stats.index = monthly_stats['Month_Year']"
   ]
  },
  {
   "cell_type": "code",
   "execution_count": 20,
   "metadata": {},
   "outputs": [
    {
     "data": {
      "image/png": "[encoded data removed]",
      "text/plain": [
       "<matplotlib.figure.Figure at 0x1d0df1ea048>"
      ]
     },
     "metadata": {},
     "output_type": "display_data"
    }
   ],
   "source": [
    "#Plot original time series and daily mean\n",
    "fig = plt.figure(figsize=(5.5, 5.5))\n",
    "ax = fig.add_subplot(1,1,1)\n",
    "\n",
    "monthly_stats['mean'].plot(ax=ax, color='b')\n",
    "monthly_stats['std'].plot(ax=ax, color='r')\n",
    "\n",
    "ax.set_title('Monthly statistics: Mean (blue) & Std. Dev. (red)')\n",
    "\n",
    "plt.savefig('plots/ch2/B07887_02_04.png', format='png', dpi=300)"
   ]
  },
  {
   "cell_type": "code",
   "execution_count": 21,
   "metadata": {
    "collapsed": true
   },
   "outputs": [],
   "source": [
    "#Now we will calculate weekly moving average on the original time series of mean daily temparature\n",
    "weekly_moving_average = df['Mean temparature'].rolling(7).mean()"
   ]
  },
  {
   "cell_type": "code",
   "execution_count": 22,
   "metadata": {
    "collapsed": true
   },
   "outputs": [],
   "source": [
    "#Now we will calculate monthly moving average on the original time series of mean daily temparature\n",
    "monthly_moving_average = df['Mean temparature'].rolling(30).mean()"
   ]
  },
  {
   "cell_type": "code",
   "execution_count": 23,
   "metadata": {
    "collapsed": true
   },
   "outputs": [],
   "source": [
    "#Let's caluclate the weekly and monthly avergaes with a stride of length 2\n",
    "weekly_moving_average_2stride = df['Mean temparature'].rolling(7).mean()[::2]\n",
    "monthly_moving_average_2stride = df['Mean temparature'].rolling(30).mean()[::2]"
   ]
  },
  {
   "cell_type": "code",
   "execution_count": 24,
   "metadata": {},
   "outputs": [
    {
     "data": {
      "image/png": "[encoded data removed]",
      "text/plain": [
       "<matplotlib.figure.Figure at 0x1d0dfbbcc88>"
      ]
     },
     "metadata": {},
     "output_type": "display_data"
    }
   ],
   "source": [
    "#Plot original time series and weekly moving average\n",
    "fig, axarr = plt.subplots(3, sharex=True)\n",
    "fig.set_size_inches(5.5, 5,5)\n",
    "\n",
    "df['Mean temparature'].plot(ax=axarr[0], color='b')\n",
    "axarr[0].set_title('Daily mean temparature')\n",
    "\n",
    "weekly_moving_average.plot(ax=axarr[1], color='r')\n",
    "axarr[1].set_title('Weekly moving average')\n",
    "\n",
    "monthly_moving_average.plot(ax=axarr[2], color='g')\n",
    "axarr[2].set_title('Monthly moving average')\n",
    "\n",
    "plt.savefig('plots/ch2/B07887_02_05.png', format='png', dpi=300)"
   ]
  }
 ],
 "metadata": {
  "anaconda-cloud": {},
  "kernelspec": {
   "display_name": "Python 3",
   "language": "python",
   "name": "python3"
  },
  "language_info": {
   "codemirror_mode": {
    "name": "ipython",
    "version": 3
   },
   "file_extension": ".py",
   "mimetype": "text/x-python",
   "name": "python",
   "nbconvert_exporter": "python",
   "pygments_lexer": "ipython3",
   "version": "3.6.1"
  }
 },
 "nbformat": 4,
 "nbformat_minor": 1
}
