{
 "cells": [
  {
   "cell_type": "code",
   "execution_count": 1,
   "metadata": {
    "collapsed": true
   },
   "outputs": [],
   "source": [
    "from __future__ import print_function\n",
    "import os\n",
    "import sys\n",
    "import pandas as pd\n",
    "import numpy as np\n",
    "%matplotlib inline\n",
    "from matplotlib import pyplot as plt\n",
    "import seaborn as sns"
   ]
  },
  {
   "cell_type": "code",
   "execution_count": 2,
   "metadata": {
    "collapsed": true
   },
   "outputs": [],
   "source": [
    "os.chdir('D:\\Practical Time Series')"
   ]
  },
  {
   "cell_type": "code",
   "execution_count": 3,
   "metadata": {
    "collapsed": true
   },
   "outputs": [],
   "source": [
    "data = pd.read_csv('datasets/WDI_csv/WDIData.csv')"
   ]
  },
  {
   "cell_type": "code",
   "execution_count": 4,
   "metadata": {},
   "outputs": [
    {
     "name": "stdout",
     "output_type": "stream",
     "text": [
      "Column names: Index(['Country Name', 'Country Code', 'Indicator Name', 'Indicator Code',\n",
      "       '1960', '1961', '1962', '1963', '1964', '1965', '1966', '1967', '1968',\n",
      "       '1969', '1970', '1971', '1972', '1973', '1974', '1975', '1976', '1977',\n",
      "       '1978', '1979', '1980', '1981', '1982', '1983', '1984', '1985', '1986',\n",
      "       '1987', '1988', '1989', '1990', '1991', '1992', '1993', '1994', '1995',\n",
      "       '1996', '1997', '1998', '1999', '2000', '2001', '2002', '2003', '2004',\n",
      "       '2005', '2006', '2007', '2008', '2009', '2010', '2011', '2012', '2013',\n",
      "       '2014', '2015', '2016', 'Unnamed: 61'],\n",
      "      dtype='object')\n"
     ]
    }
   ],
   "source": [
    "print('Column names:', data.columns)"
   ]
  },
  {
   "cell_type": "code",
   "execution_count": 5,
   "metadata": {
    "scrolled": true
   },
   "outputs": [
    {
     "name": "stdout",
     "output_type": "stream",
     "text": [
      "No. of rows, columns: (397056, 62)\n"
     ]
    }
   ],
   "source": [
    "print('No. of rows, columns:', data.shape)"
   ]
  },
  {
   "cell_type": "code",
   "execution_count": 6,
   "metadata": {},
   "outputs": [
    {
     "name": "stdout",
     "output_type": "stream",
     "text": [
      "Unique number of indicators: 1504\n"
     ]
    }
   ],
   "source": [
    "nb_indicators = data['Indicator Name'].unique().shape[0]\n",
    "print('Unique number of indicators:', nb_indicators)"
   ]
  },
  {
   "cell_type": "code",
   "execution_count": 7,
   "metadata": {},
   "outputs": [
    {
     "name": "stdout",
     "output_type": "stream",
     "text": [
      "Unique number of countries: 264\n"
     ]
    }
   ],
   "source": [
    "nb_countries = data['Country Code'].unique().shape[0]\n",
    "print('Unique number of countries:', nb_countries)"
   ]
  },
  {
   "cell_type": "code",
   "execution_count": 8,
   "metadata": {
    "collapsed": true
   },
   "outputs": [],
   "source": [
    "central_govt_debt = data.loc[data['Indicator Name']=='Central government debt, total (% of GDP)']\n",
    "military_exp = data.loc[data['Indicator Name']=='Military expenditure (% of GDP)']"
   ]
  },
  {
   "cell_type": "code",
   "execution_count": 9,
   "metadata": {},
   "outputs": [
    {
     "name": "stdout",
     "output_type": "stream",
     "text": [
      "Shape of central_govt_debt: (264, 62)\n",
      "Shape of military_exp: (264, 62)\n"
     ]
    }
   ],
   "source": [
    "print('Shape of central_govt_debt:', central_govt_debt.shape)\n",
    "print('Shape of military_exp:', military_exp.shape)"
   ]
  },
  {
   "cell_type": "code",
   "execution_count": 10,
   "metadata": {},
   "outputs": [
    {
     "data": {
      "text/plain": [
       "count     93.000000\n",
       "mean      52.894412\n",
       "std       30.866372\n",
       "min        0.519274\n",
       "25%       28.030110\n",
       "50%       49.559823\n",
       "75%       75.289093\n",
       "max      168.474953\n",
       "Name: 2010, dtype: float64"
      ]
     },
     "execution_count": 10,
     "metadata": {},
     "output_type": "execute_result"
    }
   ],
   "source": [
    "central_govt_debt['2010'].describe()"
   ]
  },
  {
   "cell_type": "code",
   "execution_count": 11,
   "metadata": {},
   "outputs": [
    {
     "data": {
      "text/plain": [
       "count    194.000000\n",
       "mean       1.958123\n",
       "std        1.370594\n",
       "min        0.000000\n",
       "25%        1.120302\n",
       "50%        1.606592\n",
       "75%        2.594417\n",
       "max        8.588373\n",
       "Name: 2010, dtype: float64"
      ]
     },
     "execution_count": 11,
     "metadata": {},
     "output_type": "execute_result"
    }
   ],
   "source": [
    "military_exp['2010'].describe()"
   ]
  },
  {
   "cell_type": "code",
   "execution_count": 12,
   "metadata": {
    "collapsed": true
   },
   "outputs": [],
   "source": [
    "central_govt_debt.index = central_govt_debt['Country Code']\n",
    "military_exp.index = military_exp['Country Code']"
   ]
  },
  {
   "cell_type": "code",
   "execution_count": 13,
   "metadata": {
    "collapsed": true
   },
   "outputs": [],
   "source": [
    "central_govt_debt_2010 = central_govt_debt['2010'].loc[~pd.isnull(central_govt_debt['2010'])]\n",
    "military_exp_2010 = military_exp['2010'].loc[~pd.isnull(military_exp['2010'])]"
   ]
  },
  {
   "cell_type": "code",
   "execution_count": 14,
   "metadata": {
    "collapsed": true
   },
   "outputs": [],
   "source": [
    "data_to_plot = pd.concat((central_govt_debt_2010, military_exp_2010), axis=1)"
   ]
  },
  {
   "cell_type": "code",
   "execution_count": 15,
   "metadata": {
    "collapsed": true
   },
   "outputs": [],
   "source": [
    "data_to_plot.columns = ['central_govt_debt', 'military_exp']"
   ]
  },
  {
   "cell_type": "code",
   "execution_count": 16,
   "metadata": {},
   "outputs": [
    {
     "data": {
      "text/html": [
       "<div>\n",
       "<style>\n",
       "    .dataframe thead tr:only-child th {\n",
       "        text-align: right;\n",
       "    }\n",
       "\n",
       "    .dataframe thead th {\n",
       "        text-align: left;\n",
       "    }\n",
       "\n",
       "    .dataframe tbody tr th {\n",
       "        vertical-align: top;\n",
       "    }\n",
       "</style>\n",
       "<table border=\"1\" class=\"dataframe\">\n",
       "  <thead>\n",
       "    <tr style=\"text-align: right;\">\n",
       "      <th></th>\n",
       "      <th>central_govt_debt</th>\n",
       "      <th>military_exp</th>\n",
       "    </tr>\n",
       "  </thead>\n",
       "  <tbody>\n",
       "    <tr>\n",
       "      <th>AFG</th>\n",
       "      <td>NaN</td>\n",
       "      <td>1.897473</td>\n",
       "    </tr>\n",
       "    <tr>\n",
       "      <th>AGO</th>\n",
       "      <td>NaN</td>\n",
       "      <td>4.244884</td>\n",
       "    </tr>\n",
       "    <tr>\n",
       "      <th>ALB</th>\n",
       "      <td>NaN</td>\n",
       "      <td>1.558592</td>\n",
       "    </tr>\n",
       "    <tr>\n",
       "      <th>ARB</th>\n",
       "      <td>NaN</td>\n",
       "      <td>5.122879</td>\n",
       "    </tr>\n",
       "    <tr>\n",
       "      <th>ARE</th>\n",
       "      <td>NaN</td>\n",
       "      <td>6.119468</td>\n",
       "    </tr>\n",
       "    <tr>\n",
       "      <th>ARG</th>\n",
       "      <td>NaN</td>\n",
       "      <td>0.814878</td>\n",
       "    </tr>\n",
       "    <tr>\n",
       "      <th>ARM</th>\n",
       "      <td>NaN</td>\n",
       "      <td>4.265646</td>\n",
       "    </tr>\n",
       "    <tr>\n",
       "      <th>ATG</th>\n",
       "      <td>75.289093</td>\n",
       "      <td>NaN</td>\n",
       "    </tr>\n",
       "    <tr>\n",
       "      <th>AUS</th>\n",
       "      <td>29.356946</td>\n",
       "      <td>1.951809</td>\n",
       "    </tr>\n",
       "    <tr>\n",
       "      <th>AUT</th>\n",
       "      <td>79.408304</td>\n",
       "      <td>0.824770</td>\n",
       "    </tr>\n",
       "  </tbody>\n",
       "</table>\n",
       "</div>"
      ],
      "text/plain": [
       "     central_govt_debt  military_exp\n",
       "AFG                NaN      1.897473\n",
       "AGO                NaN      4.244884\n",
       "ALB                NaN      1.558592\n",
       "ARB                NaN      5.122879\n",
       "ARE                NaN      6.119468\n",
       "ARG                NaN      0.814878\n",
       "ARM                NaN      4.265646\n",
       "ATG          75.289093           NaN\n",
       "AUS          29.356946      1.951809\n",
       "AUT          79.408304      0.824770"
      ]
     },
     "execution_count": 16,
     "metadata": {},
     "output_type": "execute_result"
    }
   ],
   "source": [
    "data_to_plot.head(10)"
   ]
  },
  {
   "cell_type": "code",
   "execution_count": 17,
   "metadata": {
    "collapsed": true
   },
   "outputs": [],
   "source": [
    "data_to_plot = data_to_plot.loc[(~pd.isnull(data_to_plot.central_govt_debt)) & (~pd.isnull(data_to_plot.military_exp)), :]"
   ]
  },
  {
   "cell_type": "code",
   "execution_count": 18,
   "metadata": {},
   "outputs": [
    {
     "data": {
      "text/html": [
       "<div>\n",
       "<style>\n",
       "    .dataframe thead tr:only-child th {\n",
       "        text-align: right;\n",
       "    }\n",
       "\n",
       "    .dataframe thead th {\n",
       "        text-align: left;\n",
       "    }\n",
       "\n",
       "    .dataframe tbody tr th {\n",
       "        vertical-align: top;\n",
       "    }\n",
       "</style>\n",
       "<table border=\"1\" class=\"dataframe\">\n",
       "  <thead>\n",
       "    <tr style=\"text-align: right;\">\n",
       "      <th></th>\n",
       "      <th>central_govt_debt</th>\n",
       "      <th>military_exp</th>\n",
       "    </tr>\n",
       "  </thead>\n",
       "  <tbody>\n",
       "    <tr>\n",
       "      <th>AUS</th>\n",
       "      <td>29.356946</td>\n",
       "      <td>1.951809</td>\n",
       "    </tr>\n",
       "    <tr>\n",
       "      <th>AUT</th>\n",
       "      <td>79.408304</td>\n",
       "      <td>0.824770</td>\n",
       "    </tr>\n",
       "    <tr>\n",
       "      <th>AZE</th>\n",
       "      <td>6.385576</td>\n",
       "      <td>2.791004</td>\n",
       "    </tr>\n",
       "    <tr>\n",
       "      <th>BEL</th>\n",
       "      <td>7.022605</td>\n",
       "      <td>1.084631</td>\n",
       "    </tr>\n",
       "    <tr>\n",
       "      <th>BGR</th>\n",
       "      <td>21.286254</td>\n",
       "      <td>1.765384</td>\n",
       "    </tr>\n",
       "  </tbody>\n",
       "</table>\n",
       "</div>"
      ],
      "text/plain": [
       "     central_govt_debt  military_exp\n",
       "AUS          29.356946      1.951809\n",
       "AUT          79.408304      0.824770\n",
       "AZE           6.385576      2.791004\n",
       "BEL           7.022605      1.084631\n",
       "BGR          21.286254      1.765384"
      ]
     },
     "execution_count": 18,
     "metadata": {},
     "output_type": "execute_result"
    }
   ],
   "source": [
    "data_to_plot.head()"
   ]
  },
  {
   "cell_type": "code",
   "execution_count": 19,
   "metadata": {},
   "outputs": [
    {
     "data": {
      "image/png": "[encoded data removed]",
      "text/plain": [
       "<matplotlib.figure.Figure at 0x21f3bb94860>"
      ]
     },
     "metadata": {},
     "output_type": "display_data"
    }
   ],
   "source": [
    "plt.figure(figsize=(5.5, 5.5))\n",
    "g = sns.distplot(np.array(data_to_plot.military_exp), norm_hist=False)\n",
    "g.set_title('Military expenditure (% of GDP) of 85 countries in 2010')\n",
    "plt.savefig('plots/ch1/B07887_01_01.png', format='png', dpi=300)"
   ]
  },
  {
   "cell_type": "code",
   "execution_count": 20,
   "metadata": {},
   "outputs": [
    {
     "data": {
      "image/png": "[encoded data removed]",
      "text/plain": [
       "<matplotlib.figure.Figure at 0x21f3b0a8c18>"
      ]
     },
     "metadata": {},
     "output_type": "display_data"
    }
   ],
   "source": [
    "plt.figure(figsize=(5.5, 5.5))\n",
    "g = sns.kdeplot(data_to_plot.military_exp, data2=data_to_plot.central_govt_debt)\n",
    "g.set_title('Military expenditures & Debt of central governments in 2010')\n",
    "plt.savefig('plots/ch1/B07887_01_02.png', format='png', dpi=300)"
   ]
  },
  {
   "cell_type": "code",
   "execution_count": 21,
   "metadata": {
    "collapsed": true
   },
   "outputs": [],
   "source": [
    "central_govt_debt_us = central_govt_debt.loc[central_govt_debt['Country Code']=='USA', :].T\n",
    "military_exp_us = military_exp.loc[military_exp['Country Code']=='USA', :].T"
   ]
  },
  {
   "cell_type": "code",
   "execution_count": 22,
   "metadata": {
    "collapsed": true
   },
   "outputs": [],
   "source": [
    "data_us = pd.concat((military_exp_us, central_govt_debt_us), axis=1)"
   ]
  },
  {
   "cell_type": "code",
   "execution_count": 23,
   "metadata": {
    "collapsed": true
   },
   "outputs": [],
   "source": [
    "index0 = np.where(data_us.index=='1960')[0][0]\n",
    "index1 = np.where(data_us.index=='2010')[0][0]"
   ]
  },
  {
   "cell_type": "code",
   "execution_count": 24,
   "metadata": {
    "collapsed": true
   },
   "outputs": [],
   "source": [
    "data_us = data_us.iloc[index0:index1+1,:]"
   ]
  },
  {
   "cell_type": "code",
   "execution_count": 25,
   "metadata": {
    "collapsed": true
   },
   "outputs": [],
   "source": [
    "data_us.columns = ['Federal Military Expenditure', 'Debt of Federal Government']"
   ]
  },
  {
   "cell_type": "code",
   "execution_count": 26,
   "metadata": {},
   "outputs": [
    {
     "data": {
      "text/html": [
       "<div>\n",
       "<style>\n",
       "    .dataframe thead tr:only-child th {\n",
       "        text-align: right;\n",
       "    }\n",
       "\n",
       "    .dataframe thead th {\n",
       "        text-align: left;\n",
       "    }\n",
       "\n",
       "    .dataframe tbody tr th {\n",
       "        vertical-align: top;\n",
       "    }\n",
       "</style>\n",
       "<table border=\"1\" class=\"dataframe\">\n",
       "  <thead>\n",
       "    <tr style=\"text-align: right;\">\n",
       "      <th></th>\n",
       "      <th>Federal Military Expenditure</th>\n",
       "      <th>Debt of Federal Government</th>\n",
       "    </tr>\n",
       "  </thead>\n",
       "  <tbody>\n",
       "    <tr>\n",
       "      <th>1960</th>\n",
       "      <td>NaN</td>\n",
       "      <td>NaN</td>\n",
       "    </tr>\n",
       "    <tr>\n",
       "      <th>1961</th>\n",
       "      <td>NaN</td>\n",
       "      <td>NaN</td>\n",
       "    </tr>\n",
       "    <tr>\n",
       "      <th>1962</th>\n",
       "      <td>NaN</td>\n",
       "      <td>NaN</td>\n",
       "    </tr>\n",
       "    <tr>\n",
       "      <th>1963</th>\n",
       "      <td>NaN</td>\n",
       "      <td>NaN</td>\n",
       "    </tr>\n",
       "    <tr>\n",
       "      <th>1964</th>\n",
       "      <td>NaN</td>\n",
       "      <td>NaN</td>\n",
       "    </tr>\n",
       "    <tr>\n",
       "      <th>1965</th>\n",
       "      <td>NaN</td>\n",
       "      <td>NaN</td>\n",
       "    </tr>\n",
       "    <tr>\n",
       "      <th>1966</th>\n",
       "      <td>NaN</td>\n",
       "      <td>NaN</td>\n",
       "    </tr>\n",
       "    <tr>\n",
       "      <th>1967</th>\n",
       "      <td>NaN</td>\n",
       "      <td>NaN</td>\n",
       "    </tr>\n",
       "    <tr>\n",
       "      <th>1968</th>\n",
       "      <td>NaN</td>\n",
       "      <td>NaN</td>\n",
       "    </tr>\n",
       "    <tr>\n",
       "      <th>1969</th>\n",
       "      <td>NaN</td>\n",
       "      <td>NaN</td>\n",
       "    </tr>\n",
       "    <tr>\n",
       "      <th>1970</th>\n",
       "      <td>NaN</td>\n",
       "      <td>NaN</td>\n",
       "    </tr>\n",
       "    <tr>\n",
       "      <th>1971</th>\n",
       "      <td>NaN</td>\n",
       "      <td>NaN</td>\n",
       "    </tr>\n",
       "    <tr>\n",
       "      <th>1972</th>\n",
       "      <td>NaN</td>\n",
       "      <td>NaN</td>\n",
       "    </tr>\n",
       "    <tr>\n",
       "      <th>1973</th>\n",
       "      <td>NaN</td>\n",
       "      <td>NaN</td>\n",
       "    </tr>\n",
       "    <tr>\n",
       "      <th>1974</th>\n",
       "      <td>NaN</td>\n",
       "      <td>NaN</td>\n",
       "    </tr>\n",
       "    <tr>\n",
       "      <th>1975</th>\n",
       "      <td>NaN</td>\n",
       "      <td>NaN</td>\n",
       "    </tr>\n",
       "    <tr>\n",
       "      <th>1976</th>\n",
       "      <td>NaN</td>\n",
       "      <td>NaN</td>\n",
       "    </tr>\n",
       "    <tr>\n",
       "      <th>1977</th>\n",
       "      <td>NaN</td>\n",
       "      <td>NaN</td>\n",
       "    </tr>\n",
       "    <tr>\n",
       "      <th>1978</th>\n",
       "      <td>NaN</td>\n",
       "      <td>NaN</td>\n",
       "    </tr>\n",
       "    <tr>\n",
       "      <th>1979</th>\n",
       "      <td>NaN</td>\n",
       "      <td>NaN</td>\n",
       "    </tr>\n",
       "  </tbody>\n",
       "</table>\n",
       "</div>"
      ],
      "text/plain": [
       "     Federal Military Expenditure Debt of Federal Government\n",
       "1960                          NaN                        NaN\n",
       "1961                          NaN                        NaN\n",
       "1962                          NaN                        NaN\n",
       "1963                          NaN                        NaN\n",
       "1964                          NaN                        NaN\n",
       "1965                          NaN                        NaN\n",
       "1966                          NaN                        NaN\n",
       "1967                          NaN                        NaN\n",
       "1968                          NaN                        NaN\n",
       "1969                          NaN                        NaN\n",
       "1970                          NaN                        NaN\n",
       "1971                          NaN                        NaN\n",
       "1972                          NaN                        NaN\n",
       "1973                          NaN                        NaN\n",
       "1974                          NaN                        NaN\n",
       "1975                          NaN                        NaN\n",
       "1976                          NaN                        NaN\n",
       "1977                          NaN                        NaN\n",
       "1978                          NaN                        NaN\n",
       "1979                          NaN                        NaN"
      ]
     },
     "execution_count": 26,
     "metadata": {},
     "output_type": "execute_result"
    }
   ],
   "source": [
    "data_us.head(20)"
   ]
  },
  {
   "cell_type": "code",
   "execution_count": 27,
   "metadata": {},
   "outputs": [
    {
     "name": "stdout",
     "output_type": "stream",
     "text": [
      "Shape of data_us: (23, 2)\n"
     ]
    }
   ],
   "source": [
    "#There are null rows for several years possibly due to unavailability of data for these years\n",
    "data_us.dropna(inplace=True)\n",
    "print('Shape of data_us:', data_us.shape)"
   ]
  },
  {
   "cell_type": "code",
   "execution_count": 31,
   "metadata": {},
   "outputs": [
    {
     "data": {
      "text/html": [
       "<div>\n",
       "<style>\n",
       "    .dataframe thead tr:only-child th {\n",
       "        text-align: right;\n",
       "    }\n",
       "\n",
       "    .dataframe thead th {\n",
       "        text-align: left;\n",
       "    }\n",
       "\n",
       "    .dataframe tbody tr th {\n",
       "        vertical-align: top;\n",
       "    }\n",
       "</style>\n",
       "<table border=\"1\" class=\"dataframe\">\n",
       "  <thead>\n",
       "    <tr style=\"text-align: right;\">\n",
       "      <th></th>\n",
       "      <th>Federal Military Expenditure</th>\n",
       "      <th>Debt of Federal Government</th>\n",
       "    </tr>\n",
       "  </thead>\n",
       "  <tbody>\n",
       "    <tr>\n",
       "      <th>1988</th>\n",
       "      <td>5.57993</td>\n",
       "      <td>42.0258</td>\n",
       "    </tr>\n",
       "    <tr>\n",
       "      <th>1989</th>\n",
       "      <td>5.37472</td>\n",
       "      <td>43.1439</td>\n",
       "    </tr>\n",
       "    <tr>\n",
       "      <th>1990</th>\n",
       "      <td>5.12025</td>\n",
       "      <td>45.3772</td>\n",
       "    </tr>\n",
       "    <tr>\n",
       "      <th>1991</th>\n",
       "      <td>4.53985</td>\n",
       "      <td>48.633</td>\n",
       "    </tr>\n",
       "    <tr>\n",
       "      <th>1992</th>\n",
       "      <td>4.66626</td>\n",
       "      <td>50.6016</td>\n",
       "    </tr>\n",
       "    <tr>\n",
       "      <th>1993</th>\n",
       "      <td>4.32693</td>\n",
       "      <td>50.1657</td>\n",
       "    </tr>\n",
       "    <tr>\n",
       "      <th>1994</th>\n",
       "      <td>3.94129</td>\n",
       "      <td>49.3475</td>\n",
       "    </tr>\n",
       "    <tr>\n",
       "      <th>1995</th>\n",
       "      <td>3.63849</td>\n",
       "      <td>49.2366</td>\n",
       "    </tr>\n",
       "    <tr>\n",
       "      <th>1996</th>\n",
       "      <td>3.35074</td>\n",
       "      <td>46.7174</td>\n",
       "    </tr>\n",
       "    <tr>\n",
       "      <th>1997</th>\n",
       "      <td>3.2099</td>\n",
       "      <td>43.2997</td>\n",
       "    </tr>\n",
       "    <tr>\n",
       "      <th>1998</th>\n",
       "      <td>3.01764</td>\n",
       "      <td>39.977</td>\n",
       "    </tr>\n",
       "    <tr>\n",
       "      <th>1999</th>\n",
       "      <td>2.90839</td>\n",
       "      <td>37.6123</td>\n",
       "    </tr>\n",
       "    <tr>\n",
       "      <th>2000</th>\n",
       "      <td>2.93343</td>\n",
       "      <td>33.1582</td>\n",
       "    </tr>\n",
       "    <tr>\n",
       "      <th>2001</th>\n",
       "      <td>2.94434</td>\n",
       "      <td>51.9937</td>\n",
       "    </tr>\n",
       "    <tr>\n",
       "      <th>2002</th>\n",
       "      <td>3.24955</td>\n",
       "      <td>53.5029</td>\n",
       "    </tr>\n",
       "    <tr>\n",
       "      <th>2003</th>\n",
       "      <td>3.60729</td>\n",
       "      <td>55.9687</td>\n",
       "    </tr>\n",
       "    <tr>\n",
       "      <th>2004</th>\n",
       "      <td>3.78557</td>\n",
       "      <td>56.3841</td>\n",
       "    </tr>\n",
       "    <tr>\n",
       "      <th>2005</th>\n",
       "      <td>3.84423</td>\n",
       "      <td>56.2891</td>\n",
       "    </tr>\n",
       "    <tr>\n",
       "      <th>2006</th>\n",
       "      <td>3.8082</td>\n",
       "      <td>55.2942</td>\n",
       "    </tr>\n",
       "    <tr>\n",
       "      <th>2007</th>\n",
       "      <td>3.84704</td>\n",
       "      <td>55.6343</td>\n",
       "    </tr>\n",
       "  </tbody>\n",
       "</table>\n",
       "</div>"
      ],
      "text/plain": [
       "     Federal Military Expenditure Debt of Federal Government\n",
       "1988                      5.57993                    42.0258\n",
       "1989                      5.37472                    43.1439\n",
       "1990                      5.12025                    45.3772\n",
       "1991                      4.53985                     48.633\n",
       "1992                      4.66626                    50.6016\n",
       "1993                      4.32693                    50.1657\n",
       "1994                      3.94129                    49.3475\n",
       "1995                      3.63849                    49.2366\n",
       "1996                      3.35074                    46.7174\n",
       "1997                       3.2099                    43.2997\n",
       "1998                      3.01764                     39.977\n",
       "1999                      2.90839                    37.6123\n",
       "2000                      2.93343                    33.1582\n",
       "2001                      2.94434                    51.9937\n",
       "2002                      3.24955                    53.5029\n",
       "2003                      3.60729                    55.9687\n",
       "2004                      3.78557                    56.3841\n",
       "2005                      3.84423                    56.2891\n",
       "2006                       3.8082                    55.2942\n",
       "2007                      3.84704                    55.6343"
      ]
     },
     "execution_count": 31,
     "metadata": {},
     "output_type": "execute_result"
    }
   ],
   "source": [
    "#First 20 rows of data_us after dropping rows with missing values\n",
    "data_us.head(20)"
   ]
  },
  {
   "cell_type": "code",
   "execution_count": 28,
   "metadata": {},
   "outputs": [
    {
     "data": {
      "image/png": "[encoded data removed]",
      "text/plain": [
       "<matplotlib.figure.Figure at 0x21f3b4ca630>"
      ]
     },
     "metadata": {},
     "output_type": "display_data"
    }
   ],
   "source": [
    "# Two subplots, the axes array is 1-d\n",
    "f, axarr = plt.subplots(2, sharex=True)\n",
    "f.set_size_inches(5.5, 5.5)\n",
    "axarr[0].set_title('Federal Military Expenditure during 1988-2010 (% of GDP)')\n",
    "data_us['Federal Military Expenditure'].plot(linestyle='-', marker='*', color='b', ax=axarr[0])\n",
    "axarr[1].set_title('Debt of Federal Government during 1988-2010 (% of GDP)')\n",
    "data_us['Debt of Federal Government'].plot(linestyle='-', marker='*', color='r', ax=axarr[1])\n",
    "plt.savefig('plots/ch1/B07887_01_03.png', format='png', dpi=300)"
   ]
  },
  {
   "cell_type": "code",
   "execution_count": 29,
   "metadata": {},
   "outputs": [
    {
     "name": "stderr",
     "output_type": "stream",
     "text": [
      "C:\\Users\\avpal\\AppData\\Local\\Continuum\\Anaconda3\\lib\\site-packages\\ipykernel_launcher.py:1: DeprecationWarning: \n",
      ".ix is deprecated. Please use\n",
      ".loc for label based indexing or\n",
      ".iloc for positional indexing\n",
      "\n",
      "See the documentation here:\n",
      "http://pandas.pydata.org/pandas-docs/stable/indexing.html#deprecate_ix\n",
      "  \"\"\"Entry point for launching an IPython kernel.\n"
     ]
    }
   ],
   "source": [
    "chn = data.ix[(data['Indicator Name']=='Military expenditure (% of GDP)')&\\\n",
    "               (data['Country Code']=='CHN'),index0:index1+1\n",
    "             ]\n",
    "chn = pd.Series(data=chn.values[0], index=chn.columns)\n",
    "chn.dropna(inplace=True)\n",
    "\n",
    "usa = data.ix[(data['Indicator Name']=='Military expenditure (% of GDP)')&\\\n",
    "               (data['Country Code']=='USA'),index0:index1+1\n",
    "             ]\n",
    "usa = pd.Series(data=usa.values[0], index=usa.columns)\n",
    "usa.dropna(inplace=True)\n",
    "\n",
    "ind = data.ix[(data['Indicator Name']=='Military expenditure (% of GDP)')&\\\n",
    "               (data['Country Code']=='IND'),index0:index1+1\n",
    "             ]\n",
    "ind = pd.Series(data=ind.values[0], index=ind.columns)\n",
    "ind.dropna(inplace=True)\n",
    "\n",
    "gbr = data.ix[(data['Indicator Name']=='Military expenditure (% of GDP)')&\\\n",
    "               (data['Country Code']=='GBR'),index0:index1+1\n",
    "             ]\n",
    "gbr = pd.Series(data=gbr.values[0], index=gbr.columns)\n",
    "gbr.dropna(inplace=True)"
   ]
  },
  {
   "cell_type": "code",
   "execution_count": 30,
   "metadata": {},
   "outputs": [
    {
     "data": {
      "image/png": "[encoded data removed]",
      "text/plain": [
       "<matplotlib.figure.Figure at 0x21f3b4407f0>"
      ]
     },
     "metadata": {},
     "output_type": "display_data"
    }
   ],
   "source": [
    "plt.figure(figsize=(5.5, 5.5))\n",
    "usa.plot(linestyle='-', marker='*', color='b')\n",
    "chn.plot(linestyle='-', marker='*', color='r')\n",
    "gbr.plot(linestyle='-', marker='*', color='g')\n",
    "ind.plot(linestyle='-', marker='*', color='y')\n",
    "plt.legend(['USA','CHINA','UK','INDIA','RUSSIA'], loc=1)\n",
    "plt.title('Miltitary expenditure of 5 countries over 10 years')\n",
    "plt.ylabel('Military expenditure (% of GDP)')\n",
    "plt.xlabel('Years')\n",
    "plt.savefig('plots/ch1/B07887_01_04.png', format='png', dpi=300)"
   ]
  }
 ],
 "metadata": {
  "anaconda-cloud": {},
  "kernelspec": {
   "display_name": "Python 3",
   "language": "python",
   "name": "python3"
  },
  "language_info": {
   "codemirror_mode": {
    "name": "ipython",
    "version": 3
   },
   "file_extension": ".py",
   "mimetype": "text/x-python",
   "name": "python",
   "nbconvert_exporter": "python",
   "pygments_lexer": "ipython3",
   "version": "3.6.1"
  }
 },
 "nbformat": 4,
 "nbformat_minor": 1
}
