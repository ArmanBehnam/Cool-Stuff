{
 "cells": [
  {
   "cell_type": "code",
   "execution_count": 13,
   "metadata": {},
   "outputs": [],
   "source": [
    "import pandas as pd\n",
    "import matplotlib.pyplot as plt\n",
    "import matplotlib as mpl\n",
    "from mpl_toolkits.mplot3d import Axes3D\n",
    "import seaborn as sns\n",
    "import numpy as np\n",
    "from tqdm import tqdm\n",
    "import dask.dataframe as dd\n",
    "\n",
    "from keras.models import Sequential\n",
    "from keras.layers.core import Dense, Activation, Dropout, Flatten\n",
    "from keras.layers import TimeDistributed\n",
    "from keras.layers.recurrent import LSTM\n",
    "from keras.layers import Dense, Conv1D, MaxPool2D, Flatten, Dropout, GRU, CuDNNLSTM\n",
    "from keras.callbacks import EarlyStopping, TensorBoard, ModelCheckpoint\n",
    "from keras.optimizers import Adam, SGD, Nadam\n",
    "from time import time\n",
    "from livelossplot import PlotLossesKeras\n",
    "from keras.layers.advanced_activations import LeakyReLU, PReLU\n",
    "import tensorflow as tf\n",
    "from keras.utils.training_utils import multi_gpu_model\n",
    "from tensorflow.python.client import device_lib\n",
    "from sklearn.preprocessing import StandardScaler\n",
    "\n",
    "from keijzer import *\n",
    "\n",
    "%matplotlib inline\n",
    "%config InlineBackend.print_figure_kwargs={'facecolor' : \"w\"} # Make sure the axis background of plots is white, this is usefull for the black theme in JupyterLab\n",
    "sns.set()"
   ]
  },
  {
   "cell_type": "markdown",
   "metadata": {},
   "source": [
    "# Load the data"
   ]
  },
  {
   "cell_type": "code",
   "execution_count": 14,
   "metadata": {},
   "outputs": [
    {
     "data": {
      "text/plain": [
       "'D:\\\\Brian\\\\JupyterLab\\\\Multivariate-time-series-models-in-Keras\\\\notebooks'"
      ]
     },
     "execution_count": 14,
     "metadata": {},
     "output_type": "execute_result"
    }
   ],
   "source": [
    "%pwd"
   ]
  },
  {
   "cell_type": "markdown",
   "metadata": {},
   "source": [
    "# Select the data to use"
   ]
  },
  {
   "cell_type": "code",
   "execution_count": 15,
   "metadata": {},
   "outputs": [],
   "source": [
    "path = _\n",
    "path = path[:-10] # removes '\\\\notebooks' from the path string\n",
    "\n",
    "df = pd.read_csv(path+\"\\\\data\\\\house_data_processed.csv\", delimiter='\\t', parse_dates=['datetime'])\n",
    "df = df.set_index(['datetime']) \n",
    "\n",
    "magnitude = 1 # Take this from the 1. EDA & Feauture engineering notebook. It's the factor where gasPower has been scaled with to the power 10."
   ]
  },
  {
   "cell_type": "raw",
   "metadata": {},
   "source": [
    "columns_to_category = ['hour', 'dayofweek', 'season']\n",
    "data[columns_to_category] = data[columns_to_category].astype('category') # change datetypes to category"
   ]
  },
  {
   "cell_type": "code",
   "execution_count": 16,
   "metadata": {},
   "outputs": [
    {
     "data": {
      "text/html": [
       "<div>\n",
       "<style scoped>\n",
       "    .dataframe tbody tr th:only-of-type {\n",
       "        vertical-align: middle;\n",
       "    }\n",
       "\n",
       "    .dataframe tbody tr th {\n",
       "        vertical-align: top;\n",
       "    }\n",
       "\n",
       "    .dataframe thead th {\n",
       "        text-align: right;\n",
       "    }\n",
       "</style>\n",
       "<table border=\"1\" class=\"dataframe\">\n",
       "  <thead>\n",
       "    <tr style=\"text-align: right;\">\n",
       "      <th></th>\n",
       "      <th>ePower</th>\n",
       "      <th>FF</th>\n",
       "      <th>RG</th>\n",
       "      <th>T</th>\n",
       "      <th>gasPower</th>\n",
       "      <th>gasPower_std</th>\n",
       "      <th>hour</th>\n",
       "      <th>dayofweek</th>\n",
       "      <th>season</th>\n",
       "    </tr>\n",
       "    <tr>\n",
       "      <th>datetime</th>\n",
       "      <th></th>\n",
       "      <th></th>\n",
       "      <th></th>\n",
       "      <th></th>\n",
       "      <th></th>\n",
       "      <th></th>\n",
       "      <th></th>\n",
       "      <th></th>\n",
       "      <th></th>\n",
       "    </tr>\n",
       "  </thead>\n",
       "  <tbody>\n",
       "    <tr>\n",
       "      <th>2017-02-28 12:00:00</th>\n",
       "      <td>308.321701</td>\n",
       "      <td>9.067500</td>\n",
       "      <td>0.0</td>\n",
       "      <td>5.183333</td>\n",
       "      <td>6.115723</td>\n",
       "      <td>0.085626</td>\n",
       "      <td>12</td>\n",
       "      <td>1</td>\n",
       "      <td>1</td>\n",
       "    </tr>\n",
       "    <tr>\n",
       "      <th>2017-02-28 13:00:00</th>\n",
       "      <td>263.656273</td>\n",
       "      <td>8.684999</td>\n",
       "      <td>0.0</td>\n",
       "      <td>5.300000</td>\n",
       "      <td>5.238647</td>\n",
       "      <td>0.318250</td>\n",
       "      <td>13</td>\n",
       "      <td>1</td>\n",
       "      <td>1</td>\n",
       "    </tr>\n",
       "    <tr>\n",
       "      <th>2017-02-28 14:00:00</th>\n",
       "      <td>181.913345</td>\n",
       "      <td>8.296667</td>\n",
       "      <td>0.0</td>\n",
       "      <td>5.283333</td>\n",
       "      <td>2.451172</td>\n",
       "      <td>0.041087</td>\n",
       "      <td>14</td>\n",
       "      <td>1</td>\n",
       "      <td>1</td>\n",
       "    </tr>\n",
       "    <tr>\n",
       "      <th>2017-02-28 15:00:00</th>\n",
       "      <td>378.613129</td>\n",
       "      <td>6.918334</td>\n",
       "      <td>0.0</td>\n",
       "      <td>5.516667</td>\n",
       "      <td>3.065186</td>\n",
       "      <td>0.214238</td>\n",
       "      <td>15</td>\n",
       "      <td>1</td>\n",
       "      <td>1</td>\n",
       "    </tr>\n",
       "    <tr>\n",
       "      <th>2017-02-28 16:00:00</th>\n",
       "      <td>332.392082</td>\n",
       "      <td>6.583333</td>\n",
       "      <td>0.0</td>\n",
       "      <td>5.433333</td>\n",
       "      <td>8.120117</td>\n",
       "      <td>0.014156</td>\n",
       "      <td>16</td>\n",
       "      <td>1</td>\n",
       "      <td>1</td>\n",
       "    </tr>\n",
       "  </tbody>\n",
       "</table>\n",
       "</div>"
      ],
      "text/plain": [
       "                         ePower        FF   RG         T  gasPower  \\\n",
       "datetime                                                             \n",
       "2017-02-28 12:00:00  308.321701  9.067500  0.0  5.183333  6.115723   \n",
       "2017-02-28 13:00:00  263.656273  8.684999  0.0  5.300000  5.238647   \n",
       "2017-02-28 14:00:00  181.913345  8.296667  0.0  5.283333  2.451172   \n",
       "2017-02-28 15:00:00  378.613129  6.918334  0.0  5.516667  3.065186   \n",
       "2017-02-28 16:00:00  332.392082  6.583333  0.0  5.433333  8.120117   \n",
       "\n",
       "                     gasPower_std  hour  dayofweek  season  \n",
       "datetime                                                    \n",
       "2017-02-28 12:00:00      0.085626    12          1       1  \n",
       "2017-02-28 13:00:00      0.318250    13          1       1  \n",
       "2017-02-28 14:00:00      0.041087    14          1       1  \n",
       "2017-02-28 15:00:00      0.214238    15          1       1  \n",
       "2017-02-28 16:00:00      0.014156    16          1       1  "
      ]
     },
     "execution_count": 16,
     "metadata": {},
     "output_type": "execute_result"
    }
   ],
   "source": [
    "df.head()"
   ]
  },
  {
   "cell_type": "markdown",
   "metadata": {},
   "source": [
    "# Preprocessing"
   ]
  },
  {
   "cell_type": "code",
   "execution_count": 17,
   "metadata": {},
   "outputs": [],
   "source": [
    "data = df.copy()"
   ]
  },
  {
   "cell_type": "markdown",
   "metadata": {},
   "source": [
    "# To categorical"
   ]
  },
  {
   "cell_type": "markdown",
   "metadata": {},
   "source": [
    "Notice how we do not one-hot encode the categorical variables this time.  \n",
    "By experiment this proved to give a higher accuracy.  "
   ]
  },
  {
   "cell_type": "code",
   "execution_count": 18,
   "metadata": {},
   "outputs": [],
   "source": [
    "columns_to_category = ['hour', 'dayofweek', 'season']\n",
    "data[columns_to_category] = data[columns_to_category].astype('category') # change datetypes to category"
   ]
  },
  {
   "cell_type": "markdown",
   "metadata": {},
   "source": [
    "# To RNN format\n",
    "Or better said, convert the data to smaller images. "
   ]
  },
  {
   "cell_type": "code",
   "execution_count": 21,
   "metadata": {},
   "outputs": [
    {
     "name": "stderr",
     "output_type": "stream",
     "text": [
      "c:\\program files\\python36\\lib\\site-packages\\sklearn\\utils\\validation.py:595: DataConversionWarning: Data with input dtype object was converted to float64 by StandardScaler.\n",
      "  warnings.warn(msg, DataConversionWarning)\n",
      "c:\\program files\\python36\\lib\\site-packages\\sklearn\\utils\\validation.py:595: DataConversionWarning: Data with input dtype object was converted to float64 by StandardScaler.\n",
      "  warnings.warn(msg, DataConversionWarning)\n",
      "c:\\program files\\python36\\lib\\site-packages\\sklearn\\utils\\validation.py:595: DataConversionWarning: Data with input dtype object was converted to float64 by StandardScaler.\n",
      "  warnings.warn(msg, DataConversionWarning)\n"
     ]
    },
    {
     "data": {
      "text/plain": [
       "((4326, 120, 8), (1786, 120, 8))"
      ]
     },
     "execution_count": 21,
     "metadata": {},
     "output_type": "execute_result"
    }
   ],
   "source": [
    "look_back = 5*24 # D -> 5, H -> 5*24\n",
    "num_features = data.shape[1] - 1\n",
    "output_dim = 1\n",
    "train_size = 0.7 # This acctually is the train size, oops.\n",
    "target_column = 'gasPower'\n",
    "\n",
    "X_train, y_train, X_test, y_test = df_to_cnn_rnn_format(df=data, train_size=train_size, look_back=look_back, target_column=target_column, scale_X=True)\n",
    "X_train.shape, X_test.shape"
   ]
  },
  {
   "cell_type": "markdown",
   "metadata": {},
   "source": [
    "Create a test dataframe, just to check the distribution of the data."
   ]
  },
  {
   "cell_type": "code",
   "execution_count": 22,
   "metadata": {},
   "outputs": [],
   "source": [
    "t = pd.DataFrame(X_train[0, :, :])"
   ]
  },
  {
   "cell_type": "code",
   "execution_count": 23,
   "metadata": {},
   "outputs": [
    {
     "data": {
      "text/html": [
       "<div>\n",
       "<style scoped>\n",
       "    .dataframe tbody tr th:only-of-type {\n",
       "        vertical-align: middle;\n",
       "    }\n",
       "\n",
       "    .dataframe tbody tr th {\n",
       "        vertical-align: top;\n",
       "    }\n",
       "\n",
       "    .dataframe thead th {\n",
       "        text-align: right;\n",
       "    }\n",
       "</style>\n",
       "<table border=\"1\" class=\"dataframe\">\n",
       "  <thead>\n",
       "    <tr style=\"text-align: right;\">\n",
       "      <th></th>\n",
       "      <th>0</th>\n",
       "      <th>1</th>\n",
       "      <th>2</th>\n",
       "      <th>3</th>\n",
       "      <th>4</th>\n",
       "      <th>5</th>\n",
       "      <th>6</th>\n",
       "      <th>7</th>\n",
       "    </tr>\n",
       "  </thead>\n",
       "  <tbody>\n",
       "    <tr>\n",
       "      <th>count</th>\n",
       "      <td>120.000000</td>\n",
       "      <td>120.000000</td>\n",
       "      <td>120.000000</td>\n",
       "      <td>120.000000</td>\n",
       "      <td>120.000000</td>\n",
       "      <td>120.000000</td>\n",
       "      <td>120.000000</td>\n",
       "      <td>120.000000</td>\n",
       "    </tr>\n",
       "    <tr>\n",
       "      <th>mean</th>\n",
       "      <td>0.491970</td>\n",
       "      <td>0.269442</td>\n",
       "      <td>0.051576</td>\n",
       "      <td>-1.364024</td>\n",
       "      <td>0.958272</td>\n",
       "      <td>0.000456</td>\n",
       "      <td>-0.079342</td>\n",
       "      <td>-1.065323</td>\n",
       "    </tr>\n",
       "    <tr>\n",
       "      <th>std</th>\n",
       "      <td>1.325411</td>\n",
       "      <td>0.970611</td>\n",
       "      <td>0.779587</td>\n",
       "      <td>0.359802</td>\n",
       "      <td>1.324700</td>\n",
       "      <td>1.005724</td>\n",
       "      <td>1.176478</td>\n",
       "      <td>0.365995</td>\n",
       "    </tr>\n",
       "    <tr>\n",
       "      <th>min</th>\n",
       "      <td>-1.311545</td>\n",
       "      <td>-1.494454</td>\n",
       "      <td>-0.169610</td>\n",
       "      <td>-2.220182</td>\n",
       "      <td>-0.858663</td>\n",
       "      <td>-1.663402</td>\n",
       "      <td>-1.499534</td>\n",
       "      <td>-2.653999</td>\n",
       "    </tr>\n",
       "    <tr>\n",
       "      <th>25%</th>\n",
       "      <td>-0.511567</td>\n",
       "      <td>-0.526232</td>\n",
       "      <td>-0.169610</td>\n",
       "      <td>-1.634634</td>\n",
       "      <td>0.039015</td>\n",
       "      <td>-0.831473</td>\n",
       "      <td>-1.001221</td>\n",
       "      <td>-0.981709</td>\n",
       "    </tr>\n",
       "    <tr>\n",
       "      <th>50%</th>\n",
       "      <td>0.100158</td>\n",
       "      <td>0.267104</td>\n",
       "      <td>-0.169610</td>\n",
       "      <td>-1.430338</td>\n",
       "      <td>0.739244</td>\n",
       "      <td>0.000456</td>\n",
       "      <td>-0.502908</td>\n",
       "      <td>-0.981709</td>\n",
       "    </tr>\n",
       "    <tr>\n",
       "      <th>75%</th>\n",
       "      <td>0.875840</td>\n",
       "      <td>0.792881</td>\n",
       "      <td>-0.169610</td>\n",
       "      <td>-1.052125</td>\n",
       "      <td>1.707386</td>\n",
       "      <td>0.832384</td>\n",
       "      <td>0.992031</td>\n",
       "      <td>-0.981709</td>\n",
       "    </tr>\n",
       "    <tr>\n",
       "      <th>max</th>\n",
       "      <td>3.969831</td>\n",
       "      <td>2.576487</td>\n",
       "      <td>4.844544</td>\n",
       "      <td>-0.549359</td>\n",
       "      <td>6.729274</td>\n",
       "      <td>1.664313</td>\n",
       "      <td>1.490343</td>\n",
       "      <td>-0.981709</td>\n",
       "    </tr>\n",
       "  </tbody>\n",
       "</table>\n",
       "</div>"
      ],
      "text/plain": [
       "                0           1           2           3           4           5  \\\n",
       "count  120.000000  120.000000  120.000000  120.000000  120.000000  120.000000   \n",
       "mean     0.491970    0.269442    0.051576   -1.364024    0.958272    0.000456   \n",
       "std      1.325411    0.970611    0.779587    0.359802    1.324700    1.005724   \n",
       "min     -1.311545   -1.494454   -0.169610   -2.220182   -0.858663   -1.663402   \n",
       "25%     -0.511567   -0.526232   -0.169610   -1.634634    0.039015   -0.831473   \n",
       "50%      0.100158    0.267104   -0.169610   -1.430338    0.739244    0.000456   \n",
       "75%      0.875840    0.792881   -0.169610   -1.052125    1.707386    0.832384   \n",
       "max      3.969831    2.576487    4.844544   -0.549359    6.729274    1.664313   \n",
       "\n",
       "                6           7  \n",
       "count  120.000000  120.000000  \n",
       "mean    -0.079342   -1.065323  \n",
       "std      1.176478    0.365995  \n",
       "min     -1.499534   -2.653999  \n",
       "25%     -1.001221   -0.981709  \n",
       "50%     -0.502908   -0.981709  \n",
       "75%      0.992031   -0.981709  \n",
       "max      1.490343   -0.981709  "
      ]
     },
     "execution_count": 23,
     "metadata": {},
     "output_type": "execute_result"
    }
   ],
   "source": [
    "t.describe()"
   ]
  },
  {
   "cell_type": "raw",
   "metadata": {},
   "source": [
    "sns.pairplot(pd.DataFrame(X_train[0, :, :]))"
   ]
  },
  {
   "cell_type": "markdown",
   "metadata": {},
   "source": [
    "# These are the \"images\" to work with"
   ]
  },
  {
   "cell_type": "code",
   "execution_count": 24,
   "metadata": {},
   "outputs": [
    {
     "data": {
      "image/png": "[encoded data removed]",
      "text/plain": [
       "<Figure size 432x288 with 5 Axes>"
      ]
     },
     "metadata": {},
     "output_type": "display_data"
    }
   ],
   "source": [
    "samples = [0, 500, 1000, 1500, 2000]\n",
    "\n",
    "#plt.figure(figsize=(25,25))\n",
    "\n",
    "for i, sample in enumerate(samples):\n",
    "    i += 1\n",
    "    plt.subplot(1,len(samples),i)\n",
    "    plt.imshow(X_train[sample])\n",
    "\n",
    "\n",
    "plt.tight_layout()"
   ]
  },
  {
   "cell_type": "code",
   "execution_count": 25,
   "metadata": {},
   "outputs": [
    {
     "data": {
      "image/png": "[encoded data removed]",
      "text/plain": [
       "<Figure size 1800x1800 with 5 Axes>"
      ]
     },
     "metadata": {},
     "output_type": "display_data"
    }
   ],
   "source": [
    "samples = [2500, 3000, 3500, 4000, 4300]\n",
    "\n",
    "plt.figure(figsize=(25,25))\n",
    "\n",
    "for i, sample in enumerate(samples):\n",
    "    i += 1\n",
    "    plt.subplot(1,len(samples),i)\n",
    "    plt.imshow(X_train[sample])\n",
    "\n",
    "\n",
    "plt.tight_layout()\n"
   ]
  },
  {
   "cell_type": "code",
   "execution_count": 26,
   "metadata": {},
   "outputs": [],
   "source": [
    "# Make the image wider"
   ]
  },
  {
   "cell_type": "code",
   "execution_count": 27,
   "metadata": {},
   "outputs": [
    {
     "data": {
      "text/plain": [
       "(10, 5)"
      ]
     },
     "execution_count": 27,
     "metadata": {},
     "output_type": "execute_result"
    }
   ],
   "source": [
    "a = X_train[0][:10, :5]\n",
    "a.shape"
   ]
  },
  {
   "cell_type": "code",
   "execution_count": 28,
   "metadata": {},
   "outputs": [
    {
     "data": {
      "text/plain": [
       "<matplotlib.image.AxesImage at 0x29b9c36c978>"
      ]
     },
     "execution_count": 28,
     "metadata": {},
     "output_type": "execute_result"
    },
    {
     "data": {
      "image/png": "[encoded data removed]",
      "text/plain": [
       "<Figure size 432x288 with 1 Axes>"
      ]
     },
     "metadata": {},
     "output_type": "display_data"
    }
   ],
   "source": [
    "plt.imshow(a)"
   ]
  },
  {
   "cell_type": "code",
   "execution_count": 29,
   "metadata": {},
   "outputs": [
    {
     "name": "stdout",
     "output_type": "stream",
     "text": [
      "(10, 50)\n"
     ]
    },
    {
     "data": {
      "text/plain": [
       "<matplotlib.image.AxesImage at 0x29b9c36a2e8>"
      ]
     },
     "execution_count": 29,
     "metadata": {},
     "output_type": "execute_result"
    },
    {
     "data": {
      "image/png": "[encoded data removed]",
      "text/plain": [
       "<Figure size 432x288 with 1 Axes>"
      ]
     },
     "metadata": {},
     "output_type": "display_data"
    }
   ],
   "source": [
    "# 'stretch' the columns out by 10 pixels each. \n",
    "# i.e. copy the columns 10 times and add them next to each other. \n",
    "q = np.repeat(a[:,:], 10, axis=1)\n",
    "print(q.shape)\n",
    "plt.imshow(q)"
   ]
  },
  {
   "cell_type": "code",
   "execution_count": 30,
   "metadata": {},
   "outputs": [
    {
     "name": "stdout",
     "output_type": "stream",
     "text": [
      "(50, 50)\n"
     ]
    },
    {
     "data": {
      "text/plain": [
       "<matplotlib.image.AxesImage at 0x29b9c2aca90>"
      ]
     },
     "execution_count": 30,
     "metadata": {},
     "output_type": "execute_result"
    },
    {
     "data": {
      "image/png": "[encoded data removed]",
      "text/plain": [
       "<Figure size 432x288 with 1 Axes>"
      ]
     },
     "metadata": {},
     "output_type": "display_data"
    }
   ],
   "source": [
    "s = np.repeat(q[:,:], 5, axis=0)\n",
    "print(s.shape)\n",
    "plt.imshow(s)"
   ]
  },
  {
   "cell_type": "markdown",
   "metadata": {},
   "source": [
    "# Apply this to the original 120 by 14 arrays"
   ]
  },
  {
   "cell_type": "code",
   "execution_count": 31,
   "metadata": {},
   "outputs": [],
   "source": [
    "def transform_image(array, heigth, width):\n",
    "    \"\"\"\n",
    "    Array = numpy array\n",
    "    Heigth is the amount of pisels that a single pixel will be stretched out with in the height dimension.\n",
    "    Width is the amount of pixels that a single pixel will be stretched out with in the width dimension.\n",
    "    \"\"\"\n",
    "    array = array.copy()\n",
    "    #print('Original shape: ', array.shape)\n",
    "    array = np.repeat(array[:,:], width, axis=1)\n",
    "    array = np.repeat(array[:,:], heigth, axis=0)\n",
    "    #print('Transformed shape: ', array.shape)\n",
    "    \n",
    "    return array"
   ]
  },
  {
   "cell_type": "code",
   "execution_count": 32,
   "metadata": {},
   "outputs": [
    {
     "data": {
      "text/plain": [
       "<matplotlib.image.AxesImage at 0x29b9c258080>"
      ]
     },
     "execution_count": 32,
     "metadata": {},
     "output_type": "execute_result"
    },
    {
     "data": {
      "image/png": "[encoded data removed]",
      "text/plain": [
       "<Figure size 432x288 with 1 Axes>"
      ]
     },
     "metadata": {},
     "output_type": "display_data"
    }
   ],
   "source": [
    "# Test the function. Plot the first 50 rows and columns.\n",
    "plt.imshow(transform_image(X_train[1000, :, :], heigth=5, width=10)[:50, :50]) # Take"
   ]
  },
  {
   "cell_type": "code",
   "execution_count": 33,
   "metadata": {},
   "outputs": [],
   "source": [
    "# What's left now is applying the above transform to all ... amount of 'images' from the dataframe."
   ]
  },
  {
   "cell_type": "code",
   "execution_count": 34,
   "metadata": {},
   "outputs": [
    {
     "name": "stdout",
     "output_type": "stream",
     "text": [
      "DONE\n"
     ]
    }
   ],
   "source": [
    "reshaped = []\n",
    "for i in range(X_train.shape[0]):\n",
    "    reshaped.append(transform_image(X_train[i, :, :], heigth=5, width=10))\n",
    "    \n",
    "print('DONE')"
   ]
  },
  {
   "cell_type": "code",
   "execution_count": 35,
   "metadata": {},
   "outputs": [
    {
     "data": {
      "text/plain": [
       "(4326, 600, 80)"
      ]
     },
     "execution_count": 35,
     "metadata": {},
     "output_type": "execute_result"
    }
   ],
   "source": [
    "np.array(reshaped).shape"
   ]
  },
  {
   "cell_type": "markdown",
   "metadata": {},
   "source": [
    "There are 4326 images of (600,80), where 600 is the height and width 80.  \n",
    "In the actual CNN notebooks this 'stretched out' image is not used.  \n",
    "They might be used for transfer learning however, to get something close to the 256 by 256 size which most ConvNets require.  "
   ]
  }
 ],
 "metadata": {
  "kernelspec": {
   "display_name": "Python 3",
   "language": "python",
   "name": "python3"
  },
  "language_info": {
   "codemirror_mode": {
    "name": "ipython",
    "version": 3
   },
   "file_extension": ".py",
   "mimetype": "text/x-python",
   "name": "python",
   "nbconvert_exporter": "python",
   "pygments_lexer": "ipython3",
   "version": "3.6.7"
  }
 },
 "nbformat": 4,
 "nbformat_minor": 2
}
