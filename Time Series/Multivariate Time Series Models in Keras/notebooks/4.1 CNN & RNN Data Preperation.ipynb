{
 "cells": [
  {
   "cell_type": "markdown",
   "metadata": {},
   "source": [
    "# Imports"
   ]
  },
  {
   "cell_type": "code",
   "execution_count": 8,
   "metadata": {},
   "outputs": [],
   "source": [
    "import pandas as pd\n",
    "import matplotlib.pyplot as plt\n",
    "import matplotlib as mpl\n",
    "from mpl_toolkits.mplot3d import Axes3D\n",
    "import seaborn as sns\n",
    "import numpy as np\n",
    "from tqdm import tqdm\n",
    "import dask.dataframe as dd\n",
    "\n",
    "from keijzer import setup_multi_gpus, create_corr_matrix, reduce_memory, resample_df\n",
    "\n",
    "%matplotlib inline\n",
    "%config InlineBackend.print_figure_kwargs={'facecolor' : \"w\"} # Make sure the axis background of plots is white, this is usefull for the black theme in JupyterLab\n",
    "sns.set()"
   ]
  },
  {
   "cell_type": "markdown",
   "metadata": {},
   "source": [
    "# Creating an artificial dataframe"
   ]
  },
  {
   "cell_type": "markdown",
   "metadata": {},
   "source": [
    "Below a DataFrame is being created, where we know the values from.  \n",
    "This makes the validation of the steps done in this notebook easier than with the real data.  \n",
    "We are creating a DataFrame of 50 rows by 3 columns."
   ]
  },
  {
   "cell_type": "code",
   "execution_count": 9,
   "metadata": {},
   "outputs": [
    {
     "data": {
      "text/plain": [
       "array([[ 0. ,  2. ,  0.5],\n",
       "       [ 1. ,  4. ,  1. ],\n",
       "       [ 2. ,  6. ,  1.5],\n",
       "       [ 3. ,  8. ,  2. ],\n",
       "       [ 4. , 10. ,  2.5]])"
      ]
     },
     "execution_count": 9,
     "metadata": {},
     "output_type": "execute_result"
    }
   ],
   "source": [
    "# Create some artificial data to easier see what the reshaping is actually doing\n",
    "\n",
    "# Create three numpy arrays\n",
    "a = np.arange(0, 50, 1).reshape(50,1) # 1 to 50 in steps of 1\n",
    "b = np.arange(2, 102, 2).reshape(50,1) # 2 to 102 in steps of 2\n",
    "c = np.arange(0.5, 25.5, 0.5).reshape(50,1) # 0.5 to 25.5 in steps of 0.5\n",
    "\n",
    "# Concatenate them together into one ndarray\n",
    "data = np.concatenate([a,b,c], axis=1)\n",
    "data[:5] # Print the first 5 rows"
   ]
  },
  {
   "cell_type": "code",
   "execution_count": 10,
   "metadata": {},
   "outputs": [
    {
     "data": {
      "text/plain": [
       "(50, 3)"
      ]
     },
     "execution_count": 10,
     "metadata": {},
     "output_type": "execute_result"
    }
   ],
   "source": [
    "data.shape"
   ]
  },
  {
   "cell_type": "code",
   "execution_count": 11,
   "metadata": {},
   "outputs": [
    {
     "data": {
      "text/html": [
       "<div>\n",
       "<style scoped>\n",
       "    .dataframe tbody tr th:only-of-type {\n",
       "        vertical-align: middle;\n",
       "    }\n",
       "\n",
       "    .dataframe tbody tr th {\n",
       "        vertical-align: top;\n",
       "    }\n",
       "\n",
       "    .dataframe thead th {\n",
       "        text-align: right;\n",
       "    }\n",
       "</style>\n",
       "<table border=\"1\" class=\"dataframe\">\n",
       "  <thead>\n",
       "    <tr style=\"text-align: right;\">\n",
       "      <th></th>\n",
       "      <th>a</th>\n",
       "      <th>b</th>\n",
       "      <th>c</th>\n",
       "    </tr>\n",
       "  </thead>\n",
       "  <tbody>\n",
       "    <tr>\n",
       "      <th>0</th>\n",
       "      <td>0.0</td>\n",
       "      <td>2.0</td>\n",
       "      <td>0.5</td>\n",
       "    </tr>\n",
       "    <tr>\n",
       "      <th>1</th>\n",
       "      <td>1.0</td>\n",
       "      <td>4.0</td>\n",
       "      <td>1.0</td>\n",
       "    </tr>\n",
       "    <tr>\n",
       "      <th>2</th>\n",
       "      <td>2.0</td>\n",
       "      <td>6.0</td>\n",
       "      <td>1.5</td>\n",
       "    </tr>\n",
       "    <tr>\n",
       "      <th>3</th>\n",
       "      <td>3.0</td>\n",
       "      <td>8.0</td>\n",
       "      <td>2.0</td>\n",
       "    </tr>\n",
       "    <tr>\n",
       "      <th>4</th>\n",
       "      <td>4.0</td>\n",
       "      <td>10.0</td>\n",
       "      <td>2.5</td>\n",
       "    </tr>\n",
       "  </tbody>\n",
       "</table>\n",
       "</div>"
      ],
      "text/plain": [
       "     a     b    c\n",
       "0  0.0   2.0  0.5\n",
       "1  1.0   4.0  1.0\n",
       "2  2.0   6.0  1.5\n",
       "3  3.0   8.0  2.0\n",
       "4  4.0  10.0  2.5"
      ]
     },
     "execution_count": 11,
     "metadata": {},
     "output_type": "execute_result"
    }
   ],
   "source": [
    "# Make it a Pandas DataFrame, because the original (real dwelling) data is still a dataframe at this point\n",
    "data = pd.DataFrame(data, columns=['a', 'b', 'c'])\n",
    "data.head()"
   ]
  },
  {
   "cell_type": "markdown",
   "metadata": {},
   "source": [
    "# Create a train & test set\n",
    "This is supposed to give a general insight of how the data is being transformed."
   ]
  },
  {
   "cell_type": "markdown",
   "metadata": {},
   "source": [
    "## Define train size and target column number"
   ]
  },
  {
   "cell_type": "code",
   "execution_count": 12,
   "metadata": {},
   "outputs": [
    {
     "data": {
      "text/plain": [
       "5"
      ]
     },
     "execution_count": 12,
     "metadata": {},
     "output_type": "execute_result"
    }
   ],
   "source": [
    "train_size = 0.1 # Use 10 % of the data as the train set, this is so it's easy to display in this notebook\n",
    "target_column = 2 # the column index value of the target column\n",
    "\n",
    "split_idx = int(data.shape[0]*train_size) # index nummer to split at\n",
    "split_idx"
   ]
  },
  {
   "cell_type": "markdown",
   "metadata": {},
   "source": [
    "## Split the data\n",
    "The DataFrame `data` is converted to a NumPy array by doing `data.values`.  \n",
    "After this the data is split by using slicing based on the (rows, columns) shape."
   ]
  },
  {
   "cell_type": "code",
   "execution_count": 13,
   "metadata": {},
   "outputs": [],
   "source": [
    "# ...train\n",
    "X_train = data.values[:split_idx, :target_column]\n",
    "y_train = data.values[:split_idx, target_column]\n",
    "\n",
    "# ...test\n",
    "X_test = data.values[split_idx:, :target_column]\n",
    "y_test = data.values[split_idx:, target_column]"
   ]
  },
  {
   "cell_type": "markdown",
   "metadata": {},
   "source": [
    "## Validating the row index where the data is split"
   ]
  },
  {
   "cell_type": "code",
   "execution_count": 14,
   "metadata": {},
   "outputs": [
    {
     "data": {
      "text/plain": [
       "array([[ 0.,  2.],\n",
       "       [ 1.,  4.],\n",
       "       [ 2.,  6.],\n",
       "       [ 3.,  8.],\n",
       "       [ 4., 10.]])"
      ]
     },
     "execution_count": 14,
     "metadata": {},
     "output_type": "execute_result"
    }
   ],
   "source": [
    "X_train"
   ]
  },
  {
   "cell_type": "code",
   "execution_count": 15,
   "metadata": {},
   "outputs": [
    {
     "data": {
      "text/plain": [
       "array([[ 5., 12.],\n",
       "       [ 6., 14.],\n",
       "       [ 7., 16.],\n",
       "       [ 8., 18.],\n",
       "       [ 9., 20.]])"
      ]
     },
     "execution_count": 15,
     "metadata": {},
     "output_type": "execute_result"
    }
   ],
   "source": [
    "X_test[:5] # print only the first 5"
   ]
  },
  {
   "cell_type": "markdown",
   "metadata": {},
   "source": [
    "Remember, there are 50 rows with a train size of 0.1.  \n",
    "So the dataset should be split at row number $50 \\cdot 0.1 = 5$.  \n",
    "It is split at the correct point, that's good."
   ]
  },
  {
   "cell_type": "markdown",
   "metadata": {},
   "source": [
    "## Taking a look at the shape of train set"
   ]
  },
  {
   "cell_type": "code",
   "execution_count": 16,
   "metadata": {},
   "outputs": [
    {
     "data": {
      "text/plain": [
       "(5, 2)"
      ]
     },
     "execution_count": 16,
     "metadata": {},
     "output_type": "execute_result"
    }
   ],
   "source": [
    "X_train.shape # 5 rows by 2 columns"
   ]
  },
  {
   "cell_type": "code",
   "execution_count": 17,
   "metadata": {},
   "outputs": [
    {
     "data": {
      "text/plain": [
       "array([[ 0.,  2.],\n",
       "       [ 1.,  4.],\n",
       "       [ 2.,  6.],\n",
       "       [ 3.,  8.],\n",
       "       [ 4., 10.]])"
      ]
     },
     "execution_count": 17,
     "metadata": {},
     "output_type": "execute_result"
    }
   ],
   "source": [
    "X_train"
   ]
  },
  {
   "cell_type": "code",
   "execution_count": 18,
   "metadata": {},
   "outputs": [
    {
     "data": {
      "text/plain": [
       "(5,)"
      ]
     },
     "execution_count": 18,
     "metadata": {},
     "output_type": "execute_result"
    }
   ],
   "source": [
    "y_train.shape # 5 values"
   ]
  },
  {
   "cell_type": "code",
   "execution_count": 19,
   "metadata": {},
   "outputs": [
    {
     "data": {
      "text/plain": [
       "array([0.5, 1. , 1.5, 2. , 2.5])"
      ]
     },
     "execution_count": 19,
     "metadata": {},
     "output_type": "execute_result"
    }
   ],
   "source": [
    "y_train"
   ]
  },
  {
   "cell_type": "markdown",
   "metadata": {},
   "source": [
    "## Get the data in CNN/RNN format\n",
    "In RNN terms:  \n",
    "- format = (samples, timesteps, feautures)  \n",
    "- or in other words (samples, lookback, feautures)\n",
    "\n",
    "This translater in CNN terms to:  \n",
    "- shape = (height, width, channels)\n",
    "\n",
    "Or in other terms, lets make small tables/images of the historical data that is being used to predict the next value of the target column."
   ]
  },
  {
   "cell_type": "markdown",
   "metadata": {},
   "source": [
    "## Reshaping the train data\n",
    "### Visual explanation"
   ]
  },
  {
   "cell_type": "markdown",
   "metadata": {},
   "source": [
    "Let $A$ be a (5 $\\times$ 3) matrix, so 5 rows by 3 columns.  \n",
    "There are 2 feautures $X$, column 1 is feature $X_1$ and column 2 is the second feature $X_2$.  \n",
    "Column 3 is the target $y$.  \n",
    "  "
   ]
  },
  {
   "cell_type": "markdown",
   "metadata": {},
   "source": [
    "$A = \\begin{bmatrix}\n",
    "0 & 2 & 0.5 \\\\ \n",
    "1 & 4 & 1.0 \\\\ \n",
    "2 & 6 & 1.5 \\\\ \n",
    "3 & 8 & 2.0 \\\\ \n",
    "4 & 10 & 2.5 \n",
    "\\end{bmatrix}$"
   ]
  },
  {
   "cell_type": "markdown",
   "metadata": {},
   "source": [
    "Or more precise, in numpy this would be in the form:"
   ]
  },
  {
   "cell_type": "markdown",
   "metadata": {},
   "source": [
    "$ A = \\begin{bmatrix}\n",
    "\\begin{bmatrix} 0 & 2 & 0.5 \\end{bmatrix} \\\\ \n",
    "\\begin{bmatrix} 1 & 4 & 1.0 \\end{bmatrix} \\\\ \n",
    "\\begin{bmatrix} 2 & 6 & 1.5 \\end{bmatrix} \\\\ \n",
    "\\begin{bmatrix} 3 & 8 & 2.0 \\end{bmatrix} \\\\ \n",
    "\\begin{bmatrix} 4 & 10 & 2.5 \\end{bmatrix}\n",
    "\\end{bmatrix}$"
   ]
  },
  {
   "cell_type": "markdown",
   "metadata": {},
   "source": [
    "This matrix is obtained by `df.values`.  \n",
    "To prepare this for usage with CNN/RNN it has to be split in $X$ and $y$.  \n",
    "Where $X$ for RNN is in the shape $(samples, timesteps, features)$ or for CNN in the shape $(height, width, channels)$.  \n",
    "They practically can be used in the same way for timeseries data, so lets just pick the RNN termonology for now.  \n",
    "Timesteps can be interpreted as 'lookback', i.e. the amount of timesteps being looked back to predict the $y$ value at said point.  "
   ]
  },
  {
   "cell_type": "markdown",
   "metadata": {},
   "source": [
    "Next step is to split $A$ into the feature matrix $X$ and the target matrix $y$."
   ]
  },
  {
   "cell_type": "markdown",
   "metadata": {},
   "source": [
    "$ X = \\begin{bmatrix}\n",
    "\\begin{bmatrix} 0 & 2 \\end{bmatrix} \\\\ \n",
    "\\begin{bmatrix} 1 & 4 \\end{bmatrix} \\\\ \n",
    "\\begin{bmatrix} 2 & 6 \\end{bmatrix} \\\\ \n",
    "\\begin{bmatrix} 3 & 8 \\end{bmatrix} \\\\ \n",
    "\\begin{bmatrix} 4 & 10 \\end{bmatrix}\n",
    "\\end{bmatrix}$ $ \\ \\ \\ \\ \\ \\ \\ \\ \\ \\    y = \\begin{bmatrix} 0.5 & 1.0 & 1.5 & 2.0 & 2.5 \\end{bmatrix}$"
   ]
  },
  {
   "cell_type": "markdown",
   "metadata": {},
   "source": [
    "Now say that timesteps (or lookback) equals 2.  \n",
    "The idea is to use the two previous $X$ values to predict the current $y$ value.   \n",
    "\n",
    "Then $\\begin{bmatrix}\n",
    "\\begin{bmatrix} 0 & 2  \\end{bmatrix} \\\\ \n",
    "\\begin{bmatrix} 1 & 4 \\end{bmatrix}\n",
    "\\end{bmatrix}$ will be used to predict $\\begin{bmatrix}\n",
    "\\begin{bmatrix} 1.5 \\end{bmatrix}\n",
    "\\end{bmatrix}$.  \n",
    "\n",
    "Note that $\\begin{bmatrix}\n",
    "\\begin{bmatrix} 0.5  \\end{bmatrix} \\\\ \n",
    "\\begin{bmatrix} 1.0 \\end{bmatrix}\n",
    "\\end{bmatrix}$ cannot be predicted because the previous two $X$ values for them are not available."
   ]
  },
  {
   "cell_type": "markdown",
   "metadata": {},
   "source": [
    "To get this done $X$ has to be reshaped to size $(samples, timesteps, features)$."
   ]
  },
  {
   "cell_type": "markdown",
   "metadata": {},
   "source": [
    "$ X = \\begin{bmatrix} \\begin{bmatrix}\n",
    "\\begin{bmatrix} 0 & 2 \\end{bmatrix} \\\\\n",
    "\\begin{bmatrix} 1 & 4 \\end{bmatrix}\n",
    "\\end{bmatrix} \\\\ \n",
    "\\begin{bmatrix}\n",
    "\\begin{bmatrix} 1 & 4 \\end{bmatrix} \\\\\n",
    "\\begin{bmatrix} 2 & 6 \\end{bmatrix}\n",
    "\\end{bmatrix} \\\\\n",
    "\\begin{bmatrix}\n",
    "\\begin{bmatrix} 2 & 6 \\end{bmatrix} \\\\\n",
    "\\begin{bmatrix} 3 & 8 \\end{bmatrix}\n",
    "\\end{bmatrix} \\end{bmatrix}  \\ \\ \\ \\ \\ $ to predict  $ \\ \\ \\ \\ \\     y = \\begin{bmatrix} 1.5 & 2.0 & 2.5 \\end{bmatrix}$"
   ]
  },
  {
   "cell_type": "markdown",
   "metadata": {},
   "source": [
    "Finally, $X$ and $y$ can be used as input for a CNN/RNN network."
   ]
  },
  {
   "cell_type": "markdown",
   "metadata": {},
   "source": [
    "### The code"
   ]
  },
  {
   "cell_type": "code",
   "execution_count": 20,
   "metadata": {},
   "outputs": [],
   "source": [
    "# Define variables\n",
    "look_back = 2 # look back 2 steps\n",
    "n_features = 2 # using 2 feautures\n",
    "output_dim = 1 # to predict 1 y value"
   ]
  },
  {
   "cell_type": "code",
   "execution_count": 21,
   "metadata": {},
   "outputs": [
    {
     "data": {
      "text/plain": [
       "5"
      ]
     },
     "execution_count": 21,
     "metadata": {},
     "output_type": "execute_result"
    }
   ],
   "source": [
    "samples = len(X_train) # total amount of samples\n",
    "samples"
   ]
  },
  {
   "cell_type": "code",
   "execution_count": 22,
   "metadata": {},
   "outputs": [
    {
     "data": {
      "text/plain": [
       "3"
      ]
     },
     "execution_count": 22,
     "metadata": {},
     "output_type": "execute_result"
    }
   ],
   "source": [
    "samples_train = X_train.shape[0] - look_back \n",
    "samples_train"
   ]
  },
  {
   "cell_type": "code",
   "execution_count": 23,
   "metadata": {},
   "outputs": [
    {
     "data": {
      "text/plain": [
       "(3, 2, 2)"
      ]
     },
     "execution_count": 23,
     "metadata": {},
     "output_type": "execute_result"
    }
   ],
   "source": [
    "# Define zeros array with the target shape\n",
    "X_train_reshaped = np.zeros((samples_train, look_back, n_features))\n",
    "y_train_reshaped = np.zeros((samples_train))\n",
    "X_train_reshaped.shape"
   ]
  },
  {
   "cell_type": "code",
   "execution_count": 24,
   "metadata": {},
   "outputs": [
    {
     "data": {
      "text/plain": [
       "array([[[0., 0.],\n",
       "        [0., 0.]],\n",
       "\n",
       "       [[0., 0.],\n",
       "        [0., 0.]],\n",
       "\n",
       "       [[0., 0.],\n",
       "        [0., 0.]]])"
      ]
     },
     "execution_count": 24,
     "metadata": {},
     "output_type": "execute_result"
    }
   ],
   "source": [
    "X_train_reshaped"
   ]
  },
  {
   "cell_type": "code",
   "execution_count": 25,
   "metadata": {},
   "outputs": [],
   "source": [
    "# Create the reshaped train data\n",
    "for i in range(samples_train):\n",
    "    y_position = i + look_back\n",
    "    X_train_reshaped[i] = X_train[i:y_position]\n",
    "    y_train_reshaped[i] = y_train[y_position]"
   ]
  },
  {
   "cell_type": "code",
   "execution_count": 26,
   "metadata": {},
   "outputs": [
    {
     "data": {
      "text/plain": [
       "(3, 2, 2)"
      ]
     },
     "execution_count": 26,
     "metadata": {},
     "output_type": "execute_result"
    }
   ],
   "source": [
    "X_train_reshaped.shape"
   ]
  },
  {
   "cell_type": "code",
   "execution_count": 27,
   "metadata": {},
   "outputs": [
    {
     "data": {
      "text/plain": [
       "array([[[0., 2.],\n",
       "        [1., 4.]],\n",
       "\n",
       "       [[1., 4.],\n",
       "        [2., 6.]],\n",
       "\n",
       "       [[2., 6.],\n",
       "        [3., 8.]]])"
      ]
     },
     "execution_count": 27,
     "metadata": {},
     "output_type": "execute_result"
    }
   ],
   "source": [
    "X_train_reshaped"
   ]
  },
  {
   "cell_type": "code",
   "execution_count": 28,
   "metadata": {},
   "outputs": [
    {
     "data": {
      "text/plain": [
       "array([[ 0.,  2.],\n",
       "       [ 1.,  4.],\n",
       "       [ 2.,  6.],\n",
       "       [ 3.,  8.],\n",
       "       [ 4., 10.]])"
      ]
     },
     "execution_count": 28,
     "metadata": {},
     "output_type": "execute_result"
    }
   ],
   "source": [
    "X_train"
   ]
  },
  {
   "cell_type": "code",
   "execution_count": 29,
   "metadata": {},
   "outputs": [
    {
     "data": {
      "text/plain": [
       "array([0.5, 1. , 1.5, 2. , 2.5])"
      ]
     },
     "execution_count": 29,
     "metadata": {},
     "output_type": "execute_result"
    }
   ],
   "source": [
    "y_train"
   ]
  },
  {
   "cell_type": "code",
   "execution_count": 30,
   "metadata": {},
   "outputs": [],
   "source": [
    "# Do the same for the test data\n",
    "samples_test = X_test.shape[0] - look_back\n",
    "X_test_reshaped = np.zeros((samples_test, look_back, n_features))\n",
    "y_test_reshaped = np.zeros((samples_test))\n",
    "\n",
    "for i in range(samples_test):\n",
    "    y_position = i + look_back\n",
    "    X_test_reshaped[i] = X_test[i:y_position]\n",
    "    y_test_reshaped[i] = y_test[y_position]"
   ]
  },
  {
   "cell_type": "markdown",
   "metadata": {},
   "source": [
    "## Pandas DataFrame to CNN & RNN format\n",
    "Lets make the steps explained above as a general function that transforms a dataframe into the required CNN/RNN format."
   ]
  },
  {
   "cell_type": "code",
   "execution_count": null,
   "metadata": {},
   "outputs": [],
   "source": [
    "def df_to_cnn_rnn_format(df, test_size=0.5, look_back=5, target_column='target', scale_X=True):\n",
    "    \"\"\"\n",
    "    Input is a Pandas DataFrame. \n",
    "    Output is a np array in the format of (samples, timesteps, features).\n",
    "    Currently this function only accepts one target variable.\n",
    "\n",
    "    Usage example:\n",
    "\n",
    "    # variables\n",
    "    df = data # should be a pandas dataframe\n",
    "    train_size = 0.5 # percentage to use for training\n",
    "    target_column = 'c' # target column name, all other columns are taken as features\n",
    "    scale_X = False\n",
    "    look_back = 5 # Amount of previous X values to look at when predicting the current y value\n",
    "    \"\"\"\n",
    "    df = df.copy()\n",
    "\n",
    "    # Make sure the target column is the last column in the dataframe\n",
    "    df['target'] = df[target_column] # Make a copy of the target column, this places the new 'target' column at the end of all the other columns\n",
    "    df = df.drop(columns=[target_column]) # Drop the original target column\n",
    "    \n",
    "    target_location = df.shape[1] - 1 # column index number of target\n",
    "    split_index = int(df.shape[0]*test_size) # the index at which to split df into train and test\n",
    "    \n",
    "    # ...train\n",
    "    X_train = df.values[:split_index, :target_location]\n",
    "    y_train = df.values[:split_index, target_location]\n",
    "\n",
    "    # ...test\n",
    "    X_test = df.values[split_index:, :target_location] # original is split_index:-1\n",
    "    y_test = df.values[split_index:, target_location] # original is split_index:-1\n",
    "\n",
    "    # Scale the features\n",
    "    if scale_X:\n",
    "        scalerX = StandardScaler(with_mean=True, with_std=True).fit(X_train)\n",
    "        X_train = scalerX.transform(X_train)\n",
    "        X_test = scalerX.transform(X_test)\n",
    "        \n",
    "    # Reshape the arrays\n",
    "    samples = len(X_train)\n",
    "    num_features = target_location # All columns before the target column are features\n",
    "\n",
    "    samples_train = X_train.shape[0] - look_back\n",
    "    X_train_reshaped = np.zeros((samples_train, look_back, num_features)) # Initialize the required shape with an 'empty' zeros array.\n",
    "    y_train_reshaped = np.zeros((samples_train))\n",
    "\n",
    "    for i in range(samples_train):\n",
    "        y_position = i + look_back\n",
    "        X_train_reshaped[i] = X_train[i:y_position]\n",
    "        y_train_reshaped[i] = y_train[y_position]\n",
    "\n",
    "\n",
    "    samples_test = X_test.shape[0] - look_back\n",
    "    X_test_reshaped = np.zeros((samples_test, look_back, num_features))\n",
    "    y_test_reshaped = np.zeros((samples_test))\n",
    "\n",
    "    for i in range(samples_test):\n",
    "        y_position = i + look_back\n",
    "        X_test_reshaped[i] = X_test[i:y_position]\n",
    "        y_test_reshaped[i] = y_test[y_position]\n",
    "    \n",
    "    return X_train_reshaped, y_train_reshaped, X_test_reshaped, y_test_reshaped"
   ]
  },
  {
   "cell_type": "code",
   "execution_count": null,
   "metadata": {},
   "outputs": [],
   "source": [
    "# Print just to see what DataFrame we're dealing with again\n",
    "data.head()"
   ]
  },
  {
   "cell_type": "code",
   "execution_count": null,
   "metadata": {},
   "outputs": [],
   "source": [
    "# Test the function\n",
    "X_train, y_train, X_test, y_test = df_to_cnn_rnn_format(data, test_size=0.5, look_back=5, target_column='c', scale_X=False)"
   ]
  },
  {
   "cell_type": "code",
   "execution_count": null,
   "metadata": {},
   "outputs": [],
   "source": [
    "X_train, y_train"
   ]
  },
  {
   "cell_type": "code",
   "execution_count": null,
   "metadata": {},
   "outputs": [],
   "source": []
  }
 ],
 "metadata": {
  "kernelspec": {
   "display_name": "Python 3",
   "language": "python",
   "name": "python3"
  },
  "language_info": {
   "codemirror_mode": {
    "name": "ipython",
    "version": 3
   },
   "file_extension": ".py",
   "mimetype": "text/x-python",
   "name": "python",
   "nbconvert_exporter": "python",
   "pygments_lexer": "ipython3",
   "version": "3.6.7"
  }
 },
 "nbformat": 4,
 "nbformat_minor": 2
}
