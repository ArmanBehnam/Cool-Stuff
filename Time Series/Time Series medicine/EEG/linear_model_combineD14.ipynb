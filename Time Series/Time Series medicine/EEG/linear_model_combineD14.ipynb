{
 "cells": [
  {
   "cell_type": "markdown",
   "metadata": {},
   "source": [
    "# Forecasting Seizures From EEG Data: Models for Dogs 1 to 4\n",
    "\n",
    "#### Author: Burak Himmetoglu"
   ]
  },
  {
   "cell_type": "code",
   "execution_count": 13,
   "metadata": {
    "collapsed": false
   },
   "outputs": [],
   "source": [
    "# Imports\n",
    "import numpy as np\n",
    "import matplotlib.pyplot as plt\n",
    "from utils.construct_save_features import *\n",
    "from utils.get_prepare_data_full import *\n",
    "from sklearn.preprocessing import StandardScaler\n",
    "from sklearn.model_selection import StratifiedKFold, GridSearchCV\n",
    "from sklearn.linear_model import LogisticRegressionCV\n",
    "from sklearn.ensemble import RandomForestClassifier\n",
    "from sklearn.metrics import roc_curve, roc_auc_score\n",
    "%matplotlib inline"
   ]
  },
  {
   "cell_type": "markdown",
   "metadata": {},
   "source": [
    "Read dogs 1 to 4 and combine"
   ]
  },
  {
   "cell_type": "code",
   "execution_count": 3,
   "metadata": {
    "collapsed": false
   },
   "outputs": [
    {
     "name": "stdout",
     "output_type": "stream",
     "text": [
      "Dog_1_clip_ids.npy\tDog_2_Y.npy\t\tDog_4_X.npy\r\n",
      "Dog_1_test_dict.pickle\tDog_3_clip_ids.npy\tDog_4_Y.npy\r\n",
      "Dog_1_test.npy\t\tDog_3_test_dict.pickle\tDog_5_clip_ids.npy\r\n",
      "Dog_1_X.npy\t\tDog_3_test.npy\t\tDog_5_test_dict.pickle\r\n",
      "Dog_1_Y.npy\t\tDog_3_X.npy\t\tDog_5_test.npy\r\n",
      "Dog_2_clip_ids.npy\tDog_3_Y.npy\t\tDog_5_X.npy\r\n",
      "Dog_2_test_dict.pickle\tDog_4_clip_ids.npy\tDog_5_Y.npy\r\n",
      "Dog_2_test.npy\t\tDog_4_test_dict.pickle\r\n",
      "Dog_2_X.npy\t\tDog_4_test.npy\r\n"
     ]
    }
   ],
   "source": [
    "!ls ../data/engineered_features/"
   ]
  },
  {
   "cell_type": "code",
   "execution_count": 4,
   "metadata": {
    "collapsed": true
   },
   "outputs": [],
   "source": [
    "dogs = ['Dog_1', 'Dog_2', 'Dog_3', 'Dog_4']\n",
    "data_path = \"../data/engineered_features/\"\n",
    "\n",
    "# List of arrays\n",
    "array_list_X = []\n",
    "array_list_Y = []\n",
    "clip_id_dict = {}\n",
    "array_list_Xtest = []\n",
    "\n",
    "for dog in dogs:\n",
    "    X = np.load(data_path + dog + \"_X.npy\")\n",
    "    Y = np.load(data_path + dog + \"_Y.npy\")\n",
    "    test = np.load(data_path + dog + \"_test.npy\")\n",
    "    clip_id_dict[dog] = np.load(data_path + dog + \"_clip_ids.npy\")\n",
    "    \n",
    "    # Append to list\n",
    "    array_list_X.append(X)\n",
    "    array_list_Y.append(Y)\n",
    "    array_list_Xtest.append(test)\n",
    "    \n",
    "# Concatenate\n",
    "X = np.concatenate(array_list_X)\n",
    "Y = np.concatenate(array_list_Y)\n",
    "X_test = np.concatenate(array_list_Xtest)"
   ]
  },
  {
   "cell_type": "markdown",
   "metadata": {},
   "source": [
    "The combined data has many more instances:"
   ]
  },
  {
   "cell_type": "code",
   "execution_count": 6,
   "metadata": {
    "collapsed": false,
    "scrolled": true
   },
   "outputs": [
    {
     "name": "stdout",
     "output_type": "stream",
     "text": [
      "(20754, 166) (20754,)\n"
     ]
    }
   ],
   "source": [
    "print(X.shape,Y.shape)"
   ]
  },
  {
   "cell_type": "code",
   "execution_count": 8,
   "metadata": {
    "collapsed": true
   },
   "outputs": [],
   "source": [
    "# Shuffle to break time and Dog order in the k-folds\n",
    "np.random.seed(1)\n",
    "shuffle = np.random.choice(np.arange(len(Y)), size=len(Y), replace=False)\n",
    "X = X[shuffle]\n",
    "Y = Y[shuffle]\n",
    "\n",
    "# Rescale\n",
    "X_scaler = StandardScaler()\n",
    "X = X_scaler.fit_transform(X)"
   ]
  },
  {
   "cell_type": "markdown",
   "metadata": {},
   "source": [
    "## Linear model"
   ]
  },
  {
   "cell_type": "code",
   "execution_count": 9,
   "metadata": {
    "collapsed": false
   },
   "outputs": [
    {
     "name": "stderr",
     "output_type": "stream",
     "text": [
      "[Parallel(n_jobs=5)]: Done   2 out of   5 | elapsed:  7.5min remaining: 11.2min\n"
     ]
    },
    {
     "name": "stdout",
     "output_type": "stream",
     "text": [
      "[LibLinear][LibLinear][LibLinear][LibLinear][LibLinear][LibLinear][LibLinear][LibLinear][LibLinear][LibLinear][LibLinear][LibLinear][LibLinear][LibLinear][LibLinear][LibLinear][LibLinear][LibLinear][LibLinear][LibLinear]"
     ]
    },
    {
     "name": "stderr",
     "output_type": "stream",
     "text": [
      "[Parallel(n_jobs=5)]: Done   5 out of   5 | elapsed:  8.4min finished\n"
     ]
    },
    {
     "data": {
      "text/plain": [
       "LogisticRegressionCV(Cs=array([  1.00000e-02,   1.11200e+01,   2.22300e+01,   3.33400e+01,\n",
       "         4.44500e+01,   5.55600e+01,   6.66700e+01,   7.77800e+01,\n",
       "         8.88900e+01,   1.00000e+02]),\n",
       "           class_weight=None,\n",
       "           cv=<generator object _BaseKFold.split at 0x7fc2bc44d0a0>,\n",
       "           dual=False, fit_intercept=True, intercept_scaling=1.0,\n",
       "           max_iter=150, multi_class='ovr', n_jobs=5, penalty='l1',\n",
       "           random_state=None, refit=True, scoring='roc_auc',\n",
       "           solver='liblinear', tol=0.0001, verbose=1)"
      ]
     },
     "execution_count": 9,
     "metadata": {},
     "output_type": "execute_result"
    }
   ],
   "source": [
    "# Stratified 5-folds \n",
    "skf = StratifiedKFold(n_splits=5, random_state = 1234)\n",
    "\n",
    "# Range of C\n",
    "Cvalues = np.linspace(0.01,100,10)\n",
    "\n",
    "# Fit for Dog 1\n",
    "cls = LogisticRegressionCV(Cs = Cvalues, cv = skf.split(X, Y), max_iter=150, solver = 'liblinear',\n",
    "                           penalty = \"l1\", scoring = 'roc_auc', verbose = 1, n_jobs = 5)\n",
    "\n",
    "cls.fit(X,Y)"
   ]
  },
  {
   "cell_type": "code",
   "execution_count": 10,
   "metadata": {
    "collapsed": false,
    "scrolled": true
   },
   "outputs": [
    {
     "name": "stdout",
     "output_type": "stream",
     "text": [
      "Best model has C = 33.3400\n",
      "Best model has the CV scores:\n",
      "[[ 0.8874487 ]\n",
      " [ 0.88381919]\n",
      " [ 0.89591021]\n",
      " [ 0.88780431]\n",
      " [ 0.9004021 ]]\n"
     ]
    }
   ],
   "source": [
    "# Best model\n",
    "print(\"Best model has C = {:.4f}\".format(cls.C_[0]))\n",
    "print(\"Best model has the CV scores:\")\n",
    "print(cls.scores_[1][:,cls.Cs_ == cls.C_[0]])"
   ]
  },
  {
   "cell_type": "markdown",
   "metadata": {},
   "source": [
    "## Random Forest"
   ]
  },
  {
   "cell_type": "code",
   "execution_count": 14,
   "metadata": {
    "collapsed": false
   },
   "outputs": [
    {
     "name": "stdout",
     "output_type": "stream",
     "text": [
      "Fitting 5 folds for each of 7 candidates, totalling 35 fits\n"
     ]
    },
    {
     "name": "stderr",
     "output_type": "stream",
     "text": [
      "[Parallel(n_jobs=5)]: Done  35 out of  35 | elapsed: 19.5min finished\n"
     ]
    },
    {
     "data": {
      "text/plain": [
       "GridSearchCV(cv=5, error_score='raise',\n",
       "       estimator=RandomForestClassifier(bootstrap=True, class_weight=None, criterion='gini',\n",
       "            max_depth=None, max_features='auto', max_leaf_nodes=None,\n",
       "            min_impurity_split=1e-07, min_samples_leaf=1,\n",
       "            min_samples_split=2, min_weight_fraction_leaf=0.0,\n",
       "            n_estimators=600, n_jobs=1, oob_score=False, random_state=None,\n",
       "            verbose=0, warm_start=False),\n",
       "       fit_params={}, iid=True, n_jobs=5,\n",
       "       param_grid={'max_features': [1, 2, 4, 8, 12, 16, 32]},\n",
       "       pre_dispatch='2*n_jobs', refit=True, return_train_score=True,\n",
       "       scoring='roc_auc', verbose=1)"
      ]
     },
     "execution_count": 14,
     "metadata": {},
     "output_type": "execute_result"
    }
   ],
   "source": [
    "# Stratified 5-folds \n",
    "skf = StratifiedKFold(n_splits=5, random_state = 1234)\n",
    "\n",
    "# Range of mtry\n",
    "mtry = [1,2,4,8,12,16,32]\n",
    "\n",
    "# Classifier\n",
    "cls = RandomForestClassifier(n_estimators=600)\n",
    "\n",
    "# Fit\n",
    "grid = GridSearchCV(cls, param_grid={'max_features' : mtry}, scoring = 'roc_auc', cv = 5, verbose = 1,\n",
    "                    n_jobs = 5)\n",
    "\n",
    "\n",
    "grid.fit(X,Y)"
   ]
  },
  {
   "cell_type": "code",
   "execution_count": 15,
   "metadata": {
    "collapsed": false
   },
   "outputs": [
    {
     "name": "stdout",
     "output_type": "stream",
     "text": [
      "Best mtry = 8\n",
      "Best AUC = 0.9534\n"
     ]
    }
   ],
   "source": [
    "# Best model\n",
    "print(\"Best mtry = {:d}\".format(grid.best_params_['max_features']))\n",
    "print(\"Best AUC = {:.4f}\".format(grid.best_score_))"
   ]
  }
 ],
 "metadata": {
  "kernelspec": {
   "display_name": "Python 3",
   "language": "python",
   "name": "python3"
  },
  "language_info": {
   "codemirror_mode": {
    "name": "ipython",
    "version": 3
   },
   "file_extension": ".py",
   "mimetype": "text/x-python",
   "name": "python",
   "nbconvert_exporter": "python",
   "pygments_lexer": "ipython3",
   "version": "3.6.0"
  }
 },
 "nbformat": 4,
 "nbformat_minor": 2
}
