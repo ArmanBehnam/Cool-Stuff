{
 "cells": [
  {
   "cell_type": "markdown",
   "metadata": {},
   "source": [
    "# Forecasting Seizures From EEG Data: Models\n",
    "\n",
    "#### Author: Burak Himmetoglu"
   ]
  },
  {
   "cell_type": "code",
   "execution_count": 1,
   "metadata": {
    "collapsed": false,
    "scrolled": true
   },
   "outputs": [],
   "source": [
    "# Imports\n",
    "import numpy as np\n",
    "import matplotlib.pyplot as plt\n",
    "from utils.construct_save_features import *\n",
    "from utils.get_prepare_data_full import *\n",
    "from sklearn.preprocessing import StandardScaler\n",
    "from sklearn.model_selection import StratifiedKFold\n",
    "from sklearn.linear_model import LogisticRegressionCV\n",
    "from sklearn.metrics import roc_curve, roc_auc_score\n",
    "%matplotlib inline"
   ]
  },
  {
   "cell_type": "markdown",
   "metadata": {},
   "source": [
    "## Logistic Regression with L1 norm\n",
    "\n",
    "### Dog 1"
   ]
  },
  {
   "cell_type": "code",
   "execution_count": 2,
   "metadata": {
    "collapsed": true
   },
   "outputs": [],
   "source": [
    "## Dog 1\n",
    "X_1 = np.load('../data/Dog_1_X.npy')\n",
    "Y_1 = np.load('../data/Dog_1_Y.npy')\n",
    "clip_ids_1 = np.load('../data/Dog_1_clip_ids.npy')\n",
    "\n",
    "# Shuffle to break time order in the k-folds\n",
    "np.random.seed(1)\n",
    "shuffle = np.random.choice(np.arange(len(Y_1)), size=len(Y_1), replace=False)\n",
    "X_1 = X_1[shuffle]\n",
    "Y_1 = Y_1[shuffle]\n",
    "clip_ids_1 = clip_ids_1[shuffle]\n",
    "\n",
    "# Rescale\n",
    "X_scaler = StandardScaler()\n",
    "X_1 = X_scaler.fit_transform(X_1)"
   ]
  },
  {
   "cell_type": "code",
   "execution_count": 3,
   "metadata": {
    "collapsed": false
   },
   "outputs": [
    {
     "name": "stderr",
     "output_type": "stream",
     "text": [
      "[Parallel(n_jobs=5)]: Done   2 out of   5 | elapsed:  2.8min remaining:  4.2min\n",
      "[Parallel(n_jobs=5)]: Done   5 out of   5 | elapsed:  2.8min finished\n"
     ]
    },
    {
     "data": {
      "text/plain": [
       "LogisticRegressionCV(Cs=array([  1.00000e-02,   1.11200e+01,   2.22300e+01,   3.33400e+01,\n",
       "         4.44500e+01,   5.55600e+01,   6.66700e+01,   7.77800e+01,\n",
       "         8.88900e+01,   1.00000e+02]),\n",
       "           class_weight=None,\n",
       "           cv=<generator object _BaseKFold.split at 0x7f4e8866afc0>,\n",
       "           dual=False, fit_intercept=True, intercept_scaling=1.0,\n",
       "           max_iter=150, multi_class='ovr', n_jobs=5, penalty='l1',\n",
       "           random_state=None, refit=True, scoring='roc_auc',\n",
       "           solver='liblinear', tol=0.001, verbose=1)"
      ]
     },
     "execution_count": 3,
     "metadata": {},
     "output_type": "execute_result"
    }
   ],
   "source": [
    "# Stratified 5-folds \n",
    "skf = StratifiedKFold(n_splits=5, random_state = 1234)\n",
    "\n",
    "# Range of C\n",
    "Cvalues = np.linspace(0.01,100,10)\n",
    "\n",
    "# Fit for Dog 1\n",
    "cls = LogisticRegressionCV(Cs = Cvalues, cv = skf.split(X_1, Y_1), max_iter=150, solver = 'liblinear',\n",
    "                           penalty = \"l1\", scoring = 'roc_auc', verbose = 1, n_jobs = 5, tol=0.001)\n",
    "\n",
    "cls.fit(X_1,Y_1)"
   ]
  },
  {
   "cell_type": "code",
   "execution_count": 6,
   "metadata": {
    "collapsed": false
   },
   "outputs": [
    {
     "name": "stdout",
     "output_type": "stream",
     "text": [
      "Best model has C = 11.1200\n",
      "Best model has the CV scores:\n",
      "[[ 0.93061542]\n",
      " [ 0.94642002]\n",
      " [ 0.91528975]\n",
      " [ 0.90235872]\n",
      " [ 0.93712798]]\n"
     ]
    }
   ],
   "source": [
    "# Best model\n",
    "print(\"Best model has C = {:.4f}\".format(cls.C_[0]))\n",
    "print(\"Best model has the CV scores:\")\n",
    "print(cls.scores_[1][:,cls.Cs_ == cls.C_[0]])"
   ]
  },
  {
   "cell_type": "code",
   "execution_count": 7,
   "metadata": {
    "collapsed": false,
    "scrolled": true
   },
   "outputs": [
    {
     "name": "stdout",
     "output_type": "stream",
     "text": [
      "Average AUC = 0.926362\n"
     ]
    }
   ],
   "source": [
    "print(\"Average AUC = {:4f}\".format(np.mean(cls.scores_[1][:,cls.Cs_ == cls.C_[0]])))"
   ]
  },
  {
   "cell_type": "markdown",
   "metadata": {},
   "source": [
    "### Dog 2"
   ]
  },
  {
   "cell_type": "code",
   "execution_count": 2,
   "metadata": {
    "collapsed": true
   },
   "outputs": [],
   "source": [
    "## Dog 2\n",
    "X_2 = np.load('../data/Dog_2_X.npy')\n",
    "Y_2 = np.load('../data/Dog_2_Y.npy')\n",
    "clip_ids_2 = np.load('../data/Dog_2_clip_ids.npy')\n",
    "\n",
    "# Shuffle to break time order in the k-folds\n",
    "np.random.seed(1)\n",
    "shuffle = np.random.choice(np.arange(len(Y_2)), size=len(Y_2), replace=False)\n",
    "X_2 = X_2[shuffle]\n",
    "Y_2 = Y_2[shuffle]\n",
    "clip_ids_2 = clip_ids_2[shuffle]\n",
    "\n",
    "# Rescale\n",
    "X_scaler = StandardScaler()\n",
    "X_2 = X_scaler.fit_transform(X_2)"
   ]
  },
  {
   "cell_type": "code",
   "execution_count": 3,
   "metadata": {
    "collapsed": false
   },
   "outputs": [
    {
     "name": "stderr",
     "output_type": "stream",
     "text": [
      "[Parallel(n_jobs=5)]: Done   2 out of   5 | elapsed:   18.6s remaining:   27.9s\n",
      "[Parallel(n_jobs=5)]: Done   5 out of   5 | elapsed:   25.9s finished\n"
     ]
    },
    {
     "data": {
      "text/plain": [
       "LogisticRegressionCV(Cs=array([  1.00000e-02,   1.11200e+01,   2.22300e+01,   3.33400e+01,\n",
       "         4.44500e+01,   5.55600e+01,   6.66700e+01,   7.77800e+01,\n",
       "         8.88900e+01,   1.00000e+02]),\n",
       "           class_weight=None,\n",
       "           cv=<generator object _BaseKFold.split at 0x7fa5704ae150>,\n",
       "           dual=False, fit_intercept=True, intercept_scaling=1.0,\n",
       "           max_iter=150, multi_class='ovr', n_jobs=5, penalty='l1',\n",
       "           random_state=None, refit=True, scoring='roc_auc',\n",
       "           solver='liblinear', tol=0.001, verbose=1)"
      ]
     },
     "execution_count": 3,
     "metadata": {},
     "output_type": "execute_result"
    }
   ],
   "source": [
    "# Stratified 5-folds \n",
    "skf = StratifiedKFold(n_splits=5, random_state = 1234)\n",
    "\n",
    "# Range of C\n",
    "Cvalues = np.linspace(0.01,100,10)\n",
    "\n",
    "# Fit for Dog 2\n",
    "cls = LogisticRegressionCV(Cs = Cvalues, cv = skf.split(X_2, Y_2), max_iter=150, solver = 'liblinear',\n",
    "                           penalty = \"l1\", scoring = 'roc_auc', verbose = 1, n_jobs = 5, tol=0.001)\n",
    "\n",
    "cls.fit(X_2,Y_2)"
   ]
  },
  {
   "cell_type": "code",
   "execution_count": 4,
   "metadata": {
    "collapsed": false
   },
   "outputs": [
    {
     "name": "stdout",
     "output_type": "stream",
     "text": [
      "Best model has C = 55.5600\n",
      "Best model has the CV scores:\n",
      "[[ 0.99362745]\n",
      " [ 0.99346405]\n",
      " [ 0.99213333]\n",
      " [ 0.99636667]\n",
      " [ 0.99116667]]\n"
     ]
    }
   ],
   "source": [
    "# Best model\n",
    "print(\"Best model has C = {:.4f}\".format(cls.C_[0]))\n",
    "print(\"Best model has the CV scores:\")\n",
    "print(cls.scores_[1][:,cls.Cs_ == cls.C_[0]])"
   ]
  },
  {
   "cell_type": "code",
   "execution_count": 5,
   "metadata": {
    "collapsed": false
   },
   "outputs": [
    {
     "name": "stdout",
     "output_type": "stream",
     "text": [
      "Average AUC = 0.993352\n"
     ]
    }
   ],
   "source": [
    "print(\"Average AUC = {:4f}\".format(np.mean(cls.scores_[1][:,cls.Cs_ == cls.C_[0]])))"
   ]
  },
  {
   "cell_type": "markdown",
   "metadata": {},
   "source": [
    "### Dog 3"
   ]
  },
  {
   "cell_type": "code",
   "execution_count": 6,
   "metadata": {
    "collapsed": true
   },
   "outputs": [],
   "source": [
    "## Dog 3\n",
    "X_3 = np.load('../data/Dog_3_X.npy')\n",
    "Y_3 = np.load('../data/Dog_3_Y.npy')\n",
    "clip_ids_3 = np.load('../data/Dog_3_clip_ids.npy')\n",
    "\n",
    "# Shuffle to break time order in the k-folds\n",
    "np.random.seed(1)\n",
    "shuffle = np.random.choice(np.arange(len(Y_3)), size=len(Y_3), replace=False)\n",
    "X_3 = X_3[shuffle]\n",
    "Y_3 = Y_3[shuffle]\n",
    "clip_ids_3 = clip_ids_3[shuffle]\n",
    "\n",
    "# Rescale\n",
    "X_scaler = StandardScaler()\n",
    "X_3 = X_scaler.fit_transform(X_3)"
   ]
  },
  {
   "cell_type": "code",
   "execution_count": 7,
   "metadata": {
    "collapsed": false
   },
   "outputs": [
    {
     "name": "stderr",
     "output_type": "stream",
     "text": [
      "[Parallel(n_jobs=5)]: Done   2 out of   5 | elapsed:  2.1min remaining:  3.1min\n"
     ]
    },
    {
     "name": "stdout",
     "output_type": "stream",
     "text": [
      "[LibLinear][LibLinear][LibLinear][LibLinear][LibLinear][LibLinear][LibLinear][LibLinear][LibLinear][LibLinear][LibLinear][LibLinear][LibLinear][LibLinear][LibLinear][LibLinear][LibLinear][LibLinear][LibLinear][LibLinear]"
     ]
    },
    {
     "name": "stderr",
     "output_type": "stream",
     "text": [
      "[Parallel(n_jobs=5)]: Done   5 out of   5 | elapsed:  2.3min finished\n"
     ]
    },
    {
     "data": {
      "text/plain": [
       "LogisticRegressionCV(Cs=array([  1.00000e-02,   1.11200e+01,   2.22300e+01,   3.33400e+01,\n",
       "         4.44500e+01,   5.55600e+01,   6.66700e+01,   7.77800e+01,\n",
       "         8.88900e+01,   1.00000e+02]),\n",
       "           class_weight=None,\n",
       "           cv=<generator object _BaseKFold.split at 0x7fa5704f5fc0>,\n",
       "           dual=False, fit_intercept=True, intercept_scaling=1.0,\n",
       "           max_iter=150, multi_class='ovr', n_jobs=5, penalty='l1',\n",
       "           random_state=None, refit=True, scoring='roc_auc',\n",
       "           solver='liblinear', tol=0.001, verbose=1)"
      ]
     },
     "execution_count": 7,
     "metadata": {},
     "output_type": "execute_result"
    }
   ],
   "source": [
    "# Stratified 5-folds \n",
    "skf = StratifiedKFold(n_splits=5, random_state = 1234)\n",
    "\n",
    "# Range of C\n",
    "Cvalues = np.linspace(0.01,100,10)\n",
    "\n",
    "# Fit for Dog 3\n",
    "cls = LogisticRegressionCV(Cs = Cvalues, cv = skf.split(X_3, Y_3), max_iter=150, solver = 'liblinear',\n",
    "                           penalty = \"l1\", scoring = 'roc_auc', verbose = 1, n_jobs = 5, tol=0.001)\n",
    "\n",
    "cls.fit(X_3,Y_3)"
   ]
  },
  {
   "cell_type": "code",
   "execution_count": 8,
   "metadata": {
    "collapsed": false,
    "scrolled": true
   },
   "outputs": [
    {
     "name": "stdout",
     "output_type": "stream",
     "text": [
      "Best model has C = 11.1200\n",
      "Best model has the CV scores:\n",
      "[[ 0.96881652]\n",
      " [ 0.97086526]\n",
      " [ 0.96658323]\n",
      " [ 0.98329161]\n",
      " [ 0.98276674]]\n"
     ]
    }
   ],
   "source": [
    "# Best model\n",
    "print(\"Best model has C = {:.4f}\".format(cls.C_[0]))\n",
    "print(\"Best model has the CV scores:\")\n",
    "print(cls.scores_[1][:,cls.Cs_ == cls.C_[0]])"
   ]
  },
  {
   "cell_type": "code",
   "execution_count": 9,
   "metadata": {
    "collapsed": false
   },
   "outputs": [
    {
     "name": "stdout",
     "output_type": "stream",
     "text": [
      "Average AUC = 0.974465\n"
     ]
    }
   ],
   "source": [
    "print(\"Average AUC = {:4f}\".format(np.mean(cls.scores_[1][:,cls.Cs_ == cls.C_[0]])))"
   ]
  },
  {
   "cell_type": "markdown",
   "metadata": {},
   "source": [
    "### Dog 4"
   ]
  },
  {
   "cell_type": "code",
   "execution_count": 3,
   "metadata": {
    "collapsed": false
   },
   "outputs": [],
   "source": [
    "## Dog 4\n",
    "X_4 = np.load('../data/Dog_4_X.npy')\n",
    "Y_4 = np.load('../data/Dog_4_Y.npy')\n",
    "clip_ids_4 = np.load('../data/Dog_4_clip_ids.npy')\n",
    "\n",
    "# Shuffle to break time order in the k-folds\n",
    "np.random.seed(1)\n",
    "shuffle = np.random.choice(np.arange(len(Y_4)), size=len(Y_4), replace=False)\n",
    "X_4 = X_4[shuffle]\n",
    "Y_4 = Y_4[shuffle]\n",
    "clip_ids_4 = clip_ids_4[shuffle]\n",
    "\n",
    "# Rescale\n",
    "X_scaler = StandardScaler()\n",
    "X_4 = X_scaler.fit_transform(X_4)"
   ]
  },
  {
   "cell_type": "code",
   "execution_count": 4,
   "metadata": {
    "collapsed": false
   },
   "outputs": [
    {
     "name": "stderr",
     "output_type": "stream",
     "text": [
      "[Parallel(n_jobs=5)]: Done   2 out of   5 | elapsed:   41.6s remaining:  1.0min\n",
      "[Parallel(n_jobs=5)]: Done   5 out of   5 | elapsed:   53.7s finished\n"
     ]
    },
    {
     "data": {
      "text/plain": [
       "LogisticRegressionCV(Cs=array([  1.00000e-02,   1.11200e+01,   2.22300e+01,   3.33400e+01,\n",
       "         4.44500e+01,   5.55600e+01,   6.66700e+01,   7.77800e+01,\n",
       "         8.88900e+01,   1.00000e+02]),\n",
       "           class_weight=None,\n",
       "           cv=<generator object _BaseKFold.split at 0x7efd884d9410>,\n",
       "           dual=False, fit_intercept=True, intercept_scaling=1.0,\n",
       "           max_iter=150, multi_class='ovr', n_jobs=5, penalty='l1',\n",
       "           random_state=None, refit=True, scoring='roc_auc',\n",
       "           solver='liblinear', tol=0.001, verbose=1)"
      ]
     },
     "execution_count": 4,
     "metadata": {},
     "output_type": "execute_result"
    }
   ],
   "source": [
    "# Stratified 5-folds \n",
    "skf = StratifiedKFold(n_splits=5, random_state = 1234)\n",
    "\n",
    "# Range of C\n",
    "Cvalues = np.linspace(0.01,100,10)\n",
    "\n",
    "# Fit for Dog 4\n",
    "cls = LogisticRegressionCV(Cs = Cvalues, cv = skf.split(X_4, Y_4), max_iter=150, solver = 'liblinear',\n",
    "                           penalty = \"l1\", scoring = 'roc_auc', verbose = 1, n_jobs = 5, tol=0.001)\n",
    "\n",
    "cls.fit(X_4,Y_4)"
   ]
  },
  {
   "cell_type": "code",
   "execution_count": 5,
   "metadata": {
    "collapsed": false,
    "scrolled": true
   },
   "outputs": [
    {
     "name": "stdout",
     "output_type": "stream",
     "text": [
      "Best model has C = 100.0000\n",
      "Best model has the CV scores:\n",
      "[[ 0.9220318 ]\n",
      " [ 0.93283734]\n",
      " [ 0.91929605]\n",
      " [ 0.92872968]\n",
      " [ 0.93574725]]\n"
     ]
    }
   ],
   "source": [
    "# Best model\n",
    "print(\"Best model has C = {:.4f}\".format(cls.C_[0]))\n",
    "print(\"Best model has the CV scores:\")\n",
    "print(cls.scores_[1][:,cls.Cs_ == cls.C_[0]])"
   ]
  },
  {
   "cell_type": "code",
   "execution_count": 6,
   "metadata": {
    "collapsed": false
   },
   "outputs": [
    {
     "name": "stdout",
     "output_type": "stream",
     "text": [
      "Average AUC = 0.927728\n"
     ]
    }
   ],
   "source": [
    "print(\"Average AUC = {:4f}\".format(np.mean(cls.scores_[1][:,cls.Cs_ == cls.C_[0]])))"
   ]
  },
  {
   "cell_type": "markdown",
   "metadata": {},
   "source": [
    "### Dog 5"
   ]
  },
  {
   "cell_type": "code",
   "execution_count": 7,
   "metadata": {
    "collapsed": true
   },
   "outputs": [],
   "source": [
    "## Dog 5\n",
    "X_5 = np.load('../data/Dog_5_X.npy')\n",
    "Y_5 = np.load('../data/Dog_5_Y.npy')\n",
    "clip_ids_5 = np.load('../data/Dog_5_clip_ids.npy')\n",
    "\n",
    "# Shuffle to break time order in the k-folds\n",
    "np.random.seed(1)\n",
    "shuffle = np.random.choice(np.arange(len(Y_5)), size=len(Y_5), replace=False)\n",
    "X_5 = X_5[shuffle]\n",
    "Y_5 = Y_5[shuffle]\n",
    "clip_ids_5 = clip_ids_5[shuffle]\n",
    "\n",
    "# Rescale\n",
    "X_scaler = StandardScaler()\n",
    "X_5 = X_scaler.fit_transform(X_5)"
   ]
  },
  {
   "cell_type": "code",
   "execution_count": 8,
   "metadata": {
    "collapsed": false
   },
   "outputs": [
    {
     "name": "stderr",
     "output_type": "stream",
     "text": [
      "[Parallel(n_jobs=5)]: Done   2 out of   5 | elapsed:    4.2s remaining:    6.4s\n"
     ]
    },
    {
     "name": "stdout",
     "output_type": "stream",
     "text": [
      "[LibLinear][LibLinear][LibLinear][LibLinear][LibLinear][LibLinear][LibLinear][LibLinear][LibLinear][LibLinear][LibLinear][LibLinear][LibLinear][LibLinear][LibLinear][LibLinear][LibLinear][LibLinear][LibLinear][LibLinear][LibLinear][LibLinear][LibLinear][LibLinear][LibLinear][LibLinear][LibLinear][LibLinear][LibLinear][LibLinear][LibLinear][LibLinear][LibLinear][LibLinear][LibLinear][LibLinear][LibLinear][LibLinear][LibLinear][LibLinear]"
     ]
    },
    {
     "name": "stderr",
     "output_type": "stream",
     "text": [
      "[Parallel(n_jobs=5)]: Done   5 out of   5 | elapsed:    6.7s finished\n"
     ]
    },
    {
     "data": {
      "text/plain": [
       "LogisticRegressionCV(Cs=array([  1.00000e-02,   1.11200e+01,   2.22300e+01,   3.33400e+01,\n",
       "         4.44500e+01,   5.55600e+01,   6.66700e+01,   7.77800e+01,\n",
       "         8.88900e+01,   1.00000e+02]),\n",
       "           class_weight=None,\n",
       "           cv=<generator object _BaseKFold.split at 0x7efd5767db48>,\n",
       "           dual=False, fit_intercept=True, intercept_scaling=1.0,\n",
       "           max_iter=150, multi_class='ovr', n_jobs=5, penalty='l1',\n",
       "           random_state=None, refit=True, scoring='roc_auc',\n",
       "           solver='liblinear', tol=0.001, verbose=1)"
      ]
     },
     "execution_count": 8,
     "metadata": {},
     "output_type": "execute_result"
    }
   ],
   "source": [
    "# Stratified 5-folds \n",
    "skf = StratifiedKFold(n_splits=5, random_state = 1234)\n",
    "\n",
    "# Range of C\n",
    "Cvalues = np.linspace(0.01,100,10)\n",
    "\n",
    "# Fit for Dog 5\n",
    "cls = LogisticRegressionCV(Cs = Cvalues, cv = skf.split(X_5, Y_5), max_iter=150, solver = 'liblinear',\n",
    "                           penalty = \"l1\", scoring = 'roc_auc', verbose = 1, n_jobs = 5, tol=0.001)\n",
    "\n",
    "cls.fit(X_5,Y_5)"
   ]
  },
  {
   "cell_type": "code",
   "execution_count": 9,
   "metadata": {
    "collapsed": false,
    "scrolled": false
   },
   "outputs": [
    {
     "name": "stdout",
     "output_type": "stream",
     "text": [
      "Best model has C = 11.1200\n",
      "Best model has the CV scores:\n",
      "[[ 0.9997428 ]\n",
      " [ 0.99459877]\n",
      " [ 0.98544239]\n",
      " [ 0.99645062]\n",
      " [ 0.9965535 ]]\n"
     ]
    }
   ],
   "source": [
    "# Best model\n",
    "print(\"Best model has C = {:.4f}\".format(cls.C_[0]))\n",
    "print(\"Best model has the CV scores:\")\n",
    "print(cls.scores_[1][:,cls.Cs_ == cls.C_[0]])"
   ]
  },
  {
   "cell_type": "code",
   "execution_count": 10,
   "metadata": {
    "collapsed": false
   },
   "outputs": [
    {
     "name": "stdout",
     "output_type": "stream",
     "text": [
      "Average AUC = 0.994558\n"
     ]
    }
   ],
   "source": [
    "print(\"Average AUC = {:4f}\".format(np.mean(cls.scores_[1][:,cls.Cs_ == cls.C_[0]])))"
   ]
  },
  {
   "cell_type": "markdown",
   "metadata": {},
   "source": [
    "### Patient 1"
   ]
  },
  {
   "cell_type": "code",
   "execution_count": 2,
   "metadata": {
    "collapsed": true
   },
   "outputs": [],
   "source": [
    "## Patient 1\n",
    "X_p1 = np.load('../data/Patient_1_X.npy')\n",
    "Y_p1 = np.load('../data/Patient_1_Y.npy')\n",
    "clip_ids_p1 = np.load('../data/Patient_1_clip_ids.npy')\n",
    "\n",
    "# Shuffle to break time order in the k-folds\n",
    "np.random.seed(1)\n",
    "shuffle = np.random.choice(np.arange(len(Y_p1)), size=len(Y_p1), replace=False)\n",
    "X_p1 = X_p1[shuffle]\n",
    "Y_p1 = Y_p1[shuffle]\n",
    "clip_ids_p1 = clip_ids_p1[shuffle]\n",
    "\n",
    "# Rescale\n",
    "X_scaler = StandardScaler()\n",
    "X_p1 = X_scaler.fit_transform(X_p1)"
   ]
  },
  {
   "cell_type": "code",
   "execution_count": 3,
   "metadata": {
    "collapsed": false
   },
   "outputs": [
    {
     "name": "stderr",
     "output_type": "stream",
     "text": [
      "[Parallel(n_jobs=5)]: Done   2 out of   5 | elapsed:   11.7s remaining:   17.6s\n",
      "[Parallel(n_jobs=5)]: Done   5 out of   5 | elapsed:   15.9s finished\n"
     ]
    },
    {
     "data": {
      "text/plain": [
       "LogisticRegressionCV(Cs=array([  1.00000e-02,   1.11200e+01,   2.22300e+01,   3.33400e+01,\n",
       "         4.44500e+01,   5.55600e+01,   6.66700e+01,   7.77800e+01,\n",
       "         8.88900e+01,   1.00000e+02]),\n",
       "           class_weight=None,\n",
       "           cv=<generator object _BaseKFold.split at 0x7f900c5f4150>,\n",
       "           dual=False, fit_intercept=True, intercept_scaling=1.0,\n",
       "           max_iter=150, multi_class='ovr', n_jobs=5, penalty='l1',\n",
       "           random_state=None, refit=True, scoring='roc_auc',\n",
       "           solver='liblinear', tol=0.001, verbose=1)"
      ]
     },
     "execution_count": 3,
     "metadata": {},
     "output_type": "execute_result"
    }
   ],
   "source": [
    "# Stratified 5-folds \n",
    "skf = StratifiedKFold(n_splits=5, random_state = 1234)\n",
    "\n",
    "# Range of C\n",
    "Cvalues = np.linspace(0.01,100,10)\n",
    "\n",
    "# Fit for Patient 1\n",
    "cls = LogisticRegressionCV(Cs = Cvalues, cv = skf.split(X_p1, Y_p1), max_iter=150, solver = 'liblinear',\n",
    "                           penalty = \"l1\", scoring = 'roc_auc', verbose = 1, n_jobs = 5, tol=0.001)\n",
    "\n",
    "cls.fit(X_p1,Y_p1)"
   ]
  },
  {
   "cell_type": "code",
   "execution_count": 4,
   "metadata": {
    "collapsed": false,
    "scrolled": true
   },
   "outputs": [
    {
     "name": "stdout",
     "output_type": "stream",
     "text": [
      "Best model has C = 11.1200\n",
      "Best model has the CV scores:\n",
      "[[ 0.98531249]\n",
      " [ 0.98496595]\n",
      " [ 0.99123988]\n",
      " [ 0.98067857]\n",
      " [ 0.98852592]]\n"
     ]
    }
   ],
   "source": [
    "# Best model\n",
    "print(\"Best model has C = {:.4f}\".format(cls.C_[0]))\n",
    "print(\"Best model has the CV scores:\")\n",
    "print(cls.scores_[1][:,cls.Cs_ == cls.C_[0]])"
   ]
  },
  {
   "cell_type": "code",
   "execution_count": 5,
   "metadata": {
    "collapsed": false
   },
   "outputs": [
    {
     "name": "stdout",
     "output_type": "stream",
     "text": [
      "Average AUC = 0.986145\n"
     ]
    }
   ],
   "source": [
    "print(\"Average AUC = {:4f}\".format(np.mean(cls.scores_[1][:,cls.Cs_ == cls.C_[0]])))"
   ]
  },
  {
   "cell_type": "markdown",
   "metadata": {},
   "source": [
    "### Patient 2"
   ]
  },
  {
   "cell_type": "code",
   "execution_count": 2,
   "metadata": {
    "collapsed": true
   },
   "outputs": [],
   "source": [
    "## Patient 2\n",
    "X_p2 = np.load('../data/Patient_2_X.npy')\n",
    "Y_p2 = np.load('../data/Patient_2_Y.npy')\n",
    "clip_ids_p2 = np.load('../data/Patient_2_clip_ids.npy')\n",
    "\n",
    "# Shuffle to break time order in the k-folds\n",
    "np.random.seed(1)\n",
    "shuffle = np.random.choice(np.arange(len(Y_p2)), size=len(Y_p2), replace=False)\n",
    "X_p2 = X_p2[shuffle]\n",
    "Y_p2 = Y_p2[shuffle]\n",
    "clip_ids_p2 = clip_ids_p2[shuffle]\n",
    "\n",
    "# Rescale\n",
    "X_scaler = StandardScaler()\n",
    "X_p2 = X_scaler.fit_transform(X_p2)"
   ]
  },
  {
   "cell_type": "code",
   "execution_count": 3,
   "metadata": {
    "collapsed": false,
    "scrolled": true
   },
   "outputs": [
    {
     "name": "stderr",
     "output_type": "stream",
     "text": [
      "/Users/corellia/anaconda3/lib/python3.6/site-packages/sklearn/svm/base.py:920: ConvergenceWarning: Liblinear failed to converge, increase the number of iterations.\n",
      "  \"the number of iterations.\", ConvergenceWarning)\n",
      "/Users/corellia/anaconda3/lib/python3.6/site-packages/sklearn/svm/base.py:920: ConvergenceWarning: Liblinear failed to converge, increase the number of iterations.\n",
      "  \"the number of iterations.\", ConvergenceWarning)\n",
      "/Users/corellia/anaconda3/lib/python3.6/site-packages/sklearn/svm/base.py:920: ConvergenceWarning: Liblinear failed to converge, increase the number of iterations.\n",
      "  \"the number of iterations.\", ConvergenceWarning)\n",
      "/Users/corellia/anaconda3/lib/python3.6/site-packages/sklearn/svm/base.py:920: ConvergenceWarning: Liblinear failed to converge, increase the number of iterations.\n",
      "  \"the number of iterations.\", ConvergenceWarning)\n",
      "[Parallel(n_jobs=4)]: Done   5 out of   5 | elapsed:   17.5s finished\n"
     ]
    },
    {
     "data": {
      "text/plain": [
       "LogisticRegressionCV(Cs=array([ 0.01,  0.1 ,  1.  ]), class_weight=None,\n",
       "           cv=<generator object _BaseKFold.split at 0x10b667048>,\n",
       "           dual=False, fit_intercept=True, intercept_scaling=1.0,\n",
       "           max_iter=200, multi_class='ovr', n_jobs=4, penalty='l1',\n",
       "           random_state=None, refit=True, scoring='roc_auc',\n",
       "           solver='liblinear', tol=0.001, verbose=1)"
      ]
     },
     "execution_count": 3,
     "metadata": {},
     "output_type": "execute_result"
    }
   ],
   "source": [
    "# Stratified 5-folds \n",
    "skf = StratifiedKFold(n_splits=5, random_state = 1234)\n",
    "\n",
    "# Range of C\n",
    "#Cvalues = np.linspace(0.01,100,10)\n",
    "Cvalues = np.array([0.01,0.1,1])\n",
    "\n",
    "# Fit for Patient 2\n",
    "cls = LogisticRegressionCV(Cs = Cvalues, cv = skf.split(X_p2, Y_p2), max_iter=200, solver = 'liblinear',\n",
    "                           penalty = \"l1\", scoring = 'roc_auc', verbose = 1, n_jobs = 4, tol=0.001)\n",
    "\n",
    "cls.fit(X_p2,Y_p2)"
   ]
  },
  {
   "cell_type": "code",
   "execution_count": 4,
   "metadata": {
    "collapsed": false,
    "scrolled": true
   },
   "outputs": [
    {
     "name": "stdout",
     "output_type": "stream",
     "text": [
      "Best model has C = 1.0000\n",
      "Best model has the CV scores:\n",
      "[[ 0.93173999]\n",
      " [ 0.94843644]\n",
      " [ 0.97325854]\n",
      " [ 0.95916086]\n",
      " [ 0.9453699 ]]\n"
     ]
    }
   ],
   "source": [
    "# Best model\n",
    "print(\"Best model has C = {:.4f}\".format(cls.C_[0]))\n",
    "print(\"Best model has the CV scores:\")\n",
    "print(cls.scores_[1][:,cls.Cs_ == cls.C_[0]])"
   ]
  },
  {
   "cell_type": "code",
   "execution_count": 14,
   "metadata": {
    "collapsed": false
   },
   "outputs": [
    {
     "name": "stdout",
     "output_type": "stream",
     "text": [
      "Average AUC = 0.951593\n"
     ]
    }
   ],
   "source": [
    "print(\"Average AUC = {:4f}\".format(np.mean(cls.scores_[1][:,cls.Cs_ == cls.C_[0]])))"
   ]
  }
 ],
 "metadata": {
  "kernelspec": {
   "display_name": "Python 3",
   "language": "python",
   "name": "python3"
  },
  "language_info": {
   "codemirror_mode": {
    "name": "ipython",
    "version": 3
   },
   "file_extension": ".py",
   "mimetype": "text/x-python",
   "name": "python",
   "nbconvert_exporter": "python",
   "pygments_lexer": "ipython3",
   "version": "3.6.0"
  }
 },
 "nbformat": 4,
 "nbformat_minor": 2
}
