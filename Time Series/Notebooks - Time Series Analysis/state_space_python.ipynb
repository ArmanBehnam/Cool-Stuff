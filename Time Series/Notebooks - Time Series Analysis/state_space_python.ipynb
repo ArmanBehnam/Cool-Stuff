{
 "cells": [
  {
   "cell_type": "markdown",
   "metadata": {},
   "source": [
    "A baseline version of state space models in Python is now ready as a pull request to the Statsmodels project, at https://github.com/statsmodels/statsmodels/pull/1698. Before it's description, here is the general description of a state space model (See Durbin and Koopman 2012 for all notation):\n",
    "\n",
    "$$\n",
    "\\begin{align}\n",
    "y_t & = d_t + Z_t \\alpha_t + \\varepsilon_t \\qquad & \\varepsilon_t \\sim N(0, H_t)\\\\\n",
    "\\alpha_{t+1} & = c_t + T_t \\alpha_t + R_t \\eta_t & \\varepsilon_t \\sim N(0, Q_t)\n",
    "\\end{align}\n",
    "$$\n",
    "\n",
    "Integrating state space modeling into Python required three elements (so far):\n",
    "\n",
    "1. An implementation of the Kalman filter\n",
    "2. A Python wrapper for easily building State space models to be filtered\n",
    "3. A Python wrapper for Maximum Likelihood estimation of state space models based on the likelihood evaluation performed as a byproduct of the Kalman filter.\n",
    "\n",
    "These three are implemented in the pull request in the files `_statespace.pyx.in`, `representation.py`, and `model.py`. The first is a Cython implementation of the Kalman filter which does all of the heavy lifting. By taking advantage of static typing, compilation to C, and direct calls to underlying BLAS and LAPACK libraries, it achieves speeds that are an order of magnitude above a straightforward implementation of the Kalman filter in Python (at least in test cases I have performed so far).\n",
    "\n",
    "The second handles setting and updating the state space representation matrices ($d_t, Z_t, H_t, c_t, T_t, R_t, Q_t$) , maintaining appropriate dimensions, and making sure that underlying datatypes are consistent (a requirement for the Cython Kalman filter - if the wrong datatype is passed directly to one of the underlying BLAS or LAPACK functions, it will cause an error in the best case and a segmentation fault in the worst).\n",
    "\n",
    "The third introduces the idea that the representation matrices are composed of two types of elements: those that are known (often ones and zeros) and those that are unknown: parameters. It defines an interface for retrieving start parameters, transforming parameters (for example to induce stationarity in ARIMA models), and updating the corresponding elements of the state space matrices. Finally, it takes advantage of the updating structure to define a `fit` method which uses `scipy.optimize` methods to perform maximum likelihood estimation."
   ]
  },
  {
   "cell_type": "markdown",
   "metadata": {},
   "source": [
    "### SARIMAX Model\n",
    "\n",
    "The pull request contains, right now, one example of a fully-fledged econometric model estimatable via state space methods. The Seasonal Autoregressive Integrated Moving Average with eXogenous regressors model is implemented in the `sarimax.py` file. The bulk of the file is in describing the specific form of the state space matrices for the SARIMAX model, defining methods for finding good starting parameters, and updating the matrices appropriately when new parameters are tried.\n",
    "\n",
    "In descending from the `Model` class (3, above), it is able to ignore any of the intricacies of the actual optimization calls, or the construction of standard estimation output like the variance / covariance matrix, etc, summary tables, etc.\n",
    "\n",
    "In descending from the `Representation` class (2, above), it directly has a `filter` method to apply the Kalman filter, it is able to ignore worries about dimensions and datatypes, and it gets all of the filter output \"for free\". For example, the loglikelihood, residuals, and fitted values come directly from output from the filter. Finally, all prediction, dynamic prediction, and forecasting are performed in the generic representation results class and can be painlessly used by the SARIMAX model.\n",
    "\n",
    "Two example notebooks using the resultant SARIMAX class:\n",
    "\n",
    "- Replication of the Stata ARIMA examples: http://nbviewer.ipython.org/gist/ChadFulton/5127108f4c7025ed2648\n",
    "- Demonstration of using missing data in SARIMAX model: http://nbviewer.ipython.org/gist/ChadFulton/9bfd32bd6e4e406fc351"
   ]
  },
  {
   "cell_type": "markdown",
   "metadata": {},
   "source": [
    "### Extensibility: Local Linear Trend Model\n",
    "\n",
    "Of course, Statsmodels already has an ARIMAX class, so the marginal contribution of the SARIMAX model is mostly the ability to work with Seasonal (or arbitrary lag polynomial) models, and the ability to work with missing values. However it is just an example of the kind of models that can be easily produced from the given framework, which was specifically designed to be extensible.\n",
    "\n",
    "As an example, I will present below the code for a full implementation of the Local Linear Trend model. This model has the form (see Durbin and Koopman 2012, Chapter 3.2 for all notation and details):\n",
    "\n",
    "$$\n",
    "\\begin{align}\n",
    "y_t & = \\mu_t + \\varepsilon_t \\qquad & \\varepsilon_t \\sim\n",
    "    N(0, \\sigma_\\varepsilon^2) \\\\\n",
    "\\mu_{t+1} & = \\mu_t + \\nu_t + \\xi_t & \\xi_t \\sim N(0, \\sigma_\\xi^2) \\\\\n",
    "\\nu_{t+1} & = \\nu_t + \\zeta_t & \\zeta_t \\sim N(0, \\sigma_\\zeta^2)\n",
    "\\end{align}\n",
    "$$\n",
    "\n",
    "It is easy to see that this can be cast into state space form as:\n",
    "\n",
    "$$\n",
    "\\begin{align}\n",
    "y_t & = \\begin{pmatrix} 1 & 0 \\end{pmatrix} \\begin{pmatrix} \\mu_t \\\\ \\nu_t \\end{pmatrix} + \\varepsilon_t \\\\\n",
    "\\begin{pmatrix} \\mu_{t+1} \\\\ \\nu_{t+1} \\end{pmatrix} & = \\begin{bmatrix} 1 & 1 \\\\ 0 & 1 \\end{bmatrix} \\begin{pmatrix} \\mu_t \\\\ \\nu_t \\end{pmatrix} + \\begin{pmatrix} \\xi_t \\\\ \\zeta_t \\end{pmatrix}\n",
    "\\end{align}\n",
    "$$\n",
    "\n",
    "Notice that much of the state space representation is composed of known values; in fact the only parts in which parameters to be estimated appear are in the variance / covariance matrices:\n",
    "\n",
    "$$\n",
    "\\begin{align}\n",
    "H_t & = \\begin{bmatrix} \\sigma_\\varepsilon^2 \\end{bmatrix} \\\\\n",
    "Q_t & = \\begin{bmatrix} \\sigma_\\xi^2 & 0 \\\\ 0 & \\sigma_\\zeta^2 \\end{bmatrix}\n",
    "\\end{align}\n",
    "$$"
   ]
  },
  {
   "cell_type": "code",
   "execution_count": 3,
   "metadata": {
    "collapsed": false
   },
   "outputs": [],
   "source": [
    "\"\"\"\n",
    "Univariate Local Linear Trend Model\n",
    "\n",
    "Author: Chad Fulton\n",
    "License: Simplified-BSD\n",
    "\"\"\"\n",
    "from __future__ import division, absolute_import, print_function\n",
    "\n",
    "import numpy as np\n",
    "import statsmodels.api as sm\n",
    "\n",
    "class LocalLinearTrend(sm.tsa.statespace.MLEModel):\n",
    "    def __init__(self, endog, **kwargs):\n",
    "        # Model order\n",
    "        k_states = k_posdef = 2\n",
    "\n",
    "        # Initialize the statespace\n",
    "        super(LocalLinearTrend, self).__init__(\n",
    "            endog, k_states=k_states, k_posdef=k_posdef, **kwargs\n",
    "        )\n",
    "\n",
    "        # Initialize the matrices\n",
    "        self['design'] = np.r_[1, 0]\n",
    "        self['transition'] = np.array([[1, 1],\n",
    "                                       [0, 1]])\n",
    "        self['selection'] = np.eye(k_states)\n",
    "\n",
    "        # Initialize the state space model as approximately diffuse\n",
    "        self.initialize_approximate_diffuse()\n",
    "        # Because of the diffuse initialization, burn first two\n",
    "        # loglikelihoods\n",
    "        self.loglikelihood_burn = 2\n",
    "        \n",
    "        # Cache some indices\n",
    "        idx = np.diag_indices(k_posdef)\n",
    "        self._state_cov_idx = ('state_cov', idx[0], idx[1])\n",
    "        \n",
    "        # Setup parameter names\n",
    "        self._param_names = ['sigma2.measurement', 'sigma2.level', 'sigma2.trend']\n",
    "\n",
    "    @property\n",
    "    def start_params(self):\n",
    "        # Simple start parameters: just set as 0.1\n",
    "        return np.r_[0.1, 0.1, 0.1]\n",
    "\n",
    "    def transform_params(self, unconstrained):\n",
    "        # Parameters must all be positive for likelihood evaluation.\n",
    "        # This transforms parameters from unconstrained parameters\n",
    "        # returned by the optimizer to ones that can be used in the model.\n",
    "        return unconstrained**2\n",
    "\n",
    "    def untransform_params(self, constrained):\n",
    "        # This transforms parameters from constrained parameters used\n",
    "        # in the model to those used by the optimizer\n",
    "        return constrained**0.5\n",
    "\n",
    "    def update(self, params, **kwargs):\n",
    "        # The base Model class performs some nice things like\n",
    "        # transforming the params and saving them\n",
    "        params = super(LocalLinearTrend, self).update(params, **kwargs)\n",
    "\n",
    "        # Extract the parameters\n",
    "        measurement_variance = params[0]\n",
    "        level_variance = params[1]\n",
    "        trend_variance = params[2]\n",
    "\n",
    "        # Observation covariance\n",
    "        self['obs_cov', 0, 0] = measurement_variance\n",
    "\n",
    "        # State covariance\n",
    "        self[self._state_cov_idx] = [level_variance, trend_variance]"
   ]
  },
  {
   "cell_type": "markdown",
   "metadata": {},
   "source": [
    "Using this simple model, we can estimate the parameters from a local linear trend model. The following example is from Commandeur and Koopman (2007), section 3.4., modeling motor vehicle fatalities in Finland.\n",
    "\n",
    "You can find the dataset here: http://www.ssfpack.com/CKbook.html"
   ]
  },
  {
   "cell_type": "code",
   "execution_count": 4,
   "metadata": {
    "collapsed": false
   },
   "outputs": [
    {
     "name": "stdout",
     "output_type": "stream",
     "text": [
      "                           Statespace Model Results                           \n",
      "==============================================================================\n",
      "Dep. Variable:                    lff   No. Observations:                   34\n",
      "Model:               LocalLinearTrend   Log Likelihood                  26.740\n",
      "Date:                Sun, 22 Jan 2017   AIC                            -47.480\n",
      "Time:                        12:59:18   BIC                            -42.901\n",
      "Sample:                    01-01-1970   HQIC                           -45.919\n",
      "                         - 01-01-2003                                         \n",
      "Covariance Type:                  opg                                         \n",
      "======================================================================================\n",
      "                         coef    std err          z      P>|z|      [0.025      0.975]\n",
      "--------------------------------------------------------------------------------------\n",
      "sigma2.measurement     0.0032      0.003      0.984      0.325      -0.003       0.010\n",
      "sigma2.level        4.571e-10      0.006   7.12e-08      1.000      -0.013       0.013\n",
      "sigma2.trend           0.0015      0.001      1.093      0.274      -0.001       0.004\n",
      "===================================================================================\n",
      "Ljung-Box (Q):                       26.40   Jarque-Bera (JB):                 0.64\n",
      "Prob(Q):                              0.70   Prob(JB):                         0.72\n",
      "Heteroskedasticity (H):               0.74   Skew:                            -0.22\n",
      "Prob(H) (two-sided):                  0.63   Kurtosis:                         2.46\n",
      "===================================================================================\n",
      "\n",
      "Warnings:\n",
      "[1] Covariance matrix calculated using the outer product of gradients (complex-step).\n"
     ]
    }
   ],
   "source": [
    "import pandas as pd\n",
    "from datetime import datetime\n",
    "# Load Dataset\n",
    "df = pd.read_table('NorwayFinland.txt', skiprows=1, header=None)\n",
    "df.columns = ['date', 'nf', 'ff']\n",
    "df.index = pd.date_range(start=datetime(df.date[0], 1, 1), end=datetime(df.iloc[-1, 0], 1, 1), freq='AS')\n",
    "\n",
    "# Log transform\n",
    "df['lff'] = np.log(df['ff'])\n",
    "\n",
    "# Setup the model\n",
    "mod = LocalLinearTrend(df['lff'])\n",
    "\n",
    "# Fit it using MLE (recall that we are fitting the three variance parameters)\n",
    "res = mod.fit()\n",
    "print(res.summary())"
   ]
  },
  {
   "cell_type": "code",
   "execution_count": 5,
   "metadata": {
    "collapsed": false
   },
   "outputs": [
    {
     "data": {
      "image/png": "[encoded data removed]",
      "text/plain": [
       "<matplotlib.figure.Figure at 0x115a35f10>"
      ]
     },
     "metadata": {},
     "output_type": "display_data"
    }
   ],
   "source": [
    "%matplotlib inline\n",
    "import matplotlib.pyplot as plt\n",
    "fig, ax = plt.subplots(figsize=(10,4))\n",
    "\n",
    "# Perform dynamic prediction and forecasting\n",
    "ndynamic = 5\n",
    "predict_res = res.get_prediction(alpha=0.05, dynamic=df['lff'].shape[0]-ndynamic)\n",
    "\n",
    "predict = predict_res.predicted_mean\n",
    "ci = predict_res.conf_int(alpha=0.05)\n",
    "\n",
    "# Plot the results\n",
    "ax.plot(df['lff'], 'k.', label='Observations');\n",
    "ax.plot(df.index[:-ndynamic], predict[:-ndynamic], label='One-step-ahead Prediction');\n",
    "ax.plot(df.index[:-ndynamic], ci.iloc[:-ndynamic], 'k--', alpha=0.5);\n",
    "\n",
    "ax.plot(df.index[-ndynamic:], predict[-ndynamic:], 'r', label='Dynamic Prediction');\n",
    "ax.plot(df.index[-ndynamic:], ci.iloc[-ndynamic:], 'k--', alpha=0.5);\n",
    "\n",
    "# Cleanup the image\n",
    "ax.set_ylim((5, 8));\n",
    "legend = ax.legend(loc='upper right');\n",
    "legend.get_frame().set_facecolor('w')"
   ]
  },
  {
   "cell_type": "markdown",
   "metadata": {},
   "source": [
    "### Citations\n",
    "\n",
    "    Commandeur, Jacques J. F., and Siem Jan Koopman. 2007.\n",
    "    An Introduction to State Space Time Series Analysis.\n",
    "    Oxford ; New York: Oxford University Press.\n",
    "\n",
    "    Durbin, James, and Siem Jan Koopman. 2012.\n",
    "    Time Series Analysis by State Space Methods: Second Edition.\n",
    "    Oxford University Press."
   ]
  }
 ],
 "metadata": {
  "kernelspec": {
   "display_name": "Python 2",
   "language": "python",
   "name": "python2"
  },
  "language_info": {
   "codemirror_mode": {
    "name": "ipython",
    "version": 2
   },
   "file_extension": ".py",
   "mimetype": "text/x-python",
   "name": "python",
   "nbconvert_exporter": "python",
   "pygments_lexer": "ipython2",
   "version": "2.7.6"
  }
 },
 "nbformat": 4,
 "nbformat_minor": 0
}
