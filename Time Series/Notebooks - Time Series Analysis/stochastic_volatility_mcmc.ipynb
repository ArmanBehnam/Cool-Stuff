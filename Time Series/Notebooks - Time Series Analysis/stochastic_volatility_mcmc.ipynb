{
 "cells": [
  {
   "cell_type": "markdown",
   "metadata": {},
   "source": [
    "# Stochastic volatility: Bayesian inference\n",
    "\n",
    "This notebook describes estimating the basic univariate stochastic volatility model with Bayesian methods via Markov chain monte carlo (MCMC) methods, as in Kim et al. (1998).\n",
    "\n",
    "The code defining the models and the functions for taking draws from the conditional posteriors is also available in a Python script [`sv.py`](https://github.com/ChadFulton/tsa-notebooks/blob/master/src/sv.py)."
   ]
  },
  {
   "cell_type": "code",
   "execution_count": 18,
   "metadata": {},
   "outputs": [],
   "source": [
    "%matplotlib inline\n",
    "from __future__ import division\n",
    "\n",
    "import numpy as np\n",
    "import pandas as pd\n",
    "import statsmodels.api as sm\n",
    "import matplotlib.pyplot as plt\n",
    "np.set_printoptions(suppress=True, precision=5)\n",
    "\n",
    "from scipy.stats import norm, invgamma\n",
    "from scipy.special import logsumexp\n",
    "\n",
    "from src import sv"
   ]
  },
  {
   "cell_type": "markdown",
   "metadata": {},
   "source": [
    "A canonical univariate stochastic volatility model from Kim et al. (1998), hereafter KSC, is:\n",
    "\n",
    "$$\n",
    "\\begin{align}\n",
    "y_t & = \\beta \n",
    "e^{h_t / 2} \\varepsilon_t & \\varepsilon_t \\sim N(0, 1)\\\\\n",
    "h_{t+1} & = \\mu + \\phi(h_t - \\mu) + \\sigma_\\eta \\eta_t \\qquad & \\eta_t \\sim N(0, 1) \\\\\n",
    "h_1 & \\sim N(\\mu, \\sigma_\\eta^2 / (1 - \\phi^2))\n",
    "\\end{align}\n",
    "$$\n",
    "\n",
    "Here, $y_t$ usually represents the mean-corrected return of some asset and $h_t$ is log-volatility. Note that $\\beta$ and $\\mu$ are not separately identified, so KSC normalize $\\beta = 1$. However, since $\\beta$ is easier to interpret, they give results in terms of $\\beta = \\exp(\\mu / 2)$. The parameter vector is usually written as $\\theta = (\\phi, \\sigma_\\eta^2, \\mu)$.\n",
    "\n",
    "By taking squares and logs of each side of the first equation, above, we get the following observation equation (here we have set $\\beta = 1$):\n",
    "\n",
    "$$y_t^* = h_t + z_t$$\n",
    "\n",
    "where $y_t^* = \\log (y_t^2 + c)$, $z_t = \\log \\varepsilon_t^2$, and so $E[z_t] = 1.27036$ and $\\text{Var}(z_t) = 4.93$ and $c$ is an offset to prevent numerical issues when $y_t$ is close to zero, set by KSC to $0.001$. Along with the transition equation for $h_t$, above, this forms a non-Gaussian state space model."
   ]
  },
  {
   "cell_type": "markdown",
   "metadata": {},
   "source": [
    "## Illustration\n",
    "\n",
    "For the empirical illustration in this notebook, we will follow KSC in modeling the U.K. Sterling / U.S. Dollar exchange rate between October 1, 1981 and June 28, 1985. This is the same dataset as was used in Harvey et al. (1994), although KSC multiply the mean-corrected returns by 100 (so the results will be a little different than in the notebook replicating Harvey et al. (1994)).\n",
    "\n",
    "Tom Doan of the RATS econometrics software package has made available the replication data at https://estima.com/forum/viewtopic.php?f=8&t=1595."
   ]
  },
  {
   "cell_type": "code",
   "execution_count": 17,
   "metadata": {},
   "outputs": [
    {
     "name": "stdout",
     "output_type": "stream",
     "text": [
      "*** No CODEPAGE record, no encoding_override: will use 'ascii'\n"
     ]
    }
   ],
   "source": [
    "ex = pd.read_excel('data/xrates.xls')\n",
    "dta = np.log(ex).diff().iloc[1:]\n",
    "\n",
    "endog = (dta['USXUK'] - dta['USXUK'].mean()) * 100"
   ]
  },
  {
   "cell_type": "markdown",
   "metadata": {},
   "source": [
    "## Quasi-likelihood estimation\n",
    "\n",
    "One option for estimating the parameters of this model is the \"quasi-likelihood method\" of Harvey et al. (1994), in which the model is approximated by replacing $\\log \\varepsilon_t^2$ with a Gaussian random variable of the same mean and variance. This approach will only be valid asymptotically, although Ruiz (1994) suggests that it may perform well nonetheless.\n",
    "\n",
    "Since this model was described fully in another notebook, we do not present it again here, but use the state space model described there and stored in [`sv.py`](../files/sv.py)."
   ]
  },
  {
   "cell_type": "code",
   "execution_count": 3,
   "metadata": {},
   "outputs": [],
   "source": [
    "mod_QLSV = sv.QLSV(endog)\n",
    "res_QLSV = mod_QLSV.fit()"
   ]
  },
  {
   "cell_type": "code",
   "execution_count": 4,
   "metadata": {},
   "outputs": [
    {
     "name": "stdout",
     "output_type": "stream",
     "text": [
      "                           Statespace Model Results                           \n",
      "==============================================================================\n",
      "Dep. Variable:                  USXUK   No. Observations:                  945\n",
      "Model:                           QLSV   Log Likelihood               -1973.517\n",
      "Date:                Sat, 14 Apr 2018   AIC                           3953.034\n",
      "Time:                        21:52:08   BIC                           3967.588\n",
      "Sample:                             0   HQIC                          3958.581\n",
      "                                - 945                                         \n",
      "Covariance Type:                  opg                                         \n",
      "==============================================================================\n",
      "                 coef    std err          z      P>|z|      [0.025      0.975]\n",
      "------------------------------------------------------------------------------\n",
      "phi            0.9909      0.010     96.107      0.000       0.971       1.011\n",
      "sigma2_eta     0.0059      0.006      0.981      0.327      -0.006       0.018\n",
      "mu            -0.7082      0.331     -2.143      0.032      -1.356      -0.060\n",
      "===================================================================================\n",
      "Ljung-Box (Q):                       26.31   Jarque-Bera (JB):                44.60\n",
      "Prob(Q):                              0.95   Prob(JB):                         0.00\n",
      "Heteroskedasticity (H):               1.14   Skew:                            -0.51\n",
      "Prob(H) (two-sided):                  0.26   Kurtosis:                         2.71\n",
      "===================================================================================\n",
      "\n",
      "Warnings:\n",
      "[1] Covariance matrix calculated using the outer product of gradients (complex-step).\n"
     ]
    }
   ],
   "source": [
    "print(res_QLSV.summary())"
   ]
  },
  {
   "cell_type": "markdown",
   "metadata": {},
   "source": [
    "## Bayesian estimation\n",
    "\n",
    "KSC provide an alternative method for estimating this model using Bayesian techniques; instead of approximating $\\log \\varepsilon_t^2$ by a single Gaussian distribution, they approximate it with a mixture of Gaussians, so that:\n",
    "\n",
    "$$z_t | s_t = i \\sim N(m_i - 1.27036, v_i^2)$$\n",
    "\n",
    "where $s_t$ is an indicator random variable defined so that $P(s_t = i) = q_i, i = 1, \\dots, K$ where $K$ is the number of mixture components. The values of $(q_i, m_i, v_i^2)$ that define the component Gaussians are given below (see KSC Table 4, p. 371).\n",
    "\n",
    "**Note**: we provide all Python implementations of the estimation procedure in this notebook, but the functions are also collected in the associated [`sv.py`](../files/sv.py) file."
   ]
  },
  {
   "cell_type": "code",
   "execution_count": 5,
   "metadata": {},
   "outputs": [],
   "source": [
    "# q_i, m_i, v_i^2\n",
    "ksc_params = np.array([[0.04395, 2.77786,   0.16735],\n",
    "                       [0.24566, 1.79518,   0.34023],\n",
    "                       [0.34001, 0.61942,  0.64009],\n",
    "                       [0.25750, -1.08819,  1.26261],\n",
    "                       [0.10556, -3.97281,  2.61369],\n",
    "                       [0.00002, -8.56686,  5.17950],\n",
    "                       [0.00730, -10.12999, 5.79596]])"
   ]
  },
  {
   "cell_type": "markdown",
   "metadata": {},
   "source": [
    "Conditional on $\\{ s_t \\}_{t=1}^T$, the observation equation at each time period is well-defined with a Gaussian noise term. Thus conditional on the parameters and the mixing indicators, the stochastic volatility problem can be cast in the form of a time-varying state space model and the Kalman filter and smoother can be used to compute posterior distributions.\n",
    "\n",
    "KSC found that a good approximation of $\\log \\varepsilon_t^2$ could be achieved by setting $K=7$. Omori et al. (2007) extend this to $K=10$."
   ]
  },
  {
   "cell_type": "code",
   "execution_count": 6,
   "metadata": {},
   "outputs": [],
   "source": [
    "class TVLLDT(sm.tsa.statespace.MLEModel):\n",
    "    \"\"\"\n",
    "    Time-varying local linear deterministic trend\n",
    "    \"\"\"\n",
    "    def __init__(self, endog, offset=0.001):\n",
    "        # Convert to log squares, with offset\n",
    "        endog = np.log(endog**2 + offset)\n",
    "\n",
    "        # Initialize base model\n",
    "        super(TVLLDT, self).__init__(endog, k_states=1, k_posdef=1,\n",
    "                                     initialization='stationary')\n",
    "\n",
    "        # Setup time-varying arrays for observation equation\n",
    "        self['obs_intercept'] = np.zeros((1, self.nobs))\n",
    "        self['obs_cov'] = np.zeros((1, 1, self.nobs))\n",
    "\n",
    "        # Setup fixed components of state space matrices\n",
    "        self['design', 0, 0] = 1\n",
    "        self['selection', 0, 0] = 1\n",
    "\n",
    "    def update_mixing(self, indicators):\n",
    "        # z_t | s_t ~ N(m_i - 1.27036, v_i^2)\n",
    "        # See equation (10), p. 371\n",
    "        self['obs_intercept', 0] = ksc_params[indicators, 1] - 1.27036\n",
    "        self['obs_cov', 0, 0] = ksc_params[indicators, 2]\n",
    "\n",
    "    def update(self, params, **kwargs):\n",
    "        params = super(TVLLDT, self).update(params, **kwargs)\n",
    "\n",
    "        self['state_intercept', 0, 0] = params[0] * (1 - params[1])\n",
    "        self['transition', 0, 0] = params[1]\n",
    "        self['state_cov', 0, 0] = params[2]"
   ]
  },
  {
   "cell_type": "markdown",
   "metadata": {},
   "source": [
    "### Priors\n",
    "\n",
    "To compute the model, we need to specify a prior distribution for the parameters in $\\theta$. The prior specifications below are taken from KSC.\n",
    "\n",
    "#### Prior for $\\sigma_\\eta^2$\n",
    "\n",
    "We consider the conjugate prior:\n",
    "\n",
    "$$\\sigma_\\eta^2 | \\phi, \\mu \\sim IG(\\sigma_r / s, S_\\sigma / 2)$$\n",
    "\n",
    "where we follow them setting $\\sigma_r = 5$ and $S_\\sigma = 0.01 \\times \\sigma_r = 0.05$.\n",
    "\n",
    "#### Prior for $\\phi$\n",
    "\n",
    "Defining $\\phi^* = (\\phi + 1) / 2$, we specify a prior on $\\phi^*$:\n",
    "\n",
    "$$\\phi^* \\sim Beta(\\phi^{(1)}, \\phi^{(2)})$$\n",
    "\n",
    "As discussed in KSC, this prior has support over $(-1, 1)$, enforcing stationarity of the stochastic volatility process.\n",
    "\n",
    "Setting $\\phi^{(1)} = 20$ and $\\phi^{(2)} = 1.5$ implies that $E[\\phi] = 0.86$.\n",
    "\n",
    "Finally:\n",
    "\n",
    "$$\\pi(\\phi) \\propto \\left [ \\frac{(1 + \\phi)}{2} \\right ]^{\\phi^{(1)} - 1} \\left [ \\frac{(1 - \\phi)}{2} \\right ]^{\\phi^{(2)} - 1} $$\n",
    "\n",
    "#### Prior for $\\mu$\n",
    "\n",
    "KSC suggest a diffuse prior on $\\mu$ (or alternatively a slightly informative prior like $\\mu \\sim N(0, 10)$)."
   ]
  },
  {
   "cell_type": "markdown",
   "metadata": {},
   "source": [
    "### Sampling from the conditional posteriors\n",
    "\n",
    "KSC show that with the priors specified above, we can sample from the conditional posteriors as follows:\n",
    "\n",
    "#### Sampling $\\sigma_\\eta^2$\n",
    "\n",
    "The conditional posterior distribution is:\n",
    "\n",
    "$$\\sigma_\\eta^2 | y, h, \\phi, \\mu \\sim IG \\left ( \\frac{n + \\sigma_r}{2},\n",
    "\\frac{S_\\sigma + (h_1 - \\mu)^2(1 - \\phi^2) + \\sum_{i=1}^{n-1} [(h_{t+1} - \\mu) - \\phi(h_t-\\mu)]^2}{2} \\right )$$"
   ]
  },
  {
   "cell_type": "code",
   "execution_count": 7,
   "metadata": {},
   "outputs": [],
   "source": [
    "def draw_posterior_sigma2(model, states, phi, mu, prior_params=(5, 0.05)):\n",
    "    sigma_r, S_sigma = prior_params\n",
    "\n",
    "    v1 = sigma_r + model.nobs\n",
    "    tmp1 = (states[0, 0] - mu)**2 * (1 - phi**2)\n",
    "    tmp = np.sum(((states[0, 1:] - mu) - phi * (states[0, :-1] - mu))**2)\n",
    "    delta1 = S_sigma + tmp1 + tmp\n",
    "\n",
    "    return invgamma.rvs(v1, scale=delta1)"
   ]
  },
  {
   "cell_type": "markdown",
   "metadata": {},
   "source": [
    "#### Sampling $\\phi$\n",
    "\n",
    "We can apply a Metropolis step: generating a proposal value $\\phi^*$ from $N(\\hat \\phi, V_\\theta)$ and accepting the proposal with probability\n",
    "\n",
    "$$\\exp(g(\\phi^*) - g(\\phi^{(i-1)}))$$\n",
    "\n",
    "where:\n",
    "\n",
    "$$g(\\phi) = \\log \\pi(\\phi) - \\frac{(h_1 - \\mu)^2 (1 - \\phi^2)}{2 \\sigma_\\eta^2} + \\frac{1}{2} \\log (1 - \\phi^2)$$"
   ]
  },
  {
   "cell_type": "code",
   "execution_count": 8,
   "metadata": {},
   "outputs": [],
   "source": [
    "def g(phi, states, mu, sigma2, prior_params=(20, 1.5)):\n",
    "    phi_1, phi_2 = prior_params\n",
    "\n",
    "    # Prior distribution gives zero weight to non-stationary processes\n",
    "    if np.abs(phi) >= 1:\n",
    "        return -np.inf\n",
    "\n",
    "    prior = ((1 + phi) / 2)**(phi_1 - 1) * ((1 - phi) / 2)**(phi_2 - 1)\n",
    "\n",
    "    tmp1 = (states[0, 0] - mu)**2 * (1 - phi**2) / 2 * sigma2\n",
    "    tmp2 = 0.5 * np.log(1 - phi**2)\n",
    "\n",
    "    return np.log(prior) - tmp1 + tmp2\n",
    "\n",
    "def draw_posterior_phi(model, states, phi, mu, sigma2, prior_params=(20, 1.5)):\n",
    "    tmp1 = np.sum((states[0, 1:] - mu) * (states[0, :-1] - mu))\n",
    "    tmp2 = np.sum((states[0, :-1] - mu)**2)\n",
    "    phi_hat = tmp1 / tmp2\n",
    "    V_phi = sigma2 / tmp2\n",
    "\n",
    "    proposal = norm.rvs(phi_hat, scale=V_phi**0.5)\n",
    "    g_proposal = g(proposal, states, mu, sigma2, prior_params)\n",
    "    g_previous = g(phi, states, mu, sigma2, prior_params)\n",
    "    acceptance_probability = np.exp(g_proposal - g_previous)\n",
    "\n",
    "    return proposal if acceptance_probability > np.random.uniform() else phi"
   ]
  },
  {
   "cell_type": "markdown",
   "metadata": {},
   "source": [
    "#### Sampling $\\mu$\n",
    "\n",
    "The conditional posterior distribution is:\n",
    "\n",
    "$$\\mu | y, h, \\phi, \\sigma_\\eta^2 \\sim N (\\hat \\mu, \\sigma_\\mu^2)$$\n",
    "\n",
    "where:\n",
    "\n",
    "$$\n",
    "\\begin{aligned}\n",
    "\\hat \\mu & = \\sigma_\\mu^2 \\left [ \\frac{(1 - \\phi^2)}{\\sigma_\\eta^2} h_1 + \\frac{(1 - \\phi)}{\\sigma_\\eta^2} \\sum_{t=1}^{n-1} (h_{t+1} - \\phi h_t) \\right ] \\\\\n",
    "\\sigma_\\mu^2 & = \\sigma_\\eta^2 \\left [ (n - 1)(1 - \\phi)^2 + (1 - \\phi^2) \\right ]^{-1}\n",
    "\\end{aligned}\n",
    "$$"
   ]
  },
  {
   "cell_type": "code",
   "execution_count": 9,
   "metadata": {},
   "outputs": [],
   "source": [
    "def draw_posterior_mu(model, states, phi, sigma2):\n",
    "    sigma2_mu = sigma2 / ((model.nobs - 1) * (1 - phi)**2 + (1 - phi**2))\n",
    "\n",
    "    tmp1 = ((1 - phi**2) / sigma2) * states[0, 0]\n",
    "    tmp = ((1 - phi) / sigma2) * np.sum(states[0, 1:] - phi * states[0, :-1])\n",
    "    mu_hat = sigma2_mu * (tmp1 + tmp)\n",
    "\n",
    "    return norm.rvs(loc=mu_hat, scale=sigma2_mu**0.5)"
   ]
  },
  {
   "cell_type": "markdown",
   "metadata": {},
   "source": [
    "#### Sampling $\\{h_t\\}_{t=1}^T$\n",
    "\n",
    "Conditional on the mixing indicators (which yield the time-varying observation equation matrices) and the parameters, the states can be sampled via the usual simulation smoother.\n",
    "\n",
    "#### Sampling $\\{s_t\\}_{t=1}^T$\n",
    "\n",
    "Each indicator $s_t$ can only take a discrete number of values (since it is an indicator variable denoting which of the mixing distributions is active at time $t$). KSC show that the mixing indicators can be independently sampled from the following probability mass function:\n",
    "\n",
    "$$\n",
    "P[s_t = i | \\cdot] \\propto q_i f_N( y_t^* | h_t + m_i - 1.2704, v_i^2)\n",
    "$$\n",
    "\n",
    "where $f_N( y_t^* \\mid a, b)$ denotes the probability density at $y_t^*$ of a Gaussian random variable with mean $a$ and variance $b$."
   ]
  },
  {
   "cell_type": "code",
   "execution_count": 10,
   "metadata": {},
   "outputs": [],
   "source": [
    "def mixing_posterior(mod, states):\n",
    "    resid = mod.endog[:, 0] - states[0]\n",
    "\n",
    "    # Construct the means (nobs x 7), variances (7,), prior probabilities (7,)\n",
    "    means = ksc_params[None, :, 1] - 1.27036\n",
    "    variances = ksc_params[:, 2]\n",
    "    prior_probabilities = ksc_params[:, 0]\n",
    "\n",
    "    # Make dimensions compatible for broadcasting\n",
    "    resid = np.repeat(resid[:, None], len(variances), axis=-1)\n",
    "    variances = np.repeat(variances[None, :], mod.nobs, axis=0)\n",
    "    prior_probabilities = np.repeat(prior_probabilities[None, :], mod.nobs,\n",
    "                                    axis=0)\n",
    "\n",
    "    # Compute loglikelihood (nobs x 7)\n",
    "    loglikelihoods = -0.5 * ((resid - means)**2 / variances +\n",
    "                             np.log(2 * np.pi * variances))\n",
    "\n",
    "    # Get (values proportional to) the (log of the) posterior (nobs x 7)\n",
    "    posterior_kernel = loglikelihoods + np.log(prior_probabilities)\n",
    "\n",
    "    # Normalize to get the actual posterior probabilities\n",
    "    tmp = logsumexp(posterior_kernel, axis=1)\n",
    "    posterior_probabilities = np.exp(posterior_kernel - tmp[:, None])\n",
    "\n",
    "    return posterior_probabilities\n",
    "\n",
    "def draw_mixing(mod, states):\n",
    "    posterior_probabilities = mixing_posterior(mod, states)\n",
    "\n",
    "    # Draw from the posterior\n",
    "    variates = np.random.uniform(size=mod.nobs)\n",
    "    tmp = np.cumsum(posterior_probabilities, axis=1) > variates[:, None]\n",
    "    sample = np.argmax(tmp, axis=1)\n",
    "\n",
    "    return sample"
   ]
  },
  {
   "cell_type": "markdown",
   "metadata": {},
   "source": [
    "### MCMC\n",
    "\n",
    "Below we perform 10,000 iterations to sample from the posterior. When presenting results, below, we will drop the first 5,000 iterations as the burn-in period, and of the remaining 5,000 iterations we will save only every tenth iteration. Results will then be computed from the remaining 500 iterations."
   ]
  },
  {
   "cell_type": "code",
   "execution_count": 11,
   "metadata": {},
   "outputs": [],
   "source": [
    "np.random.seed(1234)\n",
    "\n",
    "# Setup the model and simulation smoother\n",
    "mod = TVLLDT(endog)\n",
    "mod.set_smoother_output(0, smoother_state=True)\n",
    "sim = mod.simulation_smoother()\n",
    "\n",
    "# Simulation parameters\n",
    "n_iterations = 10000\n",
    "burn = 5000\n",
    "thin = 10\n",
    "\n",
    "# Storage for traces\n",
    "trace_smoothed = np.zeros((n_iterations + 1, mod.nobs))\n",
    "trace_states = np.zeros((n_iterations + 1, mod.nobs))\n",
    "trace_mixing = np.zeros((n_iterations + 1, mod.nobs), int)\n",
    "trace_mu = np.zeros((n_iterations + 1, 1))\n",
    "trace_phi = np.zeros((n_iterations + 1, 1))\n",
    "trace_sigma2 = np.zeros((n_iterations + 1, 1))\n",
    "\n",
    "# Initial values (p. 367)\n",
    "trace_mixing[0] = 0\n",
    "trace_mu[0] = 0\n",
    "trace_phi[0] = 0.95\n",
    "trace_sigma2[0] = 0.5\n",
    "\n",
    "# Iterations\n",
    "for s in range(1, n_iterations + 1):\n",
    "    # Update the parameters of the model\n",
    "    mod.update_mixing(trace_mixing[s-1])\n",
    "    params = np.r_[trace_mu[s-1], trace_phi[s-1], trace_sigma2[s-1]]\n",
    "    mod.update(params, transformed=True)\n",
    "    \n",
    "    # Simulation smoothing\n",
    "    sim.simulate()\n",
    "    states = sim.simulated_state\n",
    "    trace_states[s] = states[0]\n",
    "\n",
    "    # Draw mixing indicators\n",
    "    trace_mixing[s] = draw_mixing(mod, states)\n",
    "    \n",
    "    # Draw parameters\n",
    "    trace_phi[s] = draw_posterior_phi(mod, states, trace_phi[s-1], trace_mu[s-1], trace_sigma2[s-1])\n",
    "    trace_sigma2[s] = draw_posterior_sigma2(mod, states, trace_phi[s-1], trace_mu[s-1])\n",
    "    trace_mu[s] = draw_posterior_mu(mod, states, trace_phi[s-1], trace_sigma2[s-1])\n"
   ]
  },
  {
   "cell_type": "markdown",
   "metadata": {},
   "source": [
    "### Results\n",
    "\n",
    "Below we present the posterior means for the parameters. This replicates Table 5 from KSC. We also show the corresponding QMLE estimates. These latter are similar to the posterior means for $\\phi$ and $\\beta$ but the QMLE estimate of $\\sigma_\\eta$ is about half that from the Bayesian approach, potentially demonstrating a downside of the quasi-likelihood approach."
   ]
  },
  {
   "cell_type": "code",
   "execution_count": 16,
   "metadata": {},
   "outputs": [
    {
     "name": "stdout",
     "output_type": "stream",
     "text": [
      "Replication of Table 5 from KSC: means of posterior draws from MCMC (value from KSC in parentheses)\n",
      "  phi | y        = 0.97600 (0.97779)\n",
      "  sigma | y      = 0.15947 (0.15850)\n",
      "  beta | y       = 0.65292 (0.64733)\n",
      "\n",
      "QMLE estimates\n",
      "  phi            = 0.99091\n",
      "  sigma          = 0.07663\n",
      "  beta           = 0.70181\n"
     ]
    }
   ],
   "source": [
    "# Means of parameters\n",
    "mean_phi = np.mean(trace_phi[burn::thin])\n",
    "mean_sigma = np.mean(trace_sigma2[burn::thin]**0.5)\n",
    "mean_beta = np.mean(np.exp(trace_mu[burn::thin] / 2))\n",
    "\n",
    "print('Replication of Table 5 from KSC: means of posterior draws from MCMC (value from KSC in parentheses)')\n",
    "print('  phi | y        = %.5f (0.97779)' % mean_phi)\n",
    "print('  sigma | y      = %.5f (0.15850)' % mean_sigma)\n",
    "print('  beta | y       = %.5f (0.64733)' % mean_beta)\n",
    "print('')\n",
    "print('QMLE estimates')\n",
    "print('  phi            = %.5f' % res_QLSV.params[0])\n",
    "print('  sigma          = %.5f' % res_QLSV.params[1]**0.5)\n",
    "print('  beta           = %.5f' % np.exp(res_QLSV.params[2] / 2))"
   ]
  },
  {
   "cell_type": "markdown",
   "metadata": {},
   "source": [
    "Since the parameter $\\sigma_\\eta$ controls the variance of the underlying stochastic volatility process, underestimation will dampen changes in the volatility process over the sample. This is shown in the graph, below."
   ]
  },
  {
   "cell_type": "code",
   "execution_count": 13,
   "metadata": {},
   "outputs": [
    {
     "data": {
      "image/png": "[encoded data removed]",
      "text/plain": [
       "<Figure size 1080x288 with 1 Axes>"
      ]
     },
     "metadata": {},
     "output_type": "display_data"
    }
   ],
   "source": [
    "fig, ax = plt.subplots(figsize=(15, 4))\n",
    "\n",
    "posterior_states = np.percentile(trace_states[burn::thin], (15, 50, 85), axis=0)\n",
    "\n",
    "ax.plot(posterior_states[1], label='Posterior median')\n",
    "ax.fill_between(np.arange(mod.nobs), posterior_states[0], posterior_states[2], alpha=0.2)\n",
    "ax.plot(res_QLSV.smoothed_state[0], label='QMLE')\n",
    "ax.set(title='Estimated stochastic volatility: posterior median and 15%/85% credible set',\n",
    "       xlabel=r'$t$', xlim=(0, len(endog)))\n",
    "ax.legend();"
   ]
  },
  {
   "cell_type": "markdown",
   "metadata": {},
   "source": [
    "Finally, we may be interested in the full conditional posterior distributions of the parameters. These are shown below, along with the posterior means and the QMLE estimates."
   ]
  },
  {
   "cell_type": "code",
   "execution_count": 14,
   "metadata": {},
   "outputs": [
    {
     "data": {
      "image/png": "[encoded data removed]",
      "text/plain": [
       "<Figure size 1080x288 with 3 Axes>"
      ]
     },
     "metadata": {},
     "output_type": "display_data"
    }
   ],
   "source": [
    "fig, axes = plt.subplots(1, 3, figsize=(15, 4))\n",
    "\n",
    "axes[0].hist(trace_phi[burn::thin])\n",
    "ylim = (0, 140)\n",
    "axes[0].vlines(mean_phi, ylim[0], ylim[1], label='Posterior mean')\n",
    "axes[0].vlines(res_QLSV.params[0], ylim[0], ylim[1], color='r', label='QMLE')\n",
    "axes[0].set(title=r'$\\phi$', ylim=ylim)\n",
    "axes[0].legend(loc='upper left')\n",
    "\n",
    "axes[1].hist(trace_sigma2[burn::thin]**0.5)\n",
    "ylim = (0, 110)\n",
    "axes[1].vlines(mean_sigma, ylim[0], ylim[1], label='Posterior mean')\n",
    "axes[1].vlines(res_QLSV.params[1]**0.5, ylim[0], ylim[1], color='r', label='QMLE')\n",
    "axes[1].set(title=r'$\\sigma_\\eta$', ylim=ylim)\n",
    "\n",
    "axes[2].hist(np.exp(trace_mu[burn::thin] / 2))\n",
    "ylim = (0, 340)\n",
    "axes[2].vlines(mean_beta, ylim[0], ylim[1], label='Posterior mean')\n",
    "axes[2].vlines(np.exp(res_QLSV.params[2] / 2), ylim[0], ylim[1], color='r', label='QMLE')\n",
    "axes[2].set(title=r'$\\beta$', ylim=ylim);"
   ]
  }
 ],
 "metadata": {
  "kernelspec": {
   "display_name": "Python 2",
   "language": "python",
   "name": "python2"
  },
  "language_info": {
   "codemirror_mode": {
    "name": "ipython",
    "version": 2
   },
   "file_extension": ".py",
   "mimetype": "text/x-python",
   "name": "python",
   "nbconvert_exporter": "python",
   "pygments_lexer": "ipython2",
   "version": "2.7.14"
  }
 },
 "nbformat": 4,
 "nbformat_minor": 1
}
