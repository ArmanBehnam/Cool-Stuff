{
 "cells": [
  {
   "cell_type": "markdown",
   "metadata": {},
   "source": [
    "# MNIST using RNN"
   ]
  },
  {
   "cell_type": "markdown",
   "metadata": {},
   "source": [
    "## 시작하기\n",
    "\n",
    "* 사용할 라이브러리를 import 합니다. \n",
    "* 본 예제는 tensorflow를 사용합니다.\n",
    "* 데이터셋은 tensorflow에서 제공하는 mnist 데이터셋을 사용합니다."
   ]
  },
  {
   "cell_type": "code",
   "execution_count": 1,
   "metadata": {
    "collapsed": true
   },
   "outputs": [],
   "source": [
    "import tensorflow as tf\n",
    "import numpy as np\n",
    "import matplotlib.pyplot as plt\n",
    "from tensorflow.examples.tutorials.mnist import input_data\n",
    "\n",
    "import os\n",
    "import time\n",
    "\n",
    "tf.reset_default_graph()\n",
    "%matplotlib inline"
   ]
  },
  {
   "cell_type": "markdown",
   "metadata": {},
   "source": [
    "## 데이터셋 불러오기\n",
    "\n",
    "* 사용할 데이터셋을 불러온다. \n",
    "* images: 0부터 9까지 필기체로 작성된 흑백영상 (1채널). \n",
    "* label: one_hot 형태로 설정한다. \n",
    "\n",
    "- 0 = [1 0 0 0 0 0 0 0 0 0]\n",
    "- 1 = [0 1 0 0 0 0 0 0 0 0]"
   ]
  },
  {
   "cell_type": "code",
   "execution_count": 2,
   "metadata": {
    "collapsed": false
   },
   "outputs": [
    {
     "name": "stdout",
     "output_type": "stream",
     "text": [
      "Extracting MNIST_data/train-images-idx3-ubyte.gz\n",
      "Extracting MNIST_data/train-labels-idx1-ubyte.gz\n",
      "Extracting MNIST_data/t10k-images-idx3-ubyte.gz\n",
      "Extracting MNIST_data/t10k-labels-idx1-ubyte.gz\n",
      "Number of train data is 55000\n",
      "Number of test data is 10000\n"
     ]
    }
   ],
   "source": [
    "mnist = input_data.read_data_sets('MNIST_data', one_hot=True)\n",
    "print(\"Number of train data is %d\" % (mnist.train.num_examples))\n",
    "print(\"Number of test data is %d\" % (mnist.test.num_examples))"
   ]
  },
  {
   "cell_type": "markdown",
   "metadata": {},
   "source": [
    "## 데이터셋 확인하기\n",
    "\n",
    "학습 데이터의 이미지와 레이블을 확인한다."
   ]
  },
  {
   "cell_type": "code",
   "execution_count": 3,
   "metadata": {
    "collapsed": false,
    "scrolled": true
   },
   "outputs": [
    {
     "data": {
      "image/png": "[encoded data removed]",
      "text/plain": [
       "<matplotlib.figure.Figure at 0x7fe2882d0810>"
      ]
     },
     "metadata": {},
     "output_type": "display_data"
    },
    {
     "data": {
      "image/png": "[encoded data removed]",
      "text/plain": [
       "<matplotlib.figure.Figure at 0x7fe1e4acbb50>"
      ]
     },
     "metadata": {},
     "output_type": "display_data"
    },
    {
     "data": {
      "image/png": "[encoded data removed]",
      "text/plain": [
       "<matplotlib.figure.Figure at 0x7fe1e49c0bd0>"
      ]
     },
     "metadata": {},
     "output_type": "display_data"
    }
   ],
   "source": [
    "nsample = 3\n",
    "rand_idx = np.random.randint(mnist.train.images.shape[0], size=nsample)\n",
    "\n",
    "for i in rand_idx:\n",
    "    curr_img = np.reshape(mnist.train.images[i, :], (28,28))\n",
    "    curr_lbl = np.argmax(mnist.train.labels[i, :])\n",
    "    plt.matshow(curr_img, cmap=plt.get_cmap('gray'))\n",
    "    plt.title(\"\"+str(i)+\"th training image \"\n",
    "              + \"(label: \" + str(curr_lbl) + \")\")\n",
    "    plt.show()"
   ]
  },
  {
   "cell_type": "markdown",
   "metadata": {},
   "source": [
    "## 이미지 분류를 위한 RNN 구성\n",
    "\n",
    "28x28 이미지를 RNN 입력을 위해 아래와 같이 구성한다.\n",
    "\n",
    "* input_vec_size: 하나의 이미지 (28x28) 중 한 행씩 RNN의 입력으로 사용한다.\n",
    "* time_step_size: 하나의 이미지 (28x28)를 모두 입력하려면 28개의 행이 필요하다. 따라서 time_step은 28.\n",
    "* lstm_size: rnn_cell에 포함된 hidden unit의 수"
   ]
  },
  {
   "cell_type": "code",
   "execution_count": 4,
   "metadata": {
    "collapsed": true
   },
   "outputs": [],
   "source": [
    "# configuration\n",
    "#                        O * W + b -> 10 labels for each image, O[? 28], W[28 10], B[10]\n",
    "#                       ^ (O: output 28 vec from 28 vec input)\n",
    "#                       |\n",
    "#      +-+  +-+       +--+\n",
    "#      |1|->|2|-> ... |28| time_step_size = 28\n",
    "#      +-+  +-+       +--+\n",
    "#       ^    ^    ...  ^\n",
    "#       |    |         |\n",
    "# img1:[28] [28]  ... [28]\n",
    "# img2:[28] [28]  ... [28]\n",
    "# img3:[28] [28]  ... [28]\n",
    "# ...\n",
    "# img128 or img256 (batch_size or test_size 256)\n",
    "#      each input size = input_vec_size=lstm_size=28"
   ]
  },
  {
   "cell_type": "code",
   "execution_count": 5,
   "metadata": {
    "collapsed": true
   },
   "outputs": [],
   "source": [
    "input_vec_size = lstm_size = 28\n",
    "time_step_size = 28\n",
    "\n",
    "batch_size = 128\n",
    "test_size = 256"
   ]
  },
  {
   "cell_type": "markdown",
   "metadata": {},
   "source": [
    "## RNN 모델 정의"
   ]
  },
  {
   "cell_type": "code",
   "execution_count": 9,
   "metadata": {
    "collapsed": true
   },
   "outputs": [],
   "source": [
    "def init_weights(shape):\n",
    "    return tf.Variable(tf.random_normal(shape, stddev=0.01))\n",
    "\n",
    "def model(X, W, B, lstm_size):\n",
    "    # X, input shape: (batch_size, time_step_size, input_vec_size)\n",
    "    XT = tf.transpose(X, [1, 0, 2])  # permute time_step_size and batch_size\n",
    "    # XT shape: (time_step_size, batch_size, input_vec_size)\n",
    "    XR = tf.reshape(XT, [-1, lstm_size]) # each row has input for each lstm cell (lstm_size=input_vec_size)\n",
    "    # XR shape: (time_step_size * batch_size, input_vec_size)\n",
    "    X_split = tf.split(0, time_step_size, XR) # split them to time_step_size (28 arrays)\n",
    "    # Each array shape: (batch_size, input_vec_size)\n",
    "\n",
    "    # Make lstm with lstm_size (each input vector size)\n",
    "    lstm = tf.nn.rnn_cell.BasicLSTMCell(lstm_size, forget_bias=1.0, state_is_tuple=True)\n",
    "\n",
    "    # Get lstm cell output, time_step_size (28) arrays with lstm_size output: (batch_size, lstm_size)\n",
    "    outputs, _states = tf.nn.rnn(lstm, X_split, dtype=tf.float32)\n",
    "\n",
    "    # Linear activation\n",
    "    # Get the last output\n",
    "    return tf.matmul(outputs[-1], W) + B, lstm.state_size # State size to initialize the stat"
   ]
  },
  {
   "cell_type": "markdown",
   "metadata": {},
   "source": [
    "## 데이터 변환\n",
    "\n",
    "* training과 test 데이터를 1d에서 2d형태로 reshape한다.\n",
    "* 입력과 출력에 해당하는 placeholder 선언"
   ]
  },
  {
   "cell_type": "code",
   "execution_count": 10,
   "metadata": {
    "collapsed": false
   },
   "outputs": [],
   "source": [
    "trX, trY, teX, teY = mnist.train.images, mnist.train.labels, mnist.test.images, mnist.test.labels\n",
    "trX = trX.reshape(-1, 28, 28)\n",
    "teX = teX.reshape(-1, 28, 28)\n",
    "\n",
    "X = tf.placeholder(\"float\", [None, 28, 28])\n",
    "Y = tf.placeholder(\"float\", [None, 10])"
   ]
  },
  {
   "cell_type": "markdown",
   "metadata": {},
   "source": [
    "## 모델 선언\n",
    "\n",
    "* Hidden unit과 output unit크기만큼 모델 생성\n",
    "* 모델 생성"
   ]
  },
  {
   "cell_type": "code",
   "execution_count": 11,
   "metadata": {
    "collapsed": false
   },
   "outputs": [],
   "source": [
    "# get lstm_size and output 10 labels\n",
    "W = init_weights([lstm_size, 10])\n",
    "B = init_weights([10])\n",
    "\n",
    "py_x, state_size = model(X, W, B, lstm_size)"
   ]
  },
  {
   "cell_type": "markdown",
   "metadata": {},
   "source": [
    "## loss 함수 선언 및 최적화"
   ]
  },
  {
   "cell_type": "code",
   "execution_count": 12,
   "metadata": {
    "collapsed": false
   },
   "outputs": [],
   "source": [
    "cost = tf.reduce_mean(tf.nn.softmax_cross_entropy_with_logits(py_x, Y))\n",
    "train_op = tf.train.RMSPropOptimizer(0.001, 0.9).minimize(cost)\n",
    "predict_op = tf.argmax(py_x, 1)"
   ]
  },
  {
   "cell_type": "markdown",
   "metadata": {},
   "source": [
    "## 세션 생성 및 학습 정확도 측정"
   ]
  },
  {
   "cell_type": "code",
   "execution_count": 13,
   "metadata": {
    "collapsed": false
   },
   "outputs": [
    {
     "name": "stdout",
     "output_type": "stream",
     "text": [
      "(0, 0.68359375)\n",
      "(1, 0.859375)\n",
      "(2, 0.90234375)\n",
      "(3, 0.9296875)\n",
      "(4, 0.95703125)\n",
      "(5, 0.90234375)\n",
      "(6, 0.9453125)\n",
      "(7, 0.94140625)\n",
      "(8, 0.94921875)\n",
      "(9, 0.98046875)\n",
      "(10, 0.96875)\n",
      "(11, 0.96875)\n",
      "(12, 0.984375)\n",
      "(13, 0.96484375)\n",
      "(14, 0.98828125)\n",
      "(15, 0.98046875)\n",
      "(16, 0.953125)\n",
      "(17, 0.98046875)\n",
      "(18, 0.98828125)\n",
      "(19, 0.96875)\n",
      "(20, 0.96875)\n",
      "(21, 0.95703125)\n",
      "(22, 0.96875)\n",
      "(23, 0.96484375)\n",
      "(24, 0.98828125)\n",
      "(25, 0.98046875)\n",
      "(26, 0.98046875)\n",
      "(27, 0.97265625)\n",
      "(28, 0.96875)\n",
      "(29, 0.98828125)\n",
      "(30, 0.9765625)\n",
      "(31, 0.97265625)\n",
      "(32, 0.9609375)\n",
      "(33, 0.9609375)\n",
      "(34, 0.96484375)\n",
      "(35, 0.98046875)\n",
      "(36, 0.98046875)\n",
      "(37, 0.984375)\n",
      "(38, 0.98046875)\n",
      "(39, 0.9765625)\n",
      "(40, 0.98046875)\n",
      "(41, 0.9765625)\n",
      "(42, 0.9921875)\n",
      "(43, 0.97265625)\n",
      "(44, 0.96875)\n",
      "(45, 0.9765625)\n",
      "(46, 0.984375)\n",
      "(47, 0.98828125)\n",
      "(48, 0.95703125)\n",
      "(49, 0.9921875)\n",
      "(50, 0.96875)\n",
      "(51, 0.98046875)\n",
      "(52, 0.984375)\n",
      "(53, 0.9765625)\n",
      "(54, 0.96875)\n",
      "(55, 0.97265625)\n",
      "(56, 0.953125)\n",
      "(57, 0.97265625)\n",
      "(58, 0.984375)\n",
      "(59, 0.984375)\n",
      "(60, 0.9765625)\n",
      "(61, 0.97265625)\n",
      "(62, 0.9765625)\n",
      "(63, 0.984375)\n",
      "(64, 0.95703125)\n",
      "(65, 0.98046875)\n",
      "(66, 0.98828125)\n",
      "(67, 0.9765625)\n",
      "(68, 0.9765625)\n",
      "(69, 0.9765625)\n",
      "(70, 0.97265625)\n",
      "(71, 0.953125)\n",
      "(72, 0.9921875)\n",
      "(73, 0.96484375)\n",
      "(74, 0.9765625)\n",
      "(75, 0.96484375)\n",
      "(76, 0.97265625)\n",
      "(77, 0.95703125)\n",
      "(78, 0.97265625)\n",
      "(79, 0.9765625)\n",
      "(80, 0.9609375)\n",
      "(81, 0.96875)\n",
      "(82, 0.96875)\n",
      "(83, 0.95703125)\n",
      "(84, 0.984375)\n",
      "(85, 0.98828125)\n",
      "(86, 0.98828125)\n",
      "(87, 0.97265625)\n",
      "(88, 0.9765625)\n",
      "(89, 0.984375)\n",
      "(90, 0.98046875)\n",
      "(91, 0.96875)\n",
      "(92, 0.98828125)\n",
      "(93, 0.97265625)\n",
      "(94, 0.97265625)\n",
      "(95, 0.95703125)\n",
      "(96, 0.98828125)\n",
      "(97, 0.96875)\n",
      "(98, 0.98046875)\n",
      "(99, 0.97265625)\n"
     ]
    }
   ],
   "source": [
    "# Launch the graph in a session\n",
    "with tf.Session() as sess:\n",
    "    # you need to initialize all variables\n",
    "    tf.initialize_all_variables().run()\n",
    "\n",
    "    for i in range(100):\n",
    "        for start, end in zip(range(0, len(trX), batch_size), range(batch_size, len(trX)+1, batch_size)):\n",
    "            sess.run(train_op, feed_dict={X: trX[start:end], Y: trY[start:end]})\n",
    "\n",
    "        test_indices = np.arange(len(teX))  # Get A Test Batch\n",
    "        np.random.shuffle(test_indices)\n",
    "        test_indices = test_indices[0:test_size]\n",
    "\n",
    "        print(i, np.mean(np.argmax(teY[test_indices], axis=1) ==\n",
    "                         sess.run(predict_op, feed_dict={X: teX[test_indices],\n",
    "                                                         Y: teY[test_indices]})))"
   ]
  }
 ],
 "metadata": {
  "kernelspec": {
   "display_name": "Python 2",
   "language": "python",
   "name": "python2"
  },
  "language_info": {
   "codemirror_mode": {
    "name": "ipython",
    "version": 2
   },
   "file_extension": ".py",
   "mimetype": "text/x-python",
   "name": "python",
   "nbconvert_exporter": "python",
   "pygments_lexer": "ipython2",
   "version": "2.7.6"
  }
 },
 "nbformat": 4,
 "nbformat_minor": 1
}
