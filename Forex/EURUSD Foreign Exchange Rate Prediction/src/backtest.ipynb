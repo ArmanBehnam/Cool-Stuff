{
 "cells": [
  {
   "cell_type": "code",
   "execution_count": 122,
   "metadata": {},
   "outputs": [
    {
     "data": {
      "text/html": [
       "<style>.container { width:100% !important; }</style>"
      ],
      "text/plain": [
       "<IPython.core.display.HTML object>"
      ]
     },
     "metadata": {},
     "output_type": "display_data"
    }
   ],
   "source": [
    "import pandas as pd\n",
    "import numpy as np\n",
    "import talib\n",
    "import matplotlib.pyplot as plt\n",
    "import seaborn as sns\n",
    "import scipy.stats as scs\n",
    "import re\n",
    "from datetime import datetime\n",
    "from sklearn.linear_model import LogisticRegression\n",
    "from sklearn.tree import DecisionTreeClassifier\n",
    "from sklearn.ensemble import RandomForestClassifier, AdaBoostClassifier, GradientBoostingClassifier\n",
    "from sklearn.metrics import recall_score, accuracy_score, precision_score\n",
    "from sklearn.model_selection import train_test_split, KFold, GridSearchCV, cross_val_score, TimeSeriesSplit\n",
    "from sklearn.preprocessing import StandardScaler, MinMaxScaler, MaxAbsScaler, RobustScaler\n",
    "from sklearn.metrics import roc_curve, auc, classification_report\n",
    "from sklearn.svm import SVC\n",
    "from sklearn.pipeline import make_pipeline\n",
    "from sklearn.decomposition import PCA\n",
    "from sklearn.manifold import TSNE\n",
    "\n",
    "%matplotlib inline\n",
    "plt.style.use('ggplot')\n",
    "from IPython.core.display import display, HTML\n",
    "display(HTML(\"<style>.container { width:100% !important; }</style>\"))\n",
    "plt.rcParams[\"figure.figsize\"] = (12,12)\n",
    "plt.rcParams.update({'font.size': 16})\n",
    "pd.options.display.max_columns = None\n",
    "pd.set_option('display.float_format', lambda x: '%.6f' % x)"
   ]
  },
  {
   "cell_type": "code",
   "execution_count": 123,
   "metadata": {},
   "outputs": [],
   "source": [
    "from models import *"
   ]
  },
  {
   "cell_type": "code",
   "execution_count": 124,
   "metadata": {},
   "outputs": [
    {
     "name": "stdout",
     "output_type": "stream",
     "text": [
      "got data\n",
      "added targets\n",
      "added features\n"
     ]
    }
   ],
   "source": [
    "df = get_data('EUR_USD_M15', datetime(2017,1,1), datetime(2018,1,1))\n",
    "print('got data')\n",
    "df = add_target(df)\n",
    "print('added targets')\n",
    "df = add_features(df)\n",
    "print('added features')\n",
    "x, y, last_x_pred, last_x_ohlcv = split_data_x_y(df)"
   ]
  },
  {
   "cell_type": "code",
   "execution_count": 125,
   "metadata": {},
   "outputs": [
    {
     "name": "stdout",
     "output_type": "stream",
     "text": [
      "(17043, 247)\n",
      "(17043, 237)\n",
      "(17043,)\n"
     ]
    }
   ],
   "source": [
    "print(df.shape)\n",
    "print(x.shape)\n",
    "print(y.shape)"
   ]
  },
  {
   "cell_type": "code",
   "execution_count": 126,
   "metadata": {},
   "outputs": [
    {
     "data": {
      "text/plain": [
       "{'lr_l2_c1': Pipeline(memory=None,\n",
       "      steps=[('scale', StandardScaler(copy=True, with_mean=True, with_std=True)), ('clf', LogisticRegression(C=1, class_weight=None, dual=False, fit_intercept=True,\n",
       "           intercept_scaling=1, max_iter=100, multi_class='ovr', n_jobs=1,\n",
       "           penalty='l2', random_state=None, solver='liblinear', tol=0.0001,\n",
       "           verbose=0, warm_start=False))])}"
      ]
     },
     "execution_count": 126,
     "metadata": {},
     "output_type": "execute_result"
    }
   ],
   "source": [
    "pipes = get_variety_pipes()\n",
    "pipes"
   ]
  },
  {
   "cell_type": "code",
   "execution_count": 127,
   "metadata": {},
   "outputs": [
    {
     "data": {
      "text/plain": [
       "['BOP_REAL',\n",
       " 'HT_TRENDLINE_REAL',\n",
       " 'AD_REAL',\n",
       " 'OBV_REAL',\n",
       " 'HT_DCPERIOD_REAL',\n",
       " 'HT_DCPHASE_REAL',\n",
       " 'HT_PHASOR_INPHASE',\n",
       " 'HT_PHASOR_QUADRATURE',\n",
       " 'HT_SINE_SINE',\n",
       " 'HT_SINE_LEADSINE',\n",
       " 'HT_TRENDMODE_INTEGER',\n",
       " 'TRANGE_REAL',\n",
       " 'ADX_5_REAL',\n",
       " 'ADX_15_REAL',\n",
       " 'ADX_25_REAL',\n",
       " 'ADX_35_REAL',\n",
       " 'ADX_45_REAL',\n",
       " 'ADXR_5_REAL',\n",
       " 'ADXR_15_REAL',\n",
       " 'ADXR_25_REAL',\n",
       " 'ADXR_35_REAL',\n",
       " 'ADXR_45_REAL',\n",
       " 'AROON_5_AROONDOWN',\n",
       " 'AROON_5_AROONUP',\n",
       " 'AROON_15_AROONDOWN',\n",
       " 'AROON_15_AROONUP',\n",
       " 'AROON_25_AROONDOWN',\n",
       " 'AROON_25_AROONUP',\n",
       " 'AROON_35_AROONDOWN',\n",
       " 'AROON_35_AROONUP',\n",
       " 'AROON_45_AROONDOWN',\n",
       " 'AROON_45_AROONUP',\n",
       " 'AROONOSC_5_REAL',\n",
       " 'AROONOSC_15_REAL',\n",
       " 'AROONOSC_25_REAL',\n",
       " 'AROONOSC_35_REAL',\n",
       " 'AROONOSC_45_REAL',\n",
       " 'CCI_5_REAL',\n",
       " 'CCI_15_REAL',\n",
       " 'CCI_25_REAL',\n",
       " 'CCI_35_REAL',\n",
       " 'CCI_45_REAL',\n",
       " 'CMO_5_REAL',\n",
       " 'CMO_15_REAL',\n",
       " 'CMO_25_REAL',\n",
       " 'CMO_35_REAL',\n",
       " 'CMO_45_REAL',\n",
       " 'DX_5_REAL',\n",
       " 'DX_15_REAL',\n",
       " 'DX_25_REAL',\n",
       " 'DX_35_REAL',\n",
       " 'DX_45_REAL',\n",
       " 'MFI_5_REAL',\n",
       " 'MFI_15_REAL',\n",
       " 'MFI_25_REAL',\n",
       " 'MFI_35_REAL',\n",
       " 'MFI_45_REAL',\n",
       " 'MINUS_DI_5_REAL',\n",
       " 'MINUS_DI_15_REAL',\n",
       " 'MINUS_DI_25_REAL',\n",
       " 'MINUS_DI_35_REAL',\n",
       " 'MINUS_DI_45_REAL',\n",
       " 'MINUS_DM_5_REAL',\n",
       " 'MINUS_DM_15_REAL',\n",
       " 'MINUS_DM_25_REAL',\n",
       " 'MINUS_DM_35_REAL',\n",
       " 'MINUS_DM_45_REAL',\n",
       " 'MOM_5_REAL',\n",
       " 'MOM_15_REAL',\n",
       " 'MOM_25_REAL',\n",
       " 'MOM_35_REAL',\n",
       " 'MOM_45_REAL',\n",
       " 'PLUS_DI_5_REAL',\n",
       " 'PLUS_DI_15_REAL',\n",
       " 'PLUS_DI_25_REAL',\n",
       " 'PLUS_DI_35_REAL',\n",
       " 'PLUS_DI_45_REAL',\n",
       " 'PLUS_DM_5_REAL',\n",
       " 'PLUS_DM_15_REAL',\n",
       " 'PLUS_DM_25_REAL',\n",
       " 'PLUS_DM_35_REAL',\n",
       " 'PLUS_DM_45_REAL',\n",
       " 'ROC_5_REAL',\n",
       " 'ROC_15_REAL',\n",
       " 'ROC_25_REAL',\n",
       " 'ROC_35_REAL',\n",
       " 'ROC_45_REAL',\n",
       " 'ROCP_5_REAL',\n",
       " 'ROCP_15_REAL',\n",
       " 'ROCP_25_REAL',\n",
       " 'ROCP_35_REAL',\n",
       " 'ROCP_45_REAL',\n",
       " 'ROCR_5_REAL',\n",
       " 'ROCR_15_REAL',\n",
       " 'ROCR_25_REAL',\n",
       " 'ROCR_35_REAL',\n",
       " 'ROCR_45_REAL',\n",
       " 'ROCR100_5_REAL',\n",
       " 'ROCR100_15_REAL',\n",
       " 'ROCR100_25_REAL',\n",
       " 'ROCR100_35_REAL',\n",
       " 'ROCR100_45_REAL',\n",
       " 'RSI_5_REAL',\n",
       " 'RSI_15_REAL',\n",
       " 'RSI_25_REAL',\n",
       " 'RSI_35_REAL',\n",
       " 'RSI_45_REAL',\n",
       " 'TRIX_5_REAL',\n",
       " 'TRIX_15_REAL',\n",
       " 'TRIX_25_REAL',\n",
       " 'TRIX_35_REAL',\n",
       " 'TRIX_45_REAL',\n",
       " 'WILLR_5_REAL',\n",
       " 'WILLR_15_REAL',\n",
       " 'WILLR_25_REAL',\n",
       " 'WILLR_35_REAL',\n",
       " 'WILLR_45_REAL',\n",
       " 'DEMA_5_REAL',\n",
       " 'DEMA_15_REAL',\n",
       " 'DEMA_25_REAL',\n",
       " 'DEMA_35_REAL',\n",
       " 'DEMA_45_REAL',\n",
       " 'EMA_5_REAL',\n",
       " 'EMA_15_REAL',\n",
       " 'EMA_25_REAL',\n",
       " 'EMA_35_REAL',\n",
       " 'EMA_45_REAL',\n",
       " 'KAMA_5_REAL',\n",
       " 'KAMA_15_REAL',\n",
       " 'KAMA_25_REAL',\n",
       " 'KAMA_35_REAL',\n",
       " 'KAMA_45_REAL',\n",
       " 'MIDPOINT_5_REAL',\n",
       " 'MIDPOINT_15_REAL',\n",
       " 'MIDPOINT_25_REAL',\n",
       " 'MIDPOINT_35_REAL',\n",
       " 'MIDPOINT_45_REAL',\n",
       " 'MIDPRICE_5_REAL',\n",
       " 'MIDPRICE_15_REAL',\n",
       " 'MIDPRICE_25_REAL',\n",
       " 'MIDPRICE_35_REAL',\n",
       " 'MIDPRICE_45_REAL',\n",
       " 'SMA_5_REAL',\n",
       " 'SMA_15_REAL',\n",
       " 'SMA_25_REAL',\n",
       " 'SMA_35_REAL',\n",
       " 'SMA_45_REAL',\n",
       " 'TEMA_5_REAL',\n",
       " 'TEMA_15_REAL',\n",
       " 'TEMA_25_REAL',\n",
       " 'TEMA_35_REAL',\n",
       " 'TEMA_45_REAL',\n",
       " 'TRIMA_5_REAL',\n",
       " 'TRIMA_15_REAL',\n",
       " 'TRIMA_25_REAL',\n",
       " 'TRIMA_35_REAL',\n",
       " 'TRIMA_45_REAL',\n",
       " 'WMA_5_REAL',\n",
       " 'WMA_15_REAL',\n",
       " 'WMA_25_REAL',\n",
       " 'WMA_35_REAL',\n",
       " 'WMA_45_REAL',\n",
       " 'ATR_5_REAL',\n",
       " 'ATR_15_REAL',\n",
       " 'ATR_25_REAL',\n",
       " 'ATR_35_REAL',\n",
       " 'ATR_45_REAL',\n",
       " 'NATR_5_REAL',\n",
       " 'NATR_15_REAL',\n",
       " 'NATR_25_REAL',\n",
       " 'NATR_35_REAL',\n",
       " 'NATR_45_REAL',\n",
       " 'BETA_5_REAL',\n",
       " 'BETA_15_REAL',\n",
       " 'BETA_25_REAL',\n",
       " 'BETA_35_REAL',\n",
       " 'BETA_45_REAL',\n",
       " 'CORREL_5_REAL',\n",
       " 'CORREL_15_REAL',\n",
       " 'CORREL_25_REAL',\n",
       " 'CORREL_35_REAL',\n",
       " 'CORREL_45_REAL',\n",
       " 'LINEARREG_5_REAL',\n",
       " 'LINEARREG_15_REAL',\n",
       " 'LINEARREG_25_REAL',\n",
       " 'LINEARREG_35_REAL',\n",
       " 'LINEARREG_45_REAL',\n",
       " 'LINEARREG_ANGLE_5_REAL',\n",
       " 'LINEARREG_ANGLE_15_REAL',\n",
       " 'LINEARREG_ANGLE_25_REAL',\n",
       " 'LINEARREG_ANGLE_35_REAL',\n",
       " 'LINEARREG_ANGLE_45_REAL',\n",
       " 'LINEARREG_INTERCEPT_5_REAL',\n",
       " 'LINEARREG_INTERCEPT_15_REAL',\n",
       " 'LINEARREG_INTERCEPT_25_REAL',\n",
       " 'LINEARREG_INTERCEPT_35_REAL',\n",
       " 'LINEARREG_INTERCEPT_45_REAL',\n",
       " 'LINEARREG_SLOPE_5_REAL',\n",
       " 'LINEARREG_SLOPE_15_REAL',\n",
       " 'LINEARREG_SLOPE_25_REAL',\n",
       " 'LINEARREG_SLOPE_35_REAL',\n",
       " 'LINEARREG_SLOPE_45_REAL',\n",
       " 'TSF_5_REAL',\n",
       " 'TSF_15_REAL',\n",
       " 'TSF_25_REAL',\n",
       " 'TSF_35_REAL',\n",
       " 'TSF_45_REAL',\n",
       " 'APO_REAL',\n",
       " 'MACD_MACD',\n",
       " 'MACD_MACDSIGNAL',\n",
       " 'MACD_MACDHIST',\n",
       " 'MACDEXT_MACD',\n",
       " 'MACDEXT_MACDSIGNAL',\n",
       " 'MACDEXT_MACDHIST',\n",
       " 'MACDFIX_MACD',\n",
       " 'MACDFIX_MACDSIGNAL',\n",
       " 'MACDFIX_MACDHIST',\n",
       " 'PPO_REAL',\n",
       " 'STOCH_SLOWK',\n",
       " 'STOCH_SLOWD',\n",
       " 'STOCHF_FASTK',\n",
       " 'STOCHF_FASTD',\n",
       " 'STOCHRSI_FASTK',\n",
       " 'STOCHRSI_FASTD',\n",
       " 'ULTOSC_REAL',\n",
       " 'BBANDS_UPPERBAND',\n",
       " 'BBANDS_MIDDLEBAND',\n",
       " 'BBANDS_LOWERBAND',\n",
       " 'MA_REAL',\n",
       " 'MAMA_MAMA',\n",
       " 'MAMA_FAMA',\n",
       " 'SAR_REAL',\n",
       " 'SAREXT_REAL',\n",
       " 'T3_REAL',\n",
       " 'ADOSC_REAL',\n",
       " 'STDDEV_REAL',\n",
       " 'VAR_REAL']"
      ]
     },
     "execution_count": 127,
     "metadata": {},
     "output_type": "execute_result"
    }
   ],
   "source": [
    "list(x.columns)"
   ]
  },
  {
   "cell_type": "code",
   "execution_count": 128,
   "metadata": {
    "collapsed": true
   },
   "outputs": [],
   "source": [
    "cut = datetime(2017,6,1)\n",
    "x_train, y_train = x.loc[:cut], y.loc[:cut]\n",
    "x_test, y_test = x.loc[cut:], y.loc[cut:]"
   ]
  },
  {
   "cell_type": "code",
   "execution_count": 129,
   "metadata": {},
   "outputs": [
    {
     "name": "stdout",
     "output_type": "stream",
     "text": [
      "(10146, 237) (10146,)\n",
      "(6898, 237) (6898,)\n"
     ]
    }
   ],
   "source": [
    "print(x_train.shape, y_train.shape)\n",
    "print(x_test.shape, y_test.shape)"
   ]
  },
  {
   "cell_type": "code",
   "execution_count": 130,
   "metadata": {},
   "outputs": [
    {
     "data": {
      "text/plain": [
       "Pipeline(memory=None,\n",
       "     steps=[('scale', StandardScaler(copy=True, with_mean=True, with_std=True)), ('clf', LogisticRegression(C=1, class_weight=None, dual=False, fit_intercept=True,\n",
       "          intercept_scaling=1, max_iter=100, multi_class='ovr', n_jobs=1,\n",
       "          penalty='l2', random_state=None, solver='liblinear', tol=0.0001,\n",
       "          verbose=0, warm_start=False))])"
      ]
     },
     "execution_count": 130,
     "metadata": {},
     "output_type": "execute_result"
    }
   ],
   "source": [
    "pipes['lr_l2_c1'].fit(x_train, y_train)"
   ]
  },
  {
   "cell_type": "code",
   "execution_count": 131,
   "metadata": {
    "collapsed": true
   },
   "outputs": [],
   "source": [
    "y_pred = pipes['lr_l2_c1'].predict(x_test)"
   ]
  },
  {
   "cell_type": "code",
   "execution_count": 132,
   "metadata": {},
   "outputs": [
    {
     "data": {
      "text/plain": [
       "(6898,)"
      ]
     },
     "execution_count": 132,
     "metadata": {},
     "output_type": "execute_result"
    }
   ],
   "source": [
    "y_pred.shape"
   ]
  },
  {
   "cell_type": "code",
   "execution_count": 133,
   "metadata": {
    "collapsed": true
   },
   "outputs": [],
   "source": [
    "close = df[['close']][cut:]"
   ]
  },
  {
   "cell_type": "code",
   "execution_count": 134,
   "metadata": {},
   "outputs": [
    {
     "data": {
      "text/plain": [
       "(6898, 1)"
      ]
     },
     "execution_count": 134,
     "metadata": {},
     "output_type": "execute_result"
    }
   ],
   "source": [
    "close.shape"
   ]
  },
  {
   "cell_type": "code",
   "execution_count": 135,
   "metadata": {
    "collapsed": true
   },
   "outputs": [],
   "source": [
    "y_pred = pd.DataFrame(y_pred.astype(bool), index=close.index, columns=['close'])"
   ]
  },
  {
   "cell_type": "code",
   "execution_count": 136,
   "metadata": {},
   "outputs": [
    {
     "data": {
      "text/html": [
       "<div>\n",
       "<style>\n",
       "    .dataframe thead tr:only-child th {\n",
       "        text-align: right;\n",
       "    }\n",
       "\n",
       "    .dataframe thead th {\n",
       "        text-align: left;\n",
       "    }\n",
       "\n",
       "    .dataframe tbody tr th {\n",
       "        vertical-align: top;\n",
       "    }\n",
       "</style>\n",
       "<table border=\"1\" class=\"dataframe\">\n",
       "  <thead>\n",
       "    <tr style=\"text-align: right;\">\n",
       "      <th></th>\n",
       "      <th>close</th>\n",
       "    </tr>\n",
       "    <tr>\n",
       "      <th>time</th>\n",
       "      <th></th>\n",
       "    </tr>\n",
       "  </thead>\n",
       "  <tbody>\n",
       "    <tr>\n",
       "      <th>2017-06-01 00:00:00</th>\n",
       "      <td>True</td>\n",
       "    </tr>\n",
       "    <tr>\n",
       "      <th>2017-06-01 00:15:00</th>\n",
       "      <td>True</td>\n",
       "    </tr>\n",
       "    <tr>\n",
       "      <th>2017-06-01 00:30:00</th>\n",
       "      <td>True</td>\n",
       "    </tr>\n",
       "    <tr>\n",
       "      <th>2017-06-01 00:45:00</th>\n",
       "      <td>True</td>\n",
       "    </tr>\n",
       "    <tr>\n",
       "      <th>2017-06-01 01:00:00</th>\n",
       "      <td>False</td>\n",
       "    </tr>\n",
       "  </tbody>\n",
       "</table>\n",
       "</div>"
      ],
      "text/plain": [
       "                     close\n",
       "time                      \n",
       "2017-06-01 00:00:00   True\n",
       "2017-06-01 00:15:00   True\n",
       "2017-06-01 00:30:00   True\n",
       "2017-06-01 00:45:00   True\n",
       "2017-06-01 01:00:00  False"
      ]
     },
     "execution_count": 136,
     "metadata": {},
     "output_type": "execute_result"
    }
   ],
   "source": [
    "y_pred.head()"
   ]
  },
  {
   "cell_type": "code",
   "execution_count": 138,
   "metadata": {},
   "outputs": [
    {
     "ename": "ImportError",
     "evalue": "cannot import name 'ABCIndexClass'",
     "output_type": "error",
     "traceback": [
      "\u001b[0;31m---------------------------------------------------------------------------\u001b[0m",
      "\u001b[0;31mImportError\u001b[0m                               Traceback (most recent call last)",
      "\u001b[0;32m<ipython-input-138-caeca508216f>\u001b[0m in \u001b[0;36m<module>\u001b[0;34m()\u001b[0m\n\u001b[0;32m----> 1\u001b[0;31m \u001b[0;32mimport\u001b[0m \u001b[0mzipline\u001b[0m\u001b[0;34m\u001b[0m\u001b[0m\n\u001b[0m",
      "\u001b[0;32m~/anaconda3/lib/python3.6/site-packages/zipline/__init__.py\u001b[0m in \u001b[0;36m<module>\u001b[0;34m()\u001b[0m\n\u001b[1;32m     23\u001b[0m \u001b[0;32mfrom\u001b[0m \u001b[0;34m.\u001b[0m \u001b[0;32mimport\u001b[0m \u001b[0mutils\u001b[0m\u001b[0;34m\u001b[0m\u001b[0m\n\u001b[1;32m     24\u001b[0m \u001b[0;32mfrom\u001b[0m \u001b[0;34m.\u001b[0m\u001b[0mutils\u001b[0m\u001b[0;34m.\u001b[0m\u001b[0mcalendars\u001b[0m \u001b[0;32mimport\u001b[0m \u001b[0mget_calendar\u001b[0m\u001b[0;34m\u001b[0m\u001b[0m\n\u001b[0;32m---> 25\u001b[0;31m \u001b[0;32mfrom\u001b[0m \u001b[0;34m.\u001b[0m\u001b[0mutils\u001b[0m\u001b[0;34m.\u001b[0m\u001b[0mrun_algo\u001b[0m \u001b[0;32mimport\u001b[0m \u001b[0mrun_algorithm\u001b[0m\u001b[0;34m\u001b[0m\u001b[0m\n\u001b[0m\u001b[1;32m     26\u001b[0m \u001b[0;32mfrom\u001b[0m \u001b[0;34m.\u001b[0m\u001b[0m_version\u001b[0m \u001b[0;32mimport\u001b[0m \u001b[0mget_versions\u001b[0m\u001b[0;34m\u001b[0m\u001b[0m\n\u001b[1;32m     27\u001b[0m \u001b[0;34m\u001b[0m\u001b[0m\n",
      "\u001b[0;32m~/anaconda3/lib/python3.6/site-packages/zipline/utils/run_algo.py\u001b[0m in \u001b[0;36m<module>\u001b[0;34m()\u001b[0m\n\u001b[1;32m     15\u001b[0m \u001b[0;32mfrom\u001b[0m \u001b[0mtoolz\u001b[0m \u001b[0;32mimport\u001b[0m \u001b[0mvalfilter\u001b[0m\u001b[0;34m,\u001b[0m \u001b[0mconcatv\u001b[0m\u001b[0;34m\u001b[0m\u001b[0m\n\u001b[1;32m     16\u001b[0m \u001b[0;34m\u001b[0m\u001b[0m\n\u001b[0;32m---> 17\u001b[0;31m \u001b[0;32mfrom\u001b[0m \u001b[0mzipline\u001b[0m\u001b[0;34m.\u001b[0m\u001b[0malgorithm\u001b[0m \u001b[0;32mimport\u001b[0m \u001b[0mTradingAlgorithm\u001b[0m\u001b[0;34m\u001b[0m\u001b[0m\n\u001b[0m\u001b[1;32m     18\u001b[0m \u001b[0;32mfrom\u001b[0m \u001b[0mzipline\u001b[0m\u001b[0;34m.\u001b[0m\u001b[0mdata\u001b[0m\u001b[0;34m.\u001b[0m\u001b[0mbundles\u001b[0m\u001b[0;34m.\u001b[0m\u001b[0mcore\u001b[0m \u001b[0;32mimport\u001b[0m \u001b[0mload\u001b[0m\u001b[0;34m\u001b[0m\u001b[0m\n\u001b[1;32m     19\u001b[0m \u001b[0;32mfrom\u001b[0m \u001b[0mzipline\u001b[0m\u001b[0;34m.\u001b[0m\u001b[0mdata\u001b[0m\u001b[0;34m.\u001b[0m\u001b[0mdata_portal\u001b[0m \u001b[0;32mimport\u001b[0m \u001b[0mDataPortal\u001b[0m\u001b[0;34m\u001b[0m\u001b[0m\n",
      "\u001b[0;32m~/anaconda3/lib/python3.6/site-packages/zipline/algorithm.py\u001b[0m in \u001b[0;36m<module>\u001b[0;34m()\u001b[0m\n\u001b[1;32m     22\u001b[0m \u001b[0;32mimport\u001b[0m \u001b[0mpandas\u001b[0m \u001b[0;32mas\u001b[0m \u001b[0mpd\u001b[0m\u001b[0;34m\u001b[0m\u001b[0m\n\u001b[1;32m     23\u001b[0m \u001b[0;32mfrom\u001b[0m \u001b[0mcontextlib2\u001b[0m \u001b[0;32mimport\u001b[0m \u001b[0mExitStack\u001b[0m\u001b[0;34m\u001b[0m\u001b[0m\n\u001b[0;32m---> 24\u001b[0;31m \u001b[0;32mfrom\u001b[0m \u001b[0mpandas\u001b[0m\u001b[0;34m.\u001b[0m\u001b[0mtseries\u001b[0m\u001b[0;34m.\u001b[0m\u001b[0mtools\u001b[0m \u001b[0;32mimport\u001b[0m \u001b[0mnormalize_date\u001b[0m\u001b[0;34m\u001b[0m\u001b[0m\n\u001b[0m\u001b[1;32m     25\u001b[0m \u001b[0;32mimport\u001b[0m \u001b[0mnumpy\u001b[0m \u001b[0;32mas\u001b[0m \u001b[0mnp\u001b[0m\u001b[0;34m\u001b[0m\u001b[0m\n\u001b[1;32m     26\u001b[0m \u001b[0;34m\u001b[0m\u001b[0m\n",
      "\u001b[0;32m~/anaconda3/lib/python3.6/site-packages/pandas/tseries/tools.py\u001b[0m in \u001b[0;36m<module>\u001b[0;34m()\u001b[0m\n\u001b[1;32m      6\u001b[0m \u001b[0;32mimport\u001b[0m \u001b[0mpandas\u001b[0m\u001b[0;34m.\u001b[0m\u001b[0mtslib\u001b[0m \u001b[0;32mas\u001b[0m \u001b[0mtslib\u001b[0m\u001b[0;34m\u001b[0m\u001b[0m\n\u001b[1;32m      7\u001b[0m \u001b[0;32mimport\u001b[0m \u001b[0mpandas\u001b[0m\u001b[0;34m.\u001b[0m\u001b[0mcore\u001b[0m\u001b[0;34m.\u001b[0m\u001b[0mcommon\u001b[0m \u001b[0;32mas\u001b[0m \u001b[0mcom\u001b[0m\u001b[0;34m\u001b[0m\u001b[0m\n\u001b[0;32m----> 8\u001b[0;31m \u001b[0;32mfrom\u001b[0m \u001b[0mpandas\u001b[0m\u001b[0;34m.\u001b[0m\u001b[0mcore\u001b[0m\u001b[0;34m.\u001b[0m\u001b[0mcommon\u001b[0m \u001b[0;32mimport\u001b[0m \u001b[0mABCIndexClass\u001b[0m\u001b[0;34m,\u001b[0m \u001b[0mABCSeries\u001b[0m\u001b[0;34m,\u001b[0m \u001b[0mABCDataFrame\u001b[0m\u001b[0;34m\u001b[0m\u001b[0m\n\u001b[0m\u001b[1;32m      9\u001b[0m \u001b[0;32mimport\u001b[0m \u001b[0mpandas\u001b[0m\u001b[0;34m.\u001b[0m\u001b[0mcompat\u001b[0m \u001b[0;32mas\u001b[0m \u001b[0mcompat\u001b[0m\u001b[0;34m\u001b[0m\u001b[0m\n\u001b[1;32m     10\u001b[0m \u001b[0;32mfrom\u001b[0m \u001b[0mpandas\u001b[0m\u001b[0;34m.\u001b[0m\u001b[0mutil\u001b[0m\u001b[0;34m.\u001b[0m\u001b[0mdecorators\u001b[0m \u001b[0;32mimport\u001b[0m \u001b[0mdeprecate_kwarg\u001b[0m\u001b[0;34m\u001b[0m\u001b[0m\n",
      "\u001b[0;31mImportError\u001b[0m: cannot import name 'ABCIndexClass'"
     ]
    }
   ],
   "source": [
    "import zipline"
   ]
  },
  {
   "cell_type": "code",
   "execution_count": 137,
   "metadata": {
    "collapsed": true
   },
   "outputs": [],
   "source": [
    "import bt"
   ]
  },
  {
   "cell_type": "code",
   "execution_count": 116,
   "metadata": {
    "collapsed": true
   },
   "outputs": [],
   "source": [
    "s = bt.Strategy('s1', [bt.algos.SelectWhere(y_pred),\n",
    "                       bt.algos.WeighEqually(),\n",
    "                       bt.algos.Rebalance()])"
   ]
  },
  {
   "cell_type": "code",
   "execution_count": 117,
   "metadata": {},
   "outputs": [
    {
     "name": "stdout",
     "output_type": "stream",
     "text": [
      "s1\n",
      "0% [############################# ] 100% | ETA: 00:00:00"
     ]
    }
   ],
   "source": [
    "test = bt.Backtest(s, close)\n",
    "res = bt.run(test)"
   ]
  },
  {
   "cell_type": "code",
   "execution_count": 118,
   "metadata": {},
   "outputs": [
    {
     "data": {
      "image/png": "[encoded data removed]",
      "text/plain": [
       "<matplotlib.figure.Figure at 0x7f79e89fa0f0>"
      ]
     },
     "metadata": {},
     "output_type": "display_data"
    }
   ],
   "source": [
    "res.plot()"
   ]
  },
  {
   "cell_type": "code",
   "execution_count": 119,
   "metadata": {},
   "outputs": [
    {
     "name": "stdout",
     "output_type": "stream",
     "text": [
      "Stat                 s1\n",
      "-------------------  ----------\n",
      "Start                2017-05-31\n",
      "End                  2017-09-08\n",
      "Risk-free rate       0.00%\n",
      "\n",
      "Total Return         4.71%\n",
      "Daily Sharpe         0.29\n",
      "Daily Sortino        0.31\n",
      "CAGR                 18.15%\n",
      "Max Drawdown         -1.68%\n",
      "Calmar Ratio         10.80\n",
      "\n",
      "MTD                  -0.07%\n",
      "3m                   3.51%\n",
      "6m                   -\n",
      "YTD                  4.71%\n",
      "1Y                   -\n",
      "3Y (ann.)            -\n",
      "5Y (ann.)            -\n",
      "10Y (ann.)           -\n",
      "Since Incep. (ann.)  18.15%\n",
      "\n",
      "Daily Sharpe         0.29\n",
      "Daily Sortino        0.31\n",
      "Daily Mean (ann.)    0.17%\n",
      "Daily Vol (ann.)     0.58%\n",
      "Daily Skew           0.58\n",
      "Daily Kurt           32.00\n",
      "Best Day             0.53%\n",
      "Worst Day            -0.42%\n",
      "\n",
      "Monthly Sharpe       2.88\n",
      "Monthly Sortino      -\n",
      "Monthly Mean (ann.)  13.98%\n",
      "Monthly Vol (ann.)   4.86%\n",
      "Monthly Skew         0.14\n",
      "Monthly Kurt         -5.14\n",
      "Best Month           2.65%\n",
      "Worst Month          -0.07%\n",
      "\n",
      "Yearly Sharpe        -\n",
      "Yearly Sortino       -\n",
      "Yearly Mean          -\n",
      "Yearly Vol           -\n",
      "Yearly Skew          -\n",
      "Yearly Kurt          -\n",
      "Best Year            -\n",
      "Worst Year           -\n",
      "\n",
      "Avg. Drawdown        -0.17%\n",
      "Avg. Drawdown Days   0.84\n",
      "Avg. Up Month        1.58%\n",
      "Avg. Down Month      -0.07%\n",
      "Win Year %           -\n",
      "Win 12m %            -\n"
     ]
    }
   ],
   "source": [
    "res.display()"
   ]
  },
  {
   "cell_type": "code",
   "execution_count": 120,
   "metadata": {},
   "outputs": [
    {
     "data": {
      "image/png": "[encoded data removed]",
      "text/plain": [
       "<matplotlib.figure.Figure at 0x7f79e8bc3c18>"
      ]
     },
     "metadata": {},
     "output_type": "display_data"
    }
   ],
   "source": [
    "res.plot_histogram(bins=55)"
   ]
  },
  {
   "cell_type": "code",
   "execution_count": 121,
   "metadata": {},
   "outputs": [
    {
     "data": {
      "image/png": "[encoded data removed]",
      "text/plain": [
       "<matplotlib.figure.Figure at 0x7f79e8a852b0>"
      ]
     },
     "metadata": {},
     "output_type": "display_data"
    }
   ],
   "source": [
    "res.plot_security_weights()"
   ]
  },
  {
   "cell_type": "code",
   "execution_count": null,
   "metadata": {
    "collapsed": true
   },
   "outputs": [],
   "source": []
  }
 ],
 "metadata": {
  "kernelspec": {
   "display_name": "Python 3",
   "language": "python",
   "name": "python3"
  },
  "language_info": {
   "codemirror_mode": {
    "name": "ipython",
    "version": 3
   },
   "file_extension": ".py",
   "mimetype": "text/x-python",
   "name": "python",
   "nbconvert_exporter": "python",
   "pygments_lexer": "ipython3",
   "version": "3.6.2"
  }
 },
 "nbformat": 4,
 "nbformat_minor": 2
}
