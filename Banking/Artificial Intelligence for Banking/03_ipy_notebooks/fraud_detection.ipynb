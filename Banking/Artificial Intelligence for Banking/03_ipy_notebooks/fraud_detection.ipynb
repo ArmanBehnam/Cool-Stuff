{
 "cells": [
  {
   "cell_type": "markdown",
   "metadata": {},
   "source": [
    "## Credit Card Transaction Fraud Detection"
   ]
  },
  {
   "cell_type": "markdown",
   "metadata": {},
   "source": [
    "<img src=\"fraud.png\" alt=\"Drawing\" style=\"width: 300px;\"/>"
   ]
  },
  {
   "cell_type": "markdown",
   "metadata": {},
   "source": [
    "You might have had to convince your parents or grandparents at some point that using their credit card online is safe. “It doesn’t feel safe,” they say, but you tell them that’s the way everyone shops all the time, and their credit card information is totally safe.\n",
    "\n",
    "**But you’re wrong. Credit card numbers do get stolen, and credit card fraud does happen, both online and offline.**\n",
    "\n",
    "And once the details are stolen, it is very easy to do a transaction using that information. Hence, it is necessary to be able to detect these kind of transactions and intervene to prevent fraud.\n",
    "\n",
    "This notebook walks through how we make use of a hybrid engine, which is a combination of business rules and deep learning models to detect early the possibility of a fraud."
   ]
  },
  {
   "cell_type": "markdown",
   "metadata": {},
   "source": [
    "### Let us first look at some sample transaction data for a customer\n",
    "\n",
    "*All the data has been anonymized for copyright purposes.*"
   ]
  },
  {
   "cell_type": "code",
   "execution_count": 22,
   "metadata": {},
   "outputs": [
    {
     "data": {
      "text/html": [
       "<div>\n",
       "<style scoped>\n",
       "    .dataframe tbody tr th:only-of-type {\n",
       "        vertical-align: middle;\n",
       "    }\n",
       "\n",
       "    .dataframe tbody tr th {\n",
       "        vertical-align: top;\n",
       "    }\n",
       "\n",
       "    .dataframe thead th {\n",
       "        text-align: right;\n",
       "    }\n",
       "</style>\n",
       "<table border=\"1\" class=\"dataframe\">\n",
       "  <thead>\n",
       "    <tr style=\"text-align: right;\">\n",
       "      <th></th>\n",
       "      <th>Gender</th>\n",
       "      <th>Age</th>\n",
       "      <th>HouseTypeID</th>\n",
       "      <th>ContactAvaliabilityID</th>\n",
       "      <th>HomeCountry</th>\n",
       "      <th>AccountNo</th>\n",
       "      <th>CardExpiryDate</th>\n",
       "      <th>TransactionAmount</th>\n",
       "      <th>TransactionCountry</th>\n",
       "      <th>LargePurchase</th>\n",
       "      <th>ProductID</th>\n",
       "      <th>CIF</th>\n",
       "      <th>TransactionCurrencyCode</th>\n",
       "      <th>PotentialFraud</th>\n",
       "    </tr>\n",
       "  </thead>\n",
       "  <tbody>\n",
       "    <tr>\n",
       "      <th>247</th>\n",
       "      <td>1</td>\n",
       "      <td>54</td>\n",
       "      <td>1</td>\n",
       "      <td>1</td>\n",
       "      <td>1</td>\n",
       "      <td>7476440</td>\n",
       "      <td>2009</td>\n",
       "      <td>11.0732</td>\n",
       "      <td>1</td>\n",
       "      <td>0</td>\n",
       "      <td>2</td>\n",
       "      <td>11225470</td>\n",
       "      <td>1</td>\n",
       "      <td>0</td>\n",
       "    </tr>\n",
       "    <tr>\n",
       "      <th>248</th>\n",
       "      <td>1</td>\n",
       "      <td>54</td>\n",
       "      <td>1</td>\n",
       "      <td>1</td>\n",
       "      <td>1</td>\n",
       "      <td>7476440</td>\n",
       "      <td>2009</td>\n",
       "      <td>6.2000</td>\n",
       "      <td>1</td>\n",
       "      <td>0</td>\n",
       "      <td>2</td>\n",
       "      <td>11225470</td>\n",
       "      <td>1</td>\n",
       "      <td>0</td>\n",
       "    </tr>\n",
       "    <tr>\n",
       "      <th>249</th>\n",
       "      <td>1</td>\n",
       "      <td>54</td>\n",
       "      <td>1</td>\n",
       "      <td>1</td>\n",
       "      <td>1</td>\n",
       "      <td>7476440</td>\n",
       "      <td>2009</td>\n",
       "      <td>6.2000</td>\n",
       "      <td>1</td>\n",
       "      <td>0</td>\n",
       "      <td>2</td>\n",
       "      <td>11225470</td>\n",
       "      <td>1</td>\n",
       "      <td>0</td>\n",
       "    </tr>\n",
       "    <tr>\n",
       "      <th>250</th>\n",
       "      <td>1</td>\n",
       "      <td>54</td>\n",
       "      <td>1</td>\n",
       "      <td>1</td>\n",
       "      <td>1</td>\n",
       "      <td>7476440</td>\n",
       "      <td>2009</td>\n",
       "      <td>8.6800</td>\n",
       "      <td>1</td>\n",
       "      <td>0</td>\n",
       "      <td>2</td>\n",
       "      <td>11225470</td>\n",
       "      <td>1</td>\n",
       "      <td>0</td>\n",
       "    </tr>\n",
       "    <tr>\n",
       "      <th>251</th>\n",
       "      <td>1</td>\n",
       "      <td>54</td>\n",
       "      <td>1</td>\n",
       "      <td>1</td>\n",
       "      <td>1</td>\n",
       "      <td>7476440</td>\n",
       "      <td>2009</td>\n",
       "      <td>3.1000</td>\n",
       "      <td>1</td>\n",
       "      <td>0</td>\n",
       "      <td>2</td>\n",
       "      <td>11225470</td>\n",
       "      <td>1</td>\n",
       "      <td>0</td>\n",
       "    </tr>\n",
       "  </tbody>\n",
       "</table>\n",
       "</div>"
      ],
      "text/plain": [
       "     Gender  Age  HouseTypeID  ContactAvaliabilityID  HomeCountry  AccountNo  \\\n",
       "247       1   54            1                      1            1    7476440   \n",
       "248       1   54            1                      1            1    7476440   \n",
       "249       1   54            1                      1            1    7476440   \n",
       "250       1   54            1                      1            1    7476440   \n",
       "251       1   54            1                      1            1    7476440   \n",
       "\n",
       "     CardExpiryDate  TransactionAmount  TransactionCountry  LargePurchase  \\\n",
       "247            2009            11.0732                   1              0   \n",
       "248            2009             6.2000                   1              0   \n",
       "249            2009             6.2000                   1              0   \n",
       "250            2009             8.6800                   1              0   \n",
       "251            2009             3.1000                   1              0   \n",
       "\n",
       "     ProductID       CIF  TransactionCurrencyCode  PotentialFraud  \n",
       "247          2  11225470                        1               0  \n",
       "248          2  11225470                        1               0  \n",
       "249          2  11225470                        1               0  \n",
       "250          2  11225470                        1               0  \n",
       "251          2  11225470                        1               0  "
      ]
     },
     "execution_count": 22,
     "metadata": {},
     "output_type": "execute_result"
    }
   ],
   "source": [
    "import pandas as pd\n",
    "\n",
    "sample_data = pd.read_csv('../99_sample_data/creditcarddata.csv')\n",
    "sample_data_cust = sample_data[sample_data['AccountNo']==7476440]\n",
    "\n",
    "sample_data_cust.head()"
   ]
  },
  {
   "cell_type": "markdown",
   "metadata": {},
   "source": [
    "We see that the data is a combination of Demographic information about a customer, as well as the transaction information of the credit card for that particular customer. This is the data which would help us build the deep learning models and the rule based engine going ahead."
   ]
  },
  {
   "cell_type": "markdown",
   "metadata": {},
   "source": [
    "### Exploratory Data Analysis"
   ]
  },
  {
   "cell_type": "markdown",
   "metadata": {},
   "source": [
    "#### Class Imbalance\n",
    "\n",
    "One of the most seen of cases in frauds is the imbalance of the data since the ratio of the fraud to non fraud transactions is also very low. In this data, we represent 1 as a Potential Fraud and 0 as a non fraud case. The below percentages show the imbalance in the data."
   ]
  },
  {
   "cell_type": "code",
   "execution_count": 6,
   "metadata": {},
   "outputs": [
    {
     "data": {
      "text/plain": [
       "0    88.834951\n",
       "1    11.165049\n",
       "Name: PotentialFraud, dtype: float64"
      ]
     },
     "execution_count": 6,
     "metadata": {},
     "output_type": "execute_result"
    }
   ],
   "source": [
    "(sample_data['PotentialFraud'].value_counts(normalize=True))*100"
   ]
  },
  {
   "cell_type": "markdown",
   "metadata": {},
   "source": [
    "The later sections talk about how this imbalance in data is handled."
   ]
  },
  {
   "cell_type": "code",
   "execution_count": 12,
   "metadata": {},
   "outputs": [
    {
     "data": {
      "image/png": "[encoded data removed]",
      "text/plain": [
       "<Figure size 1152x432 with 2 Axes>"
      ]
     },
     "metadata": {},
     "output_type": "display_data"
    }
   ],
   "source": [
    "import matplotlib.pyplot as plt\n",
    "\n",
    "_, (ax1, ax2) = plt.subplots(2, 1, sharex=True, figsize=(16,6))\n",
    "\n",
    "ax1.hist(sample_data.Age[sample_data.PotentialFraud == 1])\n",
    "ax1.set_title('Fraud by Age')\n",
    "\n",
    "ax2.hist(sample_data.Age[sample_data.PotentialFraud == 0])\n",
    "ax2.set_title('Non-Fraud by Age')\n",
    "\n",
    "plt.xlabel('Age')\n",
    "plt.ylabel('Number of transactions')\n",
    "plt.show()"
   ]
  },
  {
   "cell_type": "markdown",
   "metadata": {},
   "source": [
    "The above graphs show a histogram of fraud by age and from the above we can derive that customers in the age group 20-30 are most prone to fraud. Similar to this, there can be other parameters across which this can be visualized to get a better understanding of this data."
   ]
  },
  {
   "cell_type": "markdown",
   "metadata": {},
   "source": [
    "### Rule-based Fraud Detection\n",
    "\n",
    "Fraud is often governed by certain rules which are either regulatory or observed in the historical data. These can be defined and immediately flagged off as a potential fraud to be investigated. \n",
    "\n",
    "Below, we demonstrate the use of one such rule which takes into account the transaction country and the time of transaction and flags if off as a potential fraud is the ratio between the two is considered to be suspicious."
   ]
  },
  {
   "cell_type": "code",
   "execution_count": 28,
   "metadata": {},
   "outputs": [],
   "source": [
    "import geopy.distance\n",
    "import numpy as np\n",
    "from datetime import datetime\n",
    "import json\n",
    "\n",
    "coords_1 = (1.3521,103.8198) # Transaction in Singapore\n",
    "coords_2 = (20.5937,78.9629) # Transaction in India\n",
    "coords = [coords_1,coords_2]"
   ]
  },
  {
   "cell_type": "code",
   "execution_count": 24,
   "metadata": {},
   "outputs": [
    {
     "name": "stdout",
     "output_type": "stream",
     "text": [
      "Distance between the countries = 3439.5204333560782km\n",
      "Time between the transactions = 60.0mins\n"
     ]
    }
   ],
   "source": [
    "\n",
    "distance_cur_prev_trans = geopy.distance.vincenty(coords_1, coords_2).km\n",
    "print(\"Distance between the countries = \"+str(distance_cur_prev_trans)+\"km\")\n",
    "\n",
    "f = '%Y-%m-%d %H:%M:%S' # time format\n",
    "prev_trans_dt = '2017-09-28 15:24:01' # Transaction in Singapore\n",
    "trans_dt = '2017-09-28 16:24:01' # Transaction in India\n",
    "trans_dt = datetime.strptime(trans_dt,f)\n",
    "prev_trans_dt = datetime.strptime(prev_trans_dt,f)\n",
    "time_diff = trans_dt - prev_trans_dt\n",
    "time_diff_mins = (time_diff.days * 86400 + time_diff.seconds)/60\n",
    "print(\"Time between the transactions = \"+str(time_diff_mins)+\"mins\")"
   ]
  },
  {
   "cell_type": "code",
   "execution_count": 30,
   "metadata": {},
   "outputs": [
    {
     "name": "stdout",
     "output_type": "stream",
     "text": [
      "Fraud Reasons ===>\n",
      "{\"fraudReason\": [\"Transaction in multiple countries in a short duration\"], \"potentialFraud\": 0.6}\n"
     ]
    }
   ],
   "source": [
    "potentialFraud = 0\n",
    "fraudReason = []\n",
    "if (distance_cur_prev_trans > 2000 and time_diff_mins < 100):\n",
    "    potentialFraud = potentialFraud + 0.6\n",
    "    fraudReason.append('Transaction in multiple countries in a short duration')\n",
    "    \n",
    "# Creating the JSON object to return\n",
    "final_fraud_json = {}\n",
    "final_fraud_json['potentialFraud'] = potentialFraud\n",
    "final_fraud_json['fraudReason'] = fraudReason\n",
    "final_fraud_json = json.dumps(final_fraud_json)\n",
    "\n",
    "print(\"Fraud Reasons ===>\")\n",
    "print(final_fraud_json)"
   ]
  },
  {
   "cell_type": "markdown",
   "metadata": {},
   "source": [
    "You can see that the above rule is something which is logical and applicable and it flags it off as a potential fraud with a high probability.\n",
    "\n",
    "By studying the historical data, numerous such rules can be applied to flag potential frauds.\n",
    "\n",
    "Please read our blog post to understand and know more about this : <a href=\"https://www.justanalytics.com/blog/what-to-look-for-in-a-credit-card-fraud-detection-system\">What to look for in a credit card fraud detection system<a>"
   ]
  },
  {
   "cell_type": "markdown",
   "metadata": {},
   "source": [
    "### Deep Learning Models for Fraud Detection"
   ]
  },
  {
   "cell_type": "markdown",
   "metadata": {},
   "source": [
    "Deep learning is a broader class of machine learning in which the methods are based on learning data representation rather than task specific algorithms. Credit card fraud is highly based on certain patterns and anomalies observed within the data. This along with the huge volume of transaction data associated calls for a methodology which can deal with the data volume, class imbalance and help learn patterns associated with fraud easily and also be able to adapt over time."
   ]
  },
  {
   "cell_type": "markdown",
   "metadata": {},
   "source": [
    "#### Model Training\n",
    "\n",
    "In order to create a deep learning model, which we chose to be a Dense Neural Network on Tensorflow, we make use of the Keras library in python (pip install keras) to train the model of all customer transaction and demographic data. We also use multiple methods of stratified sampling, mix max scaling, hyperparameter tuning and others to balance classes and speed up the deep learning training process.\n",
    "\n",
    "For the purpose of the demo, we are going to use the models we have pre-trained and saved out in JSON and H5 formats to score a sample transaction."
   ]
  },
  {
   "cell_type": "markdown",
   "metadata": {},
   "source": [
    "#### Model Scoring\n",
    "\n",
    "We use the above trained model in order to score for transactions happening in real time in order to predict whether they are a potential fraud are not."
   ]
  },
  {
   "cell_type": "code",
   "execution_count": 32,
   "metadata": {},
   "outputs": [
    {
     "name": "stderr",
     "output_type": "stream",
     "text": [
      "c:\\python35\\lib\\site-packages\\h5py\\__init__.py:36: FutureWarning:\n",
      "\n",
      "Conversion of the second argument of issubdtype from `float` to `np.floating` is deprecated. In future, it will be treated as `np.float64 == np.dtype(float).type`.\n",
      "\n",
      "Using TensorFlow backend.\n"
     ]
    },
    {
     "name": "stdout",
     "output_type": "stream",
     "text": [
      "Loaded model from disk.\n"
     ]
    }
   ],
   "source": [
    "import json\n",
    "from keras.models import model_from_json\n",
    "\n",
    "############################# load json and create model\n",
    "json_file = open('..\\\\05_models\\\\fraud_dl_model.json', 'r')\n",
    "loaded_model_json = json_file.read()\n",
    "json_file.close()\n",
    "loaded_model = model_from_json(loaded_model_json)\n",
    "# load weights into new model\n",
    "loaded_model.load_weights(\"..\\\\05_models\\\\fraud_dl_model.h5\")\n",
    "print(\"Loaded model from disk.\")\n",
    "\n",
    "# evaluate loaded model on test data\n",
    "loaded_model.compile(loss='binary_crossentropy', optimizer='adam', metrics=['accuracy'])\n",
    "#########################"
   ]
  },
  {
   "cell_type": "code",
   "execution_count": 50,
   "metadata": {},
   "outputs": [
    {
     "name": "stdout",
     "output_type": "stream",
     "text": [
      "Potential Fraud? : [0]\n"
     ]
    }
   ],
   "source": [
    "# Lets get a sample transaction to score\n",
    "sample_pred_data = pd.read_csv('..\\\\99_sample_data\\\\creditcarddata.csv')\n",
    "sample_pred_data = sample_pred_data.tail(1)\n",
    "sample_pred_data = sample_pred_data.iloc[:,0:12]\n",
    "    \n",
    "prediction = loaded_model.predict_classes(sample_pred_data)\n",
    "print(\"Potential Fraud? : {}\".format(str(prediction[0])))"
   ]
  },
  {
   "cell_type": "markdown",
   "metadata": {},
   "source": [
    "You can see that the above scoring model is able to pick up a trained model and score for a potential fraud.\n",
    "\n",
    "The above two methods of rule based system and deep learning models can be combined to give a consolidated potential fraud result for a customer transaction. This result can be useful is flagging a transaction as it occurs and take actions accordingly."
   ]
  },
  {
   "cell_type": "markdown",
   "metadata": {},
   "source": [
    "### Conclusion\n",
    "\n",
    "Fraud detection for credit cards is extremely important and necessary in order to avoid unwanted activities and prevent them from taking place. In order to do that we use a combination of rule based systems and deep learning models which learn from millions of historical customer transactions."
   ]
  }
 ],
 "metadata": {
  "kernelspec": {
   "display_name": "Python 3",
   "language": "python",
   "name": "python3"
  },
  "language_info": {
   "codemirror_mode": {
    "name": "ipython",
    "version": 3
   },
   "file_extension": ".py",
   "mimetype": "text/x-python",
   "name": "python",
   "nbconvert_exporter": "python",
   "pygments_lexer": "ipython3",
   "version": "3.5.0"
  }
 },
 "nbformat": 4,
 "nbformat_minor": 2
}
