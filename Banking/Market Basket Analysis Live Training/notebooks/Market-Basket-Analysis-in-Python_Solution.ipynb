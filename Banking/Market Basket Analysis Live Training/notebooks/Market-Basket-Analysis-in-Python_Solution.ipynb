{
  "nbformat": 4,
  "nbformat_minor": 0,
  "metadata": {
    "colab": {
      "name": "Market-Basket-Analysis-in-Python_Solution.ipynb",
      "provenance": []
    },
    "kernelspec": {
      "display_name": "Python 3",
      "language": "python",
      "name": "python3"
    },
    "language_info": {
      "codemirror_mode": {
        "name": "ipython",
        "version": 3
      },
      "file_extension": ".py",
      "mimetype": "text/x-python",
      "name": "python",
      "nbconvert_exporter": "python",
      "pygments_lexer": "ipython3",
      "version": "3.7.1"
    }
  },
  "cells": [
    {
      "cell_type": "markdown",
      "metadata": {
        "colab_type": "text",
        "id": "6Ijg5wUCTQYG"
      },
      "source": [
        "<p align=\"center\">\n",
        "<img src=\"https://github.com/datacamp/Market-Basket-Analysis-in-python-live-training/blob/master/assets/datacamp.svg?raw=True\" alt = \"DataCamp icon\" width=\"50%\">\n",
        "</p>\n",
        "<br><br>\n",
        "\n",
        "## **Market Basket Analysis in Python**\n",
        "\n",
        "Welcome to this hands-on training event on Market Basket Analysis in Python. In this session, you will learn how to:\n",
        "* Identify patterns in consumer decision-making with the `mlxtend` package.\n",
        "* Use metrics to evaluate the properties of patterns.\n",
        "* Construct \"rules\" that provide concrete recommendations for businesses.\n",
        "* Visualize patterns and rules using `seaborn` and `matplotlib`.\n",
        "\n",
        "## **The dataset**\n",
        "\n",
        "**We'll use a dataset from a Brazilian ecommerce site (olist.com) that is divided into three CSV files:**\n",
        "\n",
        "1. `olist_order_items_dataset.csv`\n",
        "2. `olist_products_dataset.csv`\n",
        "3. `product_category_name_translation.csv`\n",
        "\n",
        "**The column definitions are as follows:**\n",
        "\n",
        "`olist_order_items_dataset.csv`:\n",
        "\n",
        "- `order_id`: The unique identifier for a transaction.\n",
        "- `order_item_id`: The order of an item within a transaction.\n",
        "- `product_id`: The unique identifier for a product.\n",
        "- `price`: The product's price.\n",
        "\n",
        "`olist_products_dataset.csv`:\n",
        "\n",
        "- `product_id`: The unique identifier for a product.\n",
        "- `product_category_name`: The name of an item's product category in Portuguese.\n",
        "- `product_weight_g`: The product's weight in grams.\n",
        "- `product_length_cm`: The product's length in centimeters.\n",
        "- `product_width_cm`: The product's width in centimeters.\n",
        "- `product_height_cm`: The product's height in centimeters.\n",
        "\n",
        "`product_category_name_translation.csv`:\n",
        "\n",
        "- `product_category_name`: The name of an item's product category in Portuguese.\n",
        "- `product_category_name_english`: The name of an item's product category in English.\n"
      ]
    },
    {
      "cell_type": "markdown",
      "metadata": {
        "colab_type": "text",
        "id": "BMYfcKeDY85K"
      },
      "source": [
        "## **Data preparation**"
      ]
    },
    {
      "cell_type": "markdown",
      "metadata": {
        "id": "y3xDirMYnuYB",
        "colab_type": "text"
      },
      "source": [
        "The first step in any Market Basket Analysis (MBA) project is to determine what constitutes an **item**, an **itemset**, and a **transaction**. This will depend on the dataset we're using and the question we're attempting to answer.\n",
        "\n",
        "* **Grocery store**\n",
        "\t* Item: Grocery\n",
        "\t* Itemset: Collection of groceries\n",
        "\t* Transaction: Basket of items purchased\n",
        "* **Music streaming service**\n",
        "\t* Item: Song\n",
        "\t* Itemset: Collection of unique songs\n",
        "\t* Transaction: User song library\n",
        "* **Ebook store**\n",
        "\t* Item: Ebook\n",
        "\t* Itemset: One or more ebooks\n",
        "\t* Transaction: User ebook library\n"
      ]
    },
    {
      "cell_type": "markdown",
      "metadata": {
        "id": "4_gO3NX1JvFy",
        "colab_type": "text"
      },
      "source": [
        "**In this live training session, we'll use a dataset of transactions from olist.com, a Brazilian ecommerce site.**\n",
        "* 100,000+ orders over 2016-2018.\n",
        "* Olist connects sellers to marketplaces.\n",
        "* Seller can register products with Olist.\n",
        "* Customer makes purchase at marketplace from Olist store.\n",
        "* Seller fulfills orders."
      ]
    },
    {
      "cell_type": "markdown",
      "metadata": {
        "id": "_mo4P8zBp_9d",
        "colab_type": "text"
      },
      "source": [
        "\n",
        "\n",
        "---\n",
        "\n",
        "\n",
        "![alt](https://github.com/datacamp/Market-Basket-Analysis-in-python-live-training/blob/master/assets/olist_marketplaces.png?raw=true)\n",
        "\n",
        "\n",
        "\n",
        "\n",
        "\n",
        "---\n",
        "\n"
      ]
    },
    {
      "cell_type": "markdown",
      "metadata": {
        "id": "D1HMEk73_ie6",
        "colab_type": "text"
      },
      "source": [
        "**What is an item**?\n",
        "  * A product purchased from Olist.\n",
        "\n",
        "**What is an itemset?**\n",
        "  * A collection of one or more product(s).\n",
        "\n",
        "**What is a transaction?**\n",
        "  * An itemset that corresponds to a customer's order."
      ]
    },
    {
      "cell_type": "code",
      "metadata": {
        "id": "u6QgfsYA06is",
        "colab_type": "code",
        "colab": {
          "base_uri": "https://localhost:8080/",
          "height": 51
        },
        "outputId": "e3c222a3-e9b7-4a53-e3b9-aa8b6b06d39b"
      },
      "source": [
        "# Import modules.\n",
        "import numpy as np\n",
        "import pandas as pd\n",
        "import matplotlib.pyplot as plt\n",
        "import seaborn as sns\n",
        "\n",
        "# Set default asthetic parameters.\n",
        "sns.set()\n",
        "\n",
        "# Define path to data.\n",
        "data_path = 'https://github.com/datacamp/Market-Basket-Analysis-in-python-live-training/raw/master/data/'"
      ],
      "execution_count": 1,
      "outputs": [
        {
          "output_type": "stream",
          "text": [
            "/usr/local/lib/python3.6/dist-packages/statsmodels/tools/_testing.py:19: FutureWarning: pandas.util.testing is deprecated. Use the functions in the public API at pandas.testing instead.\n",
            "  import pandas.util.testing as tm\n"
          ],
          "name": "stderr"
        }
      ]
    },
    {
      "cell_type": "code",
      "metadata": {
        "colab_type": "code",
        "id": "EMQfyC7GUNhT",
        "colab": {}
      },
      "source": [
        "# Load orders dataset.\n",
        "orders = pd.read_csv(data_path+'olist_order_items_dataset.csv')\n",
        "\n",
        "# Load products items dataset.\n",
        "products = pd.read_csv(data_path+'olist_products_dataset.csv')\n",
        "\n",
        "# Load translations dataset.\n",
        "translations = pd.read_csv(data_path+'product_category_name_translation.csv')"
      ],
      "execution_count": 2,
      "outputs": []
    },
    {
      "cell_type": "code",
      "metadata": {
        "id": "KOKdds8Qe6wq",
        "colab_type": "code",
        "colab": {
          "base_uri": "https://localhost:8080/",
          "height": 204
        },
        "outputId": "70e9f747-1454-4e80-a1bc-781fb6ccd709"
      },
      "source": [
        "# Print orders header.\n",
        "orders.head()"
      ],
      "execution_count": 3,
      "outputs": [
        {
          "output_type": "execute_result",
          "data": {
            "text/html": [
              "<div>\n",
              "<style scoped>\n",
              "    .dataframe tbody tr th:only-of-type {\n",
              "        vertical-align: middle;\n",
              "    }\n",
              "\n",
              "    .dataframe tbody tr th {\n",
              "        vertical-align: top;\n",
              "    }\n",
              "\n",
              "    .dataframe thead th {\n",
              "        text-align: right;\n",
              "    }\n",
              "</style>\n",
              "<table border=\"1\" class=\"dataframe\">\n",
              "  <thead>\n",
              "    <tr style=\"text-align: right;\">\n",
              "      <th></th>\n",
              "      <th>order_id</th>\n",
              "      <th>order_item_id</th>\n",
              "      <th>product_id</th>\n",
              "      <th>price</th>\n",
              "    </tr>\n",
              "  </thead>\n",
              "  <tbody>\n",
              "    <tr>\n",
              "      <th>0</th>\n",
              "      <td>b8bfa12431142333a0c84802f9529d87</td>\n",
              "      <td>1</td>\n",
              "      <td>765a8070ece0f1383d0f5faf913dfb9b</td>\n",
              "      <td>81.0</td>\n",
              "    </tr>\n",
              "    <tr>\n",
              "      <th>1</th>\n",
              "      <td>b8bfa12431142333a0c84802f9529d87</td>\n",
              "      <td>2</td>\n",
              "      <td>a41e356c76fab66334f36de622ecbd3a</td>\n",
              "      <td>99.3</td>\n",
              "    </tr>\n",
              "    <tr>\n",
              "      <th>2</th>\n",
              "      <td>b8bfa12431142333a0c84802f9529d87</td>\n",
              "      <td>3</td>\n",
              "      <td>765a8070ece0f1383d0f5faf913dfb9b</td>\n",
              "      <td>81.0</td>\n",
              "    </tr>\n",
              "    <tr>\n",
              "      <th>3</th>\n",
              "      <td>00010242fe8c5a6d1ba2dd792cb16214</td>\n",
              "      <td>1</td>\n",
              "      <td>4244733e06e7ecb4970a6e2683c13e61</td>\n",
              "      <td>58.9</td>\n",
              "    </tr>\n",
              "    <tr>\n",
              "      <th>4</th>\n",
              "      <td>00018f77f2f0320c557190d7a144bdd3</td>\n",
              "      <td>1</td>\n",
              "      <td>e5f2d52b802189ee658865ca93d83a8f</td>\n",
              "      <td>239.9</td>\n",
              "    </tr>\n",
              "  </tbody>\n",
              "</table>\n",
              "</div>"
            ],
            "text/plain": [
              "                           order_id  ...  price\n",
              "0  b8bfa12431142333a0c84802f9529d87  ...   81.0\n",
              "1  b8bfa12431142333a0c84802f9529d87  ...   99.3\n",
              "2  b8bfa12431142333a0c84802f9529d87  ...   81.0\n",
              "3  00010242fe8c5a6d1ba2dd792cb16214  ...   58.9\n",
              "4  00018f77f2f0320c557190d7a144bdd3  ...  239.9\n",
              "\n",
              "[5 rows x 4 columns]"
            ]
          },
          "metadata": {
            "tags": []
          },
          "execution_count": 3
        }
      ]
    },
    {
      "cell_type": "code",
      "metadata": {
        "id": "8jxinQxfAB6e",
        "colab_type": "code",
        "colab": {
          "base_uri": "https://localhost:8080/",
          "height": 204
        },
        "outputId": "0f59b934-867a-4d91-eb3a-2da118e7a0e2"
      },
      "source": [
        "# Print orders info.\n",
        "orders.info()"
      ],
      "execution_count": 4,
      "outputs": [
        {
          "output_type": "stream",
          "text": [
            "<class 'pandas.core.frame.DataFrame'>\n",
            "RangeIndex: 112650 entries, 0 to 112649\n",
            "Data columns (total 4 columns):\n",
            " #   Column         Non-Null Count   Dtype  \n",
            "---  ------         --------------   -----  \n",
            " 0   order_id       112650 non-null  object \n",
            " 1   order_item_id  112650 non-null  int64  \n",
            " 2   product_id     112650 non-null  object \n",
            " 3   price          112650 non-null  float64\n",
            "dtypes: float64(1), int64(1), object(2)\n",
            "memory usage: 3.4+ MB\n"
          ],
          "name": "stdout"
        }
      ]
    },
    {
      "cell_type": "code",
      "metadata": {
        "id": "D5QCoN3CEaGi",
        "colab_type": "code",
        "colab": {
          "base_uri": "https://localhost:8080/",
          "height": 204
        },
        "outputId": "9a582cba-886f-4403-8976-f3df373b8688"
      },
      "source": [
        "# Print products header.\n",
        "products.head()"
      ],
      "execution_count": 5,
      "outputs": [
        {
          "output_type": "execute_result",
          "data": {
            "text/html": [
              "<div>\n",
              "<style scoped>\n",
              "    .dataframe tbody tr th:only-of-type {\n",
              "        vertical-align: middle;\n",
              "    }\n",
              "\n",
              "    .dataframe tbody tr th {\n",
              "        vertical-align: top;\n",
              "    }\n",
              "\n",
              "    .dataframe thead th {\n",
              "        text-align: right;\n",
              "    }\n",
              "</style>\n",
              "<table border=\"1\" class=\"dataframe\">\n",
              "  <thead>\n",
              "    <tr style=\"text-align: right;\">\n",
              "      <th></th>\n",
              "      <th>product_id</th>\n",
              "      <th>product_category_name</th>\n",
              "      <th>product_weight_g</th>\n",
              "      <th>product_length_cm</th>\n",
              "      <th>product_height_cm</th>\n",
              "      <th>product_width_cm</th>\n",
              "    </tr>\n",
              "  </thead>\n",
              "  <tbody>\n",
              "    <tr>\n",
              "      <th>0</th>\n",
              "      <td>1e9e8ef04dbcff4541ed26657ea517e5</td>\n",
              "      <td>perfumaria</td>\n",
              "      <td>225.0</td>\n",
              "      <td>16.0</td>\n",
              "      <td>10.0</td>\n",
              "      <td>14.0</td>\n",
              "    </tr>\n",
              "    <tr>\n",
              "      <th>1</th>\n",
              "      <td>3aa071139cb16b67ca9e5dea641aaa2f</td>\n",
              "      <td>artes</td>\n",
              "      <td>1000.0</td>\n",
              "      <td>30.0</td>\n",
              "      <td>18.0</td>\n",
              "      <td>20.0</td>\n",
              "    </tr>\n",
              "    <tr>\n",
              "      <th>2</th>\n",
              "      <td>96bd76ec8810374ed1b65e291975717f</td>\n",
              "      <td>esporte_lazer</td>\n",
              "      <td>154.0</td>\n",
              "      <td>18.0</td>\n",
              "      <td>9.0</td>\n",
              "      <td>15.0</td>\n",
              "    </tr>\n",
              "    <tr>\n",
              "      <th>3</th>\n",
              "      <td>cef67bcfe19066a932b7673e239eb23d</td>\n",
              "      <td>bebes</td>\n",
              "      <td>371.0</td>\n",
              "      <td>26.0</td>\n",
              "      <td>4.0</td>\n",
              "      <td>26.0</td>\n",
              "    </tr>\n",
              "    <tr>\n",
              "      <th>4</th>\n",
              "      <td>9dc1a7de274444849c219cff195d0b71</td>\n",
              "      <td>utilidades_domesticas</td>\n",
              "      <td>625.0</td>\n",
              "      <td>20.0</td>\n",
              "      <td>17.0</td>\n",
              "      <td>13.0</td>\n",
              "    </tr>\n",
              "  </tbody>\n",
              "</table>\n",
              "</div>"
            ],
            "text/plain": [
              "                         product_id  ... product_width_cm\n",
              "0  1e9e8ef04dbcff4541ed26657ea517e5  ...             14.0\n",
              "1  3aa071139cb16b67ca9e5dea641aaa2f  ...             20.0\n",
              "2  96bd76ec8810374ed1b65e291975717f  ...             15.0\n",
              "3  cef67bcfe19066a932b7673e239eb23d  ...             26.0\n",
              "4  9dc1a7de274444849c219cff195d0b71  ...             13.0\n",
              "\n",
              "[5 rows x 6 columns]"
            ]
          },
          "metadata": {
            "tags": []
          },
          "execution_count": 5
        }
      ]
    },
    {
      "cell_type": "code",
      "metadata": {
        "id": "Gd93j3O_AWsU",
        "colab_type": "code",
        "colab": {
          "base_uri": "https://localhost:8080/",
          "height": 238
        },
        "outputId": "ad12cae3-21e4-48b0-ee0a-9f5fe689fefa"
      },
      "source": [
        "# Print products info.\n",
        "products.info()"
      ],
      "execution_count": 6,
      "outputs": [
        {
          "output_type": "stream",
          "text": [
            "<class 'pandas.core.frame.DataFrame'>\n",
            "RangeIndex: 32951 entries, 0 to 32950\n",
            "Data columns (total 6 columns):\n",
            " #   Column                 Non-Null Count  Dtype  \n",
            "---  ------                 --------------  -----  \n",
            " 0   product_id             32951 non-null  object \n",
            " 1   product_category_name  32341 non-null  object \n",
            " 2   product_weight_g       32949 non-null  float64\n",
            " 3   product_length_cm      32949 non-null  float64\n",
            " 4   product_height_cm      32949 non-null  float64\n",
            " 5   product_width_cm       32949 non-null  float64\n",
            "dtypes: float64(4), object(2)\n",
            "memory usage: 1.5+ MB\n"
          ],
          "name": "stdout"
        }
      ]
    },
    {
      "cell_type": "code",
      "metadata": {
        "id": "AzBZGfXJEZ0P",
        "colab_type": "code",
        "colab": {
          "base_uri": "https://localhost:8080/",
          "height": 204
        },
        "outputId": "9c56b05e-6764-4b8d-e086-1e719e8baf58"
      },
      "source": [
        "# Print translations header.\n",
        "translations.head()"
      ],
      "execution_count": 7,
      "outputs": [
        {
          "output_type": "execute_result",
          "data": {
            "text/html": [
              "<div>\n",
              "<style scoped>\n",
              "    .dataframe tbody tr th:only-of-type {\n",
              "        vertical-align: middle;\n",
              "    }\n",
              "\n",
              "    .dataframe tbody tr th {\n",
              "        vertical-align: top;\n",
              "    }\n",
              "\n",
              "    .dataframe thead th {\n",
              "        text-align: right;\n",
              "    }\n",
              "</style>\n",
              "<table border=\"1\" class=\"dataframe\">\n",
              "  <thead>\n",
              "    <tr style=\"text-align: right;\">\n",
              "      <th></th>\n",
              "      <th>product_category_name</th>\n",
              "      <th>product_category_name_english</th>\n",
              "    </tr>\n",
              "  </thead>\n",
              "  <tbody>\n",
              "    <tr>\n",
              "      <th>0</th>\n",
              "      <td>beleza_saude</td>\n",
              "      <td>health_beauty</td>\n",
              "    </tr>\n",
              "    <tr>\n",
              "      <th>1</th>\n",
              "      <td>informatica_acessorios</td>\n",
              "      <td>computers_accessories</td>\n",
              "    </tr>\n",
              "    <tr>\n",
              "      <th>2</th>\n",
              "      <td>automotivo</td>\n",
              "      <td>auto</td>\n",
              "    </tr>\n",
              "    <tr>\n",
              "      <th>3</th>\n",
              "      <td>cama_mesa_banho</td>\n",
              "      <td>bed_bath_table</td>\n",
              "    </tr>\n",
              "    <tr>\n",
              "      <th>4</th>\n",
              "      <td>moveis_decoracao</td>\n",
              "      <td>furniture_decor</td>\n",
              "    </tr>\n",
              "  </tbody>\n",
              "</table>\n",
              "</div>"
            ],
            "text/plain": [
              "    product_category_name product_category_name_english\n",
              "0            beleza_saude                 health_beauty\n",
              "1  informatica_acessorios         computers_accessories\n",
              "2              automotivo                          auto\n",
              "3         cama_mesa_banho                bed_bath_table\n",
              "4        moveis_decoracao               furniture_decor"
            ]
          },
          "metadata": {
            "tags": []
          },
          "execution_count": 7
        }
      ]
    },
    {
      "cell_type": "code",
      "metadata": {
        "id": "Cifuy8AYzAfJ",
        "colab_type": "code",
        "colab": {
          "base_uri": "https://localhost:8080/",
          "height": 170
        },
        "outputId": "149955c6-8ca6-465a-8b35-e6b53711d039"
      },
      "source": [
        "# Print translations info.\n",
        "translations.info()"
      ],
      "execution_count": 8,
      "outputs": [
        {
          "output_type": "stream",
          "text": [
            "<class 'pandas.core.frame.DataFrame'>\n",
            "RangeIndex: 71 entries, 0 to 70\n",
            "Data columns (total 2 columns):\n",
            " #   Column                         Non-Null Count  Dtype \n",
            "---  ------                         --------------  ----- \n",
            " 0   product_category_name          71 non-null     object\n",
            " 1   product_category_name_english  71 non-null     object\n",
            "dtypes: object(2)\n",
            "memory usage: 1.2+ KB\n"
          ],
          "name": "stdout"
        }
      ]
    },
    {
      "cell_type": "markdown",
      "metadata": {
        "id": "sC5SO_1LgNO5",
        "colab_type": "text"
      },
      "source": [
        "---\n",
        "<center><h1> Q&A 1</h1> </center>\n",
        "\n",
        "---"
      ]
    },
    {
      "cell_type": "markdown",
      "metadata": {
        "id": "3bGr9T2DGo20",
        "colab_type": "text"
      },
      "source": [
        "### **Translating item category names**"
      ]
    },
    {
      "cell_type": "markdown",
      "metadata": {
        "id": "e9Y2uCaKwl3j",
        "colab_type": "text"
      },
      "source": [
        "**The product names are given in Portuguese.**\n",
        "  * We'll translate the names to English using a `pandas` `DataFrame` named `translations`.\n",
        "  * `.merge()` performs a join operation on columns or indices.\n",
        "  * `on` is the column on which to perform the join.\n",
        "  * `how` specifies which keys to use to perform the join. "
      ]
    },
    {
      "cell_type": "code",
      "metadata": {
        "id": "6AXIu0a_fLuG",
        "colab_type": "code",
        "colab": {
          "base_uri": "https://localhost:8080/",
          "height": 221
        },
        "outputId": "d6e311ec-0109-4a5c-a572-d5169f9e75fb"
      },
      "source": [
        "# Translate product names to English.\n",
        "products = products.merge(translations, on='product_category_name', how=\"left\")\n",
        "\n",
        "# Print English names.\n",
        "products['product_category_name_english']"
      ],
      "execution_count": 9,
      "outputs": [
        {
          "output_type": "execute_result",
          "data": {
            "text/plain": [
              "0                          perfume\n",
              "1                              art\n",
              "2                   sports_leisure\n",
              "3                             baby\n",
              "4                       housewares\n",
              "                   ...            \n",
              "32946              furniture_decor\n",
              "32947    construction_tools_lights\n",
              "32948               bed_bath_table\n",
              "32949        computers_accessories\n",
              "32950               bed_bath_table\n",
              "Name: product_category_name_english, Length: 32951, dtype: object"
            ]
          },
          "metadata": {
            "tags": []
          },
          "execution_count": 9
        }
      ]
    },
    {
      "cell_type": "markdown",
      "metadata": {
        "id": "FVqfYEjwHXZM",
        "colab_type": "text"
      },
      "source": [
        "### **Convert product IDs to product category names.**"
      ]
    },
    {
      "cell_type": "markdown",
      "metadata": {
        "id": "welfsnP1xJzC",
        "colab_type": "text"
      },
      "source": [
        "**We can work with product IDs directly, but do not have product names.**\n",
        "  * Map product IDs to product category names, which are available in `products`.\n",
        "  * Use another `.merge()` with `orders` and subset of `products` columns.\n",
        "  \n",
        "**Using category names will also simplify the analysis, since there are fewer categories than products.**"
      ]
    },
    {
      "cell_type": "code",
      "metadata": {
        "id": "H1wmY51JtTu7",
        "colab_type": "code",
        "colab": {}
      },
      "source": [
        "# Define product category name in orders DataFrame.\n",
        "orders = orders.merge(products[['product_id','product_category_name_english']], on='product_id', how='left')"
      ],
      "execution_count": 10,
      "outputs": []
    },
    {
      "cell_type": "code",
      "metadata": {
        "id": "kogImVcnu4q7",
        "colab_type": "code",
        "colab": {
          "base_uri": "https://localhost:8080/",
          "height": 204
        },
        "outputId": "b058ef97-09c7-4e05-fd16-66ae0f70ca8e"
      },
      "source": [
        "# Print orders header.\n",
        "orders.head()"
      ],
      "execution_count": 11,
      "outputs": [
        {
          "output_type": "execute_result",
          "data": {
            "text/html": [
              "<div>\n",
              "<style scoped>\n",
              "    .dataframe tbody tr th:only-of-type {\n",
              "        vertical-align: middle;\n",
              "    }\n",
              "\n",
              "    .dataframe tbody tr th {\n",
              "        vertical-align: top;\n",
              "    }\n",
              "\n",
              "    .dataframe thead th {\n",
              "        text-align: right;\n",
              "    }\n",
              "</style>\n",
              "<table border=\"1\" class=\"dataframe\">\n",
              "  <thead>\n",
              "    <tr style=\"text-align: right;\">\n",
              "      <th></th>\n",
              "      <th>order_id</th>\n",
              "      <th>order_item_id</th>\n",
              "      <th>product_id</th>\n",
              "      <th>price</th>\n",
              "      <th>product_category_name_english</th>\n",
              "    </tr>\n",
              "  </thead>\n",
              "  <tbody>\n",
              "    <tr>\n",
              "      <th>0</th>\n",
              "      <td>b8bfa12431142333a0c84802f9529d87</td>\n",
              "      <td>1</td>\n",
              "      <td>765a8070ece0f1383d0f5faf913dfb9b</td>\n",
              "      <td>81.0</td>\n",
              "      <td>sports_leisure</td>\n",
              "    </tr>\n",
              "    <tr>\n",
              "      <th>1</th>\n",
              "      <td>b8bfa12431142333a0c84802f9529d87</td>\n",
              "      <td>2</td>\n",
              "      <td>a41e356c76fab66334f36de622ecbd3a</td>\n",
              "      <td>99.3</td>\n",
              "      <td>NaN</td>\n",
              "    </tr>\n",
              "    <tr>\n",
              "      <th>2</th>\n",
              "      <td>b8bfa12431142333a0c84802f9529d87</td>\n",
              "      <td>3</td>\n",
              "      <td>765a8070ece0f1383d0f5faf913dfb9b</td>\n",
              "      <td>81.0</td>\n",
              "      <td>sports_leisure</td>\n",
              "    </tr>\n",
              "    <tr>\n",
              "      <th>3</th>\n",
              "      <td>00010242fe8c5a6d1ba2dd792cb16214</td>\n",
              "      <td>1</td>\n",
              "      <td>4244733e06e7ecb4970a6e2683c13e61</td>\n",
              "      <td>58.9</td>\n",
              "      <td>cool_stuff</td>\n",
              "    </tr>\n",
              "    <tr>\n",
              "      <th>4</th>\n",
              "      <td>00018f77f2f0320c557190d7a144bdd3</td>\n",
              "      <td>1</td>\n",
              "      <td>e5f2d52b802189ee658865ca93d83a8f</td>\n",
              "      <td>239.9</td>\n",
              "      <td>pet_shop</td>\n",
              "    </tr>\n",
              "  </tbody>\n",
              "</table>\n",
              "</div>"
            ],
            "text/plain": [
              "                           order_id  ...  product_category_name_english\n",
              "0  b8bfa12431142333a0c84802f9529d87  ...                 sports_leisure\n",
              "1  b8bfa12431142333a0c84802f9529d87  ...                            NaN\n",
              "2  b8bfa12431142333a0c84802f9529d87  ...                 sports_leisure\n",
              "3  00010242fe8c5a6d1ba2dd792cb16214  ...                     cool_stuff\n",
              "4  00018f77f2f0320c557190d7a144bdd3  ...                       pet_shop\n",
              "\n",
              "[5 rows x 5 columns]"
            ]
          },
          "metadata": {
            "tags": []
          },
          "execution_count": 11
        }
      ]
    },
    {
      "cell_type": "code",
      "metadata": {
        "id": "J906oRHjgsZE",
        "colab_type": "code",
        "colab": {}
      },
      "source": [
        "# Drop products without a defined category.\n",
        "orders.dropna(inplace=True, subset=['product_category_name_english'])"
      ],
      "execution_count": 12,
      "outputs": []
    },
    {
      "cell_type": "code",
      "metadata": {
        "id": "S0DEdAgkfke2",
        "colab_type": "code",
        "colab": {
          "base_uri": "https://localhost:8080/",
          "height": 34
        },
        "outputId": "dadef08b-35ed-4556-d7b6-3e2e91b474a6"
      },
      "source": [
        "# Print number of unique items.\n",
        "len(orders['product_id'].unique())"
      ],
      "execution_count": 13,
      "outputs": [
        {
          "output_type": "execute_result",
          "data": {
            "text/plain": [
              "32328"
            ]
          },
          "metadata": {
            "tags": []
          },
          "execution_count": 13
        }
      ]
    },
    {
      "cell_type": "code",
      "metadata": {
        "id": "sp_ZZcj7IEMD",
        "colab_type": "code",
        "colab": {
          "base_uri": "https://localhost:8080/",
          "height": 34
        },
        "outputId": "a21203ae-43bb-4fbd-ab7a-88c8e52e8ac2"
      },
      "source": [
        "# Print number of unique categories.\n",
        "len(orders['product_category_name_english'].unique())"
      ],
      "execution_count": 14,
      "outputs": [
        {
          "output_type": "execute_result",
          "data": {
            "text/plain": [
              "71"
            ]
          },
          "metadata": {
            "tags": []
          },
          "execution_count": 14
        }
      ]
    },
    {
      "cell_type": "markdown",
      "metadata": {
        "id": "Yxp4Dk15IP9g",
        "colab_type": "text"
      },
      "source": [
        "**Insight**: Performing \"aggregation\" up to the product category level reduces the number of potential itemsets from $2^{32328}$ to $2^{71}$."
      ]
    },
    {
      "cell_type": "markdown",
      "metadata": {
        "id": "_z5WqVXFIn23",
        "colab_type": "text"
      },
      "source": [
        "### **Construct transactions from order and product data**"
      ]
    },
    {
      "cell_type": "markdown",
      "metadata": {
        "id": "fDofpDQ8zw7n",
        "colab_type": "text"
      },
      "source": [
        "* **We will perform Market Basket Analysis on transactions.**\n",
        "  * A transaction consists of the unique items purchased by a customer.\n",
        "* **Need to extract transactions from orders `DataFrame`.**\n",
        "  * Group all items in an order."
      ]
    },
    {
      "cell_type": "code",
      "metadata": {
        "id": "LObvSR1bfs8N",
        "colab_type": "code",
        "colab": {
          "base_uri": "https://localhost:8080/",
          "height": 68
        },
        "outputId": "36a24d32-148b-4ade-c73c-539ba1702f86"
      },
      "source": [
        "# Identify transactions associated with example order.\n",
        "example1 = orders[orders['order_id'] == 'fe64170e936bc5f6a6a41def260984b9']['product_category_name_english']\n",
        "\n",
        "# Print example.\n",
        "example1"
      ],
      "execution_count": 15,
      "outputs": [
        {
          "output_type": "execute_result",
          "data": {
            "text/plain": [
              "111984     bed_bath_table\n",
              "111985    furniture_decor\n",
              "Name: product_category_name_english, dtype: object"
            ]
          },
          "metadata": {
            "tags": []
          },
          "execution_count": 15
        }
      ]
    },
    {
      "cell_type": "code",
      "metadata": {
        "id": "B2EEHJpPWOVJ",
        "colab_type": "code",
        "colab": {
          "base_uri": "https://localhost:8080/",
          "height": 102
        },
        "outputId": "efbbefdb-2d6c-41ea-8e2f-d0867ec2dc8d"
      },
      "source": [
        "# Identify transactions associated with example order.\n",
        "example2 = orders[orders['order_id'] == 'fffb9224b6fc7c43ebb0904318b10b5f']['product_category_name_english']\n",
        "\n",
        "# Print example.\n",
        "example2"
      ],
      "execution_count": 16,
      "outputs": [
        {
          "output_type": "execute_result",
          "data": {
            "text/plain": [
              "112640    watches_gifts\n",
              "112641    watches_gifts\n",
              "112642    watches_gifts\n",
              "112643    watches_gifts\n",
              "Name: product_category_name_english, dtype: object"
            ]
          },
          "metadata": {
            "tags": []
          },
          "execution_count": 16
        }
      ]
    },
    {
      "cell_type": "markdown",
      "metadata": {
        "id": "n83EDUs0Wa_2",
        "colab_type": "text"
      },
      "source": [
        "**Insight**: Aggregation reduces the number of items and, therefore, itemsets."
      ]
    },
    {
      "cell_type": "markdown",
      "metadata": {
        "id": "0yVc5cmhCHt6",
        "colab_type": "text"
      },
      "source": [
        "**Map `orders` to `transactions`.**\n",
        "* `.groupby()` splits a `DataFrame` into groups according to some criterion.\n",
        "* `.unique()` returns list of unique values."
      ]
    },
    {
      "cell_type": "code",
      "metadata": {
        "id": "nXES2DJ3Ry8l",
        "colab_type": "code",
        "colab": {
          "base_uri": "https://localhost:8080/",
          "height": 136
        },
        "outputId": "741598fb-c785-4fe8-ae58-726df3f41357"
      },
      "source": [
        "# Recover transaction itemsets from orders DataFrame.\n",
        "transactions = orders.groupby(\"order_id\").product_category_name_english.unique()\n",
        "\n",
        "# Print transactions header.\n",
        "transactions.head()"
      ],
      "execution_count": 17,
      "outputs": [
        {
          "output_type": "execute_result",
          "data": {
            "text/plain": [
              "order_id\n",
              "00010242fe8c5a6d1ba2dd792cb16214         [cool_stuff]\n",
              "00018f77f2f0320c557190d7a144bdd3           [pet_shop]\n",
              "000229ec398224ef6ca0657da4fc703e    [furniture_decor]\n",
              "00024acbcdf0a6daa1e931b038114c75            [perfume]\n",
              "00042b26cf59d7ce69dfabb4e55b4fd9       [garden_tools]\n",
              "Name: product_category_name_english, dtype: object"
            ]
          },
          "metadata": {
            "tags": []
          },
          "execution_count": 17
        }
      ]
    },
    {
      "cell_type": "code",
      "metadata": {
        "id": "l06VMDNQfzqZ",
        "colab_type": "code",
        "colab": {
          "base_uri": "https://localhost:8080/",
          "height": 564
        },
        "outputId": "7cb6cea0-9f6d-4617-eb72-45bcaf39b7c5"
      },
      "source": [
        "# Plot 50 largest categories of transactions.\n",
        "transactions.value_counts()[:50].plot(kind='bar', figsize=(15,5))"
      ],
      "execution_count": 18,
      "outputs": [
        {
          "output_type": "execute_result",
          "data": {
            "text/plain": [
              "<matplotlib.axes._subplots.AxesSubplot at 0x7ff4bcf8b358>"
            ]
          },
          "metadata": {
            "tags": []
          },
          "execution_count": 18
        },
        {
          "output_type": "display_data",
          "data": {
            "image/png": "[encoded data removed]",
            "text/plain": [
              "<Figure size 1080x360 with 1 Axes>"
            ]
          },
          "metadata": {
            "tags": [],
            "needs_background": "light"
          }
        }
      ]
    },
    {
      "cell_type": "markdown",
      "metadata": {
        "id": "aDSZJBjJT3Iw",
        "colab_type": "text"
      },
      "source": [
        "**Insight 1:** The most common itemsets consist of a single item.\n",
        "\n",
        "**Insight 2:** There's a long tail of categories that consist of infrequently purchased items."
      ]
    },
    {
      "cell_type": "markdown",
      "metadata": {
        "id": "ApMsvYgwHqIl",
        "colab_type": "text"
      },
      "source": [
        "**Use `.tolist()` to transform a `DataFrame` or `Series` object into a list.**"
      ]
    },
    {
      "cell_type": "code",
      "metadata": {
        "id": "nrBBAg9kf5R1",
        "colab_type": "code",
        "colab": {}
      },
      "source": [
        "# Convert the pandas series to list of lists.\n",
        "transactions = transactions.tolist()"
      ],
      "execution_count": 19,
      "outputs": []
    },
    {
      "cell_type": "markdown",
      "metadata": {
        "id": "J_JdOGzOVUed",
        "colab_type": "text"
      },
      "source": [
        "### **Summarize final transaction data**"
      ]
    },
    {
      "cell_type": "code",
      "metadata": {
        "id": "p_TJcRX62d8X",
        "colab_type": "code",
        "colab": {
          "base_uri": "https://localhost:8080/",
          "height": 34
        },
        "outputId": "39801c2a-3997-4bb9-b97f-a00db769dbd6"
      },
      "source": [
        "# Print length of transactions.\n",
        "len(transactions)"
      ],
      "execution_count": 20,
      "outputs": [
        {
          "output_type": "execute_result",
          "data": {
            "text/plain": [
              "97256"
            ]
          },
          "metadata": {
            "tags": []
          },
          "execution_count": 20
        }
      ]
    },
    {
      "cell_type": "code",
      "metadata": {
        "id": "M7H6AgFK2eRZ",
        "colab_type": "code",
        "colab": {}
      },
      "source": [
        "# Count number of unique item categories for each transaction.\n",
        "counts = [len(transaction) for transaction in transactions]"
      ],
      "execution_count": 21,
      "outputs": []
    },
    {
      "cell_type": "code",
      "metadata": {
        "id": "rMTyYLns2it_",
        "colab_type": "code",
        "colab": {
          "base_uri": "https://localhost:8080/",
          "height": 34
        },
        "outputId": "98481592-4eb2-4d17-c4a6-5d3c4d5bcc27"
      },
      "source": [
        "# Print median number of items in a transaction.\n",
        "np.median(counts)"
      ],
      "execution_count": 22,
      "outputs": [
        {
          "output_type": "execute_result",
          "data": {
            "text/plain": [
              "1.0"
            ]
          },
          "metadata": {
            "tags": []
          },
          "execution_count": 22
        }
      ]
    },
    {
      "cell_type": "code",
      "metadata": {
        "id": "9n4GUNbN2kB8",
        "colab_type": "code",
        "colab": {
          "base_uri": "https://localhost:8080/",
          "height": 34
        },
        "outputId": "7dddf09a-0cd5-4cf9-bcc8-b174a1a1a7fe"
      },
      "source": [
        "# Print maximum number of items in a transaction.\n",
        "np.max(counts)"
      ],
      "execution_count": 23,
      "outputs": [
        {
          "output_type": "execute_result",
          "data": {
            "text/plain": [
              "3"
            ]
          },
          "metadata": {
            "tags": []
          },
          "execution_count": 23
        }
      ]
    },
    {
      "cell_type": "markdown",
      "metadata": {
        "id": "xLOYfyVps4Uu",
        "colab_type": "text"
      },
      "source": [
        "---\n",
        "<center><h1> Q&A 2</h1> </center>\n",
        "\n",
        "---"
      ]
    },
    {
      "cell_type": "markdown",
      "metadata": {
        "id": "tXqmKHdXiCt6",
        "colab_type": "text"
      },
      "source": [
        "## **Association Rules and Metrics**"
      ]
    },
    {
      "cell_type": "markdown",
      "metadata": {
        "id": "RQnsrXg7aKgS",
        "colab_type": "text"
      },
      "source": [
        "**Association rule:** an \"if-then\" relationship between two itemsets.\n",
        "  * **rule:** if *{coffee)* then *{milk}*.\n",
        "  * **antecedent:** coffee\n",
        "  * **consequent:** milk\n",
        "\n",
        "**Metric:** a measure of the strength of association between two itemsets.\n",
        "  * **rule:** if *{coffee)* then *{milk}*\n",
        "  * **support:** 0.10\n",
        "  * **leverage:** 0.03\n",
        "\n"
      ]
    },
    {
      "cell_type": "markdown",
      "metadata": {
        "id": "QbFpAuLocyqt",
        "colab_type": "text"
      },
      "source": [
        "### **One-hot encode the transaction data**"
      ]
    },
    {
      "cell_type": "markdown",
      "metadata": {
        "id": "jT0FHyUfIDNC",
        "colab_type": "text"
      },
      "source": [
        "* **One-hot encoding data.**\n",
        "  * `TransactionEncoder()` instantiates an encoder object.\n",
        "  * `.fit()` creates mapping between list and one-hot encoding.\n",
        "  * `.transform()` transforms list into one-hot encoded array."
      ]
    },
    {
      "cell_type": "markdown",
      "metadata": {
        "id": "3Y65e_9jzBUw",
        "colab_type": "text"
      },
      "source": [
        "* **Applying one-hot encoding will transform the list of lists (of transactions) into a `DataFrame`.**\n",
        "  * The columns correspond to item categories and the rows correspond to transactions. A true indicates that a transaction contains an item from the corresponding category.\n",
        "* **One-hot encoding simplifies the computation of metrics.**\n",
        "  * We will also use a one-hot encoded `DataFrame` as an input to different `mlxtend` functions."
      ]
    },
    {
      "cell_type": "code",
      "metadata": {
        "id": "PADu6cwylDWC",
        "colab_type": "code",
        "colab": {}
      },
      "source": [
        "from mlxtend.preprocessing import TransactionEncoder\n",
        "\n",
        "# Instantiate an encoder.\n",
        "encoder = TransactionEncoder()\n",
        "\n",
        "# Fit encoder to list of lists.\n",
        "encoder.fit(transactions)\n",
        "\n",
        "# Transform lists into one-hot encoded array.\n",
        "onehot = encoder.transform(transactions)\n",
        "\n",
        "# Convert array to pandas DataFrame.\n",
        "onehot = pd.DataFrame(onehot, columns = encoder.columns_)"
      ],
      "execution_count": 24,
      "outputs": []
    },
    {
      "cell_type": "code",
      "metadata": {
        "id": "uXvgq0wclEZ_",
        "colab_type": "code",
        "colab": {
          "base_uri": "https://localhost:8080/",
          "height": 224
        },
        "outputId": "97d64968-158c-4b8d-bf74-757412bf5f42"
      },
      "source": [
        "# Print header.\n",
        "onehot.head()"
      ],
      "execution_count": 25,
      "outputs": [
        {
          "output_type": "execute_result",
          "data": {
            "text/html": [
              "<div>\n",
              "<style scoped>\n",
              "    .dataframe tbody tr th:only-of-type {\n",
              "        vertical-align: middle;\n",
              "    }\n",
              "\n",
              "    .dataframe tbody tr th {\n",
              "        vertical-align: top;\n",
              "    }\n",
              "\n",
              "    .dataframe thead th {\n",
              "        text-align: right;\n",
              "    }\n",
              "</style>\n",
              "<table border=\"1\" class=\"dataframe\">\n",
              "  <thead>\n",
              "    <tr style=\"text-align: right;\">\n",
              "      <th></th>\n",
              "      <th>agro_industry_and_commerce</th>\n",
              "      <th>air_conditioning</th>\n",
              "      <th>art</th>\n",
              "      <th>arts_and_crafts</th>\n",
              "      <th>audio</th>\n",
              "      <th>auto</th>\n",
              "      <th>baby</th>\n",
              "      <th>bed_bath_table</th>\n",
              "      <th>books_general_interest</th>\n",
              "      <th>books_imported</th>\n",
              "      <th>books_technical</th>\n",
              "      <th>cds_dvds_music</th>\n",
              "      <th>christmas_supplies</th>\n",
              "      <th>cine_photo</th>\n",
              "      <th>computers</th>\n",
              "      <th>computers_accessories</th>\n",
              "      <th>consoles_games</th>\n",
              "      <th>construction_tools_construction</th>\n",
              "      <th>construction_tools_lights</th>\n",
              "      <th>construction_tools_safety</th>\n",
              "      <th>cool_stuff</th>\n",
              "      <th>costruction_tools_garden</th>\n",
              "      <th>costruction_tools_tools</th>\n",
              "      <th>cuisine</th>\n",
              "      <th>diapers_and_hygiene</th>\n",
              "      <th>drinks</th>\n",
              "      <th>dvds_blu_ray</th>\n",
              "      <th>electronics</th>\n",
              "      <th>fashion_bags_accessories</th>\n",
              "      <th>fashion_childrens_clothes</th>\n",
              "      <th>fashion_female_clothing</th>\n",
              "      <th>fashion_male_clothing</th>\n",
              "      <th>fashion_shoes</th>\n",
              "      <th>fashion_sport</th>\n",
              "      <th>fashion_underwear_beach</th>\n",
              "      <th>fixed_telephony</th>\n",
              "      <th>flowers</th>\n",
              "      <th>food</th>\n",
              "      <th>food_drink</th>\n",
              "      <th>furniture_bedroom</th>\n",
              "      <th>furniture_decor</th>\n",
              "      <th>furniture_living_room</th>\n",
              "      <th>furniture_mattress_and_upholstery</th>\n",
              "      <th>garden_tools</th>\n",
              "      <th>health_beauty</th>\n",
              "      <th>home_appliances</th>\n",
              "      <th>home_appliances_2</th>\n",
              "      <th>home_comfort</th>\n",
              "      <th>home_comfort_2</th>\n",
              "      <th>home_construction</th>\n",
              "      <th>housewares</th>\n",
              "      <th>industry_commerce_and_business</th>\n",
              "      <th>kitchen_dining_laundry_garden_furniture</th>\n",
              "      <th>luggage_accessories</th>\n",
              "      <th>market_place</th>\n",
              "      <th>music</th>\n",
              "      <th>musical_instruments</th>\n",
              "      <th>office_furniture</th>\n",
              "      <th>party_supplies</th>\n",
              "      <th>perfume</th>\n",
              "      <th>pet_shop</th>\n",
              "      <th>security_and_services</th>\n",
              "      <th>signaling_and_security</th>\n",
              "      <th>small_appliances</th>\n",
              "      <th>small_appliances_home_oven_and_coffee</th>\n",
              "      <th>sports_leisure</th>\n",
              "      <th>stationery</th>\n",
              "      <th>tablets_printing_image</th>\n",
              "      <th>telephony</th>\n",
              "      <th>toys</th>\n",
              "      <th>watches_gifts</th>\n",
              "    </tr>\n",
              "  </thead>\n",
              "  <tbody>\n",
              "    <tr>\n",
              "      <th>0</th>\n",
              "      <td>False</td>\n",
              "      <td>False</td>\n",
              "      <td>False</td>\n",
              "      <td>False</td>\n",
              "      <td>False</td>\n",
              "      <td>False</td>\n",
              "      <td>False</td>\n",
              "      <td>False</td>\n",
              "      <td>False</td>\n",
              "      <td>False</td>\n",
              "      <td>False</td>\n",
              "      <td>False</td>\n",
              "      <td>False</td>\n",
              "      <td>False</td>\n",
              "      <td>False</td>\n",
              "      <td>False</td>\n",
              "      <td>False</td>\n",
              "      <td>False</td>\n",
              "      <td>False</td>\n",
              "      <td>False</td>\n",
              "      <td>True</td>\n",
              "      <td>False</td>\n",
              "      <td>False</td>\n",
              "      <td>False</td>\n",
              "      <td>False</td>\n",
              "      <td>False</td>\n",
              "      <td>False</td>\n",
              "      <td>False</td>\n",
              "      <td>False</td>\n",
              "      <td>False</td>\n",
              "      <td>False</td>\n",
              "      <td>False</td>\n",
              "      <td>False</td>\n",
              "      <td>False</td>\n",
              "      <td>False</td>\n",
              "      <td>False</td>\n",
              "      <td>False</td>\n",
              "      <td>False</td>\n",
              "      <td>False</td>\n",
              "      <td>False</td>\n",
              "      <td>False</td>\n",
              "      <td>False</td>\n",
              "      <td>False</td>\n",
              "      <td>False</td>\n",
              "      <td>False</td>\n",
              "      <td>False</td>\n",
              "      <td>False</td>\n",
              "      <td>False</td>\n",
              "      <td>False</td>\n",
              "      <td>False</td>\n",
              "      <td>False</td>\n",
              "      <td>False</td>\n",
              "      <td>False</td>\n",
              "      <td>False</td>\n",
              "      <td>False</td>\n",
              "      <td>False</td>\n",
              "      <td>False</td>\n",
              "      <td>False</td>\n",
              "      <td>False</td>\n",
              "      <td>False</td>\n",
              "      <td>False</td>\n",
              "      <td>False</td>\n",
              "      <td>False</td>\n",
              "      <td>False</td>\n",
              "      <td>False</td>\n",
              "      <td>False</td>\n",
              "      <td>False</td>\n",
              "      <td>False</td>\n",
              "      <td>False</td>\n",
              "      <td>False</td>\n",
              "      <td>False</td>\n",
              "    </tr>\n",
              "    <tr>\n",
              "      <th>1</th>\n",
              "      <td>False</td>\n",
              "      <td>False</td>\n",
              "      <td>False</td>\n",
              "      <td>False</td>\n",
              "      <td>False</td>\n",
              "      <td>False</td>\n",
              "      <td>False</td>\n",
              "      <td>False</td>\n",
              "      <td>False</td>\n",
              "      <td>False</td>\n",
              "      <td>False</td>\n",
              "      <td>False</td>\n",
              "      <td>False</td>\n",
              "      <td>False</td>\n",
              "      <td>False</td>\n",
              "      <td>False</td>\n",
              "      <td>False</td>\n",
              "      <td>False</td>\n",
              "      <td>False</td>\n",
              "      <td>False</td>\n",
              "      <td>False</td>\n",
              "      <td>False</td>\n",
              "      <td>False</td>\n",
              "      <td>False</td>\n",
              "      <td>False</td>\n",
              "      <td>False</td>\n",
              "      <td>False</td>\n",
              "      <td>False</td>\n",
              "      <td>False</td>\n",
              "      <td>False</td>\n",
              "      <td>False</td>\n",
              "      <td>False</td>\n",
              "      <td>False</td>\n",
              "      <td>False</td>\n",
              "      <td>False</td>\n",
              "      <td>False</td>\n",
              "      <td>False</td>\n",
              "      <td>False</td>\n",
              "      <td>False</td>\n",
              "      <td>False</td>\n",
              "      <td>False</td>\n",
              "      <td>False</td>\n",
              "      <td>False</td>\n",
              "      <td>False</td>\n",
              "      <td>False</td>\n",
              "      <td>False</td>\n",
              "      <td>False</td>\n",
              "      <td>False</td>\n",
              "      <td>False</td>\n",
              "      <td>False</td>\n",
              "      <td>False</td>\n",
              "      <td>False</td>\n",
              "      <td>False</td>\n",
              "      <td>False</td>\n",
              "      <td>False</td>\n",
              "      <td>False</td>\n",
              "      <td>False</td>\n",
              "      <td>False</td>\n",
              "      <td>False</td>\n",
              "      <td>False</td>\n",
              "      <td>True</td>\n",
              "      <td>False</td>\n",
              "      <td>False</td>\n",
              "      <td>False</td>\n",
              "      <td>False</td>\n",
              "      <td>False</td>\n",
              "      <td>False</td>\n",
              "      <td>False</td>\n",
              "      <td>False</td>\n",
              "      <td>False</td>\n",
              "      <td>False</td>\n",
              "    </tr>\n",
              "    <tr>\n",
              "      <th>2</th>\n",
              "      <td>False</td>\n",
              "      <td>False</td>\n",
              "      <td>False</td>\n",
              "      <td>False</td>\n",
              "      <td>False</td>\n",
              "      <td>False</td>\n",
              "      <td>False</td>\n",
              "      <td>False</td>\n",
              "      <td>False</td>\n",
              "      <td>False</td>\n",
              "      <td>False</td>\n",
              "      <td>False</td>\n",
              "      <td>False</td>\n",
              "      <td>False</td>\n",
              "      <td>False</td>\n",
              "      <td>False</td>\n",
              "      <td>False</td>\n",
              "      <td>False</td>\n",
              "      <td>False</td>\n",
              "      <td>False</td>\n",
              "      <td>False</td>\n",
              "      <td>False</td>\n",
              "      <td>False</td>\n",
              "      <td>False</td>\n",
              "      <td>False</td>\n",
              "      <td>False</td>\n",
              "      <td>False</td>\n",
              "      <td>False</td>\n",
              "      <td>False</td>\n",
              "      <td>False</td>\n",
              "      <td>False</td>\n",
              "      <td>False</td>\n",
              "      <td>False</td>\n",
              "      <td>False</td>\n",
              "      <td>False</td>\n",
              "      <td>False</td>\n",
              "      <td>False</td>\n",
              "      <td>False</td>\n",
              "      <td>False</td>\n",
              "      <td>False</td>\n",
              "      <td>True</td>\n",
              "      <td>False</td>\n",
              "      <td>False</td>\n",
              "      <td>False</td>\n",
              "      <td>False</td>\n",
              "      <td>False</td>\n",
              "      <td>False</td>\n",
              "      <td>False</td>\n",
              "      <td>False</td>\n",
              "      <td>False</td>\n",
              "      <td>False</td>\n",
              "      <td>False</td>\n",
              "      <td>False</td>\n",
              "      <td>False</td>\n",
              "      <td>False</td>\n",
              "      <td>False</td>\n",
              "      <td>False</td>\n",
              "      <td>False</td>\n",
              "      <td>False</td>\n",
              "      <td>False</td>\n",
              "      <td>False</td>\n",
              "      <td>False</td>\n",
              "      <td>False</td>\n",
              "      <td>False</td>\n",
              "      <td>False</td>\n",
              "      <td>False</td>\n",
              "      <td>False</td>\n",
              "      <td>False</td>\n",
              "      <td>False</td>\n",
              "      <td>False</td>\n",
              "      <td>False</td>\n",
              "    </tr>\n",
              "    <tr>\n",
              "      <th>3</th>\n",
              "      <td>False</td>\n",
              "      <td>False</td>\n",
              "      <td>False</td>\n",
              "      <td>False</td>\n",
              "      <td>False</td>\n",
              "      <td>False</td>\n",
              "      <td>False</td>\n",
              "      <td>False</td>\n",
              "      <td>False</td>\n",
              "      <td>False</td>\n",
              "      <td>False</td>\n",
              "      <td>False</td>\n",
              "      <td>False</td>\n",
              "      <td>False</td>\n",
              "      <td>False</td>\n",
              "      <td>False</td>\n",
              "      <td>False</td>\n",
              "      <td>False</td>\n",
              "      <td>False</td>\n",
              "      <td>False</td>\n",
              "      <td>False</td>\n",
              "      <td>False</td>\n",
              "      <td>False</td>\n",
              "      <td>False</td>\n",
              "      <td>False</td>\n",
              "      <td>False</td>\n",
              "      <td>False</td>\n",
              "      <td>False</td>\n",
              "      <td>False</td>\n",
              "      <td>False</td>\n",
              "      <td>False</td>\n",
              "      <td>False</td>\n",
              "      <td>False</td>\n",
              "      <td>False</td>\n",
              "      <td>False</td>\n",
              "      <td>False</td>\n",
              "      <td>False</td>\n",
              "      <td>False</td>\n",
              "      <td>False</td>\n",
              "      <td>False</td>\n",
              "      <td>False</td>\n",
              "      <td>False</td>\n",
              "      <td>False</td>\n",
              "      <td>False</td>\n",
              "      <td>False</td>\n",
              "      <td>False</td>\n",
              "      <td>False</td>\n",
              "      <td>False</td>\n",
              "      <td>False</td>\n",
              "      <td>False</td>\n",
              "      <td>False</td>\n",
              "      <td>False</td>\n",
              "      <td>False</td>\n",
              "      <td>False</td>\n",
              "      <td>False</td>\n",
              "      <td>False</td>\n",
              "      <td>False</td>\n",
              "      <td>False</td>\n",
              "      <td>False</td>\n",
              "      <td>True</td>\n",
              "      <td>False</td>\n",
              "      <td>False</td>\n",
              "      <td>False</td>\n",
              "      <td>False</td>\n",
              "      <td>False</td>\n",
              "      <td>False</td>\n",
              "      <td>False</td>\n",
              "      <td>False</td>\n",
              "      <td>False</td>\n",
              "      <td>False</td>\n",
              "      <td>False</td>\n",
              "    </tr>\n",
              "    <tr>\n",
              "      <th>4</th>\n",
              "      <td>False</td>\n",
              "      <td>False</td>\n",
              "      <td>False</td>\n",
              "      <td>False</td>\n",
              "      <td>False</td>\n",
              "      <td>False</td>\n",
              "      <td>False</td>\n",
              "      <td>False</td>\n",
              "      <td>False</td>\n",
              "      <td>False</td>\n",
              "      <td>False</td>\n",
              "      <td>False</td>\n",
              "      <td>False</td>\n",
              "      <td>False</td>\n",
              "      <td>False</td>\n",
              "      <td>False</td>\n",
              "      <td>False</td>\n",
              "      <td>False</td>\n",
              "      <td>False</td>\n",
              "      <td>False</td>\n",
              "      <td>False</td>\n",
              "      <td>False</td>\n",
              "      <td>False</td>\n",
              "      <td>False</td>\n",
              "      <td>False</td>\n",
              "      <td>False</td>\n",
              "      <td>False</td>\n",
              "      <td>False</td>\n",
              "      <td>False</td>\n",
              "      <td>False</td>\n",
              "      <td>False</td>\n",
              "      <td>False</td>\n",
              "      <td>False</td>\n",
              "      <td>False</td>\n",
              "      <td>False</td>\n",
              "      <td>False</td>\n",
              "      <td>False</td>\n",
              "      <td>False</td>\n",
              "      <td>False</td>\n",
              "      <td>False</td>\n",
              "      <td>False</td>\n",
              "      <td>False</td>\n",
              "      <td>False</td>\n",
              "      <td>True</td>\n",
              "      <td>False</td>\n",
              "      <td>False</td>\n",
              "      <td>False</td>\n",
              "      <td>False</td>\n",
              "      <td>False</td>\n",
              "      <td>False</td>\n",
              "      <td>False</td>\n",
              "      <td>False</td>\n",
              "      <td>False</td>\n",
              "      <td>False</td>\n",
              "      <td>False</td>\n",
              "      <td>False</td>\n",
              "      <td>False</td>\n",
              "      <td>False</td>\n",
              "      <td>False</td>\n",
              "      <td>False</td>\n",
              "      <td>False</td>\n",
              "      <td>False</td>\n",
              "      <td>False</td>\n",
              "      <td>False</td>\n",
              "      <td>False</td>\n",
              "      <td>False</td>\n",
              "      <td>False</td>\n",
              "      <td>False</td>\n",
              "      <td>False</td>\n",
              "      <td>False</td>\n",
              "      <td>False</td>\n",
              "    </tr>\n",
              "  </tbody>\n",
              "</table>\n",
              "</div>"
            ],
            "text/plain": [
              "   agro_industry_and_commerce  air_conditioning  ...   toys  watches_gifts\n",
              "0                       False             False  ...  False          False\n",
              "1                       False             False  ...  False          False\n",
              "2                       False             False  ...  False          False\n",
              "3                       False             False  ...  False          False\n",
              "4                       False             False  ...  False          False\n",
              "\n",
              "[5 rows x 71 columns]"
            ]
          },
          "metadata": {
            "tags": []
          },
          "execution_count": 25
        }
      ]
    },
    {
      "cell_type": "markdown",
      "metadata": {
        "id": "QcQf1RW7ffzc",
        "colab_type": "text"
      },
      "source": [
        "\n",
        "### **Compute the support metric**\n",
        "\n",
        "* Support measures the frequency with which an itemset appears in a database of transactions."
      ]
    },
    {
      "cell_type": "markdown",
      "metadata": {
        "id": "mwjsbXSKByym",
        "colab_type": "text"
      },
      "source": [
        "\n",
        "$$support(X) = \\frac{\\text{number of transactions containing X}}{\\text{total number of transactions}}$$"
      ]
    },
    {
      "cell_type": "markdown",
      "metadata": {
        "id": "rdoVfdc_H8KU",
        "colab_type": "text"
      },
      "source": [
        "* `.mean(axis=0)` computes support values for one-hot encoded `DataFrame`.  \n",
        "* A high support value indicates that items in an itemset are purchased together frequently and, thus, are associated with each other."
      ]
    },
    {
      "cell_type": "code",
      "metadata": {
        "id": "n3E8jFSelMRj",
        "colab_type": "code",
        "colab": {
          "base_uri": "https://localhost:8080/",
          "height": 221
        },
        "outputId": "a645c07f-0b86-4120-81d3-bb98e7881422"
      },
      "source": [
        "# Print support metric over all rows for each column.\n",
        "onehot.mean(axis=0)"
      ],
      "execution_count": 26,
      "outputs": [
        {
          "output_type": "execute_result",
          "data": {
            "text/plain": [
              "agro_industry_and_commerce    0.001871\n",
              "air_conditioning              0.002601\n",
              "art                           0.002077\n",
              "arts_and_crafts               0.000236\n",
              "audio                         0.003599\n",
              "                                ...   \n",
              "stationery                    0.023762\n",
              "tablets_printing_image        0.000812\n",
              "telephony                     0.043175\n",
              "toys                          0.039956\n",
              "watches_gifts                 0.057827\n",
              "Length: 71, dtype: float64"
            ]
          },
          "metadata": {
            "tags": []
          },
          "execution_count": 26
        }
      ]
    },
    {
      "cell_type": "markdown",
      "metadata": {
        "id": "k4xq0z7IdwmS",
        "colab_type": "text"
      },
      "source": [
        "**Observation:** In retail and ecommerce settings, any particular item is likely to account for a small share of transactions. Here, we've aggregated up to the product category level and very popular categories are still only present in 5% of transactions. Consequently, itemsets with 2 or more item categories will account for a vanishingly small share of total transactions (e.g. 0.01%)."
      ]
    },
    {
      "cell_type": "markdown",
      "metadata": {
        "id": "7NNdtDOXiC8z",
        "colab_type": "text"
      },
      "source": [
        "### **Compute the item count distribution over transactions**"
      ]
    },
    {
      "cell_type": "markdown",
      "metadata": {
        "id": "Aey6WvpMM_26",
        "colab_type": "text"
      },
      "source": [
        "* `onehot.sum(axis=1)` sums across the columns in a `DataFrame`. "
      ]
    },
    {
      "cell_type": "code",
      "metadata": {
        "id": "q87IRIx0lR9U",
        "colab_type": "code",
        "colab": {
          "base_uri": "https://localhost:8080/",
          "height": 85
        },
        "outputId": "37ffcb00-a77d-462b-e117-2303cc83e122"
      },
      "source": [
        "# Print distribution of item counts.\n",
        "onehot.sum(axis=1).value_counts()"
      ],
      "execution_count": 27,
      "outputs": [
        {
          "output_type": "execute_result",
          "data": {
            "text/plain": [
              "1    96530\n",
              "2      711\n",
              "3       15\n",
              "dtype: int64"
            ]
          },
          "metadata": {
            "tags": []
          },
          "execution_count": 27
        }
      ]
    },
    {
      "cell_type": "markdown",
      "metadata": {
        "id": "fWmrboxOhnr4",
        "colab_type": "text"
      },
      "source": [
        "**Insight:** Only 726 transactions contain more than one item category. We may want to consider whether aggregation discards too many multi-item itemsets."
      ]
    },
    {
      "cell_type": "markdown",
      "metadata": {
        "id": "fj7yQ2DqiQkh",
        "colab_type": "text"
      },
      "source": [
        "### **Create a column for an itemset with multiple items**"
      ]
    },
    {
      "cell_type": "markdown",
      "metadata": {
        "id": "3ue1byfs4ejs",
        "colab_type": "text"
      },
      "source": [
        "* **We can create multi-item columns using the logical AND operation.**\n",
        "  * `True & True = True`\n",
        "  * `True & False = False`\n",
        "  * `False & True = False`\n",
        "  * `False & False = False`"
      ]
    },
    {
      "cell_type": "code",
      "metadata": {
        "id": "immnq5stlWaf",
        "colab_type": "code",
        "colab": {
          "base_uri": "https://localhost:8080/",
          "height": 34
        },
        "outputId": "f29a7d13-40d0-408e-cd15-4099ae413e63"
      },
      "source": [
        "# Add sports_leisure and health_beauty to DataFrame.\n",
        "onehot['sports_leisure_health_beauty'] = onehot['sports_leisure'] & onehot['health_beauty']\n",
        "\n",
        "# Print support value.\n",
        "onehot['sports_leisure_health_beauty'].mean(axis = 0)"
      ],
      "execution_count": 28,
      "outputs": [
        {
          "output_type": "execute_result",
          "data": {
            "text/plain": [
              "0.00014394998766142962"
            ]
          },
          "metadata": {
            "tags": []
          },
          "execution_count": 28
        }
      ]
    },
    {
      "cell_type": "markdown",
      "metadata": {
        "id": "VHlEhjUuikdj",
        "colab_type": "text"
      },
      "source": [
        "**Insight:** Only 0.014% of transactions contain a product from both the sports and leisure, and health and beauty categories. These are typically the type of numbers we will work with when we set pruning thresholds in the following section."
      ]
    },
    {
      "cell_type": "markdown",
      "metadata": {
        "id": "BvoKwShnjC4z",
        "colab_type": "text"
      },
      "source": [
        "### **Aggregate the dataset further by combining product sub-categories**"
      ]
    },
    {
      "cell_type": "markdown",
      "metadata": {
        "id": "vHIEvm0zjLk7",
        "colab_type": "text"
      },
      "source": [
        "* **We can use the inclusive OR operation to combine multiple categories.**\n",
        "  * `True | True = True`\n",
        "  * `True | False = True`\n",
        "  * `False | True = True`\n",
        "  * `False | False = False`"
      ]
    },
    {
      "cell_type": "code",
      "metadata": {
        "id": "qLGroyNZlX1U",
        "colab_type": "code",
        "colab": {
          "base_uri": "https://localhost:8080/",
          "height": 85
        },
        "outputId": "1a0fc392-7185-4918-e8dd-71a7c9184d72"
      },
      "source": [
        "# Merge books_imported and books_technical.\n",
        "onehot['books'] = onehot['books_imported'] | onehot['books_technical']\n",
        "\n",
        "# Print support values for books, books_imported, and books_technical.\n",
        "onehot[['books','books_imported','books_technical']].mean(axis=0)"
      ],
      "execution_count": 29,
      "outputs": [
        {
          "output_type": "execute_result",
          "data": {
            "text/plain": [
              "books              0.003218\n",
              "books_imported     0.000545\n",
              "books_technical    0.002673\n",
              "dtype: float64"
            ]
          },
          "metadata": {
            "tags": []
          },
          "execution_count": 29
        }
      ]
    },
    {
      "cell_type": "markdown",
      "metadata": {
        "id": "9E2CHkMfqHx8",
        "colab_type": "text"
      },
      "source": [
        "### **Compute the confidence metric**"
      ]
    },
    {
      "cell_type": "markdown",
      "metadata": {
        "id": "vcPL0Iy3rY2m",
        "colab_type": "text"
      },
      "source": [
        "* **The support metric doesn't provide information about direction.**\n",
        "  * $support(antecedent, consequent) = support(consequent, antecedent)$\n",
        "\n",
        "* **The confidence metric has a direction.**\n",
        "  * Conditional probability of the consequent, given the antecedent."
      ]
    },
    {
      "cell_type": "markdown",
      "metadata": {
        "id": "C2JLWdbnr8Nl",
        "colab_type": "text"
      },
      "source": [
        "$$confidence(antecedent \\rightarrow consequent)= \\frac{support(antecedent, consequent)}{support(antecedent)}$$"
      ]
    },
    {
      "cell_type": "markdown",
      "metadata": {
        "id": "RC3Zc1uWHsm3",
        "colab_type": "text"
      },
      "source": [
        "* A high value of confidence indicates that the antecedent and consequent are associated and that the direction of the association runs from the antecedent to the consequent."
      ]
    },
    {
      "cell_type": "code",
      "metadata": {
        "id": "US-Z5hs7qGFl",
        "colab_type": "code",
        "colab": {
          "base_uri": "https://localhost:8080/",
          "height": 34
        },
        "outputId": "1e601776-0329-4daa-e24d-59952283da41"
      },
      "source": [
        "# Compute joint support for sports_leisure and health_beauty.\n",
        "joint_support = (onehot['sports_leisure'] & onehot['health_beauty']).mean()\n",
        "\n",
        "# Print confidence metric for sports_leisure -> health_beauty.\n",
        "joint_support / onehot['sports_leisure'].mean()"
      ],
      "execution_count": 30,
      "outputs": [
        {
          "output_type": "execute_result",
          "data": {
            "text/plain": [
              "0.0018134715025906734"
            ]
          },
          "metadata": {
            "tags": []
          },
          "execution_count": 30
        }
      ]
    },
    {
      "cell_type": "code",
      "metadata": {
        "id": "oRacycCMtKeh",
        "colab_type": "code",
        "colab": {
          "base_uri": "https://localhost:8080/",
          "height": 34
        },
        "outputId": "90526b72-8049-412e-d2f7-a39f87256bfb"
      },
      "source": [
        "# Print confidence for health_beauty -> sports_leisure.\n",
        "joint_support / onehot['sports_leisure'].mean()"
      ],
      "execution_count": 31,
      "outputs": [
        {
          "output_type": "execute_result",
          "data": {
            "text/plain": [
              "0.0018134715025906734"
            ]
          },
          "metadata": {
            "tags": []
          },
          "execution_count": 31
        }
      ]
    },
    {
      "cell_type": "markdown",
      "metadata": {
        "id": "QC_SuQBMtRsa",
        "colab_type": "text"
      },
      "source": [
        "**Insight:** $confidence(sports\\_leisure \\rightarrow health\\_beauty)$ was higher than $confidence(health\\_beauty \\rightarrow sports\\_leisure)$. Since the two have the same joint support, the confidence measures will differ only by the antecedent support. The higher confidence metric means that the antecedent has *lower* support."
      ]
    },
    {
      "cell_type": "markdown",
      "metadata": {
        "id": "iKm1vKDFldpt",
        "colab_type": "text"
      },
      "source": [
        "---\n",
        "<center><h1> Q&A 3</h1> </center>\n",
        "\n",
        "---"
      ]
    },
    {
      "cell_type": "markdown",
      "metadata": {
        "id": "kXwJcMyViCcW",
        "colab_type": "text"
      },
      "source": [
        "## **The Apriori Algorithm and Pruning**"
      ]
    },
    {
      "cell_type": "markdown",
      "metadata": {
        "id": "h7JGKJX3wsYK",
        "colab_type": "text"
      },
      "source": [
        "**The Apriori algorithm** identifies frequent (high support) itemsets using something called the Apriori principle, which states that a superset that contains an infrequent item is also infrequent."
      ]
    },
    {
      "cell_type": "markdown",
      "metadata": {
        "id": "Xru6-VBAwZz9",
        "colab_type": "text"
      },
      "source": [
        "![alt](https://github.com/datacamp/Market-Basket-Analysis-in-python-live-training/blob/master/assets/apriori_algorithm.png?raw=True)"
      ]
    },
    {
      "cell_type": "markdown",
      "metadata": {
        "id": "Qy5BSl11zKcI",
        "colab_type": "text"
      },
      "source": [
        "**Pruning** is the process of removing itemsets or association rules, typically based on the application of a metric threshold. "
      ]
    },
    {
      "cell_type": "markdown",
      "metadata": {
        "id": "O-nGUl2Cx951",
        "colab_type": "text"
      },
      "source": [
        "**The `mlxtend` module will enable us to apply the Apriori algorithm, perform pruning, and compute association rules.**"
      ]
    },
    {
      "cell_type": "markdown",
      "metadata": {
        "id": "RPqHxNBczJFD",
        "colab_type": "text"
      },
      "source": [
        "### **Applying the Apriori algorithm**"
      ]
    },
    {
      "cell_type": "markdown",
      "metadata": {
        "id": "_9_EnUE5NSYC",
        "colab_type": "text"
      },
      "source": [
        "* Use `apriori()` to identify frequent itemsets.\n",
        "* `min_support` set the item frequency threshold used for pruning."
      ]
    },
    {
      "cell_type": "code",
      "metadata": {
        "id": "oTdaZ39VljgV",
        "colab_type": "code",
        "colab": {
          "base_uri": "https://localhost:8080/",
          "height": 700
        },
        "outputId": "5f53576b-f79f-49b3-eae9-61bed727b3ec"
      },
      "source": [
        "from mlxtend.frequent_patterns import apriori\n",
        "\n",
        "# Apply apriori algorithm to data with min support threshold of 0.01.\n",
        "frequent_itemsets = apriori(onehot, min_support = 0.01)\n",
        "\n",
        "# Print frequent itemsets.\n",
        "frequent_itemsets"
      ],
      "execution_count": 32,
      "outputs": [
        {
          "output_type": "execute_result",
          "data": {
            "text/html": [
              "<div>\n",
              "<style scoped>\n",
              "    .dataframe tbody tr th:only-of-type {\n",
              "        vertical-align: middle;\n",
              "    }\n",
              "\n",
              "    .dataframe tbody tr th {\n",
              "        vertical-align: top;\n",
              "    }\n",
              "\n",
              "    .dataframe thead th {\n",
              "        text-align: right;\n",
              "    }\n",
              "</style>\n",
              "<table border=\"1\" class=\"dataframe\">\n",
              "  <thead>\n",
              "    <tr style=\"text-align: right;\">\n",
              "      <th></th>\n",
              "      <th>support</th>\n",
              "      <th>itemsets</th>\n",
              "    </tr>\n",
              "  </thead>\n",
              "  <tbody>\n",
              "    <tr>\n",
              "      <th>0</th>\n",
              "      <td>0.040070</td>\n",
              "      <td>(5)</td>\n",
              "    </tr>\n",
              "    <tr>\n",
              "      <th>1</th>\n",
              "      <td>0.029664</td>\n",
              "      <td>(6)</td>\n",
              "    </tr>\n",
              "    <tr>\n",
              "      <th>2</th>\n",
              "      <td>0.096827</td>\n",
              "      <td>(7)</td>\n",
              "    </tr>\n",
              "    <tr>\n",
              "      <th>3</th>\n",
              "      <td>0.068777</td>\n",
              "      <td>(15)</td>\n",
              "    </tr>\n",
              "    <tr>\n",
              "      <th>4</th>\n",
              "      <td>0.010920</td>\n",
              "      <td>(16)</td>\n",
              "    </tr>\n",
              "    <tr>\n",
              "      <th>5</th>\n",
              "      <td>0.037345</td>\n",
              "      <td>(20)</td>\n",
              "    </tr>\n",
              "    <tr>\n",
              "      <th>6</th>\n",
              "      <td>0.026219</td>\n",
              "      <td>(27)</td>\n",
              "    </tr>\n",
              "    <tr>\n",
              "      <th>7</th>\n",
              "      <td>0.019166</td>\n",
              "      <td>(28)</td>\n",
              "    </tr>\n",
              "    <tr>\n",
              "      <th>8</th>\n",
              "      <td>0.066310</td>\n",
              "      <td>(40)</td>\n",
              "    </tr>\n",
              "    <tr>\n",
              "      <th>9</th>\n",
              "      <td>0.036173</td>\n",
              "      <td>(43)</td>\n",
              "    </tr>\n",
              "    <tr>\n",
              "      <th>10</th>\n",
              "      <td>0.090853</td>\n",
              "      <td>(44)</td>\n",
              "    </tr>\n",
              "    <tr>\n",
              "      <th>11</th>\n",
              "      <td>0.060500</td>\n",
              "      <td>(50)</td>\n",
              "    </tr>\n",
              "    <tr>\n",
              "      <th>12</th>\n",
              "      <td>0.010632</td>\n",
              "      <td>(53)</td>\n",
              "    </tr>\n",
              "    <tr>\n",
              "      <th>13</th>\n",
              "      <td>0.013089</td>\n",
              "      <td>(57)</td>\n",
              "    </tr>\n",
              "    <tr>\n",
              "      <th>14</th>\n",
              "      <td>0.032512</td>\n",
              "      <td>(59)</td>\n",
              "    </tr>\n",
              "    <tr>\n",
              "      <th>15</th>\n",
              "      <td>0.017582</td>\n",
              "      <td>(60)</td>\n",
              "    </tr>\n",
              "    <tr>\n",
              "      <th>16</th>\n",
              "      <td>0.079378</td>\n",
              "      <td>(65)</td>\n",
              "    </tr>\n",
              "    <tr>\n",
              "      <th>17</th>\n",
              "      <td>0.023762</td>\n",
              "      <td>(66)</td>\n",
              "    </tr>\n",
              "    <tr>\n",
              "      <th>18</th>\n",
              "      <td>0.043175</td>\n",
              "      <td>(68)</td>\n",
              "    </tr>\n",
              "    <tr>\n",
              "      <th>19</th>\n",
              "      <td>0.039956</td>\n",
              "      <td>(69)</td>\n",
              "    </tr>\n",
              "    <tr>\n",
              "      <th>20</th>\n",
              "      <td>0.057827</td>\n",
              "      <td>(70)</td>\n",
              "    </tr>\n",
              "  </tbody>\n",
              "</table>\n",
              "</div>"
            ],
            "text/plain": [
              "     support itemsets\n",
              "0   0.040070      (5)\n",
              "1   0.029664      (6)\n",
              "2   0.096827      (7)\n",
              "3   0.068777     (15)\n",
              "4   0.010920     (16)\n",
              "5   0.037345     (20)\n",
              "6   0.026219     (27)\n",
              "7   0.019166     (28)\n",
              "8   0.066310     (40)\n",
              "9   0.036173     (43)\n",
              "10  0.090853     (44)\n",
              "11  0.060500     (50)\n",
              "12  0.010632     (53)\n",
              "13  0.013089     (57)\n",
              "14  0.032512     (59)\n",
              "15  0.017582     (60)\n",
              "16  0.079378     (65)\n",
              "17  0.023762     (66)\n",
              "18  0.043175     (68)\n",
              "19  0.039956     (69)\n",
              "20  0.057827     (70)"
            ]
          },
          "metadata": {
            "tags": []
          },
          "execution_count": 32
        }
      ]
    },
    {
      "cell_type": "markdown",
      "metadata": {
        "id": "iQ3gYEK2yPCi",
        "colab_type": "text"
      },
      "source": [
        "**Observation 1:** `apriori` returns a `DataFrame` with a `support` column and an `itemsets` column.\n",
        "\n",
        "**Observation 2:** By default `apriori` returns itemset numbers, rather than labels. We can change this by using the `use_colnames` parameter.\n",
        "\n",
        "**Insight:** All itemsets with a support of greater than 0.01 contain a single item."
      ]
    },
    {
      "cell_type": "markdown",
      "metadata": {
        "id": "aOawxLPlN0O3",
        "colab_type": "text"
      },
      "source": [
        "* Use `use_colnames` to use item names, rather than integer IDs."
      ]
    },
    {
      "cell_type": "code",
      "metadata": {
        "id": "L_MrF6Ckllde",
        "colab_type": "code",
        "colab": {
          "base_uri": "https://localhost:8080/",
          "height": 1000
        },
        "outputId": "7078bfbb-b587-4504-c94c-412cd83db2b8"
      },
      "source": [
        "# Apply apriori algorithm to data with min support threshold of 0.001.\n",
        "frequent_itemsets = apriori(onehot, min_support = 0.001, use_colnames = True)\n",
        "\n",
        "# Print frequent itemsets.\n",
        "frequent_itemsets"
      ],
      "execution_count": 33,
      "outputs": [
        {
          "output_type": "execute_result",
          "data": {
            "text/html": [
              "<div>\n",
              "<style scoped>\n",
              "    .dataframe tbody tr th:only-of-type {\n",
              "        vertical-align: middle;\n",
              "    }\n",
              "\n",
              "    .dataframe tbody tr th {\n",
              "        vertical-align: top;\n",
              "    }\n",
              "\n",
              "    .dataframe thead th {\n",
              "        text-align: right;\n",
              "    }\n",
              "</style>\n",
              "<table border=\"1\" class=\"dataframe\">\n",
              "  <thead>\n",
              "    <tr style=\"text-align: right;\">\n",
              "      <th></th>\n",
              "      <th>support</th>\n",
              "      <th>itemsets</th>\n",
              "    </tr>\n",
              "  </thead>\n",
              "  <tbody>\n",
              "    <tr>\n",
              "      <th>0</th>\n",
              "      <td>0.001871</td>\n",
              "      <td>(agro_industry_and_commerce)</td>\n",
              "    </tr>\n",
              "    <tr>\n",
              "      <th>1</th>\n",
              "      <td>0.002601</td>\n",
              "      <td>(air_conditioning)</td>\n",
              "    </tr>\n",
              "    <tr>\n",
              "      <th>2</th>\n",
              "      <td>0.002077</td>\n",
              "      <td>(art)</td>\n",
              "    </tr>\n",
              "    <tr>\n",
              "      <th>3</th>\n",
              "      <td>0.003599</td>\n",
              "      <td>(audio)</td>\n",
              "    </tr>\n",
              "    <tr>\n",
              "      <th>4</th>\n",
              "      <td>0.040070</td>\n",
              "      <td>(auto)</td>\n",
              "    </tr>\n",
              "    <tr>\n",
              "      <th>5</th>\n",
              "      <td>0.029664</td>\n",
              "      <td>(baby)</td>\n",
              "    </tr>\n",
              "    <tr>\n",
              "      <th>6</th>\n",
              "      <td>0.096827</td>\n",
              "      <td>(bed_bath_table)</td>\n",
              "    </tr>\n",
              "    <tr>\n",
              "      <th>7</th>\n",
              "      <td>0.005264</td>\n",
              "      <td>(books_general_interest)</td>\n",
              "    </tr>\n",
              "    <tr>\n",
              "      <th>8</th>\n",
              "      <td>0.002673</td>\n",
              "      <td>(books_technical)</td>\n",
              "    </tr>\n",
              "    <tr>\n",
              "      <th>9</th>\n",
              "      <td>0.001316</td>\n",
              "      <td>(christmas_supplies)</td>\n",
              "    </tr>\n",
              "    <tr>\n",
              "      <th>10</th>\n",
              "      <td>0.001861</td>\n",
              "      <td>(computers)</td>\n",
              "    </tr>\n",
              "    <tr>\n",
              "      <th>11</th>\n",
              "      <td>0.068777</td>\n",
              "      <td>(computers_accessories)</td>\n",
              "    </tr>\n",
              "    <tr>\n",
              "      <th>12</th>\n",
              "      <td>0.010920</td>\n",
              "      <td>(consoles_games)</td>\n",
              "    </tr>\n",
              "    <tr>\n",
              "      <th>13</th>\n",
              "      <td>0.007691</td>\n",
              "      <td>(construction_tools_construction)</td>\n",
              "    </tr>\n",
              "    <tr>\n",
              "      <th>14</th>\n",
              "      <td>0.002509</td>\n",
              "      <td>(construction_tools_lights)</td>\n",
              "    </tr>\n",
              "    <tr>\n",
              "      <th>15</th>\n",
              "      <td>0.001717</td>\n",
              "      <td>(construction_tools_safety)</td>\n",
              "    </tr>\n",
              "    <tr>\n",
              "      <th>16</th>\n",
              "      <td>0.037345</td>\n",
              "      <td>(cool_stuff)</td>\n",
              "    </tr>\n",
              "    <tr>\n",
              "      <th>17</th>\n",
              "      <td>0.001995</td>\n",
              "      <td>(costruction_tools_garden)</td>\n",
              "    </tr>\n",
              "    <tr>\n",
              "      <th>18</th>\n",
              "      <td>0.003054</td>\n",
              "      <td>(drinks)</td>\n",
              "    </tr>\n",
              "    <tr>\n",
              "      <th>19</th>\n",
              "      <td>0.026219</td>\n",
              "      <td>(electronics)</td>\n",
              "    </tr>\n",
              "    <tr>\n",
              "      <th>20</th>\n",
              "      <td>0.019166</td>\n",
              "      <td>(fashion_bags_accessories)</td>\n",
              "    </tr>\n",
              "    <tr>\n",
              "      <th>21</th>\n",
              "      <td>0.001152</td>\n",
              "      <td>(fashion_male_clothing)</td>\n",
              "    </tr>\n",
              "    <tr>\n",
              "      <th>22</th>\n",
              "      <td>0.002468</td>\n",
              "      <td>(fashion_shoes)</td>\n",
              "    </tr>\n",
              "    <tr>\n",
              "      <th>23</th>\n",
              "      <td>0.001244</td>\n",
              "      <td>(fashion_underwear_beach)</td>\n",
              "    </tr>\n",
              "    <tr>\n",
              "      <th>24</th>\n",
              "      <td>0.002231</td>\n",
              "      <td>(fixed_telephony)</td>\n",
              "    </tr>\n",
              "    <tr>\n",
              "      <th>25</th>\n",
              "      <td>0.004627</td>\n",
              "      <td>(food)</td>\n",
              "    </tr>\n",
              "    <tr>\n",
              "      <th>26</th>\n",
              "      <td>0.002334</td>\n",
              "      <td>(food_drink)</td>\n",
              "    </tr>\n",
              "    <tr>\n",
              "      <th>27</th>\n",
              "      <td>0.066310</td>\n",
              "      <td>(furniture_decor)</td>\n",
              "    </tr>\n",
              "    <tr>\n",
              "      <th>28</th>\n",
              "      <td>0.004339</td>\n",
              "      <td>(furniture_living_room)</td>\n",
              "    </tr>\n",
              "    <tr>\n",
              "      <th>29</th>\n",
              "      <td>0.036173</td>\n",
              "      <td>(garden_tools)</td>\n",
              "    </tr>\n",
              "    <tr>\n",
              "      <th>30</th>\n",
              "      <td>0.090853</td>\n",
              "      <td>(health_beauty)</td>\n",
              "    </tr>\n",
              "    <tr>\n",
              "      <th>31</th>\n",
              "      <td>0.007856</td>\n",
              "      <td>(home_appliances)</td>\n",
              "    </tr>\n",
              "    <tr>\n",
              "      <th>32</th>\n",
              "      <td>0.002406</td>\n",
              "      <td>(home_appliances_2)</td>\n",
              "    </tr>\n",
              "    <tr>\n",
              "      <th>33</th>\n",
              "      <td>0.004082</td>\n",
              "      <td>(home_comfort)</td>\n",
              "    </tr>\n",
              "    <tr>\n",
              "      <th>34</th>\n",
              "      <td>0.005038</td>\n",
              "      <td>(home_construction)</td>\n",
              "    </tr>\n",
              "    <tr>\n",
              "      <th>35</th>\n",
              "      <td>0.060500</td>\n",
              "      <td>(housewares)</td>\n",
              "    </tr>\n",
              "    <tr>\n",
              "      <th>36</th>\n",
              "      <td>0.002416</td>\n",
              "      <td>(industry_commerce_and_business)</td>\n",
              "    </tr>\n",
              "    <tr>\n",
              "      <th>37</th>\n",
              "      <td>0.002550</td>\n",
              "      <td>(kitchen_dining_laundry_garden_furniture)</td>\n",
              "    </tr>\n",
              "    <tr>\n",
              "      <th>38</th>\n",
              "      <td>0.010632</td>\n",
              "      <td>(luggage_accessories)</td>\n",
              "    </tr>\n",
              "    <tr>\n",
              "      <th>39</th>\n",
              "      <td>0.002879</td>\n",
              "      <td>(market_place)</td>\n",
              "    </tr>\n",
              "    <tr>\n",
              "      <th>40</th>\n",
              "      <td>0.006457</td>\n",
              "      <td>(musical_instruments)</td>\n",
              "    </tr>\n",
              "    <tr>\n",
              "      <th>41</th>\n",
              "      <td>0.013089</td>\n",
              "      <td>(office_furniture)</td>\n",
              "    </tr>\n",
              "    <tr>\n",
              "      <th>42</th>\n",
              "      <td>0.032512</td>\n",
              "      <td>(perfume)</td>\n",
              "    </tr>\n",
              "    <tr>\n",
              "      <th>43</th>\n",
              "      <td>0.017582</td>\n",
              "      <td>(pet_shop)</td>\n",
              "    </tr>\n",
              "    <tr>\n",
              "      <th>44</th>\n",
              "      <td>0.001439</td>\n",
              "      <td>(signaling_and_security)</td>\n",
              "    </tr>\n",
              "    <tr>\n",
              "      <th>45</th>\n",
              "      <td>0.006478</td>\n",
              "      <td>(small_appliances)</td>\n",
              "    </tr>\n",
              "    <tr>\n",
              "      <th>46</th>\n",
              "      <td>0.079378</td>\n",
              "      <td>(sports_leisure)</td>\n",
              "    </tr>\n",
              "    <tr>\n",
              "      <th>47</th>\n",
              "      <td>0.023762</td>\n",
              "      <td>(stationery)</td>\n",
              "    </tr>\n",
              "    <tr>\n",
              "      <th>48</th>\n",
              "      <td>0.043175</td>\n",
              "      <td>(telephony)</td>\n",
              "    </tr>\n",
              "    <tr>\n",
              "      <th>49</th>\n",
              "      <td>0.039956</td>\n",
              "      <td>(toys)</td>\n",
              "    </tr>\n",
              "    <tr>\n",
              "      <th>50</th>\n",
              "      <td>0.057827</td>\n",
              "      <td>(watches_gifts)</td>\n",
              "    </tr>\n",
              "    <tr>\n",
              "      <th>51</th>\n",
              "      <td>0.003218</td>\n",
              "      <td>(books)</td>\n",
              "    </tr>\n",
              "    <tr>\n",
              "      <th>52</th>\n",
              "      <td>0.002673</td>\n",
              "      <td>(books, books_technical)</td>\n",
              "    </tr>\n",
              "  </tbody>\n",
              "</table>\n",
              "</div>"
            ],
            "text/plain": [
              "     support                                   itemsets\n",
              "0   0.001871               (agro_industry_and_commerce)\n",
              "1   0.002601                         (air_conditioning)\n",
              "2   0.002077                                      (art)\n",
              "3   0.003599                                    (audio)\n",
              "4   0.040070                                     (auto)\n",
              "5   0.029664                                     (baby)\n",
              "6   0.096827                           (bed_bath_table)\n",
              "7   0.005264                   (books_general_interest)\n",
              "8   0.002673                          (books_technical)\n",
              "9   0.001316                       (christmas_supplies)\n",
              "10  0.001861                                (computers)\n",
              "11  0.068777                    (computers_accessories)\n",
              "12  0.010920                           (consoles_games)\n",
              "13  0.007691          (construction_tools_construction)\n",
              "14  0.002509                (construction_tools_lights)\n",
              "15  0.001717                (construction_tools_safety)\n",
              "16  0.037345                               (cool_stuff)\n",
              "17  0.001995                 (costruction_tools_garden)\n",
              "18  0.003054                                   (drinks)\n",
              "19  0.026219                              (electronics)\n",
              "20  0.019166                 (fashion_bags_accessories)\n",
              "21  0.001152                    (fashion_male_clothing)\n",
              "22  0.002468                            (fashion_shoes)\n",
              "23  0.001244                  (fashion_underwear_beach)\n",
              "24  0.002231                          (fixed_telephony)\n",
              "25  0.004627                                     (food)\n",
              "26  0.002334                               (food_drink)\n",
              "27  0.066310                          (furniture_decor)\n",
              "28  0.004339                    (furniture_living_room)\n",
              "29  0.036173                             (garden_tools)\n",
              "30  0.090853                            (health_beauty)\n",
              "31  0.007856                          (home_appliances)\n",
              "32  0.002406                        (home_appliances_2)\n",
              "33  0.004082                             (home_comfort)\n",
              "34  0.005038                        (home_construction)\n",
              "35  0.060500                               (housewares)\n",
              "36  0.002416           (industry_commerce_and_business)\n",
              "37  0.002550  (kitchen_dining_laundry_garden_furniture)\n",
              "38  0.010632                      (luggage_accessories)\n",
              "39  0.002879                             (market_place)\n",
              "40  0.006457                      (musical_instruments)\n",
              "41  0.013089                         (office_furniture)\n",
              "42  0.032512                                  (perfume)\n",
              "43  0.017582                                 (pet_shop)\n",
              "44  0.001439                   (signaling_and_security)\n",
              "45  0.006478                         (small_appliances)\n",
              "46  0.079378                           (sports_leisure)\n",
              "47  0.023762                               (stationery)\n",
              "48  0.043175                                (telephony)\n",
              "49  0.039956                                     (toys)\n",
              "50  0.057827                            (watches_gifts)\n",
              "51  0.003218                                    (books)\n",
              "52  0.002673                   (books, books_technical)"
            ]
          },
          "metadata": {
            "tags": []
          },
          "execution_count": 33
        }
      ]
    },
    {
      "cell_type": "markdown",
      "metadata": {
        "id": "jHkW8KmCyp0h",
        "colab_type": "text"
      },
      "source": [
        "**Insight:** Lowering the support threshold increased the number of itemsets returned and even yielded itemsets with more than one item."
      ]
    },
    {
      "cell_type": "code",
      "metadata": {
        "id": "lT7h9l_Glnf6",
        "colab_type": "code",
        "colab": {
          "base_uri": "https://localhost:8080/",
          "height": 419
        },
        "outputId": "45f60b4a-0f56-4a74-ba43-bcee915f2b30"
      },
      "source": [
        "# Apply apriori algorithm to data with min support threshold of 0.00005.\n",
        "frequent_itemsets = apriori(onehot, min_support = 0.00005, use_colnames = True)\n",
        "\n",
        "# Print frequent itemsets.\n",
        "frequent_itemsets"
      ],
      "execution_count": 34,
      "outputs": [
        {
          "output_type": "execute_result",
          "data": {
            "text/html": [
              "<div>\n",
              "<style scoped>\n",
              "    .dataframe tbody tr th:only-of-type {\n",
              "        vertical-align: middle;\n",
              "    }\n",
              "\n",
              "    .dataframe tbody tr th {\n",
              "        vertical-align: top;\n",
              "    }\n",
              "\n",
              "    .dataframe thead th {\n",
              "        text-align: right;\n",
              "    }\n",
              "</style>\n",
              "<table border=\"1\" class=\"dataframe\">\n",
              "  <thead>\n",
              "    <tr style=\"text-align: right;\">\n",
              "      <th></th>\n",
              "      <th>support</th>\n",
              "      <th>itemsets</th>\n",
              "    </tr>\n",
              "  </thead>\n",
              "  <tbody>\n",
              "    <tr>\n",
              "      <th>0</th>\n",
              "      <td>0.001871</td>\n",
              "      <td>(agro_industry_and_commerce)</td>\n",
              "    </tr>\n",
              "    <tr>\n",
              "      <th>1</th>\n",
              "      <td>0.002601</td>\n",
              "      <td>(air_conditioning)</td>\n",
              "    </tr>\n",
              "    <tr>\n",
              "      <th>2</th>\n",
              "      <td>0.002077</td>\n",
              "      <td>(art)</td>\n",
              "    </tr>\n",
              "    <tr>\n",
              "      <th>3</th>\n",
              "      <td>0.000236</td>\n",
              "      <td>(arts_and_crafts)</td>\n",
              "    </tr>\n",
              "    <tr>\n",
              "      <th>4</th>\n",
              "      <td>0.003599</td>\n",
              "      <td>(audio)</td>\n",
              "    </tr>\n",
              "    <tr>\n",
              "      <th>...</th>\n",
              "      <td>...</td>\n",
              "      <td>...</td>\n",
              "    </tr>\n",
              "    <tr>\n",
              "      <th>108</th>\n",
              "      <td>0.000051</td>\n",
              "      <td>(luggage_accessories, stationery)</td>\n",
              "    </tr>\n",
              "    <tr>\n",
              "      <th>109</th>\n",
              "      <td>0.000051</td>\n",
              "      <td>(sports_leisure, watches_gifts)</td>\n",
              "    </tr>\n",
              "    <tr>\n",
              "      <th>110</th>\n",
              "      <td>0.000144</td>\n",
              "      <td>(sports_leisure, sports_leisure_health_beauty)</td>\n",
              "    </tr>\n",
              "    <tr>\n",
              "      <th>111</th>\n",
              "      <td>0.000062</td>\n",
              "      <td>(stationery, toys)</td>\n",
              "    </tr>\n",
              "    <tr>\n",
              "      <th>112</th>\n",
              "      <td>0.000144</td>\n",
              "      <td>(sports_leisure, health_beauty, sports_leisure...</td>\n",
              "    </tr>\n",
              "  </tbody>\n",
              "</table>\n",
              "<p>113 rows × 2 columns</p>\n",
              "</div>"
            ],
            "text/plain": [
              "      support                                           itemsets\n",
              "0    0.001871                       (agro_industry_and_commerce)\n",
              "1    0.002601                                 (air_conditioning)\n",
              "2    0.002077                                              (art)\n",
              "3    0.000236                                  (arts_and_crafts)\n",
              "4    0.003599                                            (audio)\n",
              "..        ...                                                ...\n",
              "108  0.000051                  (luggage_accessories, stationery)\n",
              "109  0.000051                    (sports_leisure, watches_gifts)\n",
              "110  0.000144     (sports_leisure, sports_leisure_health_beauty)\n",
              "111  0.000062                                 (stationery, toys)\n",
              "112  0.000144  (sports_leisure, health_beauty, sports_leisure...\n",
              "\n",
              "[113 rows x 2 columns]"
            ]
          },
          "metadata": {
            "tags": []
          },
          "execution_count": 34
        }
      ]
    },
    {
      "cell_type": "markdown",
      "metadata": {
        "id": "pHmgv5bqzYmN",
        "colab_type": "text"
      },
      "source": [
        "**Observation:** Notice how low we must set the support threshold (0.005%) to return a high number of itemsets with more than one item."
      ]
    },
    {
      "cell_type": "code",
      "metadata": {
        "id": "j273yq0Alo0H",
        "colab_type": "code",
        "colab": {}
      },
      "source": [
        "# Apply apriori algorithm to data with a two-item limit.\n",
        "frequent_itemsets = apriori(onehot, min_support = 0.00005, max_len = 2, use_colnames = True)"
      ],
      "execution_count": 35,
      "outputs": []
    },
    {
      "cell_type": "markdown",
      "metadata": {
        "id": "CTo4IKmy0BXr",
        "colab_type": "text"
      },
      "source": [
        "**Insight:** What do we gain from the apriori algorithm? We start off with $2^{71}$ potential itemsets and immediately reduce it to 113 without enumerating all $2^{71}$ itemsets."
      ]
    },
    {
      "cell_type": "markdown",
      "metadata": {
        "id": "kBAjlmz-zuWk",
        "colab_type": "text"
      },
      "source": [
        "### **Computing association rules from Apriori output**"
      ]
    },
    {
      "cell_type": "markdown",
      "metadata": {
        "id": "E74Qv6fTOARv",
        "colab_type": "text"
      },
      "source": [
        "* Use `association_rules()` to compute and prune association rules from output of `apriori()`."
      ]
    },
    {
      "cell_type": "code",
      "metadata": {
        "id": "AF6jhDkmlpM8",
        "colab_type": "code",
        "colab": {
          "base_uri": "https://localhost:8080/",
          "height": 204
        },
        "outputId": "3f70f0de-521a-4aed-a1a7-598ea9d0cbd3"
      },
      "source": [
        "from mlxtend.frequent_patterns import association_rules\n",
        "\n",
        "# Recover association rules using support and a minimum threshold of 0.0001.\n",
        "rules = association_rules(frequent_itemsets, metric = 'support', min_threshold = 0.0001)\n",
        "\n",
        "# Print rules header.\n",
        "rules.head()"
      ],
      "execution_count": 36,
      "outputs": [
        {
          "output_type": "execute_result",
          "data": {
            "text/html": [
              "<div>\n",
              "<style scoped>\n",
              "    .dataframe tbody tr th:only-of-type {\n",
              "        vertical-align: middle;\n",
              "    }\n",
              "\n",
              "    .dataframe tbody tr th {\n",
              "        vertical-align: top;\n",
              "    }\n",
              "\n",
              "    .dataframe thead th {\n",
              "        text-align: right;\n",
              "    }\n",
              "</style>\n",
              "<table border=\"1\" class=\"dataframe\">\n",
              "  <thead>\n",
              "    <tr style=\"text-align: right;\">\n",
              "      <th></th>\n",
              "      <th>antecedents</th>\n",
              "      <th>consequents</th>\n",
              "      <th>antecedent support</th>\n",
              "      <th>consequent support</th>\n",
              "      <th>support</th>\n",
              "      <th>confidence</th>\n",
              "      <th>lift</th>\n",
              "      <th>leverage</th>\n",
              "      <th>conviction</th>\n",
              "    </tr>\n",
              "  </thead>\n",
              "  <tbody>\n",
              "    <tr>\n",
              "      <th>0</th>\n",
              "      <td>(baby)</td>\n",
              "      <td>(bed_bath_table)</td>\n",
              "      <td>0.029664</td>\n",
              "      <td>0.096827</td>\n",
              "      <td>0.000175</td>\n",
              "      <td>0.005893</td>\n",
              "      <td>0.060856</td>\n",
              "      <td>-0.002697</td>\n",
              "      <td>0.908527</td>\n",
              "    </tr>\n",
              "    <tr>\n",
              "      <th>1</th>\n",
              "      <td>(bed_bath_table)</td>\n",
              "      <td>(baby)</td>\n",
              "      <td>0.096827</td>\n",
              "      <td>0.029664</td>\n",
              "      <td>0.000175</td>\n",
              "      <td>0.001805</td>\n",
              "      <td>0.060856</td>\n",
              "      <td>-0.002697</td>\n",
              "      <td>0.972091</td>\n",
              "    </tr>\n",
              "    <tr>\n",
              "      <th>2</th>\n",
              "      <td>(cool_stuff)</td>\n",
              "      <td>(baby)</td>\n",
              "      <td>0.037345</td>\n",
              "      <td>0.029664</td>\n",
              "      <td>0.000206</td>\n",
              "      <td>0.005507</td>\n",
              "      <td>0.185633</td>\n",
              "      <td>-0.000902</td>\n",
              "      <td>0.975709</td>\n",
              "    </tr>\n",
              "    <tr>\n",
              "      <th>3</th>\n",
              "      <td>(baby)</td>\n",
              "      <td>(cool_stuff)</td>\n",
              "      <td>0.029664</td>\n",
              "      <td>0.037345</td>\n",
              "      <td>0.000206</td>\n",
              "      <td>0.006932</td>\n",
              "      <td>0.185633</td>\n",
              "      <td>-0.000902</td>\n",
              "      <td>0.969375</td>\n",
              "    </tr>\n",
              "    <tr>\n",
              "      <th>4</th>\n",
              "      <td>(baby)</td>\n",
              "      <td>(furniture_decor)</td>\n",
              "      <td>0.029664</td>\n",
              "      <td>0.066310</td>\n",
              "      <td>0.000123</td>\n",
              "      <td>0.004159</td>\n",
              "      <td>0.062728</td>\n",
              "      <td>-0.001844</td>\n",
              "      <td>0.937590</td>\n",
              "    </tr>\n",
              "  </tbody>\n",
              "</table>\n",
              "</div>"
            ],
            "text/plain": [
              "        antecedents        consequents  ...  leverage  conviction\n",
              "0            (baby)   (bed_bath_table)  ... -0.002697    0.908527\n",
              "1  (bed_bath_table)             (baby)  ... -0.002697    0.972091\n",
              "2      (cool_stuff)             (baby)  ... -0.000902    0.975709\n",
              "3            (baby)       (cool_stuff)  ... -0.000902    0.969375\n",
              "4            (baby)  (furniture_decor)  ... -0.001844    0.937590\n",
              "\n",
              "[5 rows x 9 columns]"
            ]
          },
          "metadata": {
            "tags": []
          },
          "execution_count": 36
        }
      ]
    },
    {
      "cell_type": "markdown",
      "metadata": {
        "id": "sz3aVycbz6pt",
        "colab_type": "text"
      },
      "source": [
        "**Notice that `association_rules` automatically computes seven metrics.**"
      ]
    },
    {
      "cell_type": "markdown",
      "metadata": {
        "id": "3_rM_sYn0nPa",
        "colab_type": "text"
      },
      "source": [
        "### **Pruning association rules**"
      ]
    },
    {
      "cell_type": "code",
      "metadata": {
        "id": "jejN-n9Blql6",
        "colab_type": "code",
        "colab": {
          "base_uri": "https://localhost:8080/",
          "height": 514
        },
        "outputId": "ae677d7c-e080-47ae-87f7-19a6dac738ea"
      },
      "source": [
        "# Recover association rules using confidence threshold of 0.01.\n",
        "rules = association_rules(frequent_itemsets, metric = 'confidence', min_threshold = 0.01)\n",
        "\n",
        "# Print rules.\n",
        "rules"
      ],
      "execution_count": 37,
      "outputs": [
        {
          "output_type": "execute_result",
          "data": {
            "text/html": [
              "<div>\n",
              "<style scoped>\n",
              "    .dataframe tbody tr th:only-of-type {\n",
              "        vertical-align: middle;\n",
              "    }\n",
              "\n",
              "    .dataframe tbody tr th {\n",
              "        vertical-align: top;\n",
              "    }\n",
              "\n",
              "    .dataframe thead th {\n",
              "        text-align: right;\n",
              "    }\n",
              "</style>\n",
              "<table border=\"1\" class=\"dataframe\">\n",
              "  <thead>\n",
              "    <tr style=\"text-align: right;\">\n",
              "      <th></th>\n",
              "      <th>antecedents</th>\n",
              "      <th>consequents</th>\n",
              "      <th>antecedent support</th>\n",
              "      <th>consequent support</th>\n",
              "      <th>support</th>\n",
              "      <th>confidence</th>\n",
              "      <th>lift</th>\n",
              "      <th>leverage</th>\n",
              "      <th>conviction</th>\n",
              "    </tr>\n",
              "  </thead>\n",
              "  <tbody>\n",
              "    <tr>\n",
              "      <th>0</th>\n",
              "      <td>(art)</td>\n",
              "      <td>(furniture_decor)</td>\n",
              "      <td>0.002077</td>\n",
              "      <td>0.066310</td>\n",
              "      <td>0.000051</td>\n",
              "      <td>0.024752</td>\n",
              "      <td>0.373287</td>\n",
              "      <td>-0.000086</td>\n",
              "      <td>0.957388</td>\n",
              "    </tr>\n",
              "    <tr>\n",
              "      <th>1</th>\n",
              "      <td>(audio)</td>\n",
              "      <td>(watches_gifts)</td>\n",
              "      <td>0.003599</td>\n",
              "      <td>0.057827</td>\n",
              "      <td>0.000062</td>\n",
              "      <td>0.017143</td>\n",
              "      <td>0.296452</td>\n",
              "      <td>-0.000146</td>\n",
              "      <td>0.958606</td>\n",
              "    </tr>\n",
              "    <tr>\n",
              "      <th>2</th>\n",
              "      <td>(furniture_decor)</td>\n",
              "      <td>(bed_bath_table)</td>\n",
              "      <td>0.066310</td>\n",
              "      <td>0.096827</td>\n",
              "      <td>0.000720</td>\n",
              "      <td>0.010854</td>\n",
              "      <td>0.112101</td>\n",
              "      <td>-0.005701</td>\n",
              "      <td>0.913084</td>\n",
              "    </tr>\n",
              "    <tr>\n",
              "      <th>3</th>\n",
              "      <td>(home_comfort)</td>\n",
              "      <td>(bed_bath_table)</td>\n",
              "      <td>0.004082</td>\n",
              "      <td>0.096827</td>\n",
              "      <td>0.000442</td>\n",
              "      <td>0.108312</td>\n",
              "      <td>1.118618</td>\n",
              "      <td>0.000047</td>\n",
              "      <td>1.012881</td>\n",
              "    </tr>\n",
              "    <tr>\n",
              "      <th>4</th>\n",
              "      <td>(books)</td>\n",
              "      <td>(books_imported)</td>\n",
              "      <td>0.003218</td>\n",
              "      <td>0.000545</td>\n",
              "      <td>0.000545</td>\n",
              "      <td>0.169329</td>\n",
              "      <td>310.722045</td>\n",
              "      <td>0.000543</td>\n",
              "      <td>1.203190</td>\n",
              "    </tr>\n",
              "    <tr>\n",
              "      <th>5</th>\n",
              "      <td>(books_imported)</td>\n",
              "      <td>(books)</td>\n",
              "      <td>0.000545</td>\n",
              "      <td>0.003218</td>\n",
              "      <td>0.000545</td>\n",
              "      <td>1.000000</td>\n",
              "      <td>310.722045</td>\n",
              "      <td>0.000543</td>\n",
              "      <td>inf</td>\n",
              "    </tr>\n",
              "    <tr>\n",
              "      <th>6</th>\n",
              "      <td>(books)</td>\n",
              "      <td>(books_technical)</td>\n",
              "      <td>0.003218</td>\n",
              "      <td>0.002673</td>\n",
              "      <td>0.002673</td>\n",
              "      <td>0.830671</td>\n",
              "      <td>310.722045</td>\n",
              "      <td>0.002665</td>\n",
              "      <td>5.889872</td>\n",
              "    </tr>\n",
              "    <tr>\n",
              "      <th>7</th>\n",
              "      <td>(books_technical)</td>\n",
              "      <td>(books)</td>\n",
              "      <td>0.002673</td>\n",
              "      <td>0.003218</td>\n",
              "      <td>0.002673</td>\n",
              "      <td>1.000000</td>\n",
              "      <td>310.722045</td>\n",
              "      <td>0.002665</td>\n",
              "      <td>inf</td>\n",
              "    </tr>\n",
              "    <tr>\n",
              "      <th>8</th>\n",
              "      <td>(construction_tools_lights)</td>\n",
              "      <td>(furniture_decor)</td>\n",
              "      <td>0.002509</td>\n",
              "      <td>0.066310</td>\n",
              "      <td>0.000113</td>\n",
              "      <td>0.045082</td>\n",
              "      <td>0.679872</td>\n",
              "      <td>-0.000053</td>\n",
              "      <td>0.977770</td>\n",
              "    </tr>\n",
              "    <tr>\n",
              "      <th>9</th>\n",
              "      <td>(furniture_living_room)</td>\n",
              "      <td>(furniture_decor)</td>\n",
              "      <td>0.004339</td>\n",
              "      <td>0.066310</td>\n",
              "      <td>0.000072</td>\n",
              "      <td>0.016588</td>\n",
              "      <td>0.250155</td>\n",
              "      <td>-0.000216</td>\n",
              "      <td>0.949439</td>\n",
              "    </tr>\n",
              "    <tr>\n",
              "      <th>10</th>\n",
              "      <td>(home_comfort)</td>\n",
              "      <td>(furniture_decor)</td>\n",
              "      <td>0.004082</td>\n",
              "      <td>0.066310</td>\n",
              "      <td>0.000062</td>\n",
              "      <td>0.015113</td>\n",
              "      <td>0.227921</td>\n",
              "      <td>-0.000209</td>\n",
              "      <td>0.948018</td>\n",
              "    </tr>\n",
              "    <tr>\n",
              "      <th>11</th>\n",
              "      <td>(home_construction)</td>\n",
              "      <td>(furniture_decor)</td>\n",
              "      <td>0.005038</td>\n",
              "      <td>0.066310</td>\n",
              "      <td>0.000134</td>\n",
              "      <td>0.026531</td>\n",
              "      <td>0.400103</td>\n",
              "      <td>-0.000200</td>\n",
              "      <td>0.959137</td>\n",
              "    </tr>\n",
              "    <tr>\n",
              "      <th>12</th>\n",
              "      <td>(home_construction)</td>\n",
              "      <td>(garden_tools)</td>\n",
              "      <td>0.005038</td>\n",
              "      <td>0.036173</td>\n",
              "      <td>0.000072</td>\n",
              "      <td>0.014286</td>\n",
              "      <td>0.394932</td>\n",
              "      <td>-0.000110</td>\n",
              "      <td>0.977796</td>\n",
              "    </tr>\n",
              "    <tr>\n",
              "      <th>13</th>\n",
              "      <td>(sports_leisure_health_beauty)</td>\n",
              "      <td>(health_beauty)</td>\n",
              "      <td>0.000144</td>\n",
              "      <td>0.090853</td>\n",
              "      <td>0.000144</td>\n",
              "      <td>1.000000</td>\n",
              "      <td>11.006790</td>\n",
              "      <td>0.000131</td>\n",
              "      <td>inf</td>\n",
              "    </tr>\n",
              "    <tr>\n",
              "      <th>14</th>\n",
              "      <td>(sports_leisure_health_beauty)</td>\n",
              "      <td>(sports_leisure)</td>\n",
              "      <td>0.000144</td>\n",
              "      <td>0.079378</td>\n",
              "      <td>0.000144</td>\n",
              "      <td>1.000000</td>\n",
              "      <td>12.597927</td>\n",
              "      <td>0.000133</td>\n",
              "      <td>inf</td>\n",
              "    </tr>\n",
              "  </tbody>\n",
              "</table>\n",
              "</div>"
            ],
            "text/plain": [
              "                       antecedents        consequents  ...  leverage  conviction\n",
              "0                            (art)  (furniture_decor)  ... -0.000086    0.957388\n",
              "1                          (audio)    (watches_gifts)  ... -0.000146    0.958606\n",
              "2                (furniture_decor)   (bed_bath_table)  ... -0.005701    0.913084\n",
              "3                   (home_comfort)   (bed_bath_table)  ...  0.000047    1.012881\n",
              "4                          (books)   (books_imported)  ...  0.000543    1.203190\n",
              "5                 (books_imported)            (books)  ...  0.000543         inf\n",
              "6                          (books)  (books_technical)  ...  0.002665    5.889872\n",
              "7                (books_technical)            (books)  ...  0.002665         inf\n",
              "8      (construction_tools_lights)  (furniture_decor)  ... -0.000053    0.977770\n",
              "9          (furniture_living_room)  (furniture_decor)  ... -0.000216    0.949439\n",
              "10                  (home_comfort)  (furniture_decor)  ... -0.000209    0.948018\n",
              "11             (home_construction)  (furniture_decor)  ... -0.000200    0.959137\n",
              "12             (home_construction)     (garden_tools)  ... -0.000110    0.977796\n",
              "13  (sports_leisure_health_beauty)    (health_beauty)  ...  0.000131         inf\n",
              "14  (sports_leisure_health_beauty)   (sports_leisure)  ...  0.000133         inf\n",
              "\n",
              "[15 rows x 9 columns]"
            ]
          },
          "metadata": {
            "tags": []
          },
          "execution_count": 37
        }
      ]
    },
    {
      "cell_type": "code",
      "metadata": {
        "id": "_JhzujmIlv7C",
        "colab_type": "code",
        "colab": {
          "base_uri": "https://localhost:8080/",
          "height": 111
        },
        "outputId": "ec8dfe21-89e1-4929-e48a-790367221226"
      },
      "source": [
        "# Select rules with a consequent support above 0.095.\n",
        "rules = rules[rules['consequent support'] > 0.095]\n",
        "\n",
        "# Print rules.\n",
        "rules"
      ],
      "execution_count": 38,
      "outputs": [
        {
          "output_type": "execute_result",
          "data": {
            "text/html": [
              "<div>\n",
              "<style scoped>\n",
              "    .dataframe tbody tr th:only-of-type {\n",
              "        vertical-align: middle;\n",
              "    }\n",
              "\n",
              "    .dataframe tbody tr th {\n",
              "        vertical-align: top;\n",
              "    }\n",
              "\n",
              "    .dataframe thead th {\n",
              "        text-align: right;\n",
              "    }\n",
              "</style>\n",
              "<table border=\"1\" class=\"dataframe\">\n",
              "  <thead>\n",
              "    <tr style=\"text-align: right;\">\n",
              "      <th></th>\n",
              "      <th>antecedents</th>\n",
              "      <th>consequents</th>\n",
              "      <th>antecedent support</th>\n",
              "      <th>consequent support</th>\n",
              "      <th>support</th>\n",
              "      <th>confidence</th>\n",
              "      <th>lift</th>\n",
              "      <th>leverage</th>\n",
              "      <th>conviction</th>\n",
              "    </tr>\n",
              "  </thead>\n",
              "  <tbody>\n",
              "    <tr>\n",
              "      <th>2</th>\n",
              "      <td>(furniture_decor)</td>\n",
              "      <td>(bed_bath_table)</td>\n",
              "      <td>0.066310</td>\n",
              "      <td>0.096827</td>\n",
              "      <td>0.000720</td>\n",
              "      <td>0.010854</td>\n",
              "      <td>0.112101</td>\n",
              "      <td>-0.005701</td>\n",
              "      <td>0.913084</td>\n",
              "    </tr>\n",
              "    <tr>\n",
              "      <th>3</th>\n",
              "      <td>(home_comfort)</td>\n",
              "      <td>(bed_bath_table)</td>\n",
              "      <td>0.004082</td>\n",
              "      <td>0.096827</td>\n",
              "      <td>0.000442</td>\n",
              "      <td>0.108312</td>\n",
              "      <td>1.118618</td>\n",
              "      <td>0.000047</td>\n",
              "      <td>1.012881</td>\n",
              "    </tr>\n",
              "  </tbody>\n",
              "</table>\n",
              "</div>"
            ],
            "text/plain": [
              "         antecedents       consequents  ...  leverage  conviction\n",
              "2  (furniture_decor)  (bed_bath_table)  ... -0.005701    0.913084\n",
              "3     (home_comfort)  (bed_bath_table)  ...  0.000047    1.012881\n",
              "\n",
              "[2 rows x 9 columns]"
            ]
          },
          "metadata": {
            "tags": []
          },
          "execution_count": 38
        }
      ]
    },
    {
      "cell_type": "markdown",
      "metadata": {
        "id": "nsSaO4EU2mwX",
        "colab_type": "text"
      },
      "source": [
        "### **The leverage metric**\n",
        "\n",
        "* **Leverage provides a sanity check.**\n",
        "  * $support(antecedent, consequent)$ = joint support in data.\n",
        "  * $support(antecedent) * support(consequent)$ = expected joint support for unrelated antecedent and consequent."
      ]
    },
    {
      "cell_type": "markdown",
      "metadata": {
        "id": "mfYjXEBTIqj7",
        "colab_type": "text"
      },
      "source": [
        "* **Leverage formula**\n",
        "  * $$leverage(antecendent, consequent) = \n",
        "support(antecedent, consequent) - support(antecedent) * support(consequent)$$"
      ]
    },
    {
      "cell_type": "markdown",
      "metadata": {
        "id": "b9AxLt1rIqQU",
        "colab_type": "text"
      },
      "source": [
        "* **For most problems, we will discard itemsets with negative leverage.**\n",
        "  * Negative leverage means that the items appear together less frequently than we would expect if they were randomly and independently distributed across transactions."
      ]
    },
    {
      "cell_type": "code",
      "metadata": {
        "id": "6Cjpf3B8lwVG",
        "colab_type": "code",
        "colab": {
          "base_uri": "https://localhost:8080/",
          "height": 80
        },
        "outputId": "387df005-1aeb-414e-f4c7-660ac1af63a9"
      },
      "source": [
        "# Select rules with leverage higher than 0.0.\n",
        "rules = rules[rules['leverage'] > 0.0]\n",
        "\n",
        "# Print rules.\n",
        "rules"
      ],
      "execution_count": 39,
      "outputs": [
        {
          "output_type": "execute_result",
          "data": {
            "text/html": [
              "<div>\n",
              "<style scoped>\n",
              "    .dataframe tbody tr th:only-of-type {\n",
              "        vertical-align: middle;\n",
              "    }\n",
              "\n",
              "    .dataframe tbody tr th {\n",
              "        vertical-align: top;\n",
              "    }\n",
              "\n",
              "    .dataframe thead th {\n",
              "        text-align: right;\n",
              "    }\n",
              "</style>\n",
              "<table border=\"1\" class=\"dataframe\">\n",
              "  <thead>\n",
              "    <tr style=\"text-align: right;\">\n",
              "      <th></th>\n",
              "      <th>antecedents</th>\n",
              "      <th>consequents</th>\n",
              "      <th>antecedent support</th>\n",
              "      <th>consequent support</th>\n",
              "      <th>support</th>\n",
              "      <th>confidence</th>\n",
              "      <th>lift</th>\n",
              "      <th>leverage</th>\n",
              "      <th>conviction</th>\n",
              "    </tr>\n",
              "  </thead>\n",
              "  <tbody>\n",
              "    <tr>\n",
              "      <th>3</th>\n",
              "      <td>(home_comfort)</td>\n",
              "      <td>(bed_bath_table)</td>\n",
              "      <td>0.004082</td>\n",
              "      <td>0.096827</td>\n",
              "      <td>0.000442</td>\n",
              "      <td>0.108312</td>\n",
              "      <td>1.118618</td>\n",
              "      <td>0.000047</td>\n",
              "      <td>1.012881</td>\n",
              "    </tr>\n",
              "  </tbody>\n",
              "</table>\n",
              "</div>"
            ],
            "text/plain": [
              "      antecedents       consequents  ...  leverage  conviction\n",
              "3  (home_comfort)  (bed_bath_table)  ...  0.000047    1.012881\n",
              "\n",
              "[1 rows x 9 columns]"
            ]
          },
          "metadata": {
            "tags": []
          },
          "execution_count": 39
        }
      ]
    },
    {
      "cell_type": "markdown",
      "metadata": {
        "id": "JFSSJq5u5qmQ",
        "colab_type": "text"
      },
      "source": [
        "**Insight:** The Apriori algorithm reduced the number of itemsets from $2^{71}$ to 113. Pruning allowed us to identify to a single association rule that could be useful for cross-promotional purposes: $\\{home\\_comfort\\} \\rightarrow \\{bed\\_bath\\_table\\}$."
      ]
    },
    {
      "cell_type": "markdown",
      "metadata": {
        "id": "mbqWXtzR0sif",
        "colab_type": "text"
      },
      "source": [
        "### **Visualizing patterns in metrics**"
      ]
    },
    {
      "cell_type": "markdown",
      "metadata": {
        "id": "jdIvXojWOphd",
        "colab_type": "text"
      },
      "source": [
        "* `sns.scatterplot()` creates a scatterplot from two columns in a `DataFrame`."
      ]
    },
    {
      "cell_type": "code",
      "metadata": {
        "id": "JiA_CqVLlyss",
        "colab_type": "code",
        "colab": {
          "base_uri": "https://localhost:8080/",
          "height": 356
        },
        "outputId": "3fb645ab-f3c3-4325-9cd8-b88e5a55fec2"
      },
      "source": [
        "# Recover association rules with a minimum support greater than 0.000001.\n",
        "rules = association_rules(frequent_itemsets, metric = 'support', min_threshold = 0.000001)\n",
        "\n",
        "# Plot leverage against confidence.\n",
        "plt.figure(figsize=(15,5))\n",
        "sns.scatterplot(x=\"leverage\", y=\"confidence\", data=rules)"
      ],
      "execution_count": 40,
      "outputs": [
        {
          "output_type": "execute_result",
          "data": {
            "text/plain": [
              "<matplotlib.axes._subplots.AxesSubplot at 0x7ff4bc0cf828>"
            ]
          },
          "metadata": {
            "tags": []
          },
          "execution_count": 40
        },
        {
          "output_type": "display_data",
          "data": {
            "image/png": "[encoded data removed]",
            "text/plain": [
              "<Figure size 1080x360 with 1 Axes>"
            ]
          },
          "metadata": {
            "tags": [],
            "needs_background": "light"
          }
        }
      ]
    },
    {
      "cell_type": "markdown",
      "metadata": {
        "id": "v95xAd8803y3",
        "colab_type": "text"
      },
      "source": [
        "**Insight 1**: Leverage and confidence contain some of the same information about the strength of an association."
      ]
    },
    {
      "cell_type": "markdown",
      "metadata": {
        "id": "S-BoO_JMmkdV",
        "colab_type": "text"
      },
      "source": [
        "---\n",
        "<center><h1> Q&A 4</h1> </center>\n",
        "\n",
        "---"
      ]
    },
    {
      "cell_type": "code",
      "metadata": {
        "id": "j7v4_LSImSy2",
        "colab_type": "code",
        "colab": {}
      },
      "source": [
        "# Experiment on your own here."
      ],
      "execution_count": null,
      "outputs": []
    }
  ]
}